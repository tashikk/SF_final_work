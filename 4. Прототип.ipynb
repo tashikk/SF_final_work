{
 "cells": [
  {
   "cell_type": "markdown",
   "metadata": {},
   "source": [
    "# 4. Код для сервера (для отладки)"
   ]
  },
  {
   "cell_type": "code",
   "execution_count": 1,
   "metadata": {},
   "outputs": [],
   "source": [
    "import pandas as pd\n",
    "import pickle\n",
    "import numpy as np\n",
    "from statistics import mean\n",
    "import re "
   ]
  },
  {
   "cell_type": "markdown",
   "metadata": {},
   "source": [
    "Проверять работу прототипа будем на данных из имеющегося датасета"
   ]
  },
  {
   "cell_type": "code",
   "execution_count": 2,
   "metadata": {},
   "outputs": [],
   "source": [
    "#загружаем данные \n",
    "data_source = pd.read_csv('data.csv')"
   ]
  },
  {
   "cell_type": "code",
   "execution_count": 3,
   "metadata": {},
   "outputs": [],
   "source": [
    "#На вход у нас строка с данными\n",
    "stroka = data_source[data_source['target'].isna()].iloc[0]"
   ]
  },
  {
   "cell_type": "markdown",
   "metadata": {},
   "source": [
    "Подгружаем все нужные нам файлы и модель"
   ]
  },
  {
   "cell_type": "code",
   "execution_count": 4,
   "metadata": {},
   "outputs": [],
   "source": [
    "with open('mean_target.txt', 'rb') as f:\n",
    "    mean_target = pickle.load(f)"
   ]
  },
  {
   "cell_type": "code",
   "execution_count": 5,
   "metadata": {},
   "outputs": [
    {
     "data": {
      "text/plain": [
       "state\n",
       "AL    7.200000e+04\n",
       "AZ    3.306392e+05\n",
       "BA    2.250000e+05\n",
       "CA    1.403847e+06\n",
       "CO    5.858594e+05\n",
       "DC    9.335807e+05\n",
       "DE    4.818378e+05\n",
       "FL    5.702715e+05\n",
       "Fl    1.740000e+05\n",
       "GA    4.992980e+05\n",
       "IA    1.738213e+05\n",
       "IL    4.619961e+05\n",
       "IN    2.729528e+05\n",
       "KY    1.739727e+05\n",
       "MA    1.454522e+06\n",
       "MD    6.433096e+05\n",
       "ME    1.549625e+05\n",
       "MI    1.416609e+05\n",
       "MO    2.496001e+05\n",
       "MS    2.208450e+05\n",
       "MT    2.209714e+05\n",
       "NC    4.034450e+05\n",
       "NJ    3.763549e+05\n",
       "NV    5.266701e+05\n",
       "NY    1.839118e+06\n",
       "OH    2.328357e+05\n",
       "OK    1.235571e+05\n",
       "OR    5.866624e+05\n",
       "OS    1.250000e+05\n",
       "OT    5.000000e+04\n",
       "PA    3.728949e+05\n",
       "SC    3.606109e+05\n",
       "TN    4.158094e+05\n",
       "TX    4.617258e+05\n",
       "UT    5.857265e+05\n",
       "VA    5.433144e+05\n",
       "VT    3.565737e+05\n",
       "WA    7.150374e+05\n",
       "WI    2.666345e+05\n",
       "Name: target, dtype: float64"
      ]
     },
     "execution_count": 5,
     "metadata": {},
     "output_type": "execute_result"
    }
   ],
   "source": [
    "mean_target"
   ]
  },
  {
   "cell_type": "code",
   "execution_count": 6,
   "metadata": {},
   "outputs": [],
   "source": [
    "with open('states_list.txt', 'rb') as f:\n",
    "    states_list = pickle.load(f)"
   ]
  },
  {
   "cell_type": "code",
   "execution_count": 7,
   "metadata": {},
   "outputs": [],
   "source": [
    "with open('model.pkl', 'rb') as f:\n",
    "    model = pickle.load(f)"
   ]
  },
  {
   "cell_type": "markdown",
   "metadata": {},
   "source": [
    "## Вспомогательные функции. Такие же, как использовались в ноутбуке 1. Features\n",
    "!!!! Если будут какие-то изменения в фукнциях в 1 ноутбуке, то и в серверную часть придется вносить изменения"
   ]
  },
  {
   "cell_type": "code",
   "execution_count": 8,
   "metadata": {},
   "outputs": [],
   "source": [
    "def replace_property(row):\n",
    "    \n",
    "    if row in ['single-family home','Single Family Home','Single Family']:\n",
    "        return 'single family home'\n",
    "    elif row == 'Condo':\n",
    "        return 'condo'\n",
    "    elif row in ['Townhouse', 'Townhome']:\n",
    "        return 'townhouse'\n",
    "    elif row in ['Multi-Family Home','multi-family','Multi Family','Multi-Family']:\n",
    "        return 'multi family home'\n",
    "    elif row in ['1 Story','One Story']:\n",
    "        return '1 story'\n",
    "    elif row in ['2 Stories', '2 Story', 'Two Story']:\n",
    "        return '2 stories'\n",
    "    elif row in ['mobile/manufactured', 'Mfd/Mobile Home', 'Mobile / Manufactured']:\n",
    "        return 'mobile/manufactured'\n",
    "    elif row in ['Cooperative', 'coop']:\n",
    "        return 'cooperative'\n",
    "    elif row in ['Apartment', 'apartment']:\n",
    "        return 'apartment'\n",
    "    elif row in ['lot/land', 'Land']:\n",
    "        return 'land'\n",
    "    elif row in ['Other Style', 'Other']:\n",
    "        return 'other style'\n",
    "    else:\n",
    "        return row"
   ]
  },
  {
   "cell_type": "code",
   "execution_count": 9,
   "metadata": {},
   "outputs": [],
   "source": [
    "def make_baths_count(row):\n",
    "    row = str(row)\n",
    "    row = row.replace('Bathrooms: ', '').replace(' Baths', '').replace(' ba', '').replace(',','.')\n",
    "    try:\n",
    "        if row != 'nan':\n",
    "            return float(row)\n",
    "        else:\n",
    "            return 1\n",
    "    except:\n",
    "        return 1"
   ]
  },
  {
   "cell_type": "code",
   "execution_count": 10,
   "metadata": {},
   "outputs": [],
   "source": [
    "def make_beds_count(row):\n",
    "    row = str(row)\n",
    "    if row.find(' Beds') > -1:\n",
    "        try:\n",
    "            return int(row.replace(' Beds', ''))\n",
    "        except: #если указано что-то другое #1-2\n",
    "            return 1\n",
    "    elif row.find(' bd') >-1:\n",
    "        try:\n",
    "            return int(row.replace(' bd', ''))\n",
    "        except: #если указано что-то другое #--\n",
    "            return 0\n",
    "    else: \n",
    "        try:\n",
    "            return int(row)\n",
    "        except:\n",
    "            return 0\n",
    "\n",
    "def make_beds_square(row): #переводим в квадратные метры\n",
    "    row = str(row)\n",
    "    if row.find(' sqft') > -1:\n",
    "        try:\n",
    "            return float(row.replace(' sqft', '').replace(',',''))*0.093\n",
    "        except: \n",
    "            return 0\n",
    "    elif row.find(' acres') > -1:\n",
    "        try:\n",
    "            return float(row.replace(' acres', '').replace(',',''))*4046.86\n",
    "        except: \n",
    "            return 0\n",
    "    else:\n",
    "        return 0"
   ]
  },
  {
   "cell_type": "code",
   "execution_count": 11,
   "metadata": {},
   "outputs": [],
   "source": [
    "def make_schools(row):\n",
    "\n",
    "    #разбираем, какие классы есть в близлежащих школах\n",
    "    grades = eval(row[1:-1])['data']['Grades']\n",
    "    \n",
    "    result={'K':0,'1':0,'2':0,'3':0,'4':0,'5':0,'6':0,'7':0,'8':0,'9':0,'10':0,'11':0,'12':0, 'PK':0}\n",
    "    for i in grades:\n",
    "        i = (str(i).replace(' to ', '-').replace('–', '-')).split(',')\n",
    "        for ii in i:\n",
    "            ii = ii.strip().upper().replace('PK','PRESCHOOL')\n",
    "            if 'PRESCHOOL' in ii:\n",
    "                result['PK']+=1\n",
    "                ii = ii.replace('PRESCHOOL','1')\n",
    "            if 'K' in ii:\n",
    "                result['K']+=1\n",
    "                ii = ii.replace('K','1')\n",
    "            if '-' in ii:\n",
    "                j = ii.split('-')\n",
    "                for k in range(int(j[0]), int(j[1])+1):\n",
    "                    result[str(k)]+=1\n",
    "    \n",
    "    #считаем количество школ \n",
    "    result['schools_count']=len(eval(row[1:-1])['rating'])\n",
    "    \n",
    "    #считаем дистанцию по школам\n",
    "    result['min_dist']=0\n",
    "    result['max_dist']=0\n",
    "    result['mean_dist']=0\n",
    "\n",
    "    data_list = eval(row[1:-1])['data']['Distance']\n",
    "    dist_list=[]\n",
    "    for i in data_list:\n",
    "        i = i.replace('mi', '').strip()\n",
    "        try:\n",
    "            i = float(i)\n",
    "            dist_list.append(i)\n",
    "        except:\n",
    "            print(i)\n",
    "            i = 0 \n",
    "    if len(dist_list)>0:\n",
    "        result['min_dist']=min(dist_list)\n",
    "        result['max_dist']=max(dist_list)\n",
    "        result['mean_dist']=mean(dist_list)\n",
    "    \n",
    "    #разбираем рейтинги школ\n",
    "    regex = re.compile('\\D+')\n",
    "    data2_list = eval(row[1:-1])['rating']\n",
    "    rate_list=[]\n",
    "    if len(data2_list)>0:\n",
    "        for i in data2_list:\n",
    "            i = i.replace('/10','')\n",
    "            i = regex.sub('', str(i))\n",
    "            if i != '':\n",
    "                rate_list.append(int(i))\n",
    "            else:\n",
    "                rate_list.append(0)\n",
    "    if len(rate_list)>0:\n",
    "        result['max_rate'] = max(rate_list) \n",
    "    else:\n",
    "        result['max_rate']=0\n",
    "        \n",
    "    if len(dist_list)==len(rate_list):\n",
    "        result['average_rate_school']=np.array(dist_list)@np.array(rate_list)\n",
    "    else:\n",
    "        result['average_rate_school']=0\n",
    "    \n",
    "    return pd.Series(result)"
   ]
  },
  {
   "cell_type": "code",
   "execution_count": 12,
   "metadata": {},
   "outputs": [],
   "source": [
    "def make_stories(row):\n",
    "    regex_sq = re.compile('\\D+')\n",
    "    try:\n",
    "        row=float(row)\n",
    "    except:\n",
    "        row=regex_sq.sub('', str(row))\n",
    "        if row != '':\n",
    "            row = float(row)\n",
    "        else:\n",
    "            row = 1\n",
    "    return row"
   ]
  },
  {
   "cell_type": "code",
   "execution_count": 13,
   "metadata": {},
   "outputs": [],
   "source": [
    "def make_facts(row, columns):\n",
    "    fact_dict = {}\n",
    "    for i in columns:\n",
    "        fact_dict[i]=float('nan')\n",
    "    row = eval(row)['atAGlanceFacts']\n",
    "    for i in row:\n",
    "        fact_dict[i['factLabel']]=i['factValue']\n",
    "    return pd.Series(fact_dict)"
   ]
  },
  {
   "cell_type": "code",
   "execution_count": 14,
   "metadata": {},
   "outputs": [],
   "source": [
    "#в цене за кв. фут избавляемся от всяких лишних знаков, переводим в целое число\n",
    "def make_price(row):\n",
    "    row = str(row).replace('$','').replace('/sqft','').replace(' / Sq. Ft.', '').replace(',','')\n",
    "    try:\n",
    "        row = int(row)\n",
    "    except:\n",
    "        if row in ['None', 'No Info', 'No Data', '', 'Contact manager']:\n",
    "            row = 0\n",
    "        else:\n",
    "            row = 0\n",
    "    return row"
   ]
  },
  {
   "cell_type": "code",
   "execution_count": 15,
   "metadata": {},
   "outputs": [],
   "source": [
    "#в размере лота убираем лишние знаки, переводим все в единые единицы измерения\n",
    "def make_lot(row):\n",
    "    row1 = row\n",
    "    row = str(row).replace('$','').replace(' sqft lot','').replace(' Sq. Ft.', '').replace(' sqft', '').replace(',','')\n",
    "    try:\n",
    "        row = float(row)\n",
    "    except:\n",
    "        if row.lower().find('acre') >-1:\n",
    "            row = row.lower().replace(' lot', '').replace(' acres', '').replace(' acre', '').replace(' acres', '')\n",
    "        try:\n",
    "            row = float(row) * 43560.04\n",
    "        except:\n",
    "            if row in ['None', 'No Info', 'No Data', '', 'Contact manager', '--', '—']:\n",
    "                row = 0\n",
    "            else:\n",
    "                print(row, '->', row1)\n",
    "    return row"
   ]
  },
  {
   "cell_type": "markdown",
   "metadata": {},
   "source": [
    "## Функция для преобразования строки в нужную нам для предсказания"
   ]
  },
  {
   "cell_type": "code",
   "execution_count": 18,
   "metadata": {},
   "outputs": [],
   "source": [
    "#на вход у нас строка в виде Series\n",
    "#на выходе должны быть такие колонки\n",
    "#Index(['8', 'max_rate', 'PK', 'prop_type', 'address_hash', 'beds_square',\n",
    "#       'stories_count', 'K', 'Parking', 'Year', 'pool', '6', 'new_id',\n",
    "#       'beds_count', 'Remodeled', '1', 'state_mean', 'city_hash', '12',\n",
    "#       'zipcode_int', 'Cooling', 'max_dist', 'street_hash', 'schools_count',\n",
    "#       '11', 'lot', 'sqft', 'fireplace_y_n', 'sqft_lot', 'average_rate_school',\n",
    "#       'mean_dist', 'min_dist', 'baths_count', 'state_encoding']\n",
    "def make_data_4_predict(stroka, states_list,mean_target):\n",
    "    data = pd.DataFrame(stroka).T\n",
    "    \n",
    "    #1\n",
    "    if data['state'].iloc[0] in mean_target:\n",
    "        data['state_mean']=mean_target[data['state'].iloc[0]]\n",
    "    else:\n",
    "        data['state_mean']=0\n",
    "    \n",
    "    #2\n",
    "    data['rent_sale']=data['status'].apply(lambda x: 1 if str(x).lower().find('rent') >-1 else 0)\n",
    "    \n",
    "    #3\n",
    "    data['prop_type']=data['propertyType'].apply(lambda x: replace_property(x))\n",
    "    #считаем hash\n",
    "    hash_space=50\n",
    "    data['prop_type']=data['prop_type'].apply(lambda x: hash(''.join(str(x).lower().split())) % hash_space)\n",
    "    \n",
    "    #4\n",
    "    # заполняем пропущенные значения на \"no_city\"\n",
    "    data['city'].fillna('no_city', inplace=True)\n",
    "    # приводим все буквы к нижнему регистру, так как есть вероятность, что города могут быть написаны по-разному\n",
    "    data['city_lower'] = data['city'].apply(lambda x: str(x).lower() if x != ' ' else 'no_city')\n",
    "    hash_space = 2020\n",
    "    data['city_hash']=data['city'].apply(lambda x: hash(''.join(x.lower().split())) % hash_space)\n",
    "    data['street_hash']=data['street'].apply(lambda x: hash(''.join(str(x).lower().split())) % hash_space)\n",
    "    data['address_hash']=data[['city', 'street']].apply(lambda x: hash(''.join(str(x[0]).lower().split()) + \n",
    "                                                                  ''.join(str(x[1]).lower().split())) % hash_space, axis=1)\n",
    "    \n",
    "    #5\n",
    "    data['baths_count']=data['baths'].apply(lambda x: make_baths_count(x))\n",
    "    \n",
    "    #6\n",
    "    data['beds_count']=data['beds'].apply(lambda x: make_beds_count(x))\n",
    "    data['beds_square']=data['beds'].apply(lambda x: make_beds_square(x))\n",
    "    \n",
    "    #7\n",
    "    #добавляем кучу новых столбцов с характеристиками по школам\n",
    "    new_columns = ['K','1','2','3','4','5','6','7','8','9','10','11','12', 'PK', 'schools_count', \n",
    "              'min_dist', 'max_dist', 'mean_dist', 'max_rate', 'average_rate_school']\n",
    "    data[new_columns] = pd.DataFrame(data['schools'].apply(lambda x: make_schools(x)), index=data.index)\n",
    "    \n",
    "    #8\n",
    "    data['sqft'].fillna(0, inplace=True)\n",
    "    #убираем все символы, кроме цифр. Приводим к формату int\n",
    "    regex_sq = re.compile('\\D+')\n",
    "    data['sqft'] = data['sqft'].apply(lambda x: regex_sq.sub('', str(x)))\n",
    "    data['sqft'] = data['sqft'].apply(lambda x: int(x) if x != '' else 0)\n",
    "    \n",
    "    #9\n",
    "    #убираем все символы, кроме цифр. Приводим к формату int\n",
    "    regex = re.compile('\\D+')\n",
    "    data['zipcode_int'] = data['zipcode'].apply(lambda x: int(regex.sub('', str(x))) if regex.sub('', str(x))!='' else 0)\n",
    "    \n",
    "    #10\n",
    "    data['private pool1'] = data['private pool'].apply(lambda x: 1 if str(x).lower()=='yes' else 0)\n",
    "    data['PrivatePool1'] = data['PrivatePool'].apply(lambda x: 1 if str(x).lower()=='yes' else 0)\n",
    "    data['pool'] = data[['PrivatePool1','private pool1']].values.max(1)\n",
    "    \n",
    "    #11\n",
    "    data['fireplace_y_n'] = data['fireplace'].apply(lambda x: 0 if (str(x) == 'nan' \n",
    "                                                                or str(x).lower() == 'not applicable' \n",
    "                                                                or str(x).lower() == 'no') else 1)\n",
    "    #посчитаем, сколько характеристик указано для дома\n",
    "    data['fp_count']=data['fireplace'].apply(lambda x: len(str(x).split(',')))\n",
    "    \n",
    "    #12\n",
    "    # заменяем нан на 1 этаж\n",
    "    data['stories'].fillna(1, inplace=True)\n",
    "    #убираем все символы, кроме цифр. Приводим к формату int\n",
    "    regex_sq = re.compile('\\D+')\n",
    "    data['stories_count']=data['stories'].apply(lambda x: make_stories(x))\n",
    "    \n",
    "    #13\n",
    "    states_list = list(states_list)\n",
    "    data['state_encoding']=data['state'].apply(lambda x: states_list.index(x) if x in states_list else len(states_list))\n",
    "    \n",
    "    #14\n",
    "    fact_columns = ['Cooling',  'Heating', 'Parking', 'Price/sqft', 'Remodeled year', 'Year built', 'lotsize']\n",
    "    data[fact_columns]=data['homeFacts'].apply(lambda x: make_facts(x,fact_columns))\n",
    "    #Cooling, Heating, Parking меняем на 1 (есть), 0(нет)\n",
    "    for i in ['Cooling', 'Heating', 'Parking']:\n",
    "        data[i].fillna(0, inplace = True)\n",
    "        data[i] = data[i].apply(lambda x: 0 if x == np.nan or x in ['', 'No','None', 'no', 0, 'No Data'] else 1)\n",
    "    data['price']=data['Price/sqft'].apply(lambda x: make_price(x))\n",
    "    #преобразуем год в число\n",
    "    for i in ['Remodeled year', 'Year built']:\n",
    "        data[i.split()[0]] = data[i].apply(lambda x: int(x) if str(x) not in ['', 'None','No Data'] else 0)\n",
    "    data['lot'] = data['lotsize'].apply(lambda x: make_lot(x))\n",
    "    \n",
    "    #15\n",
    "    #соединяем идентификаторы в одну колонку, так удобнее с ними работать\n",
    "    data['mls-id'].fillna('', inplace=True)\n",
    "    data['MlsId'].fillna('', inplace=True)\n",
    "    data['new_id']=data['mls-id'].astype(str)+data['MlsId'].astype(str)\n",
    "    hash_space = 500000\n",
    "    data['new_id'] = data['new_id'].apply(lambda x: hash(''.join(x.lower().split())) % hash_space)\n",
    "    \n",
    "    data['price_sqft'] = data['price']*data['sqft']\n",
    "    data['price_lot']=data['price']*data['lot']\n",
    "    \n",
    "    data['sqft_lot'] = data['sqft']+data['lot']\n",
    "    \n",
    "    columns = ['8', 'max_rate', 'PK', 'prop_type', 'address_hash', 'beds_square',\n",
    "       'stories_count', 'K', 'Parking', 'Year', 'pool', '6', 'new_id',\n",
    "       'beds_count', 'Remodeled', '1', 'state_mean', 'city_hash', '12',\n",
    "       'zipcode_int', 'Cooling', 'max_dist', 'street_hash', 'schools_count',\n",
    "       '11', 'lot', 'sqft', 'fireplace_y_n', 'sqft_lot', 'average_rate_school',\n",
    "       'mean_dist', 'min_dist', 'baths_count', 'state_encoding']\n",
    "    result = data[columns]\n",
    "    \n",
    "    return result\n",
    "    "
   ]
  },
  {
   "cell_type": "markdown",
   "metadata": {},
   "source": [
    "Проверим, как работает"
   ]
  },
  {
   "cell_type": "code",
   "execution_count": 19,
   "metadata": {},
   "outputs": [
    {
     "data": {
      "text/html": [
       "<div>\n",
       "<style scoped>\n",
       "    .dataframe tbody tr th:only-of-type {\n",
       "        vertical-align: middle;\n",
       "    }\n",
       "\n",
       "    .dataframe tbody tr th {\n",
       "        vertical-align: top;\n",
       "    }\n",
       "\n",
       "    .dataframe thead th {\n",
       "        text-align: right;\n",
       "    }\n",
       "</style>\n",
       "<table border=\"1\" class=\"dataframe\">\n",
       "  <thead>\n",
       "    <tr style=\"text-align: right;\">\n",
       "      <th></th>\n",
       "      <th>8</th>\n",
       "      <th>max_rate</th>\n",
       "      <th>PK</th>\n",
       "      <th>prop_type</th>\n",
       "      <th>address_hash</th>\n",
       "      <th>beds_square</th>\n",
       "      <th>stories_count</th>\n",
       "      <th>K</th>\n",
       "      <th>Parking</th>\n",
       "      <th>Year</th>\n",
       "      <th>...</th>\n",
       "      <th>11</th>\n",
       "      <th>lot</th>\n",
       "      <th>sqft</th>\n",
       "      <th>fireplace_y_n</th>\n",
       "      <th>sqft_lot</th>\n",
       "      <th>average_rate_school</th>\n",
       "      <th>mean_dist</th>\n",
       "      <th>min_dist</th>\n",
       "      <th>baths_count</th>\n",
       "      <th>state_encoding</th>\n",
       "    </tr>\n",
       "  </thead>\n",
       "  <tbody>\n",
       "    <tr>\n",
       "      <th>61</th>\n",
       "      <td>1.0</td>\n",
       "      <td>7.0</td>\n",
       "      <td>0.0</td>\n",
       "      <td>33</td>\n",
       "      <td>1992</td>\n",
       "      <td>0</td>\n",
       "      <td>1.0</td>\n",
       "      <td>1.0</td>\n",
       "      <td>0</td>\n",
       "      <td>1983</td>\n",
       "      <td>...</td>\n",
       "      <td>1.0</td>\n",
       "      <td>12632.4116</td>\n",
       "      <td>1446</td>\n",
       "      <td>1</td>\n",
       "      <td>14078.4116</td>\n",
       "      <td>35.8</td>\n",
       "      <td>3.066667</td>\n",
       "      <td>2.2</td>\n",
       "      <td>2.0</td>\n",
       "      <td>4</td>\n",
       "    </tr>\n",
       "  </tbody>\n",
       "</table>\n",
       "<p>1 rows × 34 columns</p>\n",
       "</div>"
      ],
      "text/plain": [
       "      8  max_rate   PK  prop_type  address_hash  beds_square  stories_count  \\\n",
       "61  1.0       7.0  0.0         33          1992            0            1.0   \n",
       "\n",
       "      K  Parking  Year  ...   11         lot  sqft  fireplace_y_n    sqft_lot  \\\n",
       "61  1.0        0  1983  ...  1.0  12632.4116  1446              1  14078.4116   \n",
       "\n",
       "    average_rate_school  mean_dist  min_dist  baths_count  state_encoding  \n",
       "61                 35.8   3.066667       2.2          2.0               4  \n",
       "\n",
       "[1 rows x 34 columns]"
      ]
     },
     "execution_count": 19,
     "metadata": {},
     "output_type": "execute_result"
    }
   ],
   "source": [
    "make_data_4_predict(stroka, states_list,mean_target)"
   ]
  },
  {
   "cell_type": "markdown",
   "metadata": {},
   "source": [
    "## Предсказание для данных из файла"
   ]
  },
  {
   "cell_type": "code",
   "execution_count": 20,
   "metadata": {
    "collapsed": true
   },
   "outputs": [
    {
     "name": "stdout",
     "output_type": "stream",
     "text": [
      "[1154115.94128031] 1,650,000\n",
      "[391053.39385695] 335,000\n",
      "[1249397.49211493] 2,650,000\n",
      "[592632.43542118] $365,000\n",
      "[447614.5346544] $626,000\n",
      "[358552.4742348] $375,000\n",
      "[2194527.44499014] $3,500,000\n",
      "[340001.9993708] 579,000\n",
      "[1125837.47010803] $499,007\n",
      "[386459.10392542] $182,000\n",
      "[4547745.53257203] $3,749,000\n",
      "[341943.4314798] 799,000\n",
      "[449572.25972004] $499,900\n",
      "[565470.61207978] $559,000\n",
      "[806696.08330697] $830,000\n",
      "[870073.39115385] $1,195,000\n",
      "[260101.96958292] $262,000\n",
      "[135343.78979912] $204,800\n",
      "[138853.43253491] $179,000\n",
      "[71760.56815545] $105,000\n"
     ]
    }
   ],
   "source": [
    "data_test = pd.read_csv('data.csv')\n",
    "y_pred = []\n",
    "\n",
    "for i in range(0, len(data_test)):\n",
    "    X_pred = make_data_4_predict(data_test.iloc[i], states_list,mean_target)\n",
    "    y_pred.append(model.predict(X_pred))\n"
   ]
  },
  {
   "cell_type": "markdown",
   "metadata": {},
   "source": [
    "# Прототип 2 версия"
   ]
  },
  {
   "cell_type": "markdown",
   "metadata": {},
   "source": [
    "Предполагаем, что нам передаются не все данные. Поэтому нам надо каким-то образом дополнить недостающее"
   ]
  },
  {
   "cell_type": "code",
   "execution_count": 102,
   "metadata": {},
   "outputs": [
    {
     "data": {
      "text/plain": [
       "72000.0"
      ]
     },
     "execution_count": 102,
     "metadata": {},
     "output_type": "execute_result"
    }
   ],
   "source": [
    "mean_target['AL']"
   ]
  },
  {
   "cell_type": "code",
   "execution_count": 161,
   "metadata": {},
   "outputs": [],
   "source": [
    "def make_full_data(stroka, mean_target):\n",
    "\n",
    "    mean_lotsize = 0\n",
    "    \n",
    "    #первым делом проверяем, есть ли штат\n",
    "    if 'state' in stroka.keys():\n",
    "        if 'homeFacts' in stroka.keys():\n",
    "            #проверяем, есть ли цена за кв. фут\n",
    "            s = eval(stroka['homeFacts'])['atAGlanceFacts']\n",
    "            for k in s:\n",
    "                if k['factLabel'] == 'Price/sqft':\n",
    "                    mean_price =k['factValue'] \n",
    "        else: #штат есть, но цены нет\n",
    "            if stroka['state'] in mean_target.index:\n",
    "                mean_price = mean_target.get([stroka['state']], 0).iloc[0]\n",
    "            else:\n",
    "                mean_price = 0\n",
    "    else: #даже штата нет\n",
    "        mean_price = mean_target.get('FL', 0)\n",
    "    \n",
    "    #некоторое начальное значение словаря\n",
    "    dict_init = {\n",
    "        'status': 'for sale', #статус нам неизвестен\n",
    "        'private pool': 'NaN', #наиболее часто встречающееся\n",
    "        'propertyType': 'single family home', #наиболее часто встречающееся\n",
    "        'street':'NaN', #NaN\n",
    "        'baths':'2.0', #наиболее часто встречающееся\n",
    "        #наиболее часто встречающееся, но! если знаем штат и город, то лучше среднее по этим параметрам\n",
    "        #кроме того, если не указана цена за кв. фут, то лучше ее заменить на среднее по штату\n",
    "        'homeFacts': \"{'atAGlanceFacts': [{'factValue': '0', 'factLabel': 'Year built'}, {'factValue': '0', 'factLabel': 'Remodeled year'}, {'factValue': 'NaN', 'factLabel': 'Heating'}, {'factValue': '0', 'factLabel': 'Cooling'}, {'factValue': 'No Data', 'factLabel': 'Parking'}, {'factValue': '\"+str(mean_lotsize)+\"', 'factLabel': 'lotsize'}, {'factValue': '\"+str(mean_price)+\"', 'factLabel': 'Price/sqft'}]}\",\n",
    "        'fireplace':'Yes', #наиболее часто встречающееся\n",
    "        'city':'NaN', #неизвестен\n",
    "        'schools':\"[{'rating': [], 'data': {'Distance': [], 'Grades': []}, 'name': []}]\", #по нулям\n",
    "        'sqft':'2579.4076128911624', #среднее \n",
    "        'zipcode':'32137', #nan\n",
    "        'beds':'3', #наиболее часто встречающееся\n",
    "        'state':'FL', #наиболее часто встречающееся\n",
    "        'stories':'1', #наиболее часто встречающееся\n",
    "        'mls-id':'NaN',\n",
    "        'PrivatePool':'NaN', #наиболее часто встречающееся\n",
    "        'MlsId':'NaN',\n",
    "        'target':'NaN'\n",
    "        }\n",
    "    \n",
    "    for i in stroka.keys():\n",
    "        dict_init[i] = stroka[i]\n",
    "    \n",
    "    return dict_init"
   ]
  },
  {
   "cell_type": "code",
   "execution_count": 162,
   "metadata": {},
   "outputs": [],
   "source": [
    "stroka2_dict = {\n",
    "    #'status': 'NaN',\n",
    "    'private pool': 'NaN',\n",
    "    'propertyType': 'Single Family',\n",
    "    #'street':'7353 Boysenberry Ct',\n",
    "    'baths':'2.0',\n",
    "    #'homeFacts': \"{'atAGlanceFacts': [{'factValue': '1983', 'factLabel': 'Year built'}, {'factValue': '1983', 'factLabel': 'Remodeled year'}, {'factValue': 'Forced air', 'factLabel': 'Heating'}, {'factValue': 'Central', 'factLabel': 'Cooling'}, {'factValue': 'No Data', 'factLabel': 'Parking'}, {'factValue': '0.29 acres', 'factLabel': 'lotsize'}, {'factValue': 'None', 'factLabel': 'Price/sqft'}]}\",\n",
    "    'fireplace':'Yes',\n",
    "    #'city':'Jacksonville',\n",
    "    #'schools':\"[{'rating': ['7/10', '2/10', '4/10'], 'data': {'Distance': ['2.2 mi', '3.8 mi', '3.2 mi'], 'Grades': ['K-5', '6-8', '9-12']}, 'name': ['Chimney Lakes Elementary School', 'Jefferson Davis Middle School', 'Westside High School']}]\",\n",
    "    #'sqft':'1,446 sqft',\n",
    "    #'zipcode':'32244',\n",
    "    #'beds':'3',\n",
    "    #'state':'FL',\n",
    "    'stories':'1',\n",
    "    #'mls-id':'NaN',\n",
    "    'PrivatePool':'NaN',\n",
    "    'MlsId':'NaN',\n",
    "    'target':'NaN'\n",
    "    }"
   ]
  },
  {
   "cell_type": "code",
   "execution_count": 163,
   "metadata": {},
   "outputs": [
    {
     "data": {
      "text/plain": [
       "array([5211086.25623629])"
      ]
     },
     "execution_count": 163,
     "metadata": {},
     "output_type": "execute_result"
    }
   ],
   "source": [
    "model.predict(make_data_4_predict(pd.Series(make_full_data(stroka2_dict)), states_list,mean_target))"
   ]
  },
  {
   "cell_type": "code",
   "execution_count": null,
   "metadata": {},
   "outputs": [],
   "source": []
  },
  {
   "cell_type": "code",
   "execution_count": null,
   "metadata": {},
   "outputs": [],
   "source": []
  }
 ],
 "metadata": {
  "kernelspec": {
   "display_name": "Python 3",
   "language": "python",
   "name": "python3"
  },
  "language_info": {
   "codemirror_mode": {
    "name": "ipython",
    "version": 3
   },
   "file_extension": ".py",
   "mimetype": "text/x-python",
   "name": "python",
   "nbconvert_exporter": "python",
   "pygments_lexer": "ipython3",
   "version": "3.7.6"
  }
 },
 "nbformat": 4,
 "nbformat_minor": 4
}
