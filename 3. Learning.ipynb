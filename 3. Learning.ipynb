{
 "cells": [
  {
   "cell_type": "markdown",
   "metadata": {},
   "source": [
    "# Часть 3. Выбор и обучение модели"
   ]
  },
  {
   "cell_type": "code",
   "execution_count": 2,
   "metadata": {},
   "outputs": [],
   "source": [
    "import pandas as pd\n",
    "import numpy as np\n",
    "import pickle                                                        #для сохранения модели\n",
    "from sklearn.model_selection import train_test_split                 #для разбиения данных на выборки\n",
    "from sklearn import metrics                                          #метрики\n",
    "from sklearn.linear_model import LinearRegression                    #линейная регрессия\n",
    "from sklearn.ensemble import RandomForestRegressor                   #случайный лес\n",
    "from sklearn.ensemble import GradientBoostingRegressor               #градиентный бустинг\n",
    "# визуальная составляющая\n",
    "import matplotlib.pyplot as plt\n",
    "%matplotlib inline"
   ]
  },
  {
   "cell_type": "markdown",
   "metadata": {},
   "source": [
    "Проверим разные алгоритмы и сравним их показатели. Кроме того, посмотрим показатели на разных датасетах: полном и сокращенном"
   ]
  },
  {
   "cell_type": "code",
   "execution_count": 3,
   "metadata": {},
   "outputs": [],
   "source": [
    "#зафиксируем параметры\n",
    "RANDOM_SEED = 34\n",
    "TEST_SIZE=0.2\n",
    "\n",
    "#загружаем датасеты для обучения\n",
    "data = pd.read_csv('data4ml.csv') #все колонки, которые получились в п.1. Далее - Полный датасет\n",
    "data_2 = pd.read_csv('data4ml_2.csv') #датасет с удаленными колонками после feature-selector. Далее - сокращенный датасет"
   ]
  },
  {
   "cell_type": "code",
   "execution_count": 26,
   "metadata": {},
   "outputs": [
    {
     "data": {
      "text/plain": [
       "Index(['5', 'stories_count', '9', 'Remodeled', 'beds_square', '12', '7', 'PK',\n",
       "       '6', 'Year', 'Cooling', 'prop_type', 'schools_count', 'state_encoding',\n",
       "       '8', 'price_sqft', 'min_dist', 'address_hash', 'pool', 'baths_count',\n",
       "       'max_rate', 'street_hash', 'sqft', 'max_dist', 'beds_count', 'K',\n",
       "       'city_hash', 'mean_dist', 'Parking', 'new_id', 'price',\n",
       "       'average_rate_school', 'zipcode_int', 'price_lot', 'lot', 'state_mean',\n",
       "       'target'],\n",
       "      dtype='object')"
      ]
     },
     "execution_count": 26,
     "metadata": {},
     "output_type": "execute_result"
    }
   ],
   "source": [
    "data_2.columns"
   ]
  },
  {
   "cell_type": "code",
   "execution_count": 8,
   "metadata": {
    "collapsed": true
   },
   "outputs": [
    {
     "data": {
      "text/html": [
       "<div>\n",
       "<style scoped>\n",
       "    .dataframe tbody tr th:only-of-type {\n",
       "        vertical-align: middle;\n",
       "    }\n",
       "\n",
       "    .dataframe tbody tr th {\n",
       "        vertical-align: top;\n",
       "    }\n",
       "\n",
       "    .dataframe thead th {\n",
       "        text-align: right;\n",
       "    }\n",
       "</style>\n",
       "<table border=\"1\" class=\"dataframe\">\n",
       "  <thead>\n",
       "    <tr style=\"text-align: right;\">\n",
       "      <th></th>\n",
       "      <th>sqft</th>\n",
       "      <th>target</th>\n",
       "      <th>rent_sale</th>\n",
       "      <th>prop_type</th>\n",
       "      <th>city_hash</th>\n",
       "      <th>street_hash</th>\n",
       "      <th>address_hash</th>\n",
       "      <th>baths_count</th>\n",
       "      <th>beds_count</th>\n",
       "      <th>beds_square</th>\n",
       "      <th>...</th>\n",
       "      <th>Cooling</th>\n",
       "      <th>Heating</th>\n",
       "      <th>Parking</th>\n",
       "      <th>price</th>\n",
       "      <th>Remodeled</th>\n",
       "      <th>Year</th>\n",
       "      <th>lot</th>\n",
       "      <th>new_id</th>\n",
       "      <th>price_sqft</th>\n",
       "      <th>price_lot</th>\n",
       "    </tr>\n",
       "  </thead>\n",
       "  <tbody>\n",
       "    <tr>\n",
       "      <th>0</th>\n",
       "      <td>2900</td>\n",
       "      <td>418000</td>\n",
       "      <td>0</td>\n",
       "      <td>16</td>\n",
       "      <td>572</td>\n",
       "      <td>1186</td>\n",
       "      <td>1169</td>\n",
       "      <td>3.5</td>\n",
       "      <td>4</td>\n",
       "      <td>0.0</td>\n",
       "      <td>...</td>\n",
       "      <td>0</td>\n",
       "      <td>1</td>\n",
       "      <td>0</td>\n",
       "      <td>144</td>\n",
       "      <td>0</td>\n",
       "      <td>2019</td>\n",
       "      <td>0.0</td>\n",
       "      <td>481584</td>\n",
       "      <td>417600</td>\n",
       "      <td>0.0</td>\n",
       "    </tr>\n",
       "    <tr>\n",
       "      <th>1</th>\n",
       "      <td>1947</td>\n",
       "      <td>310000</td>\n",
       "      <td>0</td>\n",
       "      <td>16</td>\n",
       "      <td>802</td>\n",
       "      <td>1361</td>\n",
       "      <td>826</td>\n",
       "      <td>3.0</td>\n",
       "      <td>3</td>\n",
       "      <td>0.0</td>\n",
       "      <td>...</td>\n",
       "      <td>0</td>\n",
       "      <td>0</td>\n",
       "      <td>0</td>\n",
       "      <td>159</td>\n",
       "      <td>0</td>\n",
       "      <td>2019</td>\n",
       "      <td>5828.0</td>\n",
       "      <td>326029</td>\n",
       "      <td>309573</td>\n",
       "      <td>926652.0</td>\n",
       "    </tr>\n",
       "    <tr>\n",
       "      <th>2</th>\n",
       "      <td>3000</td>\n",
       "      <td>2895000</td>\n",
       "      <td>0</td>\n",
       "      <td>16</td>\n",
       "      <td>1279</td>\n",
       "      <td>1456</td>\n",
       "      <td>849</td>\n",
       "      <td>2.0</td>\n",
       "      <td>3</td>\n",
       "      <td>0.0</td>\n",
       "      <td>...</td>\n",
       "      <td>1</td>\n",
       "      <td>1</td>\n",
       "      <td>1</td>\n",
       "      <td>965</td>\n",
       "      <td>1967</td>\n",
       "      <td>1961</td>\n",
       "      <td>8626.0</td>\n",
       "      <td>21263</td>\n",
       "      <td>2895000</td>\n",
       "      <td>8324090.0</td>\n",
       "    </tr>\n",
       "    <tr>\n",
       "      <th>3</th>\n",
       "      <td>6457</td>\n",
       "      <td>2395000</td>\n",
       "      <td>0</td>\n",
       "      <td>16</td>\n",
       "      <td>1654</td>\n",
       "      <td>805</td>\n",
       "      <td>1170</td>\n",
       "      <td>8.0</td>\n",
       "      <td>5</td>\n",
       "      <td>0.0</td>\n",
       "      <td>...</td>\n",
       "      <td>1</td>\n",
       "      <td>1</td>\n",
       "      <td>1</td>\n",
       "      <td>371</td>\n",
       "      <td>2006</td>\n",
       "      <td>2006</td>\n",
       "      <td>8220.0</td>\n",
       "      <td>215392</td>\n",
       "      <td>2395547</td>\n",
       "      <td>3049620.0</td>\n",
       "    </tr>\n",
       "    <tr>\n",
       "      <th>4</th>\n",
       "      <td>0</td>\n",
       "      <td>5000</td>\n",
       "      <td>0</td>\n",
       "      <td>44</td>\n",
       "      <td>275</td>\n",
       "      <td>2011</td>\n",
       "      <td>794</td>\n",
       "      <td>0.0</td>\n",
       "      <td>0</td>\n",
       "      <td>0.0</td>\n",
       "      <td>...</td>\n",
       "      <td>0</td>\n",
       "      <td>0</td>\n",
       "      <td>0</td>\n",
       "      <td>0</td>\n",
       "      <td>0</td>\n",
       "      <td>0</td>\n",
       "      <td>10019.0</td>\n",
       "      <td>198067</td>\n",
       "      <td>0</td>\n",
       "      <td>0.0</td>\n",
       "    </tr>\n",
       "    <tr>\n",
       "      <th>5</th>\n",
       "      <td>897</td>\n",
       "      <td>209000</td>\n",
       "      <td>0</td>\n",
       "      <td>24</td>\n",
       "      <td>795</td>\n",
       "      <td>493</td>\n",
       "      <td>546</td>\n",
       "      <td>0.0</td>\n",
       "      <td>2</td>\n",
       "      <td>0.0</td>\n",
       "      <td>...</td>\n",
       "      <td>1</td>\n",
       "      <td>1</td>\n",
       "      <td>0</td>\n",
       "      <td>233</td>\n",
       "      <td>0</td>\n",
       "      <td>1920</td>\n",
       "      <td>680.0</td>\n",
       "      <td>354215</td>\n",
       "      <td>209001</td>\n",
       "      <td>158440.0</td>\n",
       "    </tr>\n",
       "    <tr>\n",
       "      <th>6</th>\n",
       "      <td>1507</td>\n",
       "      <td>181500</td>\n",
       "      <td>0</td>\n",
       "      <td>11</td>\n",
       "      <td>103</td>\n",
       "      <td>1018</td>\n",
       "      <td>1405</td>\n",
       "      <td>0.0</td>\n",
       "      <td>0</td>\n",
       "      <td>0.0</td>\n",
       "      <td>...</td>\n",
       "      <td>1</td>\n",
       "      <td>1</td>\n",
       "      <td>0</td>\n",
       "      <td>120</td>\n",
       "      <td>2006</td>\n",
       "      <td>2006</td>\n",
       "      <td>4996.0</td>\n",
       "      <td>364646</td>\n",
       "      <td>180840</td>\n",
       "      <td>599520.0</td>\n",
       "    </tr>\n",
       "    <tr>\n",
       "      <th>7</th>\n",
       "      <td>0</td>\n",
       "      <td>68000</td>\n",
       "      <td>0</td>\n",
       "      <td>16</td>\n",
       "      <td>1658</td>\n",
       "      <td>218</td>\n",
       "      <td>197</td>\n",
       "      <td>0.0</td>\n",
       "      <td>0</td>\n",
       "      <td>0.0</td>\n",
       "      <td>...</td>\n",
       "      <td>0</td>\n",
       "      <td>0</td>\n",
       "      <td>0</td>\n",
       "      <td>57</td>\n",
       "      <td>0</td>\n",
       "      <td>1976</td>\n",
       "      <td>8750.0</td>\n",
       "      <td>273159</td>\n",
       "      <td>0</td>\n",
       "      <td>498750.0</td>\n",
       "    </tr>\n",
       "    <tr>\n",
       "      <th>8</th>\n",
       "      <td>3588</td>\n",
       "      <td>244900</td>\n",
       "      <td>0</td>\n",
       "      <td>16</td>\n",
       "      <td>426</td>\n",
       "      <td>1087</td>\n",
       "      <td>1603</td>\n",
       "      <td>2.0</td>\n",
       "      <td>3</td>\n",
       "      <td>0.0</td>\n",
       "      <td>...</td>\n",
       "      <td>1</td>\n",
       "      <td>1</td>\n",
       "      <td>0</td>\n",
       "      <td>68</td>\n",
       "      <td>0</td>\n",
       "      <td>1970</td>\n",
       "      <td>124582.0</td>\n",
       "      <td>312350</td>\n",
       "      <td>243984</td>\n",
       "      <td>8471576.0</td>\n",
       "    </tr>\n",
       "    <tr>\n",
       "      <th>9</th>\n",
       "      <td>1930</td>\n",
       "      <td>311995</td>\n",
       "      <td>0</td>\n",
       "      <td>16</td>\n",
       "      <td>1770</td>\n",
       "      <td>465</td>\n",
       "      <td>58</td>\n",
       "      <td>3.0</td>\n",
       "      <td>3</td>\n",
       "      <td>0.0</td>\n",
       "      <td>...</td>\n",
       "      <td>1</td>\n",
       "      <td>1</td>\n",
       "      <td>1</td>\n",
       "      <td>162</td>\n",
       "      <td>0</td>\n",
       "      <td>2019</td>\n",
       "      <td>2056.0</td>\n",
       "      <td>172029</td>\n",
       "      <td>312660</td>\n",
       "      <td>333072.0</td>\n",
       "    </tr>\n",
       "  </tbody>\n",
       "</table>\n",
       "<p>10 rows × 46 columns</p>\n",
       "</div>"
      ],
      "text/plain": [
       "   sqft   target  rent_sale  prop_type  city_hash  street_hash  address_hash  \\\n",
       "0  2900   418000          0         16        572         1186          1169   \n",
       "1  1947   310000          0         16        802         1361           826   \n",
       "2  3000  2895000          0         16       1279         1456           849   \n",
       "3  6457  2395000          0         16       1654          805          1170   \n",
       "4     0     5000          0         44        275         2011           794   \n",
       "5   897   209000          0         24        795          493           546   \n",
       "6  1507   181500          0         11        103         1018          1405   \n",
       "7     0    68000          0         16       1658          218           197   \n",
       "8  3588   244900          0         16        426         1087          1603   \n",
       "9  1930   311995          0         16       1770          465            58   \n",
       "\n",
       "   baths_count  beds_count  beds_square  ...  Cooling  Heating  Parking  \\\n",
       "0          3.5           4          0.0  ...        0        1        0   \n",
       "1          3.0           3          0.0  ...        0        0        0   \n",
       "2          2.0           3          0.0  ...        1        1        1   \n",
       "3          8.0           5          0.0  ...        1        1        1   \n",
       "4          0.0           0          0.0  ...        0        0        0   \n",
       "5          0.0           2          0.0  ...        1        1        0   \n",
       "6          0.0           0          0.0  ...        1        1        0   \n",
       "7          0.0           0          0.0  ...        0        0        0   \n",
       "8          2.0           3          0.0  ...        1        1        0   \n",
       "9          3.0           3          0.0  ...        1        1        1   \n",
       "\n",
       "   price  Remodeled  Year       lot  new_id  price_sqft  price_lot  \n",
       "0    144          0  2019       0.0  481584      417600        0.0  \n",
       "1    159          0  2019    5828.0  326029      309573   926652.0  \n",
       "2    965       1967  1961    8626.0   21263     2895000  8324090.0  \n",
       "3    371       2006  2006    8220.0  215392     2395547  3049620.0  \n",
       "4      0          0     0   10019.0  198067           0        0.0  \n",
       "5    233          0  1920     680.0  354215      209001   158440.0  \n",
       "6    120       2006  2006    4996.0  364646      180840   599520.0  \n",
       "7     57          0  1976    8750.0  273159           0   498750.0  \n",
       "8     68          0  1970  124582.0  312350      243984  8471576.0  \n",
       "9    162          0  2019    2056.0  172029      312660   333072.0  \n",
       "\n",
       "[10 rows x 46 columns]"
      ]
     },
     "execution_count": 8,
     "metadata": {},
     "output_type": "execute_result"
    }
   ],
   "source": [
    "data.head(10)"
   ]
  },
  {
   "cell_type": "code",
   "execution_count": 4,
   "metadata": {},
   "outputs": [],
   "source": [
    "#разделяем датасеты на данные и целевую переменную\n",
    "columns = list(set(data.columns) - set(['target']))\n",
    "X = data[columns]\n",
    "y = data['target']\n",
    "\n",
    "\n",
    "columns_2 = list(set(data_2.columns) - set(['target']))\n",
    "X_2 = data_2[columns_2]\n",
    "y_2 = data_2['target']"
   ]
  },
  {
   "cell_type": "markdown",
   "metadata": {},
   "source": [
    "## Линейная регрессия"
   ]
  },
  {
   "cell_type": "markdown",
   "metadata": {},
   "source": [
    "Полный датасет"
   ]
  },
  {
   "cell_type": "code",
   "execution_count": 61,
   "metadata": {},
   "outputs": [
    {
     "name": "stdout",
     "output_type": "stream",
     "text": [
      "MAE: 206229.37218126425\n",
      "RMSE: 912220.233238284\n",
      "R2-score 0.7627165236491584\n"
     ]
    }
   ],
   "source": [
    "#разделяем датасет на тренировочную и валидационные части\n",
    "X_train, X_test, y_train, y_test = train_test_split(X,y, test_size=TEST_SIZE, random_state = RANDOM_SEED)\n",
    "\n",
    "lin_reg = LinearRegression()\n",
    "lin_reg.fit(X_train,y_train)\n",
    "y_pred_lin =  lin_reg.predict(X_test)\n",
    "# Сравниваем предсказанные значения (y_pred) с реальными (y_test), и смотрим насколько они в среднем отличаются\n",
    "# Метрика Mean Absolute Error (MAE) показывает среднее отклонение предсказанных значений от фактических.\n",
    "print('MAE:', metrics.mean_absolute_error(y_test, y_pred_lin))\n",
    "print('RMSE:', np.sqrt(metrics.mean_squared_error(y_test, y_pred_lin)))\n",
    "print('R2-score', metrics.r2_score(y_test, y_pred_lin))\n",
    "\n",
    "#как видим, в среднем ошибка очень большая, что совсем нас не устраивает"
   ]
  },
  {
   "cell_type": "markdown",
   "metadata": {},
   "source": [
    "Сокращенный датасет"
   ]
  },
  {
   "cell_type": "code",
   "execution_count": 62,
   "metadata": {},
   "outputs": [
    {
     "name": "stdout",
     "output_type": "stream",
     "text": [
      "MAE: 215493.34197042376\n",
      "RMSE: 917318.9031180727\n",
      "R2-score 0.7600566151761968\n"
     ]
    }
   ],
   "source": [
    "#разделяем датасет на тренировочную и валидационные части\n",
    "X_train, X_test, y_train, y_test = train_test_split(X_2,y_2, test_size=TEST_SIZE, random_state = RANDOM_SEED)\n",
    "\n",
    "lin_reg = LinearRegression()\n",
    "lin_reg.fit(X_train,y_train)\n",
    "y_pred_lin =  lin_reg.predict(X_test)\n",
    "# Сравниваем предсказанные значения (y_pred) с реальными (y_test), и смотрим насколько они в среднем отличаются\n",
    "# Метрика Mean Absolute Error (MAE) показывает среднее отклонение предсказанных значений от фактических.\n",
    "print('MAE:', metrics.mean_absolute_error(y_test, y_pred_lin))\n",
    "print('RMSE:', np.sqrt(metrics.mean_squared_error(y_test, y_pred_lin)))\n",
    "print('R2-score', metrics.r2_score(y_test, y_pred_lin))\n",
    "\n",
    "\n",
    "#как видим, в среднем ошибка очень большая, что совсем нас не устраивает"
   ]
  },
  {
   "cell_type": "markdown",
   "metadata": {},
   "source": [
    "## Случайный лес"
   ]
  },
  {
   "cell_type": "markdown",
   "metadata": {},
   "source": [
    "Полный датасет"
   ]
  },
  {
   "cell_type": "code",
   "execution_count": 5,
   "metadata": {},
   "outputs": [
    {
     "name": "stderr",
     "output_type": "stream",
     "text": [
      "[Parallel(n_jobs=-1)]: Using backend ThreadingBackend with 8 concurrent workers.\n",
      "[Parallel(n_jobs=-1)]: Done  34 tasks      | elapsed:  2.0min\n",
      "[Parallel(n_jobs=-1)]: Done 100 out of 100 | elapsed:  5.7min finished\n",
      "[Parallel(n_jobs=8)]: Using backend ThreadingBackend with 8 concurrent workers.\n",
      "[Parallel(n_jobs=8)]: Done  34 tasks      | elapsed:    0.5s\n"
     ]
    },
    {
     "name": "stdout",
     "output_type": "stream",
     "text": [
      "MAE: 76196.43932214462\n",
      "RMSE: 756456.6060836108\n",
      "R2-score 0.8368315700359621\n"
     ]
    },
    {
     "name": "stderr",
     "output_type": "stream",
     "text": [
      "[Parallel(n_jobs=8)]: Done 100 out of 100 | elapsed:    1.5s finished\n"
     ]
    }
   ],
   "source": [
    "#разделяем датасет на тренировочную и валидационные части\n",
    "X_train, X_test, y_train, y_test = train_test_split(X,y, test_size=TEST_SIZE, random_state = RANDOM_SEED)\n",
    "\n",
    "model = RandomForestRegressor(n_estimators=100, verbose=1, n_jobs=-1, random_state=RANDOM_SEED)\n",
    "\n",
    "model.fit(X_train, y_train)\n",
    "\n",
    "y_pred = model.predict(X_test)\n",
    "\n",
    "\n",
    "print('MAE:', metrics.mean_absolute_error(y_test, y_pred))\n",
    "print('RMSE:', np.sqrt(metrics.mean_squared_error(y_test, y_pred)))\n",
    "print('R2-score', metrics.r2_score(y_test, y_pred))"
   ]
  },
  {
   "cell_type": "code",
   "execution_count": 6,
   "metadata": {},
   "outputs": [
    {
     "data": {
      "text/plain": [
       "<matplotlib.axes._subplots.AxesSubplot at 0x162374dd888>"
      ]
     },
     "execution_count": 6,
     "metadata": {},
     "output_type": "execute_result"
    },
    {
     "data": {
      "image/png": "[encoded data removed]",
      "text/plain": [
       "<Figure size 720x360 with 1 Axes>"
      ]
     },
     "metadata": {
      "needs_background": "light"
     },
     "output_type": "display_data"
    }
   ],
   "source": [
    "#посмотрим, какие колонки вносят больший вклад\n",
    "plt.rcParams['figure.figsize'] = (10,5)\n",
    "feat_importances = pd.Series(model.feature_importances_, index=X.columns)\n",
    "feat_importances.nlargest(20).plot(kind='barh')"
   ]
  },
  {
   "cell_type": "markdown",
   "metadata": {},
   "source": [
    "Сокращенный датасет"
   ]
  },
  {
   "cell_type": "code",
   "execution_count": 7,
   "metadata": {},
   "outputs": [
    {
     "name": "stderr",
     "output_type": "stream",
     "text": [
      "[Parallel(n_jobs=-1)]: Using backend ThreadingBackend with 8 concurrent workers.\n",
      "[Parallel(n_jobs=-1)]: Done  34 tasks      | elapsed:  2.0min\n",
      "[Parallel(n_jobs=-1)]: Done 100 out of 100 | elapsed:  5.3min finished\n",
      "[Parallel(n_jobs=8)]: Using backend ThreadingBackend with 8 concurrent workers.\n",
      "[Parallel(n_jobs=8)]: Done  34 tasks      | elapsed:    0.4s\n"
     ]
    },
    {
     "name": "stdout",
     "output_type": "stream",
     "text": [
      "MAE: 76466.83414345613\n",
      "RMSE: 751087.6835537534\n",
      "R2-score 0.8391395142773859\n"
     ]
    },
    {
     "name": "stderr",
     "output_type": "stream",
     "text": [
      "[Parallel(n_jobs=8)]: Done 100 out of 100 | elapsed:    1.4s finished\n"
     ]
    }
   ],
   "source": [
    "#разделяем датасет на тренировочную и валидационные части\n",
    "X_train, X_test, y_train, y_test = train_test_split(X_2,y_2, test_size=TEST_SIZE, random_state = RANDOM_SEED)\n",
    "\n",
    "model = RandomForestRegressor(n_estimators=100, verbose=1, n_jobs=-1, random_state=RANDOM_SEED)\n",
    "\n",
    "model.fit(X_train, y_train)\n",
    "\n",
    "y_pred = model.predict(X_test)\n",
    "\n",
    "\n",
    "print('MAE:', metrics.mean_absolute_error(y_test, y_pred))\n",
    "print('RMSE:', np.sqrt(metrics.mean_squared_error(y_test, y_pred)))\n",
    "print('R2-score', metrics.r2_score(y_test, y_pred))"
   ]
  },
  {
   "cell_type": "code",
   "execution_count": 9,
   "metadata": {},
   "outputs": [
    {
     "data": {
      "text/plain": [
       "<matplotlib.axes._subplots.AxesSubplot at 0x162376e7ec8>"
      ]
     },
     "execution_count": 9,
     "metadata": {},
     "output_type": "execute_result"
    },
    {
     "data": {
      "image/png": "[encoded data removed]",
      "text/plain": [
       "<Figure size 720x360 with 1 Axes>"
      ]
     },
     "metadata": {
      "needs_background": "light"
     },
     "output_type": "display_data"
    }
   ],
   "source": [
    "#посмотрим, какие колонки вносят больший вклад\n",
    "plt.rcParams['figure.figsize'] = (10,5)\n",
    "feat_importances = pd.Series(model.feature_importances_, index=X_2.columns)\n",
    "feat_importances.nlargest(20).plot(kind='barh')"
   ]
  },
  {
   "cell_type": "markdown",
   "metadata": {},
   "source": [
    "## gradient boosting"
   ]
  },
  {
   "cell_type": "markdown",
   "metadata": {},
   "source": [
    "Проведем процедуру подбора наилучших гиперпараметров перед непосредственно обучением модели"
   ]
  },
  {
   "cell_type": "code",
   "execution_count": 33,
   "metadata": {},
   "outputs": [
    {
     "name": "stdout",
     "output_type": "stream",
     "text": [
      "Fitting 5 folds for each of 6 candidates, totalling 30 fits\n"
     ]
    },
    {
     "name": "stderr",
     "output_type": "stream",
     "text": [
      "[Parallel(n_jobs=1)]: Using backend SequentialBackend with 1 concurrent workers.\n",
      "[Parallel(n_jobs=1)]: Done  30 out of  30 | elapsed: 252.2min finished\n"
     ]
    },
    {
     "data": {
      "text/plain": [
       "GradientBoostingRegressor(alpha=0.9, ccp_alpha=0.0, criterion='friedman_mse',\n",
       "                          init=None, learning_rate=0.1, loss='ls', max_depth=15,\n",
       "                          max_features=None, max_leaf_nodes=None,\n",
       "                          min_impurity_decrease=0.0, min_impurity_split=None,\n",
       "                          min_samples_leaf=2, min_samples_split=2,\n",
       "                          min_weight_fraction_leaf=0.0, n_estimators=100,\n",
       "                          n_iter_no_change=None, presort='deprecated',\n",
       "                          random_state=34, subsample=1.0, tol=0.0001,\n",
       "                          validation_fraction=0.1, verbose=0, warm_start=False)"
      ]
     },
     "execution_count": 33,
     "metadata": {},
     "output_type": "execute_result"
    }
   ],
   "source": [
    "from sklearn.model_selection import GridSearchCV\n",
    "#подбор гиперпараметров\n",
    "parameters = {'n_estimators':[30, 50,100], 'learning_rate':[0.1], 'max_depth': [15,20],\n",
    "             'min_samples_leaf': [2], 'random_state': [RANDOM_SEED]}\n",
    "\n",
    "X_train, X_test, y_train, y_test = train_test_split(X,y, test_size=TEST_SIZE, random_state = RANDOM_SEED)\n",
    "gbrt_search = GradientBoostingRegressor()\n",
    "search = GridSearchCV(gbrt_search, parameters, verbose =1)\n",
    "search.fit(X_train,y_train)\n",
    "best_param = search.best_estimator_\n",
    "best_param\n"
   ]
  },
  {
   "cell_type": "markdown",
   "metadata": {},
   "source": [
    "Полный датасет"
   ]
  },
  {
   "cell_type": "code",
   "execution_count": 13,
   "metadata": {},
   "outputs": [
    {
     "name": "stdout",
     "output_type": "stream",
     "text": [
      "MAE: 81984.49011767308\n",
      "RMSE: 746143.8085367202\n",
      "R2-score 0.8412502046600739\n"
     ]
    }
   ],
   "source": [
    "X_train, X_test, y_train, y_test = train_test_split(X,y, test_size=TEST_SIZE, random_state = RANDOM_SEED)\n",
    "gbrt = GradientBoostingRegressor(max_depth=15, n_estimators=100, \n",
    "                                 min_samples_leaf = 2, learning_rate=0.1,random_state = RANDOM_SEED,\n",
    "                                 verbose =0)\n",
    "gbrt.fit(X_train,y_train)\n",
    "y_pred = gbrt.predict(X_test)\n",
    "print('MAE:', metrics.mean_absolute_error(y_test, y_pred))\n",
    "print('RMSE:', np.sqrt(metrics.mean_squared_error(y_test, y_pred)))\n",
    "print('R2-score', metrics.r2_score(y_test, y_pred))"
   ]
  },
  {
   "cell_type": "markdown",
   "metadata": {},
   "source": [
    "Сокращенный датасет"
   ]
  },
  {
   "cell_type": "code",
   "execution_count": 14,
   "metadata": {},
   "outputs": [
    {
     "ename": "ValueError",
     "evalue": "Number of features of the model must match the input. Model n_features is 46 and input n_features is 36 ",
     "output_type": "error",
     "traceback": [
      "\u001b[1;31m---------------------------------------------------------------------------\u001b[0m",
      "\u001b[1;31mValueError\u001b[0m                                Traceback (most recent call last)",
      "\u001b[1;32m<ipython-input-14-44c12204b37e>\u001b[0m in \u001b[0;36m<module>\u001b[1;34m\u001b[0m\n\u001b[0;32m      5\u001b[0m                                  verbose =0)\n\u001b[0;32m      6\u001b[0m \u001b[0mgbrt_2\u001b[0m\u001b[1;33m.\u001b[0m\u001b[0mfit\u001b[0m\u001b[1;33m(\u001b[0m\u001b[0mX_train\u001b[0m\u001b[1;33m,\u001b[0m\u001b[0my_train\u001b[0m\u001b[1;33m)\u001b[0m\u001b[1;33m\u001b[0m\u001b[1;33m\u001b[0m\u001b[0m\n\u001b[1;32m----> 7\u001b[1;33m \u001b[0my_pred_2\u001b[0m \u001b[1;33m=\u001b[0m \u001b[0mgbrt\u001b[0m\u001b[1;33m.\u001b[0m\u001b[0mpredict\u001b[0m\u001b[1;33m(\u001b[0m\u001b[0mX_test\u001b[0m\u001b[1;33m)\u001b[0m\u001b[1;33m\u001b[0m\u001b[1;33m\u001b[0m\u001b[0m\n\u001b[0m\u001b[0;32m      8\u001b[0m \u001b[0mprint\u001b[0m\u001b[1;33m(\u001b[0m\u001b[1;34m'MAE:'\u001b[0m\u001b[1;33m,\u001b[0m \u001b[0mmetrics\u001b[0m\u001b[1;33m.\u001b[0m\u001b[0mmean_absolute_error\u001b[0m\u001b[1;33m(\u001b[0m\u001b[0my_test\u001b[0m\u001b[1;33m,\u001b[0m \u001b[0my_pred_2\u001b[0m\u001b[1;33m)\u001b[0m\u001b[1;33m)\u001b[0m\u001b[1;33m\u001b[0m\u001b[1;33m\u001b[0m\u001b[0m\n\u001b[0;32m      9\u001b[0m \u001b[0mprint\u001b[0m\u001b[1;33m(\u001b[0m\u001b[1;34m'RMSE:'\u001b[0m\u001b[1;33m,\u001b[0m \u001b[0mnp\u001b[0m\u001b[1;33m.\u001b[0m\u001b[0msqrt\u001b[0m\u001b[1;33m(\u001b[0m\u001b[0mmetrics\u001b[0m\u001b[1;33m.\u001b[0m\u001b[0mmean_squared_error\u001b[0m\u001b[1;33m(\u001b[0m\u001b[0my_test\u001b[0m\u001b[1;33m,\u001b[0m \u001b[0my_pred_2\u001b[0m\u001b[1;33m)\u001b[0m\u001b[1;33m)\u001b[0m\u001b[1;33m)\u001b[0m\u001b[1;33m\u001b[0m\u001b[1;33m\u001b[0m\u001b[0m\n",
      "\u001b[1;32m~\\anaconda3\\lib\\site-packages\\sklearn\\ensemble\\_gb.py\u001b[0m in \u001b[0;36mpredict\u001b[1;34m(self, X)\u001b[0m\n\u001b[0;32m   2567\u001b[0m         \u001b[0mX\u001b[0m \u001b[1;33m=\u001b[0m \u001b[0mcheck_array\u001b[0m\u001b[1;33m(\u001b[0m\u001b[0mX\u001b[0m\u001b[1;33m,\u001b[0m \u001b[0mdtype\u001b[0m\u001b[1;33m=\u001b[0m\u001b[0mDTYPE\u001b[0m\u001b[1;33m,\u001b[0m \u001b[0morder\u001b[0m\u001b[1;33m=\u001b[0m\u001b[1;34m\"C\"\u001b[0m\u001b[1;33m,\u001b[0m \u001b[0maccept_sparse\u001b[0m\u001b[1;33m=\u001b[0m\u001b[1;34m'csr'\u001b[0m\u001b[1;33m)\u001b[0m\u001b[1;33m\u001b[0m\u001b[1;33m\u001b[0m\u001b[0m\n\u001b[0;32m   2568\u001b[0m         \u001b[1;31m# In regression we can directly return the raw value from the trees.\u001b[0m\u001b[1;33m\u001b[0m\u001b[1;33m\u001b[0m\u001b[1;33m\u001b[0m\u001b[0m\n\u001b[1;32m-> 2569\u001b[1;33m         \u001b[1;32mreturn\u001b[0m \u001b[0mself\u001b[0m\u001b[1;33m.\u001b[0m\u001b[0m_raw_predict\u001b[0m\u001b[1;33m(\u001b[0m\u001b[0mX\u001b[0m\u001b[1;33m)\u001b[0m\u001b[1;33m.\u001b[0m\u001b[0mravel\u001b[0m\u001b[1;33m(\u001b[0m\u001b[1;33m)\u001b[0m\u001b[1;33m\u001b[0m\u001b[1;33m\u001b[0m\u001b[0m\n\u001b[0m\u001b[0;32m   2570\u001b[0m \u001b[1;33m\u001b[0m\u001b[0m\n\u001b[0;32m   2571\u001b[0m     \u001b[1;32mdef\u001b[0m \u001b[0mstaged_predict\u001b[0m\u001b[1;33m(\u001b[0m\u001b[0mself\u001b[0m\u001b[1;33m,\u001b[0m \u001b[0mX\u001b[0m\u001b[1;33m)\u001b[0m\u001b[1;33m:\u001b[0m\u001b[1;33m\u001b[0m\u001b[1;33m\u001b[0m\u001b[0m\n",
      "\u001b[1;32m~\\anaconda3\\lib\\site-packages\\sklearn\\ensemble\\_gb.py\u001b[0m in \u001b[0;36m_raw_predict\u001b[1;34m(self, X)\u001b[0m\n\u001b[0;32m   1653\u001b[0m     \u001b[1;32mdef\u001b[0m \u001b[0m_raw_predict\u001b[0m\u001b[1;33m(\u001b[0m\u001b[0mself\u001b[0m\u001b[1;33m,\u001b[0m \u001b[0mX\u001b[0m\u001b[1;33m)\u001b[0m\u001b[1;33m:\u001b[0m\u001b[1;33m\u001b[0m\u001b[1;33m\u001b[0m\u001b[0m\n\u001b[0;32m   1654\u001b[0m         \u001b[1;34m\"\"\"Return the sum of the trees raw predictions (+ init estimator).\"\"\"\u001b[0m\u001b[1;33m\u001b[0m\u001b[1;33m\u001b[0m\u001b[0m\n\u001b[1;32m-> 1655\u001b[1;33m         \u001b[0mraw_predictions\u001b[0m \u001b[1;33m=\u001b[0m \u001b[0mself\u001b[0m\u001b[1;33m.\u001b[0m\u001b[0m_raw_predict_init\u001b[0m\u001b[1;33m(\u001b[0m\u001b[0mX\u001b[0m\u001b[1;33m)\u001b[0m\u001b[1;33m\u001b[0m\u001b[1;33m\u001b[0m\u001b[0m\n\u001b[0m\u001b[0;32m   1656\u001b[0m         predict_stages(self.estimators_, X, self.learning_rate,\n\u001b[0;32m   1657\u001b[0m                        raw_predictions)\n",
      "\u001b[1;32m~\\anaconda3\\lib\\site-packages\\sklearn\\ensemble\\_gb.py\u001b[0m in \u001b[0;36m_raw_predict_init\u001b[1;34m(self, X)\u001b[0m\n\u001b[0;32m   1639\u001b[0m         \u001b[1;34m\"\"\"Check input and compute raw predictions of the init estimator.\"\"\"\u001b[0m\u001b[1;33m\u001b[0m\u001b[1;33m\u001b[0m\u001b[0m\n\u001b[0;32m   1640\u001b[0m         \u001b[0mself\u001b[0m\u001b[1;33m.\u001b[0m\u001b[0m_check_initialized\u001b[0m\u001b[1;33m(\u001b[0m\u001b[1;33m)\u001b[0m\u001b[1;33m\u001b[0m\u001b[1;33m\u001b[0m\u001b[0m\n\u001b[1;32m-> 1641\u001b[1;33m         \u001b[0mX\u001b[0m \u001b[1;33m=\u001b[0m \u001b[0mself\u001b[0m\u001b[1;33m.\u001b[0m\u001b[0mestimators_\u001b[0m\u001b[1;33m[\u001b[0m\u001b[1;36m0\u001b[0m\u001b[1;33m,\u001b[0m \u001b[1;36m0\u001b[0m\u001b[1;33m]\u001b[0m\u001b[1;33m.\u001b[0m\u001b[0m_validate_X_predict\u001b[0m\u001b[1;33m(\u001b[0m\u001b[0mX\u001b[0m\u001b[1;33m,\u001b[0m \u001b[0mcheck_input\u001b[0m\u001b[1;33m=\u001b[0m\u001b[1;32mTrue\u001b[0m\u001b[1;33m)\u001b[0m\u001b[1;33m\u001b[0m\u001b[1;33m\u001b[0m\u001b[0m\n\u001b[0m\u001b[0;32m   1642\u001b[0m         \u001b[1;32mif\u001b[0m \u001b[0mX\u001b[0m\u001b[1;33m.\u001b[0m\u001b[0mshape\u001b[0m\u001b[1;33m[\u001b[0m\u001b[1;36m1\u001b[0m\u001b[1;33m]\u001b[0m \u001b[1;33m!=\u001b[0m \u001b[0mself\u001b[0m\u001b[1;33m.\u001b[0m\u001b[0mn_features_\u001b[0m\u001b[1;33m:\u001b[0m\u001b[1;33m\u001b[0m\u001b[1;33m\u001b[0m\u001b[0m\n\u001b[0;32m   1643\u001b[0m             raise ValueError(\"X.shape[1] should be {0:d}, not {1:d}.\".format(\n",
      "\u001b[1;32m~\\anaconda3\\lib\\site-packages\\sklearn\\tree\\_classes.py\u001b[0m in \u001b[0;36m_validate_X_predict\u001b[1;34m(self, X, check_input)\u001b[0m\n\u001b[0;32m    389\u001b[0m                              \u001b[1;34m\"match the input. Model n_features is %s and \"\u001b[0m\u001b[1;33m\u001b[0m\u001b[1;33m\u001b[0m\u001b[0m\n\u001b[0;32m    390\u001b[0m                              \u001b[1;34m\"input n_features is %s \"\u001b[0m\u001b[1;33m\u001b[0m\u001b[1;33m\u001b[0m\u001b[0m\n\u001b[1;32m--> 391\u001b[1;33m                              % (self.n_features_, n_features))\n\u001b[0m\u001b[0;32m    392\u001b[0m \u001b[1;33m\u001b[0m\u001b[0m\n\u001b[0;32m    393\u001b[0m         \u001b[1;32mreturn\u001b[0m \u001b[0mX\u001b[0m\u001b[1;33m\u001b[0m\u001b[1;33m\u001b[0m\u001b[0m\n",
      "\u001b[1;31mValueError\u001b[0m: Number of features of the model must match the input. Model n_features is 46 and input n_features is 36 "
     ]
    }
   ],
   "source": [
    "X_train, X_test, y_train, y_test = train_test_split(X_2,y_2, test_size=TEST_SIZE, random_state = RANDOM_SEED)\n",
    "\n",
    "gbrt_2 = GradientBoostingRegressor(max_depth=15, n_estimators=100, \n",
    "                                 min_samples_leaf = 2, learning_rate=0.1,random_state = RANDOM_SEED,\n",
    "                                 verbose =0)\n",
    "gbrt_2.fit(X_train,y_train)\n",
    "y_pred_2 = gbrt_2.predict(X_test)\n",
    "print('MAE:', metrics.mean_absolute_error(y_test, y_pred_2))\n",
    "print('RMSE:', np.sqrt(metrics.mean_squared_error(y_test, y_pred_2)))\n",
    "print('R2-score', metrics.r2_score(y_test, y_pred_2))"
   ]
  },
  {
   "cell_type": "code",
   "execution_count": 15,
   "metadata": {},
   "outputs": [
    {
     "name": "stdout",
     "output_type": "stream",
     "text": [
      "MAE: 82344.98813989568\n",
      "RMSE: 742028.4353542759\n",
      "R2-score 0.8429965515628661\n"
     ]
    }
   ],
   "source": [
    "y_pred_2 = gbrt_2.predict(X_test)\n",
    "print('MAE:', metrics.mean_absolute_error(y_test, y_pred_2))\n",
    "print('RMSE:', np.sqrt(metrics.mean_squared_error(y_test, y_pred_2)))\n",
    "print('R2-score', metrics.r2_score(y_test, y_pred_2))"
   ]
  },
  {
   "cell_type": "code",
   "execution_count": 16,
   "metadata": {},
   "outputs": [
    {
     "data": {
      "text/plain": [
       "<matplotlib.axes._subplots.AxesSubplot at 0x16201da3bc8>"
      ]
     },
     "execution_count": 16,
     "metadata": {},
     "output_type": "execute_result"
    },
    {
     "data": {
      "image/png": "[encoded data removed]",
      "text/plain": [
       "<Figure size 720x360 with 1 Axes>"
      ]
     },
     "metadata": {
      "needs_background": "light"
     },
     "output_type": "display_data"
    }
   ],
   "source": [
    "#посмотрим, какие колонки вносят больший вклад\n",
    "plt.rcParams['figure.figsize'] = (10,5)\n",
    "feat_importances = pd.Series(gbrt_2.feature_importances_, index=X_2.columns)\n",
    "feat_importances.nlargest(20).plot(kind='barh')"
   ]
  },
  {
   "cell_type": "markdown",
   "metadata": {},
   "source": [
    "## Вывод\n",
    "Наилучший результат дает алгоритм Градиентного бустинга на сокращенном датасете. Его и будем использовать для прототипа"
   ]
  },
  {
   "cell_type": "code",
   "execution_count": 28,
   "metadata": {},
   "outputs": [],
   "source": [
    "model = pickle.dumps(gbrt_2)\n",
    "with open('model.pkl', 'wb') as f:\n",
    "    pickle.dump(gbrt_2, f)"
   ]
  },
  {
   "cell_type": "markdown",
   "metadata": {},
   "source": [
    "# Voting"
   ]
  },
  {
   "cell_type": "code",
   "execution_count": 35,
   "metadata": {},
   "outputs": [
    {
     "name": "stderr",
     "output_type": "stream",
     "text": [
      "[Parallel(n_jobs=-1)]: Using backend LokyBackend with 8 concurrent workers.\n",
      "[Parallel(n_jobs=-1)]: Done  34 tasks      | elapsed:  2.4min\n",
      "[Parallel(n_jobs=-1)]: Done 100 out of 100 | elapsed:  6.1min finished\n",
      "[Parallel(n_jobs=8)]: Using backend ThreadingBackend with 8 concurrent workers.\n",
      "[Parallel(n_jobs=8)]: Done  34 tasks      | elapsed:    0.5s\n"
     ]
    },
    {
     "name": "stdout",
     "output_type": "stream",
     "text": [
      "MAE: 103573.50763276432\n",
      "RMSE: 750516.1878318249\n",
      "R2-score 0.8393842156795602\n"
     ]
    },
    {
     "name": "stderr",
     "output_type": "stream",
     "text": [
      "[Parallel(n_jobs=8)]: Done 100 out of 100 | elapsed:    1.5s finished\n"
     ]
    }
   ],
   "source": [
    "from sklearn.ensemble import VotingRegressor\n",
    "\n",
    "X_train, X_test, y_train, y_test = train_test_split(X_2,y_2, test_size=TEST_SIZE, random_state = RANDOM_SEED)\n",
    "\n",
    "reg1 = GradientBoostingRegressor(max_depth=15, n_estimators=100, \n",
    "                                 min_samples_leaf = 2, learning_rate=0.1,random_state = RANDOM_SEED,\n",
    "                                 verbose =0)\n",
    "reg2 = RandomForestRegressor(n_estimators=100, verbose=1, n_jobs=-1, random_state=RANDOM_SEED)\n",
    "reg3 = LinearRegression()\n",
    "ereg = VotingRegressor(estimators=[('gb', reg1), ('rf', reg2), ('lr', reg3)])\n",
    "ereg = ereg.fit(X_train, y_train)\n",
    "\n",
    "y_pred = ereg.predict(X_test)\n",
    "\n",
    "print('MAE:', metrics.mean_absolute_error(y_test, y_pred))\n",
    "print('RMSE:', np.sqrt(metrics.mean_squared_error(y_test, y_pred)))\n",
    "print('R2-score', metrics.r2_score(y_test, y_pred))"
   ]
  },
  {
   "cell_type": "code",
   "execution_count": 30,
   "metadata": {},
   "outputs": [
    {
     "data": {
      "text/plain": [
       "Index(['new_id', 'Remodeled', 'mean_dist', '9', 'schools_count', 'min_dist',\n",
       "       'prop_type', '7', 'beds_square', 'Parking', 'sqft', 'zipcode_int', '6',\n",
       "       '5', 'Cooling', 'beds_count', 'pool', 'lot', 'state_encoding',\n",
       "       'baths_count', 'K', 'average_rate_school', 'city_hash', 'max_dist',\n",
       "       'street_hash', 'price_sqft', 'stories_count', 'Year', 'PK', 'price_lot',\n",
       "       '12', 'max_rate', 'address_hash', 'price', 'state_mean', '8'],\n",
       "      dtype='object')"
      ]
     },
     "execution_count": 30,
     "metadata": {},
     "output_type": "execute_result"
    }
   ],
   "source": [
    "X_2.columns"
   ]
  },
  {
   "cell_type": "code",
   "execution_count": null,
   "metadata": {},
   "outputs": [],
   "source": []
  }
 ],
 "metadata": {
  "kernelspec": {
   "display_name": "Python 3",
   "language": "python",
   "name": "python3"
  },
  "language_info": {
   "codemirror_mode": {
    "name": "ipython",
    "version": 3
   },
   "file_extension": ".py",
   "mimetype": "text/x-python",
   "name": "python",
   "nbconvert_exporter": "python",
   "pygments_lexer": "ipython3",
   "version": "3.7.6"
  }
 },
 "nbformat": 4,
 "nbformat_minor": 4
}
