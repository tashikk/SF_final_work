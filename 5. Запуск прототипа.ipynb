{
 "cells": [
  {
   "cell_type": "markdown",
   "metadata": {},
   "source": [
    "# Обращение к серверу"
   ]
  },
  {
   "cell_type": "code",
   "execution_count": 2,
   "metadata": {},
   "outputs": [],
   "source": [
    "import requests\n",
    "import pandas as pd"
   ]
  },
  {
   "cell_type": "markdown",
   "metadata": {},
   "source": [
    "Для проверки кода можно использовать какие-либо данные из исходного датасета"
   ]
  },
  {
   "cell_type": "code",
   "execution_count": 4,
   "metadata": {},
   "outputs": [],
   "source": [
    "#загружаем данные \n",
    "data_source = pd.read_csv('data.csv')\n",
    "#На вход у нас строка с данными\n",
    "stroka = data_source[data_source['target'].isna()].iloc[0]"
   ]
  },
  {
   "cell_type": "markdown",
   "metadata": {},
   "source": [
    "Для проверки в боевых условиях имитируем вариант, когда где-то на сайте вбили данные и мы передаем их в виде словаря в наш сервер\n"
   ]
  },
  {
   "cell_type": "code",
   "execution_count": 12,
   "metadata": {},
   "outputs": [],
   "source": [
    "stroka_dict = {\n",
    "    'status': 'NaN',\n",
    "    'private pool': 'NaN',\n",
    "    'propertyType': 'Single Family',\n",
    "    'street':'7353 Boysenberry Ct',\n",
    "    'baths':'2.0',\n",
    "    'homeFacts': \"{'atAGlanceFacts': [{'factValue': '1983', 'factLabel': 'Year built'}, {'factValue': '1983', 'factLabel': 'Remodeled year'}, {'factValue': 'Forced air', 'factLabel': 'Heating'}, {'factValue': 'Central', 'factLabel': 'Cooling'}, {'factValue': 'No Data', 'factLabel': 'Parking'}, {'factValue': '0.29 acres', 'factLabel': 'lotsize'}, {'factValue': 'None', 'factLabel': 'Price/sqft'}]}\",\n",
    "    'fireplace':'Yes',\n",
    "    'city':'Jacksonville',\n",
    "    'schools':\"[{'rating': ['7/10', '2/10', '4/10'], 'data': {'Distance': ['2.2 mi', '3.8 mi', '3.2 mi'], 'Grades': ['K-5', '6-8', '9-12']}, 'name': ['Chimney Lakes Elementary School', 'Jefferson Davis Middle School', 'Westside High School']}]\",\n",
    "    'sqft':'1,446 sqft',\n",
    "    'zipcode':'32244',\n",
    "    'beds':'3',\n",
    "    'state':'FL',\n",
    "    'stories':'1',\n",
    "    'mls-id':'NaN',\n",
    "    'PrivatePool':'NaN',\n",
    "    'MlsId':'NaN',\n",
    "    'target':'NaN'\n",
    "    }"
   ]
  },
  {
   "cell_type": "code",
   "execution_count": 13,
   "metadata": {},
   "outputs": [
    {
     "data": {
      "text/plain": [
       "'Ориентировочная стоимость дома: $162663.8533673186 '"
      ]
     },
     "execution_count": 13,
     "metadata": {},
     "output_type": "execute_result"
    }
   ],
   "source": [
    "if __name__ == '__main__':\n",
    "    r = requests.post('http://localhost:5000/predict', json = stroka_dict)\n",
    "r.text"
   ]
  },
  {
   "cell_type": "code",
   "execution_count": null,
   "metadata": {},
   "outputs": [],
   "source": []
  }
 ],
 "metadata": {
  "kernelspec": {
   "display_name": "Python 3",
   "language": "python",
   "name": "python3"
  },
  "language_info": {
   "codemirror_mode": {
    "name": "ipython",
    "version": 3
   },
   "file_extension": ".py",
   "mimetype": "text/x-python",
   "name": "python",
   "nbconvert_exporter": "python",
   "pygments_lexer": "ipython3",
   "version": "3.7.6"
  }
 },
 "nbformat": 4,
 "nbformat_minor": 4
}
