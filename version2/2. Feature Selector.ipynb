{
 "cells": [
  {
   "cell_type": "markdown",
   "metadata": {},
   "source": [
    "# Анализ полученных фич\n",
    "\n",
    "с использованием модуля feature_selector\n",
    "https://proglib.io/p/feature-selector/"
   ]
  },
  {
   "cell_type": "code",
   "execution_count": 17,
   "metadata": {},
   "outputs": [],
   "source": [
    "from feature_selector import FeatureSelector\n",
    "import pandas as pd"
   ]
  },
  {
   "cell_type": "code",
   "execution_count": 18,
   "metadata": {},
   "outputs": [],
   "source": [
    "#загружаем датасет\n",
    "data = pd.read_csv('data4ml_6_cities.csv')\n",
    "data_source = pd.read_csv('data.csv')"
   ]
  },
  {
   "cell_type": "code",
   "execution_count": 19,
   "metadata": {},
   "outputs": [],
   "source": [
    "columns = list(set(data.columns) - set(['target']))\n",
    "X = data[columns]\n",
    "y = data['target']\n",
    "\n",
    "columns_source = list(set(data_source.columns) - set(['target']))\n",
    "X_source = data_source[columns_source]\n",
    "y_source = data_source['target']"
   ]
  },
  {
   "cell_type": "code",
   "execution_count": 20,
   "metadata": {},
   "outputs": [],
   "source": [
    "# Признаки - в train, метки - в train_labels\n",
    "fs = FeatureSelector(data = X, labels = y)\n",
    "fs_source = FeatureSelector(data = X_source, labels = y_source)"
   ]
  },
  {
   "cell_type": "markdown",
   "metadata": {},
   "source": [
    "## Пропущенные значения"
   ]
  },
  {
   "cell_type": "code",
   "execution_count": 21,
   "metadata": {},
   "outputs": [
    {
     "name": "stdout",
     "output_type": "stream",
     "text": [
      "Обработанный датасет\n",
      "0 features with greater than 0.60 missing values.\n",
      "\n",
      "Исходный датасет\n",
      "4 features with greater than 0.60 missing values.\n",
      "\n"
     ]
    }
   ],
   "source": [
    "print('Обработанный датасет')\n",
    "fs.identify_missing(missing_threshold = 0.6)\n",
    "print('Исходный датасет')\n",
    "fs_source.identify_missing(missing_threshold = 0.6)"
   ]
  },
  {
   "cell_type": "code",
   "execution_count": 22,
   "metadata": {},
   "outputs": [
    {
     "data": {
      "text/html": [
       "<div>\n",
       "<style scoped>\n",
       "    .dataframe tbody tr th:only-of-type {\n",
       "        vertical-align: middle;\n",
       "    }\n",
       "\n",
       "    .dataframe tbody tr th {\n",
       "        vertical-align: top;\n",
       "    }\n",
       "\n",
       "    .dataframe thead th {\n",
       "        text-align: right;\n",
       "    }\n",
       "</style>\n",
       "<table border=\"1\" class=\"dataframe\">\n",
       "  <thead>\n",
       "    <tr style=\"text-align: right;\">\n",
       "      <th></th>\n",
       "      <th>missing_fraction</th>\n",
       "    </tr>\n",
       "  </thead>\n",
       "  <tbody>\n",
       "    <tr>\n",
       "      <th>private pool</th>\n",
       "      <td>0.988799</td>\n",
       "    </tr>\n",
       "    <tr>\n",
       "      <th>mls-id</th>\n",
       "      <td>0.933069</td>\n",
       "    </tr>\n",
       "    <tr>\n",
       "      <th>PrivatePool</th>\n",
       "      <td>0.892454</td>\n",
       "    </tr>\n",
       "    <tr>\n",
       "      <th>fireplace</th>\n",
       "      <td>0.726476</td>\n",
       "    </tr>\n",
       "  </tbody>\n",
       "</table>\n",
       "</div>"
      ],
      "text/plain": [
       "              missing_fraction\n",
       "private pool          0.988799\n",
       "mls-id                0.933069\n",
       "PrivatePool           0.892454\n",
       "fireplace             0.726476"
      ]
     },
     "execution_count": 22,
     "metadata": {},
     "output_type": "execute_result"
    }
   ],
   "source": [
    "#посмотрим, в каких столбцах исходного датасета много пропущенных значений\n",
    "fs_source.missing_stats.head(4)"
   ]
  },
  {
   "cell_type": "markdown",
   "metadata": {},
   "source": [
    "### Вывод\n",
    "Удалять данные столбцы не нужно, так как в них пропущенные значения говорят о том, что эта характеристика отсутствует в доме.\n",
    "Все пропущенные значения обработаны"
   ]
  },
  {
   "cell_type": "markdown",
   "metadata": {},
   "source": [
    "## Коллинеарные признаки"
   ]
  },
  {
   "cell_type": "code",
   "execution_count": 23,
   "metadata": {},
   "outputs": [
    {
     "name": "stdout",
     "output_type": "stream",
     "text": [
      "Обработанный датасет\n",
      "12 features with a correlation magnitude greater than 0.98.\n",
      "\n",
      "Исходный датасет\n",
      "0 features with a correlation magnitude greater than 0.98.\n",
      "\n"
     ]
    }
   ],
   "source": [
    "print('Обработанный датасет')\n",
    "fs.identify_collinear(correlation_threshold = 0.98)\n",
    "print('Исходный датасет')\n",
    "fs_source.identify_collinear(correlation_threshold = 0.98)"
   ]
  },
  {
   "cell_type": "code",
   "execution_count": 24,
   "metadata": {},
   "outputs": [
    {
     "data": {
      "image/png": "[encoded data removed]",
      "text/plain": [
       "<Figure size 720x576 with 2 Axes>"
      ]
     },
     "metadata": {
      "needs_background": "light"
     },
     "output_type": "display_data"
    }
   ],
   "source": [
    "#Посмотрим на то, какие же признаки в обработанном датасете слишком взаимосвязаны\n",
    "fs.plot_collinear()"
   ]
  },
  {
   "cell_type": "markdown",
   "metadata": {},
   "source": [
    "### Вывод\n",
    "В исходном датасете определить взаимосвязь признаков нельзя, так как они представляют собой не числовые данные\n",
    "В обработанном датасете получились сильно взаимосвязаны данные по классам школ, что логично, так как школы все-таки содержат в себе несколько классов обучения.\n",
    "Удалять столбцы не будем."
   ]
  },
  {
   "cell_type": "markdown",
   "metadata": {},
   "source": [
    "## Признаки с нулевой важностью"
   ]
  },
  {
   "cell_type": "code",
   "execution_count": 25,
   "metadata": {},
   "outputs": [
    {
     "name": "stdout",
     "output_type": "stream",
     "text": [
      "Training Gradient Boosting Model\n",
      "\n",
      "\n",
      "0 features with zero importance after one-hot encoding.\n",
      "\n"
     ]
    }
   ],
   "source": [
    "fs.identify_zero_importance(task = 'regression', \n",
    "                            eval_metric = 'l2', \n",
    "                            n_iterations = 10, \n",
    "                            early_stopping = False)\n",
    "\n",
    "zero_importance_features = fs.ops['zero_importance']"
   ]
  },
  {
   "cell_type": "code",
   "execution_count": 26,
   "metadata": {},
   "outputs": [
    {
     "data": {
      "text/plain": [
       "[]"
      ]
     },
     "execution_count": 26,
     "metadata": {},
     "output_type": "execute_result"
    }
   ],
   "source": [
    "zero_importance_features"
   ]
  },
  {
   "cell_type": "markdown",
   "metadata": {},
   "source": [
    "## Признаки с низкой важностью"
   ]
  },
  {
   "cell_type": "code",
   "execution_count": 27,
   "metadata": {},
   "outputs": [
    {
     "name": "stdout",
     "output_type": "stream",
     "text": [
      "43 features required for cumulative importance of 0.99 after one hot encoding.\n",
      "13 features do not contribute to cumulative importance of 0.99.\n",
      "\n"
     ]
    }
   ],
   "source": [
    "fs.identify_low_importance(cumulative_importance = 0.99)"
   ]
  },
  {
   "cell_type": "code",
   "execution_count": 28,
   "metadata": {},
   "outputs": [
    {
     "data": {
      "text/html": [
       "<div>\n",
       "<style scoped>\n",
       "    .dataframe tbody tr th:only-of-type {\n",
       "        vertical-align: middle;\n",
       "    }\n",
       "\n",
       "    .dataframe tbody tr th {\n",
       "        vertical-align: top;\n",
       "    }\n",
       "\n",
       "    .dataframe thead th {\n",
       "        text-align: right;\n",
       "    }\n",
       "</style>\n",
       "<table border=\"1\" class=\"dataframe\">\n",
       "  <thead>\n",
       "    <tr style=\"text-align: right;\">\n",
       "      <th></th>\n",
       "      <th>feature</th>\n",
       "      <th>importance</th>\n",
       "      <th>normalized_importance</th>\n",
       "      <th>cumulative_importance</th>\n",
       "    </tr>\n",
       "  </thead>\n",
       "  <tbody>\n",
       "    <tr>\n",
       "      <th>45</th>\n",
       "      <td>rent_sale</td>\n",
       "      <td>45.0</td>\n",
       "      <td>0.001500</td>\n",
       "      <td>0.993900</td>\n",
       "    </tr>\n",
       "    <tr>\n",
       "      <th>46</th>\n",
       "      <td>4</td>\n",
       "      <td>34.0</td>\n",
       "      <td>0.001133</td>\n",
       "      <td>0.995033</td>\n",
       "    </tr>\n",
       "    <tr>\n",
       "      <th>47</th>\n",
       "      <td>Heating</td>\n",
       "      <td>30.0</td>\n",
       "      <td>0.001000</td>\n",
       "      <td>0.996033</td>\n",
       "    </tr>\n",
       "    <tr>\n",
       "      <th>48</th>\n",
       "      <td>11</td>\n",
       "      <td>26.0</td>\n",
       "      <td>0.000867</td>\n",
       "      <td>0.996900</td>\n",
       "    </tr>\n",
       "    <tr>\n",
       "      <th>49</th>\n",
       "      <td>1</td>\n",
       "      <td>25.0</td>\n",
       "      <td>0.000833</td>\n",
       "      <td>0.997733</td>\n",
       "    </tr>\n",
       "    <tr>\n",
       "      <th>50</th>\n",
       "      <td>POPULATION</td>\n",
       "      <td>23.0</td>\n",
       "      <td>0.000767</td>\n",
       "      <td>0.998500</td>\n",
       "    </tr>\n",
       "    <tr>\n",
       "      <th>51</th>\n",
       "      <td>10</td>\n",
       "      <td>10.0</td>\n",
       "      <td>0.000333</td>\n",
       "      <td>0.998833</td>\n",
       "    </tr>\n",
       "    <tr>\n",
       "      <th>52</th>\n",
       "      <td>fp_count</td>\n",
       "      <td>10.0</td>\n",
       "      <td>0.000333</td>\n",
       "      <td>0.999167</td>\n",
       "    </tr>\n",
       "    <tr>\n",
       "      <th>53</th>\n",
       "      <td>MALES</td>\n",
       "      <td>9.0</td>\n",
       "      <td>0.000300</td>\n",
       "      <td>0.999467</td>\n",
       "    </tr>\n",
       "    <tr>\n",
       "      <th>54</th>\n",
       "      <td>2</td>\n",
       "      <td>9.0</td>\n",
       "      <td>0.000300</td>\n",
       "      <td>0.999767</td>\n",
       "    </tr>\n",
       "    <tr>\n",
       "      <th>55</th>\n",
       "      <td>CAPITAL</td>\n",
       "      <td>7.0</td>\n",
       "      <td>0.000233</td>\n",
       "      <td>1.000000</td>\n",
       "    </tr>\n",
       "  </tbody>\n",
       "</table>\n",
       "</div>"
      ],
      "text/plain": [
       "       feature  importance  normalized_importance  cumulative_importance\n",
       "45   rent_sale        45.0               0.001500               0.993900\n",
       "46           4        34.0               0.001133               0.995033\n",
       "47     Heating        30.0               0.001000               0.996033\n",
       "48          11        26.0               0.000867               0.996900\n",
       "49           1        25.0               0.000833               0.997733\n",
       "50  POPULATION        23.0               0.000767               0.998500\n",
       "51          10        10.0               0.000333               0.998833\n",
       "52    fp_count        10.0               0.000333               0.999167\n",
       "53       MALES         9.0               0.000300               0.999467\n",
       "54           2         9.0               0.000300               0.999767\n",
       "55     CAPITAL         7.0               0.000233               1.000000"
      ]
     },
     "execution_count": 28,
     "metadata": {},
     "output_type": "execute_result"
    }
   ],
   "source": [
    "#эти признаки предлагается удалить (10 штук)\n",
    "fs.feature_importances.tail(11)"
   ]
  },
  {
   "cell_type": "code",
   "execution_count": 29,
   "metadata": {},
   "outputs": [
    {
     "name": "stdout",
     "output_type": "stream",
     "text": [
      "Removed 13 features.\n"
     ]
    }
   ],
   "source": [
    "#удалим признаки и сохраним новый датасет в отдельный файл\n",
    "train_removed = fs.remove(methods = ['low_importance'])\n",
    "train_removed['target'] = y"
   ]
  },
  {
   "cell_type": "code",
   "execution_count": 30,
   "metadata": {},
   "outputs": [],
   "source": [
    "train_removed.to_csv('data4ml_5.csv', encoding='utf-8', index=False)"
   ]
  },
  {
   "cell_type": "code",
   "execution_count": 31,
   "metadata": {},
   "outputs": [
    {
     "name": "stdout",
     "output_type": "stream",
     "text": [
      "<class 'pandas.core.frame.DataFrame'>\n",
      "RangeIndex: 374333 entries, 0 to 374332\n",
      "Data columns (total 44 columns):\n",
      " #   Column               Non-Null Count   Dtype  \n",
      "---  ------               --------------   -----  \n",
      " 0   7                    374333 non-null  float64\n",
      " 1   mal_femal            324802 non-null  float64\n",
      " 2   pool                 374333 non-null  int64  \n",
      " 3   8                    374333 non-null  float64\n",
      " 4   street_hash          374333 non-null  int64  \n",
      " 5   min_dist             374333 non-null  float64\n",
      " 6   zipcode_int          374333 non-null  int64  \n",
      " 7   9                    374333 non-null  float64\n",
      " 8   vacant_units         324802 non-null  float64\n",
      " 9   12                   374333 non-null  float64\n",
      " 10  Cooling              374333 non-null  int64  \n",
      " 11  VACANT               374333 non-null  float64\n",
      " 12  price                374333 non-null  int64  \n",
      " 13  Remodeled            374333 non-null  int64  \n",
      " 14  PK                   374333 non-null  float64\n",
      " 15  beds_square          374333 non-null  float64\n",
      " 16  max_rate             374333 non-null  float64\n",
      " 17  stories_count        374333 non-null  float64\n",
      " 18  3                    374333 non-null  float64\n",
      " 19  average_rate_school  374333 non-null  float64\n",
      " 20  state_encoding       374333 non-null  int64  \n",
      " 21  HSE_UNITS            374333 non-null  float64\n",
      " 22  lot                  374333 non-null  float64\n",
      " 23  Year                 374333 non-null  int64  \n",
      " 24  max_dist             374333 non-null  float64\n",
      " 25  schools_count        374333 non-null  float64\n",
      " 26  OWNER_OCC            374333 non-null  float64\n",
      " 27  sqft_lot             374333 non-null  float64\n",
      " 28  5                    374333 non-null  float64\n",
      " 29  address_hash         374333 non-null  int64  \n",
      " 30  FEMALES              374333 non-null  float64\n",
      " 31  state_mean           374333 non-null  float64\n",
      " 32  mal_vacant           324802 non-null  float64\n",
      " 33  city_hash            374333 non-null  int64  \n",
      " 34  baths_count          374333 non-null  float64\n",
      " 35  mean_dist            374333 non-null  float64\n",
      " 36  K                    374333 non-null  float64\n",
      " 37  beds_count           374333 non-null  int64  \n",
      " 38  mal_pop              324802 non-null  float64\n",
      " 39  prop_type            374333 non-null  int64  \n",
      " 40  6                    374333 non-null  float64\n",
      " 41  sqft                 374333 non-null  int64  \n",
      " 42  new_id               374333 non-null  int64  \n",
      " 43  target               374333 non-null  int64  \n",
      "dtypes: float64(29), int64(15)\n",
      "memory usage: 125.7 MB\n"
     ]
    }
   ],
   "source": [
    "train_removed.info()"
   ]
  },
  {
   "cell_type": "code",
   "execution_count": null,
   "metadata": {},
   "outputs": [],
   "source": []
  }
 ],
 "metadata": {
  "kernelspec": {
   "display_name": "Python 3",
   "language": "python",
   "name": "python3"
  },
  "language_info": {
   "codemirror_mode": {
    "name": "ipython",
    "version": 3
   },
   "file_extension": ".py",
   "mimetype": "text/x-python",
   "name": "python",
   "nbconvert_exporter": "python",
   "pygments_lexer": "ipython3",
   "version": "3.7.6"
  }
 },
 "nbformat": 4,
 "nbformat_minor": 4
}
