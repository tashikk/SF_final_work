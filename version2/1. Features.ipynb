{
 "cells": [
  {
   "cell_type": "markdown",
   "metadata": {},
   "source": [
    "# ЗАДАЧА\n",
    "\n",
    "К вам обратился представитель крупного агентства недвижимости со следующей проблемой:\n",
    "\n",
    "Мои риелторы тратят катастрофически много времени на сортировку объявлений и поиск выгодных предложений. Поэтому их скорость реакции, да и, сказать по правде, качество анализа не дотягивает до уровня конкурентов. А это сказывается на наших финансовых показателях. Твоя задача — разработать модель, которая бы позволила обойти конкурентов по скорости и качеству совершения сделок. Датасет прикладываю.\n",
    "\n",
    "## НУЖНО\n",
    "разработать сервис, который будет предсказывать стоимость домов, основываясь на истории предложений.  "
   ]
  },
  {
   "cell_type": "code",
   "execution_count": 1,
   "metadata": {},
   "outputs": [],
   "source": [
    "#импорт всех необходимых библиотек\n",
    "import pandas as pd\n",
    "import numpy as np\n",
    "import matplotlib.pyplot as plt\n",
    "import re \n",
    "from statistics import mean\n",
    "import pickle"
   ]
  },
  {
   "cell_type": "code",
   "execution_count": 2,
   "metadata": {},
   "outputs": [],
   "source": [
    "#настройки\n",
    "%matplotlib inline\n",
    "pd.options.display.max_columns = 30"
   ]
  },
  {
   "cell_type": "code",
   "execution_count": 3,
   "metadata": {},
   "outputs": [],
   "source": [
    "#загружаем данные и делаем копию датасета, чтобы работать с копией\n",
    "data_source = pd.read_csv('data.csv')"
   ]
  },
  {
   "cell_type": "code",
   "execution_count": 4,
   "metadata": {},
   "outputs": [],
   "source": [
    "#подгружаем данные по городам\n",
    "data_cities = pd.read_csv('USA_Major_Cities.csv')"
   ]
  },
  {
   "cell_type": "markdown",
   "metadata": {},
   "source": [
    "# 0. Посмотрим на данные о городах"
   ]
  },
  {
   "cell_type": "code",
   "execution_count": 5,
   "metadata": {},
   "outputs": [
    {
     "data": {
      "text/html": [
       "<div>\n",
       "<style scoped>\n",
       "    .dataframe tbody tr th:only-of-type {\n",
       "        vertical-align: middle;\n",
       "    }\n",
       "\n",
       "    .dataframe tbody tr th {\n",
       "        vertical-align: top;\n",
       "    }\n",
       "\n",
       "    .dataframe thead th {\n",
       "        text-align: right;\n",
       "    }\n",
       "</style>\n",
       "<table border=\"1\" class=\"dataframe\">\n",
       "  <thead>\n",
       "    <tr style=\"text-align: right;\">\n",
       "      <th></th>\n",
       "      <th>FID</th>\n",
       "      <th>NAME</th>\n",
       "      <th>CLASS</th>\n",
       "      <th>ST</th>\n",
       "      <th>STFIPS</th>\n",
       "      <th>PLACEFIPS</th>\n",
       "      <th>CAPITAL</th>\n",
       "      <th>POP_CLASS</th>\n",
       "      <th>POPULATION</th>\n",
       "      <th>POP2010</th>\n",
       "      <th>WHITE</th>\n",
       "      <th>BLACK</th>\n",
       "      <th>AMERI_ES</th>\n",
       "      <th>ASIAN</th>\n",
       "      <th>HAWN_PI</th>\n",
       "      <th>...</th>\n",
       "      <th>MED_AGE_F</th>\n",
       "      <th>HOUSEHOLDS</th>\n",
       "      <th>AVE_HH_SZ</th>\n",
       "      <th>HSEHLD_1_M</th>\n",
       "      <th>HSEHLD_1_F</th>\n",
       "      <th>MARHH_CHD</th>\n",
       "      <th>MARHH_NO_C</th>\n",
       "      <th>MHH_CHILD</th>\n",
       "      <th>FHH_CHILD</th>\n",
       "      <th>FAMILIES</th>\n",
       "      <th>AVE_FAM_SZ</th>\n",
       "      <th>HSE_UNITS</th>\n",
       "      <th>VACANT</th>\n",
       "      <th>OWNER_OCC</th>\n",
       "      <th>RENTER_OCC</th>\n",
       "    </tr>\n",
       "  </thead>\n",
       "  <tbody>\n",
       "    <tr>\n",
       "      <th>0</th>\n",
       "      <td>1</td>\n",
       "      <td>Ammon</td>\n",
       "      <td>city</td>\n",
       "      <td>ID</td>\n",
       "      <td>16</td>\n",
       "      <td>1601990</td>\n",
       "      <td></td>\n",
       "      <td>6</td>\n",
       "      <td>15181</td>\n",
       "      <td>13816</td>\n",
       "      <td>13002</td>\n",
       "      <td>73</td>\n",
       "      <td>67</td>\n",
       "      <td>113</td>\n",
       "      <td>9</td>\n",
       "      <td>...</td>\n",
       "      <td>30.8</td>\n",
       "      <td>4476</td>\n",
       "      <td>3.05</td>\n",
       "      <td>457</td>\n",
       "      <td>648</td>\n",
       "      <td>1618</td>\n",
       "      <td>1131</td>\n",
       "      <td>106</td>\n",
       "      <td>335</td>\n",
       "      <td>3352</td>\n",
       "      <td>3.61</td>\n",
       "      <td>4747</td>\n",
       "      <td>271</td>\n",
       "      <td>3205</td>\n",
       "      <td>1271</td>\n",
       "    </tr>\n",
       "    <tr>\n",
       "      <th>1</th>\n",
       "      <td>2</td>\n",
       "      <td>Blackfoot</td>\n",
       "      <td>city</td>\n",
       "      <td>ID</td>\n",
       "      <td>16</td>\n",
       "      <td>1607840</td>\n",
       "      <td></td>\n",
       "      <td>6</td>\n",
       "      <td>11946</td>\n",
       "      <td>11899</td>\n",
       "      <td>9893</td>\n",
       "      <td>40</td>\n",
       "      <td>418</td>\n",
       "      <td>125</td>\n",
       "      <td>18</td>\n",
       "      <td>...</td>\n",
       "      <td>32.1</td>\n",
       "      <td>4229</td>\n",
       "      <td>2.74</td>\n",
       "      <td>563</td>\n",
       "      <td>690</td>\n",
       "      <td>1091</td>\n",
       "      <td>1081</td>\n",
       "      <td>174</td>\n",
       "      <td>381</td>\n",
       "      <td>2958</td>\n",
       "      <td>3.31</td>\n",
       "      <td>4547</td>\n",
       "      <td>318</td>\n",
       "      <td>2788</td>\n",
       "      <td>1441</td>\n",
       "    </tr>\n",
       "    <tr>\n",
       "      <th>2</th>\n",
       "      <td>3</td>\n",
       "      <td>Boise City</td>\n",
       "      <td>city</td>\n",
       "      <td>ID</td>\n",
       "      <td>16</td>\n",
       "      <td>1608830</td>\n",
       "      <td>State</td>\n",
       "      <td>8</td>\n",
       "      <td>225405</td>\n",
       "      <td>205671</td>\n",
       "      <td>182991</td>\n",
       "      <td>3043</td>\n",
       "      <td>1404</td>\n",
       "      <td>6501</td>\n",
       "      <td>457</td>\n",
       "      <td>...</td>\n",
       "      <td>36.5</td>\n",
       "      <td>85704</td>\n",
       "      <td>2.36</td>\n",
       "      <td>16605</td>\n",
       "      <td>18104</td>\n",
       "      <td>16708</td>\n",
       "      <td>21233</td>\n",
       "      <td>2414</td>\n",
       "      <td>5919</td>\n",
       "      <td>50647</td>\n",
       "      <td>2.97</td>\n",
       "      <td>92700</td>\n",
       "      <td>6996</td>\n",
       "      <td>52345</td>\n",
       "      <td>33359</td>\n",
       "    </tr>\n",
       "    <tr>\n",
       "      <th>3</th>\n",
       "      <td>4</td>\n",
       "      <td>Burley</td>\n",
       "      <td>city</td>\n",
       "      <td>ID</td>\n",
       "      <td>16</td>\n",
       "      <td>1611260</td>\n",
       "      <td></td>\n",
       "      <td>6</td>\n",
       "      <td>10727</td>\n",
       "      <td>10345</td>\n",
       "      <td>7984</td>\n",
       "      <td>45</td>\n",
       "      <td>103</td>\n",
       "      <td>74</td>\n",
       "      <td>5</td>\n",
       "      <td>...</td>\n",
       "      <td>32.3</td>\n",
       "      <td>3644</td>\n",
       "      <td>2.76</td>\n",
       "      <td>498</td>\n",
       "      <td>634</td>\n",
       "      <td>950</td>\n",
       "      <td>861</td>\n",
       "      <td>139</td>\n",
       "      <td>358</td>\n",
       "      <td>2499</td>\n",
       "      <td>3.37</td>\n",
       "      <td>3885</td>\n",
       "      <td>241</td>\n",
       "      <td>2183</td>\n",
       "      <td>1461</td>\n",
       "    </tr>\n",
       "    <tr>\n",
       "      <th>4</th>\n",
       "      <td>5</td>\n",
       "      <td>Caldwell</td>\n",
       "      <td>city</td>\n",
       "      <td>ID</td>\n",
       "      <td>16</td>\n",
       "      <td>1612250</td>\n",
       "      <td></td>\n",
       "      <td>7</td>\n",
       "      <td>53942</td>\n",
       "      <td>46237</td>\n",
       "      <td>35856</td>\n",
       "      <td>300</td>\n",
       "      <td>539</td>\n",
       "      <td>406</td>\n",
       "      <td>41</td>\n",
       "      <td>...</td>\n",
       "      <td>28.9</td>\n",
       "      <td>14895</td>\n",
       "      <td>3.00</td>\n",
       "      <td>1795</td>\n",
       "      <td>2250</td>\n",
       "      <td>4407</td>\n",
       "      <td>3113</td>\n",
       "      <td>686</td>\n",
       "      <td>1755</td>\n",
       "      <td>10776</td>\n",
       "      <td>3.51</td>\n",
       "      <td>16323</td>\n",
       "      <td>1428</td>\n",
       "      <td>9699</td>\n",
       "      <td>5196</td>\n",
       "    </tr>\n",
       "  </tbody>\n",
       "</table>\n",
       "<p>5 rows × 49 columns</p>\n",
       "</div>"
      ],
      "text/plain": [
       "   FID        NAME CLASS  ST  STFIPS  PLACEFIPS CAPITAL  POP_CLASS  \\\n",
       "0    1       Ammon  city  ID      16    1601990                  6   \n",
       "1    2   Blackfoot  city  ID      16    1607840                  6   \n",
       "2    3  Boise City  city  ID      16    1608830   State          8   \n",
       "3    4      Burley  city  ID      16    1611260                  6   \n",
       "4    5    Caldwell  city  ID      16    1612250                  7   \n",
       "\n",
       "   POPULATION  POP2010   WHITE  BLACK  AMERI_ES  ASIAN  HAWN_PI  ...  \\\n",
       "0       15181    13816   13002     73        67    113        9  ...   \n",
       "1       11946    11899    9893     40       418    125       18  ...   \n",
       "2      225405   205671  182991   3043      1404   6501      457  ...   \n",
       "3       10727    10345    7984     45       103     74        5  ...   \n",
       "4       53942    46237   35856    300       539    406       41  ...   \n",
       "\n",
       "   MED_AGE_F  HOUSEHOLDS  AVE_HH_SZ  HSEHLD_1_M  HSEHLD_1_F  MARHH_CHD  \\\n",
       "0       30.8        4476       3.05         457         648       1618   \n",
       "1       32.1        4229       2.74         563         690       1091   \n",
       "2       36.5       85704       2.36       16605       18104      16708   \n",
       "3       32.3        3644       2.76         498         634        950   \n",
       "4       28.9       14895       3.00        1795        2250       4407   \n",
       "\n",
       "   MARHH_NO_C  MHH_CHILD  FHH_CHILD  FAMILIES  AVE_FAM_SZ  HSE_UNITS  VACANT  \\\n",
       "0        1131        106        335      3352        3.61       4747     271   \n",
       "1        1081        174        381      2958        3.31       4547     318   \n",
       "2       21233       2414       5919     50647        2.97      92700    6996   \n",
       "3         861        139        358      2499        3.37       3885     241   \n",
       "4        3113        686       1755     10776        3.51      16323    1428   \n",
       "\n",
       "   OWNER_OCC  RENTER_OCC  \n",
       "0       3205        1271  \n",
       "1       2788        1441  \n",
       "2      52345       33359  \n",
       "3       2183        1461  \n",
       "4       9699        5196  \n",
       "\n",
       "[5 rows x 49 columns]"
      ]
     },
     "execution_count": 5,
     "metadata": {},
     "output_type": "execute_result"
    }
   ],
   "source": [
    "data_cities.head()"
   ]
  },
  {
   "cell_type": "code",
   "execution_count": 6,
   "metadata": {},
   "outputs": [
    {
     "name": "stdout",
     "output_type": "stream",
     "text": [
      "<class 'pandas.core.frame.DataFrame'>\n",
      "RangeIndex: 3886 entries, 0 to 3885\n",
      "Data columns (total 49 columns):\n",
      " #   Column      Non-Null Count  Dtype  \n",
      "---  ------      --------------  -----  \n",
      " 0   FID         3886 non-null   int64  \n",
      " 1   NAME        3886 non-null   object \n",
      " 2   CLASS       3886 non-null   object \n",
      " 3   ST          3886 non-null   object \n",
      " 4   STFIPS      3886 non-null   int64  \n",
      " 5   PLACEFIPS   3886 non-null   int64  \n",
      " 6   CAPITAL     3886 non-null   object \n",
      " 7   POP_CLASS   3886 non-null   int64  \n",
      " 8   POPULATION  3886 non-null   int64  \n",
      " 9   POP2010     3886 non-null   int64  \n",
      " 10  WHITE       3886 non-null   int64  \n",
      " 11  BLACK       3886 non-null   int64  \n",
      " 12  AMERI_ES    3886 non-null   int64  \n",
      " 13  ASIAN       3886 non-null   int64  \n",
      " 14  HAWN_PI     3886 non-null   int64  \n",
      " 15  HISPANIC    3886 non-null   int64  \n",
      " 16  OTHER       3886 non-null   int64  \n",
      " 17  MULT_RACE   3886 non-null   int64  \n",
      " 18  MALES       3886 non-null   int64  \n",
      " 19  FEMALES     3886 non-null   int64  \n",
      " 20  AGE_UNDER5  3886 non-null   int64  \n",
      " 21  AGE_5_9     3886 non-null   int64  \n",
      " 22  AGE_10_14   3886 non-null   int64  \n",
      " 23  AGE_15_19   3886 non-null   int64  \n",
      " 24  AGE_20_24   3886 non-null   int64  \n",
      " 25  AGE_25_34   3886 non-null   int64  \n",
      " 26  AGE_35_44   3886 non-null   int64  \n",
      " 27  AGE_45_54   3886 non-null   int64  \n",
      " 28  AGE_55_64   3886 non-null   int64  \n",
      " 29  AGE_65_74   3886 non-null   int64  \n",
      " 30  AGE_75_84   3886 non-null   int64  \n",
      " 31  AGE_85_UP   3886 non-null   int64  \n",
      " 32  MED_AGE     3886 non-null   float64\n",
      " 33  MED_AGE_M   3886 non-null   float64\n",
      " 34  MED_AGE_F   3886 non-null   float64\n",
      " 35  HOUSEHOLDS  3886 non-null   int64  \n",
      " 36  AVE_HH_SZ   3886 non-null   float64\n",
      " 37  HSEHLD_1_M  3886 non-null   int64  \n",
      " 38  HSEHLD_1_F  3886 non-null   int64  \n",
      " 39  MARHH_CHD   3886 non-null   int64  \n",
      " 40  MARHH_NO_C  3886 non-null   int64  \n",
      " 41  MHH_CHILD   3886 non-null   int64  \n",
      " 42  FHH_CHILD   3886 non-null   int64  \n",
      " 43  FAMILIES    3886 non-null   int64  \n",
      " 44  AVE_FAM_SZ  3886 non-null   float64\n",
      " 45  HSE_UNITS   3886 non-null   int64  \n",
      " 46  VACANT      3886 non-null   int64  \n",
      " 47  OWNER_OCC   3886 non-null   int64  \n",
      " 48  RENTER_OCC  3886 non-null   int64  \n",
      "dtypes: float64(5), int64(40), object(4)\n",
      "memory usage: 1.5+ MB\n"
     ]
    }
   ],
   "source": [
    "data_cities.info()"
   ]
  },
  {
   "cell_type": "code",
   "execution_count": 7,
   "metadata": {},
   "outputs": [
    {
     "data": {
      "text/plain": [
       "array([' ', 'State', 'National'], dtype=object)"
      ]
     },
     "execution_count": 7,
     "metadata": {},
     "output_type": "execute_result"
    }
   ],
   "source": [
    "data_cities['CAPITAL'].unique()"
   ]
  },
  {
   "cell_type": "code",
   "execution_count": 8,
   "metadata": {},
   "outputs": [],
   "source": [
    "data_cities['NAME'] = data_cities['NAME'].apply(lambda x: x.lower())\n",
    "data_cities['CAPITAL'].fillna(0, inplace=True)\n",
    "data_cities['CAPITAL'] = data_cities['CAPITAL'].apply(lambda x: 0 if x==' ' else 1)\n",
    "data_source['city'] = data_source['city'].apply(lambda x: str(x).lower())"
   ]
  },
  {
   "cell_type": "code",
   "execution_count": 9,
   "metadata": {},
   "outputs": [],
   "source": [
    "data_new = data_source.merge(data_cities[['NAME', 'ST', 'CAPITAL', 'POPULATION', 'MALES', 'FEMALES', 'HSE_UNITS', 'VACANT', 'OWNER_OCC']], \n",
    "                      how = 'left', left_on = ['city', 'state'], right_on= ['NAME', 'ST'])"
   ]
  },
  {
   "cell_type": "code",
   "execution_count": 10,
   "metadata": {},
   "outputs": [
    {
     "data": {
      "text/html": [
       "<div>\n",
       "<style scoped>\n",
       "    .dataframe tbody tr th:only-of-type {\n",
       "        vertical-align: middle;\n",
       "    }\n",
       "\n",
       "    .dataframe tbody tr th {\n",
       "        vertical-align: top;\n",
       "    }\n",
       "\n",
       "    .dataframe thead th {\n",
       "        text-align: right;\n",
       "    }\n",
       "</style>\n",
       "<table border=\"1\" class=\"dataframe\">\n",
       "  <thead>\n",
       "    <tr style=\"text-align: right;\">\n",
       "      <th></th>\n",
       "      <th>status</th>\n",
       "      <th>private pool</th>\n",
       "      <th>propertyType</th>\n",
       "      <th>street</th>\n",
       "      <th>baths</th>\n",
       "      <th>homeFacts</th>\n",
       "      <th>fireplace</th>\n",
       "      <th>city</th>\n",
       "      <th>schools</th>\n",
       "      <th>sqft</th>\n",
       "      <th>zipcode</th>\n",
       "      <th>beds</th>\n",
       "      <th>state</th>\n",
       "      <th>stories</th>\n",
       "      <th>mls-id</th>\n",
       "      <th>PrivatePool</th>\n",
       "      <th>MlsId</th>\n",
       "      <th>target</th>\n",
       "      <th>NAME</th>\n",
       "      <th>ST</th>\n",
       "      <th>CAPITAL</th>\n",
       "      <th>POPULATION</th>\n",
       "      <th>MALES</th>\n",
       "      <th>FEMALES</th>\n",
       "      <th>HSE_UNITS</th>\n",
       "      <th>VACANT</th>\n",
       "      <th>OWNER_OCC</th>\n",
       "    </tr>\n",
       "  </thead>\n",
       "  <tbody>\n",
       "    <tr>\n",
       "      <th>0</th>\n",
       "      <td>Active</td>\n",
       "      <td>NaN</td>\n",
       "      <td>Two Story</td>\n",
       "      <td>7684 Foxcroft Ln</td>\n",
       "      <td>2,000</td>\n",
       "      <td>{'atAGlanceFacts': [{'factValue': '2009', 'fac...</td>\n",
       "      <td>NaN</td>\n",
       "      <td>davie</td>\n",
       "      <td>[{'rating': ['8', '6', '4'], 'data': {'Distanc...</td>\n",
       "      <td>1,696</td>\n",
       "      <td>33328</td>\n",
       "      <td>Baths</td>\n",
       "      <td>FL</td>\n",
       "      <td>NaN</td>\n",
       "      <td>NaN</td>\n",
       "      <td>NaN</td>\n",
       "      <td>A10756114</td>\n",
       "      <td>339900</td>\n",
       "      <td>davie</td>\n",
       "      <td>FL</td>\n",
       "      <td>0.0</td>\n",
       "      <td>100860.0</td>\n",
       "      <td>44562.0</td>\n",
       "      <td>47430.0</td>\n",
       "      <td>37306.0</td>\n",
       "      <td>2991.0</td>\n",
       "      <td>25287.0</td>\n",
       "    </tr>\n",
       "    <tr>\n",
       "      <th>1</th>\n",
       "      <td>for sale</td>\n",
       "      <td>NaN</td>\n",
       "      <td>single-family home</td>\n",
       "      <td>858 SW McCoy Ave</td>\n",
       "      <td>2 Baths</td>\n",
       "      <td>{'atAGlanceFacts': [{'factValue': '1991', 'fac...</td>\n",
       "      <td>NaN</td>\n",
       "      <td>port saint lucie</td>\n",
       "      <td>[{'rating': ['8/10', '5/10', '4/10', '3/10', '...</td>\n",
       "      <td>1,192 sqft</td>\n",
       "      <td>34953</td>\n",
       "      <td>3 Beds</td>\n",
       "      <td>FL</td>\n",
       "      <td>1.0</td>\n",
       "      <td>NaN</td>\n",
       "      <td>yes</td>\n",
       "      <td>RX-10574455</td>\n",
       "      <td>223000</td>\n",
       "      <td>NaN</td>\n",
       "      <td>NaN</td>\n",
       "      <td>NaN</td>\n",
       "      <td>NaN</td>\n",
       "      <td>NaN</td>\n",
       "      <td>NaN</td>\n",
       "      <td>NaN</td>\n",
       "      <td>NaN</td>\n",
       "      <td>NaN</td>\n",
       "    </tr>\n",
       "    <tr>\n",
       "      <th>2</th>\n",
       "      <td>for sale</td>\n",
       "      <td>NaN</td>\n",
       "      <td>lot/land</td>\n",
       "      <td>6083 La Jolla Scenic Dr S #S</td>\n",
       "      <td>NaN</td>\n",
       "      <td>{'atAGlanceFacts': [{'factValue': '', 'factLab...</td>\n",
       "      <td>NaN</td>\n",
       "      <td>la jolla</td>\n",
       "      <td>[{'rating': ['9/10', '9/10', '9/10'], 'data': ...</td>\n",
       "      <td>NaN</td>\n",
       "      <td>92037</td>\n",
       "      <td>NaN</td>\n",
       "      <td>CA</td>\n",
       "      <td>NaN</td>\n",
       "      <td>NaN</td>\n",
       "      <td>NaN</td>\n",
       "      <td>190052869</td>\n",
       "      <td>3195000</td>\n",
       "      <td>NaN</td>\n",
       "      <td>NaN</td>\n",
       "      <td>NaN</td>\n",
       "      <td>NaN</td>\n",
       "      <td>NaN</td>\n",
       "      <td>NaN</td>\n",
       "      <td>NaN</td>\n",
       "      <td>NaN</td>\n",
       "      <td>NaN</td>\n",
       "    </tr>\n",
       "    <tr>\n",
       "      <th>3</th>\n",
       "      <td>Active</td>\n",
       "      <td>NaN</td>\n",
       "      <td>Two Story, Spanish/Mediterranean</td>\n",
       "      <td>2643 SW 139 Ave</td>\n",
       "      <td>NaN</td>\n",
       "      <td>{'atAGlanceFacts': [{'factValue': '2006', 'fac...</td>\n",
       "      <td>NaN</td>\n",
       "      <td>miami</td>\n",
       "      <td>[{'rating': ['9', '10', 'NR', '6', '5'], 'data...</td>\n",
       "      <td>NaN</td>\n",
       "      <td>33175</td>\n",
       "      <td>NaN</td>\n",
       "      <td>FL</td>\n",
       "      <td>NaN</td>\n",
       "      <td>NaN</td>\n",
       "      <td>NaN</td>\n",
       "      <td>A10772260</td>\n",
       "      <td>715000</td>\n",
       "      <td>miami</td>\n",
       "      <td>FL</td>\n",
       "      <td>0.0</td>\n",
       "      <td>449517.0</td>\n",
       "      <td>198927.0</td>\n",
       "      <td>200530.0</td>\n",
       "      <td>183994.0</td>\n",
       "      <td>25677.0</td>\n",
       "      <td>51186.0</td>\n",
       "    </tr>\n",
       "    <tr>\n",
       "      <th>4</th>\n",
       "      <td>for sale</td>\n",
       "      <td>NaN</td>\n",
       "      <td>single-family home</td>\n",
       "      <td>612 Hawthorne St</td>\n",
       "      <td>4 Baths</td>\n",
       "      <td>{'atAGlanceFacts': [{'factValue': '2003', 'fac...</td>\n",
       "      <td>yes</td>\n",
       "      <td>houston</td>\n",
       "      <td>[{'rating': ['6/10', '5/10', '3/10'], 'data': ...</td>\n",
       "      <td>4,535 sqft</td>\n",
       "      <td>77006</td>\n",
       "      <td>3 Beds</td>\n",
       "      <td>TX</td>\n",
       "      <td>3.0</td>\n",
       "      <td>NaN</td>\n",
       "      <td>yes</td>\n",
       "      <td>49464471</td>\n",
       "      <td>1224500</td>\n",
       "      <td>houston</td>\n",
       "      <td>TX</td>\n",
       "      <td>0.0</td>\n",
       "      <td>2333285.0</td>\n",
       "      <td>1053517.0</td>\n",
       "      <td>1045934.0</td>\n",
       "      <td>892646.0</td>\n",
       "      <td>110003.0</td>\n",
       "      <td>355236.0</td>\n",
       "    </tr>\n",
       "  </tbody>\n",
       "</table>\n",
       "</div>"
      ],
      "text/plain": [
       "     status private pool                      propertyType  \\\n",
       "0    Active          NaN                         Two Story   \n",
       "1  for sale          NaN                single-family home   \n",
       "2  for sale          NaN                          lot/land   \n",
       "3    Active          NaN  Two Story, Spanish/Mediterranean   \n",
       "4  for sale          NaN                single-family home   \n",
       "\n",
       "                         street    baths  \\\n",
       "0             7684 Foxcroft Ln     2,000   \n",
       "1              858 SW McCoy Ave  2 Baths   \n",
       "2  6083 La Jolla Scenic Dr S #S      NaN   \n",
       "3              2643 SW 139 Ave       NaN   \n",
       "4              612 Hawthorne St  4 Baths   \n",
       "\n",
       "                                           homeFacts fireplace  \\\n",
       "0  {'atAGlanceFacts': [{'factValue': '2009', 'fac...       NaN   \n",
       "1  {'atAGlanceFacts': [{'factValue': '1991', 'fac...       NaN   \n",
       "2  {'atAGlanceFacts': [{'factValue': '', 'factLab...       NaN   \n",
       "3  {'atAGlanceFacts': [{'factValue': '2006', 'fac...       NaN   \n",
       "4  {'atAGlanceFacts': [{'factValue': '2003', 'fac...       yes   \n",
       "\n",
       "               city                                            schools  \\\n",
       "0             davie  [{'rating': ['8', '6', '4'], 'data': {'Distanc...   \n",
       "1  port saint lucie  [{'rating': ['8/10', '5/10', '4/10', '3/10', '...   \n",
       "2          la jolla  [{'rating': ['9/10', '9/10', '9/10'], 'data': ...   \n",
       "3             miami  [{'rating': ['9', '10', 'NR', '6', '5'], 'data...   \n",
       "4           houston  [{'rating': ['6/10', '5/10', '3/10'], 'data': ...   \n",
       "\n",
       "         sqft zipcode    beds state stories mls-id PrivatePool        MlsId  \\\n",
       "0       1,696   33328   Baths    FL     NaN    NaN         NaN    A10756114   \n",
       "1  1,192 sqft   34953  3 Beds    FL     1.0    NaN         yes  RX-10574455   \n",
       "2         NaN   92037     NaN    CA     NaN    NaN         NaN    190052869   \n",
       "3         NaN   33175     NaN    FL     NaN    NaN         NaN    A10772260   \n",
       "4  4,535 sqft   77006  3 Beds    TX     3.0    NaN         yes     49464471   \n",
       "\n",
       "    target     NAME   ST  CAPITAL  POPULATION      MALES    FEMALES  \\\n",
       "0   339900    davie   FL      0.0    100860.0    44562.0    47430.0   \n",
       "1   223000      NaN  NaN      NaN         NaN        NaN        NaN   \n",
       "2  3195000      NaN  NaN      NaN         NaN        NaN        NaN   \n",
       "3   715000    miami   FL      0.0    449517.0   198927.0   200530.0   \n",
       "4  1224500  houston   TX      0.0   2333285.0  1053517.0  1045934.0   \n",
       "\n",
       "   HSE_UNITS    VACANT  OWNER_OCC  \n",
       "0    37306.0    2991.0    25287.0  \n",
       "1        NaN       NaN        NaN  \n",
       "2        NaN       NaN        NaN  \n",
       "3   183994.0   25677.0    51186.0  \n",
       "4   892646.0  110003.0   355236.0  "
      ]
     },
     "execution_count": 10,
     "metadata": {},
     "output_type": "execute_result"
    }
   ],
   "source": [
    "data_new.head()"
   ]
  },
  {
   "cell_type": "code",
   "execution_count": 11,
   "metadata": {},
   "outputs": [],
   "source": [
    "data = data_new.copy()"
   ]
  },
  {
   "cell_type": "markdown",
   "metadata": {},
   "source": [
    "Посмотрим на состав данных"
   ]
  },
  {
   "cell_type": "code",
   "execution_count": 12,
   "metadata": {},
   "outputs": [
    {
     "name": "stdout",
     "output_type": "stream",
     "text": [
      "<class 'pandas.core.frame.DataFrame'>\n",
      "Int64Index: 374687 entries, 0 to 374686\n",
      "Data columns (total 27 columns):\n",
      " #   Column        Non-Null Count   Dtype  \n",
      "---  ------        --------------   -----  \n",
      " 0   status        335392 non-null  object \n",
      " 1   private pool  4197 non-null    object \n",
      " 2   propertyType  340127 non-null  object \n",
      " 3   street        374686 non-null  object \n",
      " 4   baths         269465 non-null  object \n",
      " 5   homeFacts     374687 non-null  object \n",
      " 6   fireplace     102486 non-null  object \n",
      " 7   city          374687 non-null  object \n",
      " 8   schools       374687 non-null  object \n",
      " 9   sqft          334483 non-null  object \n",
      " 10  zipcode       374687 non-null  object \n",
      " 11  beds          283832 non-null  object \n",
      " 12  state         374686 non-null  object \n",
      " 13  stories       224861 non-null  object \n",
      " 14  mls-id        25078 non-null   object \n",
      " 15  PrivatePool   40296 non-null   object \n",
      " 16  MlsId         310313 non-null  object \n",
      " 17  target        374687 non-null  int64  \n",
      " 18  NAME          325128 non-null  object \n",
      " 19  ST            325128 non-null  object \n",
      " 20  CAPITAL       325128 non-null  float64\n",
      " 21  POPULATION    325128 non-null  float64\n",
      " 22  MALES         325128 non-null  float64\n",
      " 23  FEMALES       325128 non-null  float64\n",
      " 24  HSE_UNITS     325128 non-null  float64\n",
      " 25  VACANT        325128 non-null  float64\n",
      " 26  OWNER_OCC     325128 non-null  float64\n",
      "dtypes: float64(7), int64(1), object(19)\n",
      "memory usage: 80.0+ MB\n"
     ]
    }
   ],
   "source": [
    "data.info()"
   ]
  },
  {
   "cell_type": "code",
   "execution_count": 13,
   "metadata": {},
   "outputs": [
    {
     "data": {
      "text/html": [
       "<div>\n",
       "<style scoped>\n",
       "    .dataframe tbody tr th:only-of-type {\n",
       "        vertical-align: middle;\n",
       "    }\n",
       "\n",
       "    .dataframe tbody tr th {\n",
       "        vertical-align: top;\n",
       "    }\n",
       "\n",
       "    .dataframe thead th {\n",
       "        text-align: right;\n",
       "    }\n",
       "</style>\n",
       "<table border=\"1\" class=\"dataframe\">\n",
       "  <thead>\n",
       "    <tr style=\"text-align: right;\">\n",
       "      <th></th>\n",
       "      <th>target</th>\n",
       "      <th>CAPITAL</th>\n",
       "      <th>POPULATION</th>\n",
       "      <th>MALES</th>\n",
       "      <th>FEMALES</th>\n",
       "      <th>HSE_UNITS</th>\n",
       "      <th>VACANT</th>\n",
       "      <th>OWNER_OCC</th>\n",
       "    </tr>\n",
       "  </thead>\n",
       "  <tbody>\n",
       "    <tr>\n",
       "      <th>count</th>\n",
       "      <td>3.746870e+05</td>\n",
       "      <td>325128.000000</td>\n",
       "      <td>3.251280e+05</td>\n",
       "      <td>3.251280e+05</td>\n",
       "      <td>3.251280e+05</td>\n",
       "      <td>3.251280e+05</td>\n",
       "      <td>325128.000000</td>\n",
       "      <td>325128.000000</td>\n",
       "    </tr>\n",
       "    <tr>\n",
       "      <th>mean</th>\n",
       "      <td>6.427223e+05</td>\n",
       "      <td>0.097774</td>\n",
       "      <td>8.600082e+05</td>\n",
       "      <td>3.878290e+05</td>\n",
       "      <td>4.052917e+05</td>\n",
       "      <td>3.376981e+05</td>\n",
       "      <td>35455.450816</td>\n",
       "      <td>135304.239103</td>\n",
       "    </tr>\n",
       "    <tr>\n",
       "      <th>std</th>\n",
       "      <td>1.762787e+06</td>\n",
       "      <td>0.297009</td>\n",
       "      <td>1.404359e+06</td>\n",
       "      <td>6.337612e+05</td>\n",
       "      <td>6.846455e+05</td>\n",
       "      <td>5.423866e+05</td>\n",
       "      <td>48146.883623</td>\n",
       "      <td>174727.353736</td>\n",
       "    </tr>\n",
       "    <tr>\n",
       "      <th>min</th>\n",
       "      <td>1.000000e+00</td>\n",
       "      <td>0.000000</td>\n",
       "      <td>1.019400e+04</td>\n",
       "      <td>4.733000e+03</td>\n",
       "      <td>3.292000e+03</td>\n",
       "      <td>2.775000e+03</td>\n",
       "      <td>70.000000</td>\n",
       "      <td>698.000000</td>\n",
       "    </tr>\n",
       "    <tr>\n",
       "      <th>25%</th>\n",
       "      <td>1.864500e+05</td>\n",
       "      <td>0.000000</td>\n",
       "      <td>1.047040e+05</td>\n",
       "      <td>4.596900e+04</td>\n",
       "      <td>4.619900e+04</td>\n",
       "      <td>3.899500e+04</td>\n",
       "      <td>4693.000000</td>\n",
       "      <td>22041.000000</td>\n",
       "    </tr>\n",
       "    <tr>\n",
       "      <th>50%</th>\n",
       "      <td>3.200000e+05</td>\n",
       "      <td>0.000000</td>\n",
       "      <td>4.240720e+05</td>\n",
       "      <td>1.902850e+05</td>\n",
       "      <td>2.005300e+05</td>\n",
       "      <td>1.761240e+05</td>\n",
       "      <td>20908.000000</td>\n",
       "      <td>51186.000000</td>\n",
       "    </tr>\n",
       "    <tr>\n",
       "      <th>75%</th>\n",
       "      <td>5.849500e+05</td>\n",
       "      <td>0.000000</td>\n",
       "      <td>8.869690e+05</td>\n",
       "      <td>3.982940e+05</td>\n",
       "      <td>4.234900e+05</td>\n",
       "      <td>3.662730e+05</td>\n",
       "      <td>43167.000000</td>\n",
       "      <td>199378.000000</td>\n",
       "    </tr>\n",
       "    <tr>\n",
       "      <th>max</th>\n",
       "      <td>1.650000e+08</td>\n",
       "      <td>1.000000</td>\n",
       "      <td>8.691599e+06</td>\n",
       "      <td>3.882544e+06</td>\n",
       "      <td>4.292589e+06</td>\n",
       "      <td>3.371062e+06</td>\n",
       "      <td>261278.000000</td>\n",
       "      <td>962892.000000</td>\n",
       "    </tr>\n",
       "  </tbody>\n",
       "</table>\n",
       "</div>"
      ],
      "text/plain": [
       "             target        CAPITAL    POPULATION         MALES       FEMALES  \\\n",
       "count  3.746870e+05  325128.000000  3.251280e+05  3.251280e+05  3.251280e+05   \n",
       "mean   6.427223e+05       0.097774  8.600082e+05  3.878290e+05  4.052917e+05   \n",
       "std    1.762787e+06       0.297009  1.404359e+06  6.337612e+05  6.846455e+05   \n",
       "min    1.000000e+00       0.000000  1.019400e+04  4.733000e+03  3.292000e+03   \n",
       "25%    1.864500e+05       0.000000  1.047040e+05  4.596900e+04  4.619900e+04   \n",
       "50%    3.200000e+05       0.000000  4.240720e+05  1.902850e+05  2.005300e+05   \n",
       "75%    5.849500e+05       0.000000  8.869690e+05  3.982940e+05  4.234900e+05   \n",
       "max    1.650000e+08       1.000000  8.691599e+06  3.882544e+06  4.292589e+06   \n",
       "\n",
       "          HSE_UNITS         VACANT      OWNER_OCC  \n",
       "count  3.251280e+05  325128.000000  325128.000000  \n",
       "mean   3.376981e+05   35455.450816  135304.239103  \n",
       "std    5.423866e+05   48146.883623  174727.353736  \n",
       "min    2.775000e+03      70.000000     698.000000  \n",
       "25%    3.899500e+04    4693.000000   22041.000000  \n",
       "50%    1.761240e+05   20908.000000   51186.000000  \n",
       "75%    3.662730e+05   43167.000000  199378.000000  \n",
       "max    3.371062e+06  261278.000000  962892.000000  "
      ]
     },
     "execution_count": 13,
     "metadata": {},
     "output_type": "execute_result"
    }
   ],
   "source": [
    "data.describe()"
   ]
  },
  {
   "cell_type": "markdown",
   "metadata": {},
   "source": [
    "## 1. target\n",
    "\n",
    "Поле содержит информацию о стоимости дома. Это наша целевая переменная. Строки, в которых отсутствует значение, откидываем, так как ни для обучения, ни для тестирования они не пригодятся.\n",
    "Кроме того, откинем строки, в которых значение целевой переменной = 1. Это маловероятная ситуация"
   ]
  },
  {
   "cell_type": "code",
   "execution_count": 14,
   "metadata": {
    "scrolled": true
   },
   "outputs": [
    {
     "data": {
      "text/plain": [
       "0"
      ]
     },
     "execution_count": 14,
     "metadata": {},
     "output_type": "execute_result"
    }
   ],
   "source": [
    "#количество строк, в которых не задана стоимость дома\n",
    "sum(data['target'].isnull())"
   ]
  },
  {
   "cell_type": "code",
   "execution_count": 24,
   "metadata": {},
   "outputs": [
    {
     "data": {
      "text/plain": [
       "0"
      ]
     },
     "execution_count": 24,
     "metadata": {},
     "output_type": "execute_result"
    }
   ],
   "source": [
    "sum(data['state'].isnull())"
   ]
  },
  {
   "cell_type": "code",
   "execution_count": 23,
   "metadata": {},
   "outputs": [],
   "source": [
    "data=data[data['state'].notnull()]"
   ]
  },
  {
   "cell_type": "code",
   "execution_count": 15,
   "metadata": {
    "scrolled": true
   },
   "outputs": [
    {
     "data": {
      "text/plain": [
       "array([], dtype=object)"
      ]
     },
     "execution_count": 15,
     "metadata": {},
     "output_type": "execute_result"
    }
   ],
   "source": [
    "#Посмотрим на статусы этих домов (foreclosure = потеря права выкупа, pending = незавершенное строительство)\n",
    "data['status'][data['target'].isnull()].unique()"
   ]
  },
  {
   "cell_type": "code",
   "execution_count": 16,
   "metadata": {},
   "outputs": [
    {
     "name": "stdout",
     "output_type": "stream",
     "text": [
      "Осталось 374687 записей из 374687\n"
     ]
    }
   ],
   "source": [
    "#отложим строки, в которых не задана целевая переменная, в сторону. \n",
    "#В дальнейшем эти данные можно будет использовать для примера работы прототипа\n",
    "data_for_example = data[data['target'].isnull()]\n",
    "data = data[data['target'].notnull()]\n",
    "\n",
    "print('Осталось {0} записей из {1}'.format(len(data), len(data_source)))"
   ]
  },
  {
   "cell_type": "code",
   "execution_count": 17,
   "metadata": {
    "scrolled": true
   },
   "outputs": [
    {
     "data": {
      "text/plain": [
       "array([ 339900,  223000, 3195000, ...,  113982,  255915,  899998],\n",
       "      dtype=int64)"
      ]
     },
     "execution_count": 17,
     "metadata": {},
     "output_type": "execute_result"
    }
   ],
   "source": [
    "#Смотрим, какие значения есть в target. Нам нужно, чтобы они были все числовые\n",
    "data['target'].unique()"
   ]
  },
  {
   "cell_type": "code",
   "execution_count": 18,
   "metadata": {},
   "outputs": [],
   "source": [
    "#убираем все символы, кроме цифр. Приводим к формату int\n",
    "regex = re.compile('\\D+')\n",
    "data['target'] = data['target'].apply(lambda x: int(regex.sub('', str(x))))"
   ]
  },
  {
   "cell_type": "code",
   "execution_count": 19,
   "metadata": {},
   "outputs": [
    {
     "data": {
      "image/png": "[encoded data removed]",
      "text/plain": [
       "<Figure size 432x288 with 1 Axes>"
      ]
     },
     "metadata": {
      "needs_background": "light"
     },
     "output_type": "display_data"
    }
   ],
   "source": [
    "fig_target = plt.figure()\n",
    "axes_target = fig_target.add_axes([0, 0, 1, 1])\n",
    "axes_target.hist(data['target'], range = (data['target'].min(), 8000000), bins = 30)\n",
    "axes_target.set_xlabel('Стоимость дома')\n",
    "axes_target.set_ylabel('Количество домов')\n",
    "axes_target.set_title('Распределение количества домов по их стоимости')\n",
    "plt.show()\n",
    "#видим, что целевая переменная сосредоточена до 1 млн, и распределение мало напоминает нормальное \n",
    "# + есть выбросы значений больше 8 млн (поставлено такое ограничение, так как если брать во внимание все значения из датасета,\n",
    "# то получается малоинформативный график)"
   ]
  },
  {
   "cell_type": "code",
   "execution_count": 26,
   "metadata": {},
   "outputs": [
    {
     "data": {
      "image/png": "[encoded data removed]",
      "text/plain": [
       "<Figure size 432x288 with 1 Axes>"
      ]
     },
     "metadata": {
      "needs_background": "light"
     },
     "output_type": "display_data"
    }
   ],
   "source": [
    "X = data[['state', 'target']]\n",
    "\n",
    "fig_target_st = plt.figure()\n",
    "axes_target_st = fig_target_st.add_axes([0, 0, 2, 2])\n",
    "axes_target_st.set_xlabel('Штат')\n",
    "axes_target_st.set_ylabel('Стоимость дома')\n",
    "axes_target_st.set_title('Стоимость домов по штатам')\n",
    "plt.plot(X['state'], X['target'],'o')\n",
    "plt.show()"
   ]
  },
  {
   "cell_type": "code",
   "execution_count": 27,
   "metadata": {
    "scrolled": false
   },
   "outputs": [
    {
     "data": {
      "text/plain": [
       "count    3.746860e+05\n",
       "mean     6.427233e+05\n",
       "std      1.762789e+06\n",
       "min      1.000000e+00\n",
       "25%      1.864500e+05\n",
       "50%      3.200000e+05\n",
       "75%      5.849500e+05\n",
       "max      1.650000e+08\n",
       "Name: target, dtype: float64"
      ]
     },
     "execution_count": 27,
     "metadata": {},
     "output_type": "execute_result"
    }
   ],
   "source": [
    "data['target'].describe()"
   ]
  },
  {
   "cell_type": "code",
   "execution_count": 28,
   "metadata": {},
   "outputs": [],
   "source": [
    "#убираем значения стоимости дома = 1 или меньше\n",
    "data = data.loc[data['target']>1]"
   ]
  },
  {
   "cell_type": "markdown",
   "metadata": {},
   "source": [
    "Отметим, что стоимость домов сильно отличается по штатам. Добавим еще одну колонку со средней стоимостью дома по штату."
   ]
  },
  {
   "cell_type": "code",
   "execution_count": 29,
   "metadata": {},
   "outputs": [],
   "source": [
    "mean_target = data.groupby(by = ['state'])['target'].mean()"
   ]
  },
  {
   "cell_type": "code",
   "execution_count": 30,
   "metadata": {},
   "outputs": [],
   "source": [
    "data['state_mean'] = data['state'].apply(lambda x: mean_target[x])"
   ]
  },
  {
   "cell_type": "markdown",
   "metadata": {},
   "source": [
    "## 2. поле status\n",
    "\n",
    "Поле содержит информацию о статусе продажи дома. \n",
    "Значение необходимо учитывать, так как есть дома для аренды, в этом случае его цена указана «за месяц».\n"
   ]
  },
  {
   "cell_type": "code",
   "execution_count": 31,
   "metadata": {},
   "outputs": [
    {
     "data": {
      "text/plain": [
       "array(['Active', 'for sale', 'For sale', nan, 'Pending',\n",
       "       'New construction', 'foreclosure', 'Under Contract Show',\n",
       "       'Pre-foreclosure / auction', 'Under Contract', 'Pre-foreclosure',\n",
       "       'A Active', 'Contingent Finance And Inspection',\n",
       "       'Active Under Contract', 'Foreclosure', 'Price Change', 'P',\n",
       "       'Under Contract   Showing', ' / auction', 'Contingent', 'New',\n",
       "       'Ct', 'Active Backup', 'Auction', 'Pi', 'Option Pending',\n",
       "       'Contract Contingent On Buyer Sale', 'Pending Bring Backup',\n",
       "       'Coming soon: Oct 17.', 'for rent', 'Under Contract Backups',\n",
       "       'Foreclosed', 'Pending Continue To Show',\n",
       "       'Active With Contingencies', 'Back on Market',\n",
       "       'Pending With Contingencies', 'C', 'Pending - Taking Backups',\n",
       "       'Pending W/Backup Wanted', 'Active With Offer', 'Contract',\n",
       "       'CT Insp - Inspection Contingency', 'Contract P',\n",
       "       'Contingent Take Backup', 'Pending Taking Backups',\n",
       "       'Contingent Show', 'Coming soon: Dec 4.', 'Coming soon: Nov 29.',\n",
       "       'Coming soon: Dec 15.', 'Offer Pending Signature',\n",
       "       'Back On Market', 'Coming soon: Dec 2.', 'Active Option',\n",
       "       'pending', 'U Under Contract', 'Coming soon: Dec 11.',\n",
       "       'Coming soon: Dec 13.', 'Reactivated', 'Pending In',\n",
       "       'Conting Accpt Backups', 'Coming soon: Dec 6.',\n",
       "       'Contingent - Sale of Home', 'Auction - Active',\n",
       "       'Coming soon: Dec 16.', 'C Continue Show', 'Condo for rent',\n",
       "       'Option Contract', 'Listing Extended', 'P Pending Sale',\n",
       "       'Contingent Lien Holder Release', 'Contingent   Show',\n",
       "       'Coming soon: Nov 28.', 'Contingency Contract',\n",
       "       'Contingent Escape', 'Lease/Purchase Pending', 'Active/Contingent',\n",
       "       'Temporary Active', 'Active - Auction', 'Ps',\n",
       "       'Active - Contingent', 'Pending Inspection',\n",
       "       'Coming soon: Nov 27.', 'Active Contingency',\n",
       "       'Pending (Do Not Show)', 'Due Diligence Period',\n",
       "       'Coming soon: Oct 24.', 'Pending Ab', 'Coming soon: Nov 10.',\n",
       "       'Pending - Continue to Show', 'Coming soon: Dec 10.',\n",
       "       'Active Offer No Bump', 'Coming soon: Dec 3.',\n",
       "       'Coming soon: Nov 12.', 'Pending   Continue To Show',\n",
       "       'Contingency 48 Hr (+/ )', 'Contingent   Foreclosure',\n",
       "       'Under Contract - No Show', 'Backup', 'Coming soon: Dec 20.',\n",
       "       'Contingent - Financing', 'Coming soon: Oct 29.',\n",
       "       'Active Option Contract', 'Pf', 'Pending W/ Cont.',\n",
       "       'Backup Contract', 'Closed', 'Coming soon: Dec 18.',\n",
       "       'Apartment for rent', 'Coming soon: Dec 27.',\n",
       "       'Coming soon: Dec 12.', 'Pending - Backup Offer Requested',\n",
       "       'Coming soon: Nov 30.', 'Coming soon: Nov 13.', 'Under contract',\n",
       "       'Active Contingent', 'Coming soon: Oct 21.',\n",
       "       'Pending W/Insp Finance', 'Coming soon: Dec 5.',\n",
       "       'Coming soon: Dec 7.', 'Contingent   Release',\n",
       "       'Under Contract - Show', 'Pending   Continue To Show   Financing',\n",
       "       'Under Contract W/ Bckp', 'Accepted Offer',\n",
       "       'Pending Offer Approval', 'Accepting backups',\n",
       "       'Under Contract Taking Back Up Offers', 'Pending Sale',\n",
       "       'Coming soon: Nov 19.', 'Coming soon: Dec 9.',\n",
       "       'Coming soon: Nov 5.', 'Contingent Finance and Inspection',\n",
       "       'Re Activated', 'Pending, Continue to Show', 'For Sale',\n",
       "       'Coming soon: Dec 24.', 'Pending Fe', 'Pending W/Escape Clause',\n",
       "       'Coming soon: Nov 21.', 'Coming soon: Dec 14.',\n",
       "       'Coming soon: Nov 3.', 'Pending Take Backups',\n",
       "       'Coming soon: Dec 1.', 'Coming soon: Oct 30.',\n",
       "       'Coming soon: Nov 23.', 'Active with Contract',\n",
       "       'Uc Continue To Show', 'Active With Contract', 'Pending Sh',\n",
       "       'Contingency', 'Coming soon: Dec 25.', 'Lease/Purchase',\n",
       "       'Coming soon: Nov 14.', 'Coming soon: Nov 25.',\n",
       "       'Coming soon: Nov 17.', 'Coming soon: Oct 31.',\n",
       "       'Coming soon: Nov 8.', 'Pb', 'Contingent   No Show'], dtype=object)"
      ]
     },
     "execution_count": 31,
     "metadata": {},
     "output_type": "execute_result"
    }
   ],
   "source": [
    "data['status'].unique()"
   ]
  },
  {
   "cell_type": "code",
   "execution_count": 32,
   "metadata": {},
   "outputs": [],
   "source": [
    "#разделяем данные на 2 категории. Для продажи и для аренды. Так как от этого фактора сильно зависит итоговая стоимость\n",
    "data['rent_sale']=data['status'].apply(lambda x: 1 if str(x).lower().find('rent') >-1 else 0)"
   ]
  },
  {
   "cell_type": "code",
   "execution_count": 33,
   "metadata": {},
   "outputs": [
    {
     "data": {
      "image/png": "[encoded data removed]",
      "text/plain": [
       "<Figure size 432x288 with 1 Axes>"
      ]
     },
     "metadata": {
      "needs_background": "light"
     },
     "output_type": "display_data"
    }
   ],
   "source": [
    "data['status'].fillna('', inplace = True)\n",
    "data['status'] = data['status'].apply(lambda x: 'coming soon' if str(x).lower().find('coming soon') >-1 else x.lower())\n",
    "X_status = data[['status', 'target']]\n",
    "\n",
    "fig_target_status = plt.figure()\n",
    "axes_target_status = fig_target_status.add_axes([0, 0, 3, 2])\n",
    "axes_target_status.set_xlabel('Статус')\n",
    "axes_target_status.set_ylabel('Стоимость дома')\n",
    "axes_target_status.set_title('Стоимость домов в зависимости от статуса')\n",
    "plt.xticks(rotation=90)\n",
    "#axes_target_status.set_xticklabels(X_status['status'], rotation =90 )\n",
    "plt.plot(X_status['status'], X_status['target'],'o')\n",
    "plt.show()"
   ]
  },
  {
   "cell_type": "code",
   "execution_count": 34,
   "metadata": {},
   "outputs": [
    {
     "data": {
      "image/png": "[encoded data removed]",
      "text/plain": [
       "<Figure size 432x288 with 1 Axes>"
      ]
     },
     "metadata": {
      "needs_background": "light"
     },
     "output_type": "display_data"
    }
   ],
   "source": [
    "#посмотрим после обработки\n",
    "rent_sale = data.groupby('rent_sale')['rent_sale'].count().sort_values(ascending=False)\n",
    "\n",
    "fig_rent = plt.figure()\n",
    "axes_rent = fig_rent.add_axes([0,0,1,1])\n",
    "axes_rent.bar(x = ['нет', 'да'], height = rent_sale.values)\n",
    "axes_rent.set_xticklabels(['продажа', 'аренда'], rotation = 0 )    #  Поворот текста\n",
    "plt.show()"
   ]
  },
  {
   "cell_type": "markdown",
   "metadata": {},
   "source": [
    "## 3. поле propertyType\n",
    "\n",
    "Поле содержит информацию о типе дома. Приводим некоторые типы к единому стилю (пример: 'single-family home','Single Family Home','Single Family'). Считаем hash, так как непонятно, сколько может быть таких типов"
   ]
  },
  {
   "cell_type": "code",
   "execution_count": 35,
   "metadata": {},
   "outputs": [],
   "source": [
    "def replace_property(row):\n",
    "    \n",
    "    if row in ['single-family home','Single Family Home','Single Family']:\n",
    "        return 'single family home'\n",
    "    elif row == 'Condo':\n",
    "        return 'condo'\n",
    "    elif row in ['Townhouse', 'Townhome']:\n",
    "        return 'townhouse'\n",
    "    elif row in ['Multi-Family Home','multi-family','Multi Family','Multi-Family']:\n",
    "        return 'multi family home'\n",
    "    elif row in ['1 Story','One Story']:\n",
    "        return '1 story'\n",
    "    elif row in ['2 Stories', '2 Story', 'Two Story']:\n",
    "        return '2 stories'\n",
    "    elif row in ['mobile/manufactured', 'Mfd/Mobile Home', 'Mobile / Manufactured']:\n",
    "        return 'mobile/manufactured'\n",
    "    elif row in ['Cooperative', 'coop']:\n",
    "        return 'cooperative'\n",
    "    elif row in ['Apartment', 'apartment']:\n",
    "        return 'apartment'\n",
    "    elif row in ['lot/land', 'Land']:\n",
    "        return 'land'\n",
    "    elif row in ['Other Style', 'Other']:\n",
    "        return 'other style'\n",
    "    else:\n",
    "        return row"
   ]
  },
  {
   "cell_type": "code",
   "execution_count": 36,
   "metadata": {},
   "outputs": [],
   "source": [
    "#приводим к более-менее одинаковым названиям\n",
    "data['prop_type']=data['propertyType'].apply(lambda x: replace_property(x))"
   ]
  },
  {
   "cell_type": "code",
   "execution_count": 37,
   "metadata": {},
   "outputs": [
    {
     "data": {
      "image/png": "[encoded data removed]",
      "text/plain": [
       "<Figure size 432x288 with 1 Axes>"
      ]
     },
     "metadata": {
      "needs_background": "light"
     },
     "output_type": "display_data"
    }
   ],
   "source": [
    "#считаем распределение по типам собственности\n",
    "#prop_type = data.groupby('propertyType')['propertyType'].count().sort_values(ascending=False)\n",
    "prop_type = data.groupby('prop_type')['prop_type'].count().sort_values(ascending=False)\n",
    "\n",
    "NUM_PROP =50 #выводим первые 30 по численности\n",
    "fig_prop = plt.figure()\n",
    "axes_prop = fig_prop.add_axes([0,0,2,1])\n",
    "axes_prop.bar(x = prop_type.index[:NUM_PROP], height = prop_type.values[:NUM_PROP])\n",
    "axes_prop.set_ylabel('Количество домов')\n",
    "axes_prop.set_xlabel('Тип дома')\n",
    "axes_prop.set_title('Количество продаваемых домов по типам')\n",
    "\n",
    "axes_prop.set_xticklabels(prop_type.index, rotation =90 )    #  Поворот текста\n",
    "plt.show()"
   ]
  },
  {
   "cell_type": "code",
   "execution_count": 38,
   "metadata": {},
   "outputs": [],
   "source": [
    "#считаем hash\n",
    "hash_space=50\n",
    "data['prop_type']=data['prop_type'].apply(lambda x: hash(''.join(str(x).lower().split())) % hash_space)\n",
    "#удаляем исходное поле\n",
    "data = data.drop(['propertyType'], axis = 'columns')"
   ]
  },
  {
   "cell_type": "markdown",
   "metadata": {},
   "source": [
    "## 4. поля city, street\n",
    "\n",
    "Поле city содержит название города. Заменяем пропущенные значения на ‘no_city’. Приводим все названия к нижнему регистру. Количество уникальных значений сократилось с 2026 до 1909. Это преобразование используем только для визуализации графиков.\n",
    "\n",
    "Поле street содержит часть адреса дома (улица, номер дома).\n",
    "\n",
    "Так как улиц и городов может быть много, и неизвестно, может быть в новых данных встретятся неизвестные нам сейчас значения, то считаем hash. Формируем новые столбцы:\n",
    "* отдельно по улицам, \n",
    "* отдельно по городам, \n",
    "* вместе от целой строки «город+улица».\n"
   ]
  },
  {
   "cell_type": "code",
   "execution_count": 39,
   "metadata": {
    "scrolled": true
   },
   "outputs": [
    {
     "data": {
      "text/html": [
       "<div>\n",
       "<style scoped>\n",
       "    .dataframe tbody tr th:only-of-type {\n",
       "        vertical-align: middle;\n",
       "    }\n",
       "\n",
       "    .dataframe tbody tr th {\n",
       "        vertical-align: top;\n",
       "    }\n",
       "\n",
       "    .dataframe thead th {\n",
       "        text-align: right;\n",
       "    }\n",
       "</style>\n",
       "<table border=\"1\" class=\"dataframe\">\n",
       "  <thead>\n",
       "    <tr style=\"text-align: right;\">\n",
       "      <th></th>\n",
       "      <th>city</th>\n",
       "      <th>street</th>\n",
       "    </tr>\n",
       "  </thead>\n",
       "  <tbody>\n",
       "    <tr>\n",
       "      <th>0</th>\n",
       "      <td>davie</td>\n",
       "      <td>7684 Foxcroft Ln</td>\n",
       "    </tr>\n",
       "    <tr>\n",
       "      <th>1</th>\n",
       "      <td>port saint lucie</td>\n",
       "      <td>858 SW McCoy Ave</td>\n",
       "    </tr>\n",
       "    <tr>\n",
       "      <th>2</th>\n",
       "      <td>la jolla</td>\n",
       "      <td>6083 La Jolla Scenic Dr S #S</td>\n",
       "    </tr>\n",
       "    <tr>\n",
       "      <th>3</th>\n",
       "      <td>miami</td>\n",
       "      <td>2643 SW 139 Ave</td>\n",
       "    </tr>\n",
       "    <tr>\n",
       "      <th>4</th>\n",
       "      <td>houston</td>\n",
       "      <td>612 Hawthorne St</td>\n",
       "    </tr>\n",
       "    <tr>\n",
       "      <th>...</th>\n",
       "      <td>...</td>\n",
       "      <td>...</td>\n",
       "    </tr>\n",
       "    <tr>\n",
       "      <th>374682</th>\n",
       "      <td>miami</td>\n",
       "      <td>19800 SW 180th Ave LOT 173</td>\n",
       "    </tr>\n",
       "    <tr>\n",
       "      <th>374683</th>\n",
       "      <td>chicago</td>\n",
       "      <td>1053 N Ridgeway Ave</td>\n",
       "    </tr>\n",
       "    <tr>\n",
       "      <th>374684</th>\n",
       "      <td>colonie</td>\n",
       "      <td>79 Morris Rd #B</td>\n",
       "    </tr>\n",
       "    <tr>\n",
       "      <th>374685</th>\n",
       "      <td>houston</td>\n",
       "      <td>5766 Sugar Hill Dr</td>\n",
       "    </tr>\n",
       "    <tr>\n",
       "      <th>374686</th>\n",
       "      <td>san antonio</td>\n",
       "      <td>0 Vista Vly</td>\n",
       "    </tr>\n",
       "  </tbody>\n",
       "</table>\n",
       "<p>374673 rows × 2 columns</p>\n",
       "</div>"
      ],
      "text/plain": [
       "                    city                        street\n",
       "0                  davie             7684 Foxcroft Ln \n",
       "1       port saint lucie              858 SW McCoy Ave\n",
       "2               la jolla  6083 La Jolla Scenic Dr S #S\n",
       "3                  miami              2643 SW 139 Ave \n",
       "4                houston              612 Hawthorne St\n",
       "...                  ...                           ...\n",
       "374682             miami    19800 SW 180th Ave LOT 173\n",
       "374683           chicago           1053 N Ridgeway Ave\n",
       "374684           colonie               79 Morris Rd #B\n",
       "374685           houston            5766 Sugar Hill Dr\n",
       "374686       san antonio                   0 Vista Vly\n",
       "\n",
       "[374673 rows x 2 columns]"
      ]
     },
     "execution_count": 39,
     "metadata": {},
     "output_type": "execute_result"
    }
   ],
   "source": [
    "data[['city', 'street']]"
   ]
  },
  {
   "cell_type": "code",
   "execution_count": 40,
   "metadata": {},
   "outputs": [
    {
     "name": "stdout",
     "output_type": "stream",
     "text": [
      "1922 -> 1922\n"
     ]
    }
   ],
   "source": [
    "# заполняем пропущенные значения на \"no_city\"\n",
    "data['city'].fillna('no_city', inplace=True)\n",
    "\n",
    "# приводим все буквы к нижнему регистру, так как есть вероятность, что города могут быть написаны по-разному\n",
    "data['city_lower'] = data['city'].apply(lambda x: str(x).lower() if x != ' ' else 'no_city')\n",
    "print(data['city'].nunique(), '->', data['city_lower'].nunique())"
   ]
  },
  {
   "cell_type": "code",
   "execution_count": 41,
   "metadata": {},
   "outputs": [],
   "source": [
    "hash_space_city = 20000\n",
    "hash_space_street = 500000\n",
    "data['city_hash']=data['city'].apply(lambda x: hash(''.join(x.lower().split())) % hash_space_city)\n",
    "data['street_hash']=data['street'].apply(lambda x: hash(''.join(str(x).lower().split())) % hash_space_street)\n",
    "data['address_hash']=data[['city', 'street']].apply(lambda x: hash(''.join(str(x[0]).lower().split()) + \n",
    "                                                                  ''.join(str(x[1]).lower().split())) % hash_space_street, axis=1)"
   ]
  },
  {
   "cell_type": "code",
   "execution_count": 42,
   "metadata": {
    "scrolled": true
   },
   "outputs": [
    {
     "data": {
      "text/html": [
       "<div>\n",
       "<style scoped>\n",
       "    .dataframe tbody tr th:only-of-type {\n",
       "        vertical-align: middle;\n",
       "    }\n",
       "\n",
       "    .dataframe tbody tr th {\n",
       "        vertical-align: top;\n",
       "    }\n",
       "\n",
       "    .dataframe thead th {\n",
       "        text-align: right;\n",
       "    }\n",
       "</style>\n",
       "<table border=\"1\" class=\"dataframe\">\n",
       "  <thead>\n",
       "    <tr style=\"text-align: right;\">\n",
       "      <th></th>\n",
       "      <th>city_hash</th>\n",
       "      <th>city</th>\n",
       "      <th>street</th>\n",
       "      <th>street_hash</th>\n",
       "      <th>address_hash</th>\n",
       "    </tr>\n",
       "  </thead>\n",
       "  <tbody>\n",
       "    <tr>\n",
       "      <th>0</th>\n",
       "      <td>1658</td>\n",
       "      <td>davie</td>\n",
       "      <td>7684 Foxcroft Ln</td>\n",
       "      <td>399765</td>\n",
       "      <td>412709</td>\n",
       "    </tr>\n",
       "    <tr>\n",
       "      <th>1</th>\n",
       "      <td>7402</td>\n",
       "      <td>port saint lucie</td>\n",
       "      <td>858 SW McCoy Ave</td>\n",
       "      <td>307440</td>\n",
       "      <td>54271</td>\n",
       "    </tr>\n",
       "    <tr>\n",
       "      <th>2</th>\n",
       "      <td>4785</td>\n",
       "      <td>la jolla</td>\n",
       "      <td>6083 La Jolla Scenic Dr S #S</td>\n",
       "      <td>246418</td>\n",
       "      <td>101867</td>\n",
       "    </tr>\n",
       "    <tr>\n",
       "      <th>3</th>\n",
       "      <td>6814</td>\n",
       "      <td>miami</td>\n",
       "      <td>2643 SW 139 Ave</td>\n",
       "      <td>323522</td>\n",
       "      <td>106163</td>\n",
       "    </tr>\n",
       "    <tr>\n",
       "      <th>4</th>\n",
       "      <td>3409</td>\n",
       "      <td>houston</td>\n",
       "      <td>612 Hawthorne St</td>\n",
       "      <td>399363</td>\n",
       "      <td>392815</td>\n",
       "    </tr>\n",
       "    <tr>\n",
       "      <th>...</th>\n",
       "      <td>...</td>\n",
       "      <td>...</td>\n",
       "      <td>...</td>\n",
       "      <td>...</td>\n",
       "      <td>...</td>\n",
       "    </tr>\n",
       "    <tr>\n",
       "      <th>374682</th>\n",
       "      <td>6814</td>\n",
       "      <td>miami</td>\n",
       "      <td>19800 SW 180th Ave LOT 173</td>\n",
       "      <td>473772</td>\n",
       "      <td>337364</td>\n",
       "    </tr>\n",
       "    <tr>\n",
       "      <th>374683</th>\n",
       "      <td>13653</td>\n",
       "      <td>chicago</td>\n",
       "      <td>1053 N Ridgeway Ave</td>\n",
       "      <td>290356</td>\n",
       "      <td>314960</td>\n",
       "    </tr>\n",
       "    <tr>\n",
       "      <th>374684</th>\n",
       "      <td>11905</td>\n",
       "      <td>colonie</td>\n",
       "      <td>79 Morris Rd #B</td>\n",
       "      <td>116451</td>\n",
       "      <td>496691</td>\n",
       "    </tr>\n",
       "    <tr>\n",
       "      <th>374685</th>\n",
       "      <td>3409</td>\n",
       "      <td>houston</td>\n",
       "      <td>5766 Sugar Hill Dr</td>\n",
       "      <td>110052</td>\n",
       "      <td>105621</td>\n",
       "    </tr>\n",
       "    <tr>\n",
       "      <th>374686</th>\n",
       "      <td>10016</td>\n",
       "      <td>san antonio</td>\n",
       "      <td>0 Vista Vly</td>\n",
       "      <td>119808</td>\n",
       "      <td>320930</td>\n",
       "    </tr>\n",
       "  </tbody>\n",
       "</table>\n",
       "<p>374673 rows × 5 columns</p>\n",
       "</div>"
      ],
      "text/plain": [
       "        city_hash              city                        street  \\\n",
       "0            1658             davie             7684 Foxcroft Ln    \n",
       "1            7402  port saint lucie              858 SW McCoy Ave   \n",
       "2            4785          la jolla  6083 La Jolla Scenic Dr S #S   \n",
       "3            6814             miami              2643 SW 139 Ave    \n",
       "4            3409           houston              612 Hawthorne St   \n",
       "...           ...               ...                           ...   \n",
       "374682       6814             miami    19800 SW 180th Ave LOT 173   \n",
       "374683      13653           chicago           1053 N Ridgeway Ave   \n",
       "374684      11905           colonie               79 Morris Rd #B   \n",
       "374685       3409           houston            5766 Sugar Hill Dr   \n",
       "374686      10016       san antonio                   0 Vista Vly   \n",
       "\n",
       "        street_hash  address_hash  \n",
       "0            399765        412709  \n",
       "1            307440         54271  \n",
       "2            246418        101867  \n",
       "3            323522        106163  \n",
       "4            399363        392815  \n",
       "...             ...           ...  \n",
       "374682       473772        337364  \n",
       "374683       290356        314960  \n",
       "374684       116451        496691  \n",
       "374685       110052        105621  \n",
       "374686       119808        320930  \n",
       "\n",
       "[374673 rows x 5 columns]"
      ]
     },
     "execution_count": 42,
     "metadata": {},
     "output_type": "execute_result"
    }
   ],
   "source": [
    "data[['city_hash', 'city', 'street', 'street_hash', 'address_hash']]"
   ]
  },
  {
   "cell_type": "markdown",
   "metadata": {},
   "source": [
    "### поле city отдельно"
   ]
  },
  {
   "cell_type": "code",
   "execution_count": 43,
   "metadata": {},
   "outputs": [
    {
     "data": {
      "text/plain": [
       "1923"
      ]
     },
     "execution_count": 43,
     "metadata": {},
     "output_type": "execute_result"
    }
   ],
   "source": [
    "data_source['city'].nunique()"
   ]
  },
  {
   "cell_type": "code",
   "execution_count": 44,
   "metadata": {},
   "outputs": [
    {
     "data": {
      "image/png": "[encoded data removed]",
      "text/plain": [
       "<Figure size 432x288 with 1 Axes>"
      ]
     },
     "metadata": {
      "needs_background": "light"
     },
     "output_type": "display_data"
    }
   ],
   "source": [
    "#считаем распределение по городам\n",
    "cities = data.groupby('city_lower')['city_lower'].count().sort_values(ascending=False)\n",
    "\n",
    "#групбай удаляет значения, где город не указан. Добавим это количество в \n",
    "NUM_SITIES = 40\n",
    "\n",
    "fig_cities = plt.figure()\n",
    "axes_cities = fig_cities.add_axes([0,0,2,1])\n",
    "axes_cities.bar(x = cities.head(NUM_SITIES).index, height = cities.head(NUM_SITIES).values)\n",
    "axes_cities.set_xlabel('Город')\n",
    "axes_cities.set_ylabel('Количество домов')\n",
    "axes_cities.set_title('Количество продаваемых домов по городам (выведены первые '+str(NUM_SITIES)+' городов)')\n",
    "\n",
    "axes_cities.set_xticklabels(cities.head(NUM_SITIES).index, rotation =90 )    #  Поворот текста\n",
    "plt.show()"
   ]
  },
  {
   "cell_type": "code",
   "execution_count": 45,
   "metadata": {},
   "outputs": [
    {
     "data": {
      "image/png": "[encoded data removed]",
      "text/plain": [
       "<Figure size 432x288 with 1 Axes>"
      ]
     },
     "metadata": {
      "needs_background": "light"
     },
     "output_type": "display_data"
    }
   ],
   "source": [
    "X_city = data[data['city_lower'].isin(cities.head(NUM_SITIES).index)][['city_lower', 'target']]\n",
    "\n",
    "fig_target_city = plt.figure()\n",
    "axes_target_city = fig_target_city.add_axes([0, 0, 2, 2])\n",
    "axes_target_city.set_xlabel('Город' )\n",
    "axes_target_city.set_ylabel('Стоимость дома')\n",
    "axes_target_city.set_title('Стоимость домов в зависимости от Города')\n",
    "axes_target_city.set_xticklabels(cities.head(NUM_SITIES).index, rotation =90 )\n",
    "plt.plot(X_city['city_lower'], X_city['target'],'o')\n",
    "plt.show()"
   ]
  },
  {
   "cell_type": "code",
   "execution_count": 46,
   "metadata": {},
   "outputs": [],
   "source": [
    "#удаляем исходные и ненужные столбцы\n",
    "data = data.drop(['city', 'street','city_lower'], axis = 'columns')"
   ]
  },
  {
   "cell_type": "markdown",
   "metadata": {},
   "source": [
    "## 5. поле baths\n",
    "\n",
    "Поле содержит информацию о количестве ванных комнат. Иногда указывается значение без опознавательных знаков, но число с разделителем «запятая». Считаем, что это опечатка и заменяем его на «точку». Преобразуем поле в «Количество ванных комнат», отбросив все слова. Тип нового поля float.\n",
    "\n",
    "Если не указано количество ванных, то поставим = 1, так как без хотя бы одной ванной комнаты квартира маловероятна"
   ]
  },
  {
   "cell_type": "code",
   "execution_count": 47,
   "metadata": {},
   "outputs": [
    {
     "data": {
      "text/plain": [
       "array(['Bathrooms: 3', nan, 'Bathrooms: 6', '3 ba', 'Bathrooms: 2',\n",
       "       '2 ba', 'Bathrooms: 1', '4 ba', 'Bathrooms: 5', 'Bathrooms: 7',\n",
       "       'Bathrooms: 4', 'Bathrooms: 9', '-- baths', '1 ba', 'Bathrooms: 8',\n",
       "       '10 ba', 'Bathrooms: 10', 'Bathrooms: 11', '5 ba', '6 ba', '8 ba',\n",
       "       '7 ba', '9 ba', '3.5 ba', 'Bathrooms: 14', '2.25 ba', '12 ba',\n",
       "       'Bathrooms: 12', '15 ba', '2 baths', 'Bathrooms: 13',\n",
       "       'Bathrooms: 15', 'Bathrooms: 18', 'Bathrooms: 24', '11 ba',\n",
       "       '5.5 ba', 'Bathrooms: 16', '1.1 ba', '2.5 ba'], dtype=object)"
      ]
     },
     "execution_count": 47,
     "metadata": {},
     "output_type": "execute_result"
    }
   ],
   "source": [
    "#смотрим на значения, которые есть в поле beds в зависимости от типа идентификатора\n",
    "data[data['mls-id'].notnull()]['baths'].unique()[:50]"
   ]
  },
  {
   "cell_type": "code",
   "execution_count": 48,
   "metadata": {},
   "outputs": [
    {
     "data": {
      "text/plain": [
       "array(['2,000', '2 Baths', nan, '4 Baths', '3,000', '1.5', '2.0', '2.5',\n",
       "       '3.0', '3 Baths', '2', '0', '4.0', '5 Baths', '5.0', '1,000',\n",
       "       '8 Baths', '6 Baths', '3', '1,750', '5,000', '2,250', '1.0', '3.5',\n",
       "       '7', '1', '~', '1,500', '9', '750', '5', '4', '4.5', '3,500',\n",
       "       '5.5', '6', '11.0', '4,000', '6.0', '7 Baths', '1,250', '2,500',\n",
       "       '9.0', '2.5 Baths', '2,750', '10.0', '7.0', '1.5 Baths',\n",
       "       '24 Baths', '10 Baths'], dtype=object)"
      ]
     },
     "execution_count": 48,
     "metadata": {},
     "output_type": "execute_result"
    }
   ],
   "source": [
    "data[data['MlsId'].notnull()]['baths'].unique()[:50]"
   ]
  },
  {
   "cell_type": "code",
   "execution_count": 49,
   "metadata": {},
   "outputs": [],
   "source": [
    "def make_baths_count(row):\n",
    "    row = str(row)\n",
    "    row = row.replace('Bathrooms: ', '').replace(' Baths', '').replace(' ba', '').replace(',','.')\n",
    "    try:\n",
    "        if row != 'nan':\n",
    "            return float(row)\n",
    "        else:\n",
    "            return 1\n",
    "    except:\n",
    "        return 1"
   ]
  },
  {
   "cell_type": "code",
   "execution_count": 50,
   "metadata": {},
   "outputs": [],
   "source": [
    "data['baths_count']=data['baths'].apply(lambda x: make_baths_count(x))"
   ]
  },
  {
   "cell_type": "code",
   "execution_count": 51,
   "metadata": {},
   "outputs": [
    {
     "data": {
      "image/png": "[encoded data removed]",
      "text/plain": [
       "<Figure size 432x288 with 1 Axes>"
      ]
     },
     "metadata": {
      "needs_background": "light"
     },
     "output_type": "display_data"
    }
   ],
   "source": [
    "X_bath = data[['baths_count', 'target']]\n",
    "\n",
    "fig_target_bath = plt.figure()\n",
    "axes_target_bath = fig_target_bath.add_axes([0, 0, 2, 2])\n",
    "axes_target_bath.set_xlabel('Количество ванных комнат')\n",
    "axes_target_bath.set_ylabel('Стоимость дома')\n",
    "axes_target_bath.set_title('Стоимость домов в зависимости от количества ванных комнат')\n",
    "plt.plot(X_bath['baths_count'], X_bath['target'],'o')\n",
    "plt.show()"
   ]
  },
  {
   "cell_type": "code",
   "execution_count": 52,
   "metadata": {},
   "outputs": [],
   "source": [
    "# удаляем выбросы. Количество ванных комнат больше 200\n",
    "data = data.loc[data['baths_count']<200]"
   ]
  },
  {
   "cell_type": "code",
   "execution_count": 53,
   "metadata": {},
   "outputs": [],
   "source": [
    "data = data.drop(['baths'], axis = 'columns')"
   ]
  },
  {
   "cell_type": "markdown",
   "metadata": {},
   "source": [
    "## 6. поле beds\n",
    "\n",
    "Поле содержит информацию о количестве спальных комнат (иногда о их площади). \n",
    "\n",
    "Так как нет возможности оставить разнородную информацию в одном поле, то решено разделить данные на два поля: Количество спален и Площадь спален. При этом площадь переведена в квадратные метры, чтобы была единая единица измерения.\n"
   ]
  },
  {
   "cell_type": "code",
   "execution_count": 54,
   "metadata": {},
   "outputs": [
    {
     "data": {
      "text/plain": [
       "array(['3 bd', '2 bd', '5 bd', '4 bd', '1 bd', '7 bd', '6 bd', '-- bd',\n",
       "       '0.32 acres', '1,188 sqft', '9 bd', '11 bd', '10 bd', '22 bd',\n",
       "       '8 bd', '13 bd', '1,306 sqft', '4,356 sqft', '0.31 acres',\n",
       "       '12.4 acres', '1,650 sqft', '449 acres', '12 bd', '0.47 acres',\n",
       "       '1.8 acres', '5,078 sqft', '5,227 sqft', '2,000 sqft',\n",
       "       '7,405 sqft', '1 acre', '24 bd', '0.4 acres', '3,920 sqft',\n",
       "       '0.85 acres', '0.57 acres', '4,791 sqft', '0.26 acres', '14 bd',\n",
       "       '2,850 sqft', '4.64 acres', '2,178 sqft', '10,018 sqft',\n",
       "       '0.86 acres', '23 bd', '9,583 sqft', '15 bd', '17 bd', '8.2 acres',\n",
       "       '46 bd', '16 bd'], dtype=object)"
      ]
     },
     "execution_count": 54,
     "metadata": {},
     "output_type": "execute_result"
    }
   ],
   "source": [
    "#смотрим на значения, которые есть в поле beds в зависимости от типа идентификатора\n",
    "data[data['mls-id'].notnull()]['beds'].unique()[:50]"
   ]
  },
  {
   "cell_type": "code",
   "execution_count": 55,
   "metadata": {
    "scrolled": false
   },
   "outputs": [
    {
     "data": {
      "text/plain": [
       "array(['Baths', '3 Beds', nan, '3', '4', '2 Beds', '5', '2.0', '4 Beds',\n",
       "       '2', '5 Beds', '7 Beds', '6 Beds', '3.0', '6', '1.97 acres', '4.0',\n",
       "       '1', '0.5 acres', '8 Beds', '6,599 sqft', '0.25 acres',\n",
       "       '9.34 acres', '6.0', '5.0', '9 Beds', '7', '27.35 acres',\n",
       "       '4,399 sqft', '4.71 acres', '7,200 sqft', '16 Beds', '5,000 sqft',\n",
       "       '36 Beds', '0', '1.72 acres', '2.68 acres', '12', '11 Beds',\n",
       "       '2 acres', 'Bath', '1.0', '27', '0.46 acres', '0.37 acres', '9',\n",
       "       '6,821 sqft', '1.09 acres', '8', '10,798 sqft'], dtype=object)"
      ]
     },
     "execution_count": 55,
     "metadata": {},
     "output_type": "execute_result"
    }
   ],
   "source": [
    "data[data['MlsId'].notnull()]['beds'].unique()[:50]"
   ]
  },
  {
   "cell_type": "code",
   "execution_count": 56,
   "metadata": {},
   "outputs": [],
   "source": [
    "def make_beds_count(row):\n",
    "    row = str(row)\n",
    "    if row.find(' Beds') > -1:\n",
    "        try:\n",
    "            return int(row.replace(' Beds', ''))\n",
    "        except: #если указано что-то другое #1-2\n",
    "            return 1\n",
    "    elif row.find(' bd') >-1:\n",
    "        try:\n",
    "            return int(row.replace(' bd', ''))\n",
    "        except: #если указано что-то другое #--\n",
    "            return 0\n",
    "    else: \n",
    "        try:\n",
    "            return int(row)\n",
    "        except:\n",
    "            return 0\n",
    "\n",
    "def make_beds_square(row): #переводим в квадратные метры\n",
    "    row = str(row)\n",
    "    if row.find(' sqft') > -1:\n",
    "        try:\n",
    "            return float(row.replace(' sqft', '').replace(',',''))*0.093\n",
    "        except: \n",
    "            return 0\n",
    "    elif row.find(' acres') > -1:\n",
    "        try:\n",
    "            return float(row.replace(' acres', '').replace(',',''))*4046.86\n",
    "        except: \n",
    "            return 0\n",
    "    else:\n",
    "        return 0\n",
    "        "
   ]
  },
  {
   "cell_type": "code",
   "execution_count": 57,
   "metadata": {},
   "outputs": [],
   "source": [
    "data['beds_count']=data['beds'].apply(lambda x: make_beds_count(x))\n",
    "data['beds_square']=data['beds'].apply(lambda x: make_beds_square(x))\n",
    "#удаляем лишний столбец\n",
    "data = data.drop(['beds'], axis = 'columns')"
   ]
  },
  {
   "cell_type": "code",
   "execution_count": 58,
   "metadata": {},
   "outputs": [
    {
     "data": {
      "image/png": "[encoded data removed]",
      "text/plain": [
       "<Figure size 432x288 with 1 Axes>"
      ]
     },
     "metadata": {
      "needs_background": "light"
     },
     "output_type": "display_data"
    }
   ],
   "source": [
    "fig_beds = plt.figure()\n",
    "axes_beds = fig_beds.add_axes([0, 0, 2, 1])\n",
    "axes_beds.hist(data['beds_count'], range = (0, 30), bins=30)\n",
    "plt.show()"
   ]
  },
  {
   "cell_type": "code",
   "execution_count": 59,
   "metadata": {},
   "outputs": [
    {
     "data": {
      "image/png": "[encoded data removed]",
      "text/plain": [
       "<Figure size 432x288 with 1 Axes>"
      ]
     },
     "metadata": {
      "needs_background": "light"
     },
     "output_type": "display_data"
    }
   ],
   "source": [
    "X1 = data[['beds_count', 'target']]\n",
    "\n",
    "fig_target_beds = plt.figure()\n",
    "axes_target_beds = fig_target_beds.add_axes([0, 0, 2, 2])\n",
    "axes_target_beds.set_xlabel('Количество спален')\n",
    "axes_target_beds.set_ylabel('Стоимость дома')\n",
    "axes_target_beds.set_title('Стоимость домов в зависимости от количества спален')\n",
    "plt.plot(X1['beds_count'], X1['target'],'o')\n",
    "plt.show()"
   ]
  },
  {
   "cell_type": "code",
   "execution_count": 60,
   "metadata": {},
   "outputs": [
    {
     "data": {
      "text/html": [
       "<div>\n",
       "<style scoped>\n",
       "    .dataframe tbody tr th:only-of-type {\n",
       "        vertical-align: middle;\n",
       "    }\n",
       "\n",
       "    .dataframe tbody tr th {\n",
       "        vertical-align: top;\n",
       "    }\n",
       "\n",
       "    .dataframe thead th {\n",
       "        text-align: right;\n",
       "    }\n",
       "</style>\n",
       "<table border=\"1\" class=\"dataframe\">\n",
       "  <thead>\n",
       "    <tr style=\"text-align: right;\">\n",
       "      <th></th>\n",
       "      <th>status</th>\n",
       "      <th>private pool</th>\n",
       "      <th>homeFacts</th>\n",
       "      <th>fireplace</th>\n",
       "      <th>schools</th>\n",
       "      <th>sqft</th>\n",
       "      <th>zipcode</th>\n",
       "      <th>state</th>\n",
       "      <th>stories</th>\n",
       "      <th>mls-id</th>\n",
       "      <th>PrivatePool</th>\n",
       "      <th>MlsId</th>\n",
       "      <th>target</th>\n",
       "      <th>NAME</th>\n",
       "      <th>ST</th>\n",
       "      <th>...</th>\n",
       "      <th>POPULATION</th>\n",
       "      <th>MALES</th>\n",
       "      <th>FEMALES</th>\n",
       "      <th>HSE_UNITS</th>\n",
       "      <th>VACANT</th>\n",
       "      <th>OWNER_OCC</th>\n",
       "      <th>state_mean</th>\n",
       "      <th>rent_sale</th>\n",
       "      <th>prop_type</th>\n",
       "      <th>city_hash</th>\n",
       "      <th>street_hash</th>\n",
       "      <th>address_hash</th>\n",
       "      <th>baths_count</th>\n",
       "      <th>beds_count</th>\n",
       "      <th>beds_square</th>\n",
       "    </tr>\n",
       "  </thead>\n",
       "  <tbody>\n",
       "    <tr>\n",
       "      <th>113718</th>\n",
       "      <td>active</td>\n",
       "      <td>NaN</td>\n",
       "      <td>{'atAGlanceFacts': [{'factValue': '', 'factLab...</td>\n",
       "      <td>NaN</td>\n",
       "      <td>[{'rating': ['7', '8', '4', '8', '9', '6', 'NR...</td>\n",
       "      <td>62376</td>\n",
       "      <td>78045</td>\n",
       "      <td>TX</td>\n",
       "      <td>NaN</td>\n",
       "      <td>NaN</td>\n",
       "      <td>NaN</td>\n",
       "      <td>20193851</td>\n",
       "      <td>1590000</td>\n",
       "      <td>laredo</td>\n",
       "      <td>TX</td>\n",
       "      <td>...</td>\n",
       "      <td>264978.0</td>\n",
       "      <td>114287.0</td>\n",
       "      <td>121804.0</td>\n",
       "      <td>68610.0</td>\n",
       "      <td>5065.0</td>\n",
       "      <td>40489.0</td>\n",
       "      <td>4.608991e+05</td>\n",
       "      <td>0</td>\n",
       "      <td>44</td>\n",
       "      <td>17028</td>\n",
       "      <td>57453</td>\n",
       "      <td>267237</td>\n",
       "      <td>2.0</td>\n",
       "      <td>144</td>\n",
       "      <td>0.0</td>\n",
       "    </tr>\n",
       "    <tr>\n",
       "      <th>143453</th>\n",
       "      <td>active</td>\n",
       "      <td>NaN</td>\n",
       "      <td>{'atAGlanceFacts': [{'factValue': '2002', 'fac...</td>\n",
       "      <td>NaN</td>\n",
       "      <td>[{'rating': ['9', '9', '4', '10', '8', '5', 'N...</td>\n",
       "      <td>55056</td>\n",
       "      <td>78045</td>\n",
       "      <td>TX</td>\n",
       "      <td>NaN</td>\n",
       "      <td>NaN</td>\n",
       "      <td>NaN</td>\n",
       "      <td>20191670</td>\n",
       "      <td>6000000</td>\n",
       "      <td>laredo</td>\n",
       "      <td>TX</td>\n",
       "      <td>...</td>\n",
       "      <td>264978.0</td>\n",
       "      <td>114287.0</td>\n",
       "      <td>121804.0</td>\n",
       "      <td>68610.0</td>\n",
       "      <td>5065.0</td>\n",
       "      <td>40489.0</td>\n",
       "      <td>4.608991e+05</td>\n",
       "      <td>0</td>\n",
       "      <td>44</td>\n",
       "      <td>17028</td>\n",
       "      <td>391312</td>\n",
       "      <td>192756</td>\n",
       "      <td>4.0</td>\n",
       "      <td>138</td>\n",
       "      <td>0.0</td>\n",
       "    </tr>\n",
       "    <tr>\n",
       "      <th>199253</th>\n",
       "      <td>for sale</td>\n",
       "      <td>NaN</td>\n",
       "      <td>{'atAGlanceFacts': [{'factValue': '1910', 'fac...</td>\n",
       "      <td>NaN</td>\n",
       "      <td>[{'rating': [], 'data': {'Distance': [], 'Grad...</td>\n",
       "      <td>30,500 sqft</td>\n",
       "      <td>2215</td>\n",
       "      <td>MA</td>\n",
       "      <td>NaN</td>\n",
       "      <td>NaN</td>\n",
       "      <td>NaN</td>\n",
       "      <td>72567479</td>\n",
       "      <td>30000000</td>\n",
       "      <td>boston</td>\n",
       "      <td>MA</td>\n",
       "      <td>...</td>\n",
       "      <td>661977.0</td>\n",
       "      <td>295951.0</td>\n",
       "      <td>321643.0</td>\n",
       "      <td>272481.0</td>\n",
       "      <td>19782.0</td>\n",
       "      <td>85791.0</td>\n",
       "      <td>1.402198e+06</td>\n",
       "      <td>0</td>\n",
       "      <td>44</td>\n",
       "      <td>10609</td>\n",
       "      <td>267134</td>\n",
       "      <td>466960</td>\n",
       "      <td>55.0</td>\n",
       "      <td>99</td>\n",
       "      <td>0.0</td>\n",
       "    </tr>\n",
       "    <tr>\n",
       "      <th>248198</th>\n",
       "      <td>for sale</td>\n",
       "      <td>NaN</td>\n",
       "      <td>{'atAGlanceFacts': [{'factValue': '1940', 'fac...</td>\n",
       "      <td>NaN</td>\n",
       "      <td>[{'rating': ['2/10'], 'data': {'Distance': ['0...</td>\n",
       "      <td>2,751 sqft</td>\n",
       "      <td>19140</td>\n",
       "      <td>PA</td>\n",
       "      <td>3.0</td>\n",
       "      <td>NaN</td>\n",
       "      <td>NaN</td>\n",
       "      <td>PAPH849396</td>\n",
       "      <td>100000</td>\n",
       "      <td>philadelphia</td>\n",
       "      <td>PA</td>\n",
       "      <td>...</td>\n",
       "      <td>1587761.0</td>\n",
       "      <td>719813.0</td>\n",
       "      <td>806193.0</td>\n",
       "      <td>670171.0</td>\n",
       "      <td>70435.0</td>\n",
       "      <td>324536.0</td>\n",
       "      <td>3.619094e+05</td>\n",
       "      <td>0</td>\n",
       "      <td>44</td>\n",
       "      <td>6370</td>\n",
       "      <td>126930</td>\n",
       "      <td>365637</td>\n",
       "      <td>100.0</td>\n",
       "      <td>100</td>\n",
       "      <td>0.0</td>\n",
       "    </tr>\n",
       "    <tr>\n",
       "      <th>325558</th>\n",
       "      <td>for sale</td>\n",
       "      <td>NaN</td>\n",
       "      <td>{'atAGlanceFacts': [{'factValue': '1910', 'fac...</td>\n",
       "      <td>NaN</td>\n",
       "      <td>[{'rating': ['2/10', '3/10'], 'data': {'Distan...</td>\n",
       "      <td>30,500</td>\n",
       "      <td>02215</td>\n",
       "      <td>MA</td>\n",
       "      <td>NaN</td>\n",
       "      <td>NaN</td>\n",
       "      <td>NaN</td>\n",
       "      <td>81, Boston, MA 02215</td>\n",
       "      <td>30000000</td>\n",
       "      <td>boston</td>\n",
       "      <td>MA</td>\n",
       "      <td>...</td>\n",
       "      <td>661977.0</td>\n",
       "      <td>295951.0</td>\n",
       "      <td>321643.0</td>\n",
       "      <td>272481.0</td>\n",
       "      <td>19782.0</td>\n",
       "      <td>85791.0</td>\n",
       "      <td>1.402198e+06</td>\n",
       "      <td>0</td>\n",
       "      <td>44</td>\n",
       "      <td>10609</td>\n",
       "      <td>267134</td>\n",
       "      <td>466960</td>\n",
       "      <td>55.0</td>\n",
       "      <td>99</td>\n",
       "      <td>0.0</td>\n",
       "    </tr>\n",
       "  </tbody>\n",
       "</table>\n",
       "<p>5 rows × 31 columns</p>\n",
       "</div>"
      ],
      "text/plain": [
       "          status private pool  \\\n",
       "113718    active          NaN   \n",
       "143453    active          NaN   \n",
       "199253  for sale          NaN   \n",
       "248198  for sale          NaN   \n",
       "325558  for sale          NaN   \n",
       "\n",
       "                                                homeFacts fireplace  \\\n",
       "113718  {'atAGlanceFacts': [{'factValue': '', 'factLab...       NaN   \n",
       "143453  {'atAGlanceFacts': [{'factValue': '2002', 'fac...       NaN   \n",
       "199253  {'atAGlanceFacts': [{'factValue': '1910', 'fac...       NaN   \n",
       "248198  {'atAGlanceFacts': [{'factValue': '1940', 'fac...       NaN   \n",
       "325558  {'atAGlanceFacts': [{'factValue': '1910', 'fac...       NaN   \n",
       "\n",
       "                                                  schools         sqft  \\\n",
       "113718  [{'rating': ['7', '8', '4', '8', '9', '6', 'NR...        62376   \n",
       "143453  [{'rating': ['9', '9', '4', '10', '8', '5', 'N...        55056   \n",
       "199253  [{'rating': [], 'data': {'Distance': [], 'Grad...  30,500 sqft   \n",
       "248198  [{'rating': ['2/10'], 'data': {'Distance': ['0...   2,751 sqft   \n",
       "325558  [{'rating': ['2/10', '3/10'], 'data': {'Distan...       30,500   \n",
       "\n",
       "       zipcode state stories mls-id PrivatePool                  MlsId  \\\n",
       "113718   78045    TX     NaN    NaN         NaN               20193851   \n",
       "143453   78045    TX     NaN    NaN         NaN               20191670   \n",
       "199253    2215    MA     NaN    NaN         NaN               72567479   \n",
       "248198   19140    PA     3.0    NaN         NaN             PAPH849396   \n",
       "325558   02215    MA     NaN    NaN         NaN   81, Boston, MA 02215   \n",
       "\n",
       "          target          NAME  ST  ...  POPULATION     MALES   FEMALES  \\\n",
       "113718   1590000        laredo  TX  ...    264978.0  114287.0  121804.0   \n",
       "143453   6000000        laredo  TX  ...    264978.0  114287.0  121804.0   \n",
       "199253  30000000        boston  MA  ...    661977.0  295951.0  321643.0   \n",
       "248198    100000  philadelphia  PA  ...   1587761.0  719813.0  806193.0   \n",
       "325558  30000000        boston  MA  ...    661977.0  295951.0  321643.0   \n",
       "\n",
       "        HSE_UNITS   VACANT  OWNER_OCC    state_mean  rent_sale  prop_type  \\\n",
       "113718    68610.0   5065.0    40489.0  4.608991e+05          0         44   \n",
       "143453    68610.0   5065.0    40489.0  4.608991e+05          0         44   \n",
       "199253   272481.0  19782.0    85791.0  1.402198e+06          0         44   \n",
       "248198   670171.0  70435.0   324536.0  3.619094e+05          0         44   \n",
       "325558   272481.0  19782.0    85791.0  1.402198e+06          0         44   \n",
       "\n",
       "        city_hash  street_hash  address_hash  baths_count  beds_count  \\\n",
       "113718      17028        57453        267237          2.0         144   \n",
       "143453      17028       391312        192756          4.0         138   \n",
       "199253      10609       267134        466960         55.0          99   \n",
       "248198       6370       126930        365637        100.0         100   \n",
       "325558      10609       267134        466960         55.0          99   \n",
       "\n",
       "        beds_square  \n",
       "113718          0.0  \n",
       "143453          0.0  \n",
       "199253          0.0  \n",
       "248198          0.0  \n",
       "325558          0.0  \n",
       "\n",
       "[5 rows x 31 columns]"
      ]
     },
     "execution_count": 60,
     "metadata": {},
     "output_type": "execute_result"
    }
   ],
   "source": [
    "data[data['beds_count']>90]"
   ]
  },
  {
   "cell_type": "markdown",
   "metadata": {},
   "source": [
    "## 7. поле schools\n",
    "\n",
    "Поле содержит информацию о близлежащих школах. Количество школ – для каждого дома разное. Для каждой школы указывается ее имя, рейтинг, дистанция, какие классы.\n",
    "\n",
    "Preschool заменяем на PK (судя по той информации, что я нашла, это одно и то же)\n",
    "\n",
    "Выделяем в отдельные столбцы:\n",
    "*\tколичество школ по классам, включая K и PK\n",
    "*\tобщее количество школ\n",
    "*\tминимальную, максимальную и среднюю дистанцию до школ\n",
    "*\tмаксимальный рейтинг школы\n",
    "*\tнекая придуманная метрика, которая получается путем перемножения списка рейтингов на список дистанций до школ\n"
   ]
  },
  {
   "cell_type": "code",
   "execution_count": 61,
   "metadata": {
    "scrolled": true
   },
   "outputs": [
    {
     "data": {
      "text/plain": [
       "\"[{'rating': ['8', '6', '4'], 'data': {'Distance': ['1.5 mi', '2.3 mi', '3.4 mi'], 'Grades': ['Preschool to 5', '6 to 8', '9 to 12']}, 'name': ['Silver Ridge Elementary School', 'Driftwood Middle School', 'Hollywood Hills High School']}]\""
      ]
     },
     "execution_count": 61,
     "metadata": {},
     "output_type": "execute_result"
    }
   ],
   "source": [
    "#пример данных\n",
    "data['schools'][0]"
   ]
  },
  {
   "cell_type": "code",
   "execution_count": 62,
   "metadata": {},
   "outputs": [],
   "source": [
    "def make_schools(row):\n",
    "\n",
    "    #разбираем, какие классы есть в близлежащих школах\n",
    "    grades = eval(row[1:-1])['data']['Grades']\n",
    "    \n",
    "    result={'K':0,'1':0,'2':0,'3':0,'4':0,'5':0,'6':0,'7':0,'8':0,'9':0,'10':0,'11':0,'12':0, 'PK':0}\n",
    "    for i in grades:\n",
    "        i = (str(i).replace(' to ', '-').replace('–', '-')).split(',')\n",
    "        for ii in i:\n",
    "            ii = ii.strip().upper().replace('PK','PRESCHOOL')\n",
    "            if 'PRESCHOOL' in ii:\n",
    "                result['PK']+=1\n",
    "                ii = ii.replace('PRESCHOOL','1')\n",
    "            if 'K' in ii:\n",
    "                result['K']+=1\n",
    "                ii = ii.replace('K','1')\n",
    "            if '-' in ii:\n",
    "                j = ii.split('-')\n",
    "                for k in range(int(j[0]), int(j[1])+1):\n",
    "                    result[str(k)]+=1\n",
    "    \n",
    "    #считаем количество школ \n",
    "    result['schools_count']=len(eval(row[1:-1])['rating'])\n",
    "    \n",
    "    #считаем дистанцию по школам\n",
    "    result['min_dist']=0\n",
    "    result['max_dist']=0\n",
    "    result['mean_dist']=0\n",
    "\n",
    "    data_list = eval(row[1:-1])['data']['Distance']\n",
    "    dist_list=[]\n",
    "    for i in data_list:\n",
    "        i = i.replace('mi', '').strip()\n",
    "        try:\n",
    "            i = float(i)\n",
    "            dist_list.append(i)\n",
    "        except:\n",
    "            print(i)\n",
    "            i = 0 \n",
    "    if len(dist_list)>0:\n",
    "        result['min_dist']=min(dist_list)\n",
    "        result['max_dist']=max(dist_list)\n",
    "        result['mean_dist']=mean(dist_list)\n",
    "    \n",
    "    #разбираем рейтинги школ\n",
    "    regex = re.compile('\\D+')\n",
    "    data2_list = eval(row[1:-1])['rating']\n",
    "    rate_list=[]\n",
    "    if len(data2_list)>0:\n",
    "        for i in data2_list:\n",
    "            i = i.replace('/10','')\n",
    "            i = regex.sub('', str(i))\n",
    "            if i != '':\n",
    "                rate_list.append(int(i))\n",
    "            else:\n",
    "                rate_list.append(0)\n",
    "    if len(rate_list)>0:\n",
    "        result['max_rate'] = max(rate_list) \n",
    "    else:\n",
    "        result['max_rate']=0\n",
    "        \n",
    "    if len(dist_list)==len(rate_list):\n",
    "        result['average_rate_school']=np.array(dist_list)@np.array(rate_list)\n",
    "    else:\n",
    "        result['average_rate_school']=0\n",
    "    \n",
    "    return pd.Series(result)"
   ]
  },
  {
   "cell_type": "code",
   "execution_count": 63,
   "metadata": {},
   "outputs": [],
   "source": [
    "#добавляем кучу новых столбцов с характеристиками по школам\n",
    "new_columns = ['K','1','2','3','4','5','6','7','8','9','10','11','12', 'PK', 'schools_count', \n",
    "              'min_dist', 'max_dist', 'mean_dist', 'max_rate', 'average_rate_school']\n",
    "data[new_columns] = pd.DataFrame(data['schools'].apply(lambda x: make_schools(x)), index=data.index)"
   ]
  },
  {
   "cell_type": "code",
   "execution_count": 64,
   "metadata": {},
   "outputs": [],
   "source": [
    "#удаляем исходный столбец про школы\n",
    "data = data.drop(['schools'], axis = 'columns')"
   ]
  },
  {
   "cell_type": "markdown",
   "metadata": {},
   "source": [
    "## 8. поле sqft\n",
    "\n",
    "Поле содержит информацию о площади дома. Отсутствующие значения заменяем на 0. В существующих оставляем только цифры. Если в описании только буквы, то заменяем на 0. Приводим к формату int.\n",
    "\n",
    "Удаляем выбросы: строки, где площадь дома более 40 млн кв. футов (так как у них указан тип как многоквартирный дом, а стоимость невелика). Для остальных «больших» площадей указан тип «land», понимаем это так, что продается дом с землей.\n"
   ]
  },
  {
   "cell_type": "code",
   "execution_count": 65,
   "metadata": {},
   "outputs": [],
   "source": [
    "data['sqft'].fillna(0, inplace=True)"
   ]
  },
  {
   "cell_type": "code",
   "execution_count": 66,
   "metadata": {},
   "outputs": [],
   "source": [
    "#убираем все символы, кроме цифр. Приводим к формату int\n",
    "regex_sq = re.compile('\\D+')\n",
    "data['sqft'] = data['sqft'].apply(lambda x: regex_sq.sub('', str(x)))\n",
    "data['sqft'] = data['sqft'].apply(lambda x: int(x) if x != '' else 0)"
   ]
  },
  {
   "cell_type": "code",
   "execution_count": 67,
   "metadata": {},
   "outputs": [
    {
     "name": "stdout",
     "output_type": "stream",
     "text": [
      "осталось 374434 значений\n"
     ]
    }
   ],
   "source": [
    "#удаляем выбросы. Площадь больше 4000000\n",
    "data = data.loc[data['sqft']<40000000]\n",
    "print('осталось {0} значений'.format(len(data)))"
   ]
  },
  {
   "cell_type": "code",
   "execution_count": 68,
   "metadata": {
    "scrolled": true
   },
   "outputs": [
    {
     "data": {
      "image/png": "[encoded data removed]",
      "text/plain": [
       "<Figure size 432x288 with 1 Axes>"
      ]
     },
     "metadata": {
      "needs_background": "light"
     },
     "output_type": "display_data"
    }
   ],
   "source": [
    "#стоимость домов в зависимости от площади\n",
    "X_sqft = data[['sqft', 'target']]\n",
    "\n",
    "fig_target_sqft = plt.figure()\n",
    "axes_target_sqft = fig_target_sqft.add_axes([0, 0, 2, 2])\n",
    "axes_target_sqft.set_xlabel('Площадь дома')\n",
    "axes_target_sqft.set_ylabel('Стоимость дома')\n",
    "axes_target_sqft.set_title('Стоимость домов в зависимости от площади дома')\n",
    "plt.plot(X_sqft['sqft'], X_sqft['target'],'o')\n",
    "plt.show()"
   ]
  },
  {
   "cell_type": "markdown",
   "metadata": {},
   "source": [
    "## 9. поле zipcode\n",
    "\n",
    "Поле содержит информацию о почтовом индексе. Оставляем в поле только цифры (избавляемся от остальных знаков). Преобразуем в тип int. Целочисленные значения записываем в новое поле zipcode_int."
   ]
  },
  {
   "cell_type": "code",
   "execution_count": 69,
   "metadata": {},
   "outputs": [],
   "source": [
    "#убираем все символы, кроме цифр. Приводим к формату int\n",
    "regex = re.compile('\\D+')\n",
    "data['zipcode_int'] = data['zipcode'].apply(lambda x: int(regex.sub('', str(x))) if regex.sub('', str(x))!='' else 0)"
   ]
  },
  {
   "cell_type": "markdown",
   "metadata": {},
   "source": [
    "## 10. private pool  и PrivatePool\n",
    "\n",
    "Поля содержат информацию о наличии приватного бассейна. Судя по всему, различные названия полей пришли из разных систем, но данные содержат примерно одинаковые.\n",
    "\n",
    "Формируем новый столбец, который содержит 1, если бассейн указан хотя бы в одном из этих полей, и 0 в противном случае. \n"
   ]
  },
  {
   "cell_type": "code",
   "execution_count": 70,
   "metadata": {},
   "outputs": [],
   "source": [
    "data['private pool1'] = data['private pool'].apply(lambda x: 1 if str(x).lower()=='yes' else 0)\n",
    "data['PrivatePool1'] = data['PrivatePool'].apply(lambda x: 1 if str(x).lower()=='yes' else 0)\n",
    "data['pool'] = data[['PrivatePool1','private pool1']].values.max(1)"
   ]
  },
  {
   "cell_type": "code",
   "execution_count": 71,
   "metadata": {},
   "outputs": [
    {
     "data": {
      "text/plain": [
       "array([nan, 'Yes'], dtype=object)"
      ]
     },
     "execution_count": 71,
     "metadata": {},
     "output_type": "execute_result"
    }
   ],
   "source": [
    "data['private pool'].unique()"
   ]
  },
  {
   "cell_type": "code",
   "execution_count": 72,
   "metadata": {},
   "outputs": [
    {
     "data": {
      "text/plain": [
       "array([nan, 'yes', 'Yes'], dtype=object)"
      ]
     },
     "execution_count": 72,
     "metadata": {},
     "output_type": "execute_result"
    }
   ],
   "source": [
    "data['PrivatePool'].unique()"
   ]
  },
  {
   "cell_type": "code",
   "execution_count": 73,
   "metadata": {},
   "outputs": [
    {
     "data": {
      "text/html": [
       "<div>\n",
       "<style scoped>\n",
       "    .dataframe tbody tr th:only-of-type {\n",
       "        vertical-align: middle;\n",
       "    }\n",
       "\n",
       "    .dataframe tbody tr th {\n",
       "        vertical-align: top;\n",
       "    }\n",
       "\n",
       "    .dataframe thead th {\n",
       "        text-align: right;\n",
       "    }\n",
       "</style>\n",
       "<table border=\"1\" class=\"dataframe\">\n",
       "  <thead>\n",
       "    <tr style=\"text-align: right;\">\n",
       "      <th></th>\n",
       "      <th>PrivatePool</th>\n",
       "      <th>private pool</th>\n",
       "      <th>pool</th>\n",
       "    </tr>\n",
       "  </thead>\n",
       "  <tbody>\n",
       "    <tr>\n",
       "      <th>1</th>\n",
       "      <td>yes</td>\n",
       "      <td>NaN</td>\n",
       "      <td>1</td>\n",
       "    </tr>\n",
       "    <tr>\n",
       "      <th>4</th>\n",
       "      <td>yes</td>\n",
       "      <td>NaN</td>\n",
       "      <td>1</td>\n",
       "    </tr>\n",
       "    <tr>\n",
       "      <th>13</th>\n",
       "      <td>yes</td>\n",
       "      <td>NaN</td>\n",
       "      <td>1</td>\n",
       "    </tr>\n",
       "    <tr>\n",
       "      <th>16</th>\n",
       "      <td>Yes</td>\n",
       "      <td>NaN</td>\n",
       "      <td>1</td>\n",
       "    </tr>\n",
       "    <tr>\n",
       "      <th>19</th>\n",
       "      <td>yes</td>\n",
       "      <td>NaN</td>\n",
       "      <td>1</td>\n",
       "    </tr>\n",
       "    <tr>\n",
       "      <th>...</th>\n",
       "      <td>...</td>\n",
       "      <td>...</td>\n",
       "      <td>...</td>\n",
       "    </tr>\n",
       "    <tr>\n",
       "      <th>374657</th>\n",
       "      <td>yes</td>\n",
       "      <td>NaN</td>\n",
       "      <td>1</td>\n",
       "    </tr>\n",
       "    <tr>\n",
       "      <th>374666</th>\n",
       "      <td>yes</td>\n",
       "      <td>NaN</td>\n",
       "      <td>1</td>\n",
       "    </tr>\n",
       "    <tr>\n",
       "      <th>374667</th>\n",
       "      <td>yes</td>\n",
       "      <td>NaN</td>\n",
       "      <td>1</td>\n",
       "    </tr>\n",
       "    <tr>\n",
       "      <th>374671</th>\n",
       "      <td>yes</td>\n",
       "      <td>NaN</td>\n",
       "      <td>1</td>\n",
       "    </tr>\n",
       "    <tr>\n",
       "      <th>374681</th>\n",
       "      <td>Yes</td>\n",
       "      <td>NaN</td>\n",
       "      <td>1</td>\n",
       "    </tr>\n",
       "  </tbody>\n",
       "</table>\n",
       "<p>44493 rows × 3 columns</p>\n",
       "</div>"
      ],
      "text/plain": [
       "       PrivatePool private pool  pool\n",
       "1              yes          NaN     1\n",
       "4              yes          NaN     1\n",
       "13             yes          NaN     1\n",
       "16             Yes          NaN     1\n",
       "19             yes          NaN     1\n",
       "...            ...          ...   ...\n",
       "374657         yes          NaN     1\n",
       "374666         yes          NaN     1\n",
       "374667         yes          NaN     1\n",
       "374671         yes          NaN     1\n",
       "374681         Yes          NaN     1\n",
       "\n",
       "[44493 rows x 3 columns]"
      ]
     },
     "execution_count": 73,
     "metadata": {},
     "output_type": "execute_result"
    }
   ],
   "source": [
    "data[data['pool'] > 0][['PrivatePool','private pool', 'pool']]"
   ]
  },
  {
   "cell_type": "code",
   "execution_count": 74,
   "metadata": {},
   "outputs": [],
   "source": [
    "#удаляем ненужные столбцы\n",
    "data = data.drop(['PrivatePool','private pool','PrivatePool1','private pool1'], axis='columns')"
   ]
  },
  {
   "cell_type": "markdown",
   "metadata": {},
   "source": [
    "## 11. поле fireplace\n",
    "\n",
    "Поле содержит информацию об отоплении (хотя название поля говорит вроде бы о наличии камина). Данные очень грязные. В некоторых строках написано «да», в некоторых строках идет перечисление вообще всех отопительных приборов в доме.\n",
    "\n",
    "Преобразуем этот столбец в fireplace_y_n, который будет содержать информацию о том, есть (1) или нет (0) информация об отоплении. В качестве «нет информации» считаем значения 'nan', 'not applicable', 'no'.\n",
    "\n",
    "Делаем еще одно поле с количеством характеристик обогрева (сколько вариантов перечислено в исходном поле).\n"
   ]
  },
  {
   "cell_type": "code",
   "execution_count": 75,
   "metadata": {},
   "outputs": [
    {
     "name": "stdout",
     "output_type": "stream",
     "text": [
      "1675\n"
     ]
    },
    {
     "data": {
      "text/plain": [
       "array([nan, 'yes', 'Yes',\n",
       "       '3+ Fireplace, Exterior Fireplace, Fireplace Family Rm',\n",
       "       'Gas Logs, Gas Starter', '1', 'Ceiling Fan, Water Filter',\n",
       "       'Wood Burning', '2', 'Not Applicable', 'Fireplace', 'Family Room',\n",
       "       '3', '2+ Fireplaces', 'Gas Logs, In Great Room', 'Gas/Gas Logs',\n",
       "       'Direct Vent, One', 'FAMILYRM',\n",
       "       'Fireplace - Gas, Flooring - HardWood, Walk-In Closet(s), Master Bedroom - Sitting Area',\n",
       "       '0',\n",
       "       'Air Filter, Ceiling Fan, Utility Connection, Walk-In Closets',\n",
       "       'Air Filter, Ceiling Fan, Utility Connection',\n",
       "       'Ceiling Fan, Utility Connection',\n",
       "       '2 or more Fireplaces, Brick Fireplace, Fireplace-Bedroom, Fireplace-Living Rm, Tile Fireplace',\n",
       "       'Wood', 'N/K', 'Fireplace YN', 'Walk-In Closets',\n",
       "       'Fireplace Insert',\n",
       "       'Ceiling Fan, Redecorated, Utility Connection, Walk-In Closets'],\n",
       "      dtype=object)"
      ]
     },
     "execution_count": 75,
     "metadata": {},
     "output_type": "execute_result"
    }
   ],
   "source": [
    "print(len(data['fireplace'].unique()))\n",
    "data['fireplace'].unique()[:30]"
   ]
  },
  {
   "cell_type": "code",
   "execution_count": 76,
   "metadata": {},
   "outputs": [],
   "source": [
    "#пока простая обработка \"есть/нет\"\n",
    "data['fireplace_y_n'] = data['fireplace'].apply(lambda x: 0 if (str(x) == 'nan' \n",
    "                                                                or str(x).lower() == 'not applicable' \n",
    "                                                                or str(x).lower() == 'no') else 1)\n",
    "\n"
   ]
  },
  {
   "cell_type": "code",
   "execution_count": 77,
   "metadata": {},
   "outputs": [],
   "source": [
    "#Работа с обогревом. Смотрим частоту встречания разных вариантов\n",
    "fireplace_list = []\n",
    "for x in data['fireplace']:\n",
    "    if type(x) is str:\n",
    "        #print(ast.literal_eval(x))\n",
    "        li = x.split(',') #преобразуем строку \"со списком\" в настоящий список\n",
    "        #print(li)\n",
    "        for i in li:\n",
    "            fireplace_list.append(i.strip())\n",
    "\n",
    "#считаем сколько раз упоминается \n",
    "fireplace_dict = {} #делаем словарь с количеством упоминаний\n",
    "for i in fireplace_list:\n",
    "    if i not in fireplace_dict.keys():\n",
    "        fireplace_dict[i] = 0\n",
    "    fireplace_dict[i] += 1"
   ]
  },
  {
   "cell_type": "code",
   "execution_count": 78,
   "metadata": {},
   "outputs": [
    {
     "data": {
      "text/plain": [
       "{'yes': 50106,\n",
       " 'Yes': 20761,\n",
       " '3+ Fireplace': 9,\n",
       " 'Exterior Fireplace': 50,\n",
       " 'Fireplace Family Rm': 185,\n",
       " 'Gas Logs': 1252,\n",
       " 'Gas Starter': 130,\n",
       " '1': 14283,\n",
       " 'Ceiling Fan': 1264,\n",
       " 'Water Filter': 25,\n",
       " 'Wood Burning': 1143,\n",
       " '2': 2367,\n",
       " 'Not Applicable': 1924,\n",
       " 'Fireplace': 861,\n",
       " 'Family Room': 543,\n",
       " '3': 554,\n",
       " '2+ Fireplaces': 9,\n",
       " 'In Great Room': 217,\n",
       " 'Gas/Gas Logs': 341,\n",
       " 'Direct Vent': 31,\n",
       " 'One': 421,\n",
       " 'FAMILYRM': 632,\n",
       " 'Fireplace - Gas': 56,\n",
       " 'Flooring - HardWood': 74,\n",
       " 'Walk-In Closet(s)': 7,\n",
       " 'Master Bedroom - Sitting Area': 6,\n",
       " '0': 271,\n",
       " 'Air Filter': 153,\n",
       " 'Utility Connection': 657,\n",
       " 'Walk-In Closets': 1018,\n",
       " '2 or more Fireplaces': 8,\n",
       " 'Brick Fireplace': 13,\n",
       " 'Fireplace-Bedroom': 5,\n",
       " 'Fireplace-Living Rm': 20,\n",
       " 'Tile Fireplace': 4,\n",
       " 'Wood': 230,\n",
       " 'N/K': 51,\n",
       " 'Fireplace YN': 295,\n",
       " 'Fireplace Insert': 32,\n",
       " 'Redecorated': 133,\n",
       " '# Fireplaces - Gas': 54,\n",
       " 'Extra Closets': 641,\n",
       " 'Storage': 623,\n",
       " '1 Fireplace': 740,\n",
       " 'In Den/Family Room': 209,\n",
       " 'In Kitchen/Dining Room': 21,\n",
       " 'Outside': 17,\n",
       " 'Fireplace Living Rm': 105,\n",
       " 'Gas Fireplace': 237,\n",
       " 'Great Room': 620,\n",
       " 'Wood Burning FP': 127,\n",
       " 'Natural Gas': 162,\n",
       " 'In-Law Quarters': 85,\n",
       " 'LOCATION': 515,\n",
       " 'Fireplace Features': 250,\n",
       " '8': 7,\n",
       " 'Decorative': 213,\n",
       " 'Electric': 162,\n",
       " 'Living Room': 1132,\n",
       " 'In Living Room': 276,\n",
       " 'Gas': 499,\n",
       " 'Gas Log Starter': 79,\n",
       " 'In Bedroom': 40,\n",
       " 'Crown Molding': 22,\n",
       " 'Pantry': 5,\n",
       " 'Countertop(s) - Granite': 3,\n",
       " 'Breakfast Nook': 1,\n",
       " 'Double Sink': 2,\n",
       " 'Fireplace - Wood Burning': 68,\n",
       " 'Kitchen - Gas Cooking': 2,\n",
       " 'Gas Fuel': 92,\n",
       " 'Wood Fuel': 20,\n",
       " 'Master Bedroom': 160,\n",
       " 'Special Features': 270,\n",
       " 'Formal': 4,\n",
       " 'Gas Log': 292,\n",
       " 'Log Woodburning': 102,\n",
       " 'Brick': 55,\n",
       " 'Log Wood-Burning': 47,\n",
       " '2 Fireplaces': 33,\n",
       " 'Wood-Burning Stove': 12,\n",
       " '4': 205,\n",
       " 'Rec Room': 21,\n",
       " 'Den': 174,\n",
       " '# Fireplaces - Woodstoves': 18,\n",
       " 'Firepit': 62,\n",
       " 'Free Standing': 40,\n",
       " 'Gas Unvented': 23,\n",
       " 'SMTHR': 112,\n",
       " 'Multi-sided Fireplace': 5,\n",
       " 'Living Room Fireplace': 29,\n",
       " 'Dining Room Fireplace': 2,\n",
       " 'Wet Bar': 158,\n",
       " 'No': 299,\n",
       " 'Kitchen': 29,\n",
       " 'Marble': 2,\n",
       " 'See Agent': 12,\n",
       " 'Flooring - Tile': 5,\n",
       " 'Number': 7,\n",
       " 'Masonry': 38,\n",
       " 'Gas Vented': 161,\n",
       " '5': 70,\n",
       " 'Gas Starters': 17,\n",
       " 'Ventless': 34,\n",
       " 'Propane': 28,\n",
       " 'Insert': 26,\n",
       " 'Electric Logs': 25,\n",
       " 'Flooring - Carpet': 26,\n",
       " 'Built-Ins': 12,\n",
       " 'Wood burning w/Gas Starter': 15,\n",
       " 'Stone Fireplace': 13,\n",
       " 'Heatilator Type System': 6,\n",
       " 'Chair Rail': 3,\n",
       " 'Two Way Fireplace': 20,\n",
       " 'Dining Area': 4,\n",
       " 'Balcony Access': 6,\n",
       " 'Woodburning': 7,\n",
       " '6': 32,\n",
       " 'Wood Stove': 19,\n",
       " 'Bedroom Fireplace': 1,\n",
       " 'Electric Fireplace': 9,\n",
       " 'Free Standing Wood Stove': 5,\n",
       " 'Wood Burning Fireplace': 20,\n",
       " 'Fireplaces': 37,\n",
       " 'Elevator': 74,\n",
       " 'Free-standing': 4,\n",
       " 'Misc #2': 4,\n",
       " 'Propane Logs Convey': 19,\n",
       " 'Two': 85,\n",
       " 'See Thru': 11,\n",
       " 'Great Room Fireplace': 33,\n",
       " '# Fireplaces - Woodburning': 58,\n",
       " 'Basement Fireplace': 11,\n",
       " 'Other Room': 67,\n",
       " 'Pellet': 3,\n",
       " 'Fire Sprinkler System': 89,\n",
       " 'Family Room Fireplace': 21,\n",
       " 'Gas Log Fireplace': 24,\n",
       " 'Gas Logs Included': 20,\n",
       " 'SMLT': 24,\n",
       " 'Fireplace in Master Bedroom': 1,\n",
       " 'Factory Built': 21,\n",
       " 'Wood Burning Frplc': 35,\n",
       " 'Fireplace-Wood': 49,\n",
       " 'Forced Air': 117,\n",
       " 'In Rec Room': 22,\n",
       " 'Fireplace-Gas': 72,\n",
       " 'Master Bedroom - Dressing Area': 2,\n",
       " 'Fireplace-Other': 16,\n",
       " '# Fireplaces - Pellet': 8,\n",
       " 'Flue': 12,\n",
       " 'Three or More': 6,\n",
       " 'Dining Room': 13,\n",
       " 'Stone': 9,\n",
       " 'Auto Sprinkler': 2,\n",
       " 'Private Dock': 2,\n",
       " 'Pool In-Ground': 3,\n",
       " 'Pool Screened': 2,\n",
       " 'SMAPL': 33,\n",
       " 'Bed Room Fireplace': 3,\n",
       " 'Master': 3,\n",
       " 'Den/Library Fireplace': 1,\n",
       " '7': 19,\n",
       " '2 Fireplace': 57,\n",
       " 'Fireplace Master Bdr': 27,\n",
       " 'Central Vacuum': 86,\n",
       " 'Intercom': 15,\n",
       " 'Frplc-Fam Rm/Den/Gr': 14,\n",
       " 'Bonus Room': 18,\n",
       " 'Woodstove': 25,\n",
       " 'SMCAM': 20,\n",
       " 'Raised Hearth': 3,\n",
       " 'Hot Tub': 23,\n",
       " 'Master Suite': 1,\n",
       " 'Non Wood Burning': 40,\n",
       " 'Unit Features': 1,\n",
       " 'Bedroom Features': 11,\n",
       " 'Attached Fireplace Doors/Screen': 37,\n",
       " 'Recording Studio': 7,\n",
       " 'Three': 8,\n",
       " 'Two Way': 8,\n",
       " 'Gas Burning': 22,\n",
       " 'Dehumidifier': 9,\n",
       " 'Fire Pit': 30,\n",
       " 'Fireplace Equipment': 1,\n",
       " 'Central Air': 4,\n",
       " 'Central Heat': 3,\n",
       " 'Fireplace(s)': 6,\n",
       " 'Multi-Zone': 3,\n",
       " 'Whole House Fan': 3,\n",
       " 'Mock Fireplace': 3,\n",
       " 'Central Furnace': 7,\n",
       " 'Basement': 19,\n",
       " '10': 2,\n",
       " '4+ Fireplaces': 3,\n",
       " 'Basement - Finished': 6,\n",
       " 'See Through': 14,\n",
       " 'Outdoor': 4,\n",
       " 'Bath': 6,\n",
       " 'No Fireplace': 10,\n",
       " 'Fireplace - Electric': 3,\n",
       " 'Porch': 10,\n",
       " 'Wall Mounted': 5,\n",
       " 'Woodburning Stove': 27,\n",
       " 'In Den/Great Room': 2,\n",
       " 'Freestnd Fireplace': 8,\n",
       " '# Fireplaces - Artificial': 8,\n",
       " 'Pellet Stove': 4,\n",
       " 'Fireplace in Living Room': 2,\n",
       " '3 Fireplaces': 5,\n",
       " 'Two-Way': 1,\n",
       " 'Gas Hot Air/Furnace': 1,\n",
       " 'g-Sealed Combustion Fireplace/Woodstove': 1,\n",
       " 'Attached Screens': 2,\n",
       " 'Four or More': 2,\n",
       " 'Other (See Remarks)': 32,\n",
       " 'Masonry Fireplace': 7,\n",
       " '12': 1,\n",
       " '3+': 31,\n",
       " 'Heating system: yes(s)': 2,\n",
       " 'Extras': 13,\n",
       " 'Bath Features': 2,\n",
       " 'Heat Pump': 12,\n",
       " 'Skylight(s)': 1,\n",
       " 'Hot Water/Steam': 12,\n",
       " 'Radiant': 1,\n",
       " 'Radiators': 7,\n",
       " 'Cathedral Ceiling': 4,\n",
       " 'Ceiling Fans': 4,\n",
       " 'Circle Drive': 3,\n",
       " 'In-law Apt': 1,\n",
       " 'Paved Drive': 4,\n",
       " 'Shed': 2,\n",
       " 'Sprinkler Syst-Yrd': 2,\n",
       " 'Walk-in Closet': 2,\n",
       " 'Propane Stove': 1,\n",
       " 'Freestanding': 2,\n",
       " 'Wood Burning Stove': 6,\n",
       " 'Ceiling Fan(s)': 8,\n",
       " 'In Family Room': 3,\n",
       " 'See through/Multi Sided': 10,\n",
       " '4+': 16,\n",
       " 'Re-circulating Fireplace': 1,\n",
       " 'FP in Living Room': 7,\n",
       " 'Guest House': 1,\n",
       " 'Stove': 3,\n",
       " 'HOA': 2,\n",
       " 'Insulated Windows': 2,\n",
       " 'Secure Community': 1,\n",
       " 'Living/Dining Room Combo': 5,\n",
       " 'Cathedral/Vaulted Ceiling': 4,\n",
       " 'Countertop(s) - Solid Surface': 1,\n",
       " 'Fireplace - Other': 1,\n",
       " 'Flooring - Slate': 1,\n",
       " 'Formal Dining Room': 3,\n",
       " 'Presently Inoperative': 2,\n",
       " 'Decorative Only': 2,\n",
       " '# Fireplaces - Freestanding': 4,\n",
       " 'Remarks': 2,\n",
       " 'Recirculator': 1,\n",
       " 'In Master Bedroom': 1,\n",
       " 'In Study': 1,\n",
       " '11': 2,\n",
       " 'Other - See Remarks': 1,\n",
       " 'Family/Recreation Room Fireplace': 7,\n",
       " 'Master Bedroom Fireplace': 4,\n",
       " 'Flooring - Laminate': 2,\n",
       " 'Flooring - Other': 1,\n",
       " 'Zoned': 4,\n",
       " 'Fireplace in Family Room': 1,\n",
       " 'Non Wood Burn': 1,\n",
       " 'Partial Fence': 2,\n",
       " 'Wall': 1,\n",
       " 'FP in Family Room': 2,\n",
       " 'FP in Master BR': 2,\n",
       " 'Blinds': 2,\n",
       " 'Cable TV': 3,\n",
       " 'Carpeted Floors': 3,\n",
       " 'Entry Porch': 4,\n",
       " 'Patio': 7,\n",
       " 'Rear Porch': 2,\n",
       " 'Security System': 3,\n",
       " 'Underground Util': 2,\n",
       " 'Whirlpool Tub': 2,\n",
       " 'Window Treatment': 2,\n",
       " 'Breakfast Bar': 2,\n",
       " 'Breakfast Room': 1,\n",
       " 'Soaking Tub': 1,\n",
       " 'Study': 1,\n",
       " 'Main': 1,\n",
       " 'With Gas Logs': 2,\n",
       " 'Heat-O-Later': 1,\n",
       " 'Non-Wood Burning': 2,\n",
       " 'Mantle': 15,\n",
       " 'Prefabricated': 1,\n",
       " 'Vented Gas Fireplace': 2,\n",
       " 'Baseboard': 5,\n",
       " 'Other/Remarks': 1,\n",
       " 'Bulkhead': 1,\n",
       " 'Pool Heated': 2,\n",
       " 'Dining': 5,\n",
       " 'Heatilater': 1,\n",
       " 'Flooring - Concrete': 1,\n",
       " 'Living': 3,\n",
       " 'Forced Warm Air': 4,\n",
       " 'Wall Furnace': 1,\n",
       " 'Keeping Room': 1,\n",
       " '9': 2,\n",
       " 'Balcony': 1,\n",
       " 'Cable TV Available': 2,\n",
       " 'Storage Lockers': 1,\n",
       " 'Vaulted Ceiling': 3,\n",
       " 'Walk-in Closet(s)': 3,\n",
       " 'Includes Accessories': 5,\n",
       " 'Gas Ventless': 3,\n",
       " 'In Den': 3,\n",
       " 'Recreation Room': 1,\n",
       " 'Gas Starter Fireplace': 3,\n",
       " 'Family': 1,\n",
       " 'Coal': 1,\n",
       " '2 Sided Fireplace': 3,\n",
       " 'In Living Area': 3,\n",
       " 'Wood Stove Insert': 2,\n",
       " 'Window Treatments': 2,\n",
       " 'Marble Fireplace': 1,\n",
       " 'Screened Porch access': 1,\n",
       " 'Decorative Fireplace': 1,\n",
       " 'Other': 2,\n",
       " '2 Sided Fire Place': 3,\n",
       " 'Rec Room Fireplace': 1,\n",
       " 'Humidifier': 3,\n",
       " 'Gas-Burning': 1,\n",
       " 'Gas Log(s)': 1,\n",
       " 'Vented Gas': 2,\n",
       " 'Fenced Yard': 2,\n",
       " 'Outdoors': 5,\n",
       " 'Metal': 1,\n",
       " 'Satellite Dish': 1,\n",
       " 'Portable/Ventless': 2,\n",
       " 'LP Gas': 1,\n",
       " 'Circulator Hot Water': 1,\n",
       " 'Gas Log-Propane': 1,\n",
       " 'Two+': 1,\n",
       " 'High Speed Internet Available': 2,\n",
       " 'In-Unit Laundry': 2,\n",
       " 'Patio/Porch': 2,\n",
       " 'Three+': 2,\n",
       " 'Glass/Enclosed Screen': 1,\n",
       " 'Patio/Outdoors': 1,\n",
       " 'Prefab': 2,\n",
       " 'Gas Logs Present': 2,\n",
       " 'Location': 3,\n",
       " 'Bedroom Downstairs': 1,\n",
       " 'Other-See Remarks': 2,\n",
       " 'Tub Shower': 1,\n",
       " 'Pre-Fab': 1,\n",
       " 'Private Entry': 1,\n",
       " 'Location (Living Room)': 1,\n",
       " 'See Remarks': 1,\n",
       " 'Vented': 1,\n",
       " 'Countertop(s) - Quartz': 1,\n",
       " 'Paneling': 1,\n",
       " 'In-Law Suite': 1,\n",
       " 'Garages': 1,\n",
       " 'W/D Hookups': 1,\n",
       " 'Attached Doors': 1,\n",
       " 'Two Sided': 1,\n",
       " 'Hearth Room Fireplace': 3,\n",
       " 'Heatilator': 2,\n",
       " 'Non-functional': 1,\n",
       " 'Free Standing Frplc': 3,\n",
       " 'Electric Baseboard': 1,\n",
       " 'Island': 1,\n",
       " 'Masonry Box': 1,\n",
       " 'Deck': 1,\n",
       " 'Shop': 1,\n",
       " 'None': 1,\n",
       " 'Wood Furnace': 1,\n",
       " 'Non-Functional Fireplace': 1,\n",
       " 'Dry Bar': 1,\n",
       " '1000+ Sq. Ft.': 1,\n",
       " 'Deck/Porch/Patio': 1,\n",
       " 'Range/Oven': 1,\n",
       " 'Dishwasher': 1,\n",
       " '3/More Bedrooms': 1,\n",
       " '2/More Baths': 1,\n",
       " '2 Story': 1,\n",
       " '2 Bedrooms': 1,\n",
       " 'Dining/Living Combo': 1,\n",
       " 'Laundry Hookup': 1}"
      ]
     },
     "execution_count": 78,
     "metadata": {},
     "output_type": "execute_result"
    }
   ],
   "source": [
    "fireplace_dict"
   ]
  },
  {
   "cell_type": "code",
   "execution_count": 79,
   "metadata": {},
   "outputs": [],
   "source": [
    "#посчитаем, сколько характеристик указано для дома\n",
    "data['fp_count']=data['fireplace'].apply(lambda x: len(str(x).split(',')))"
   ]
  },
  {
   "cell_type": "code",
   "execution_count": 80,
   "metadata": {},
   "outputs": [
    {
     "data": {
      "text/html": [
       "<div>\n",
       "<style scoped>\n",
       "    .dataframe tbody tr th:only-of-type {\n",
       "        vertical-align: middle;\n",
       "    }\n",
       "\n",
       "    .dataframe tbody tr th {\n",
       "        vertical-align: top;\n",
       "    }\n",
       "\n",
       "    .dataframe thead th {\n",
       "        text-align: right;\n",
       "    }\n",
       "</style>\n",
       "<table border=\"1\" class=\"dataframe\">\n",
       "  <thead>\n",
       "    <tr style=\"text-align: right;\">\n",
       "      <th></th>\n",
       "      <th>fireplace_y_n</th>\n",
       "      <th>fireplace</th>\n",
       "      <th>fp_count</th>\n",
       "    </tr>\n",
       "  </thead>\n",
       "  <tbody>\n",
       "    <tr>\n",
       "      <th>497</th>\n",
       "      <td>1</td>\n",
       "      <td>Fireplace - Gas, Flooring - HardWood, Walk-In ...</td>\n",
       "      <td>4</td>\n",
       "    </tr>\n",
       "    <tr>\n",
       "      <th>596</th>\n",
       "      <td>1</td>\n",
       "      <td>Air Filter, Ceiling Fan, Utility Connection, W...</td>\n",
       "      <td>4</td>\n",
       "    </tr>\n",
       "    <tr>\n",
       "      <th>685</th>\n",
       "      <td>1</td>\n",
       "      <td>2 or more Fireplaces, Brick Fireplace, Firepla...</td>\n",
       "      <td>5</td>\n",
       "    </tr>\n",
       "    <tr>\n",
       "      <th>1045</th>\n",
       "      <td>1</td>\n",
       "      <td>Ceiling Fan, Redecorated, Utility Connection, ...</td>\n",
       "      <td>4</td>\n",
       "    </tr>\n",
       "    <tr>\n",
       "      <th>1101</th>\n",
       "      <td>1</td>\n",
       "      <td>Ceiling Fan, Extra Closets, Storage, Utility C...</td>\n",
       "      <td>4</td>\n",
       "    </tr>\n",
       "    <tr>\n",
       "      <th>...</th>\n",
       "      <td>...</td>\n",
       "      <td>...</td>\n",
       "      <td>...</td>\n",
       "    </tr>\n",
       "    <tr>\n",
       "      <th>373702</th>\n",
       "      <td>1</td>\n",
       "      <td>Basement Fireplace, Free Standing Wood Stove, ...</td>\n",
       "      <td>4</td>\n",
       "    </tr>\n",
       "    <tr>\n",
       "      <th>373971</th>\n",
       "      <td>1</td>\n",
       "      <td>Ceiling Fan, Elevator, Extra Closets, Storage,...</td>\n",
       "      <td>5</td>\n",
       "    </tr>\n",
       "    <tr>\n",
       "      <th>373975</th>\n",
       "      <td>1</td>\n",
       "      <td>Ceiling Fan, Humidifier, Intercom, Storage, Ut...</td>\n",
       "      <td>6</td>\n",
       "    </tr>\n",
       "    <tr>\n",
       "      <th>374291</th>\n",
       "      <td>1</td>\n",
       "      <td>Ceiling Fan, Hot Tub, Utility Connection, Walk...</td>\n",
       "      <td>4</td>\n",
       "    </tr>\n",
       "    <tr>\n",
       "      <th>374434</th>\n",
       "      <td>1</td>\n",
       "      <td>Air Filter, Ceiling Fan, Utility Connection, W...</td>\n",
       "      <td>4</td>\n",
       "    </tr>\n",
       "  </tbody>\n",
       "</table>\n",
       "<p>1111 rows × 3 columns</p>\n",
       "</div>"
      ],
      "text/plain": [
       "        fireplace_y_n                                          fireplace  \\\n",
       "497                 1  Fireplace - Gas, Flooring - HardWood, Walk-In ...   \n",
       "596                 1  Air Filter, Ceiling Fan, Utility Connection, W...   \n",
       "685                 1  2 or more Fireplaces, Brick Fireplace, Firepla...   \n",
       "1045                1  Ceiling Fan, Redecorated, Utility Connection, ...   \n",
       "1101                1  Ceiling Fan, Extra Closets, Storage, Utility C...   \n",
       "...               ...                                                ...   \n",
       "373702              1  Basement Fireplace, Free Standing Wood Stove, ...   \n",
       "373971              1  Ceiling Fan, Elevator, Extra Closets, Storage,...   \n",
       "373975              1  Ceiling Fan, Humidifier, Intercom, Storage, Ut...   \n",
       "374291              1  Ceiling Fan, Hot Tub, Utility Connection, Walk...   \n",
       "374434              1  Air Filter, Ceiling Fan, Utility Connection, W...   \n",
       "\n",
       "        fp_count  \n",
       "497            4  \n",
       "596            4  \n",
       "685            5  \n",
       "1045           4  \n",
       "1101           4  \n",
       "...          ...  \n",
       "373702         4  \n",
       "373971         5  \n",
       "373975         6  \n",
       "374291         4  \n",
       "374434         4  \n",
       "\n",
       "[1111 rows x 3 columns]"
      ]
     },
     "execution_count": 80,
     "metadata": {},
     "output_type": "execute_result"
    }
   ],
   "source": [
    "data[data['fp_count']>3][['fireplace_y_n','fireplace', 'fp_count']]"
   ]
  },
  {
   "cell_type": "code",
   "execution_count": 81,
   "metadata": {},
   "outputs": [
    {
     "data": {
      "image/png": "[encoded data removed]",
      "text/plain": [
       "<Figure size 432x288 with 1 Axes>"
      ]
     },
     "metadata": {
      "needs_background": "light"
     },
     "output_type": "display_data"
    }
   ],
   "source": [
    "#считаем распределение \n",
    "fireplace = data.groupby('fireplace_y_n')['fireplace_y_n'].count().sort_values(ascending=False)\n",
    "\n",
    "fig_fireplace = plt.figure()\n",
    "axes_fireplace = fig_fireplace.add_axes([0,0,1,1])\n",
    "axes_fireplace.bar(x = ['нет', 'да'], height = fireplace.values)\n",
    "axes_fireplace.set_xticklabels(['нет', 'да'], rotation = 0 )    #  Поворот текста\n",
    "plt.show()"
   ]
  },
  {
   "cell_type": "code",
   "execution_count": 82,
   "metadata": {},
   "outputs": [],
   "source": [
    "data=data.drop(['fireplace'], axis = 'columns')"
   ]
  },
  {
   "cell_type": "markdown",
   "metadata": {},
   "source": [
    "## 12. поле stories\n",
    "\n",
    "Поле содержит информацию о количестве этажей в продаваемом доме. Либо же, на каком этаже находится квартира.\n",
    "\n",
    "Так как данные очень грязные, то просто пытаемся привести данные в тип float. Если это не получается, то убираем все буквы и приводим к типу float.\n",
    "\n",
    "Тип float выбран из-за того, что в значениях может быть, например, «1.5 level»\n"
   ]
  },
  {
   "cell_type": "code",
   "execution_count": 83,
   "metadata": {},
   "outputs": [
    {
     "data": {
      "text/plain": [
       "array([nan, '1.0', '3.0', '0', '1', '2', 'One', '0.0', '2.0', '5', '3',\n",
       "       '1.00', '1 Story/F.R.O.G.', '5.0', '17', 'Townhouse', '2 Story',\n",
       "       '3+', '10.0', '2.0000', '1 Story', 'High-Rise', '4', '7.0', '9.0',\n",
       "       '4.0', 'Two', 'Three Or More', '2.00', 'Site Built', '9', '1.000',\n",
       "       'Mid-Rise', '12.0', 'Multi/Split', '3.00', '6.0', '1.50',\n",
       "       'Acreage', 'Ranch', 'Two Story or More', 'Manufactured Doublewide',\n",
       "       'Tri-Level', '3 Story', '2.5', 'One Story', '32',\n",
       "       '2 Level, Site Built', '40.0', '12', '1.5', '60', 'Ranch/1 Story',\n",
       "       'Garden', '11.0', 'Lot', 'Split Foyer', 'Condominium', '2.50', '8',\n",
       "       '8.0', '20.0', '1 Level, Site Built', '1.5 Level, Site Built',\n",
       "       '2 Story/Basement', 'One Level', '3 Story, Split Level',\n",
       "       'Traditional', 'Stories/Levels', '1.5000', '1.0000', '15', '4.00',\n",
       "       '1 Story/Ranch', '2 Stories', '24.0', '3.0000', ', 2',\n",
       "       'One and One Half', '1 Story Basement', '1 Level', 'Farm', '14',\n",
       "       '18.0', '16.0', 'Unimproved Commercial', '13.0', '25.0', '7', '6',\n",
       "       '19', '21.0', '31', '20', '3 - 5 Stories', '14.0', '28.0',\n",
       "       'Mobile', '2 Levels', 'Farm House', '1.5 Story', '1.75', '10',\n",
       "       '16', 'Three Or More, Multi/Split', '11', '26', '25', '68.0',\n",
       "       '30.0', '27.0', 'Total Floors in Bldg', '38.0', '37.0',\n",
       "       'Victorian', '46', 'Bi-Level', '56.0', 'Multi-Level',\n",
       "       '3 Level, Site Built', '2 Level', 'Commercial', '3+ Story', '54.0',\n",
       "       '35.0', 'Cape, Multi-Level, Other Style', '1 1/2 Story',\n",
       "       '2.5 Story', '1.7000', 'One, Three Or More',\n",
       "       'One, Two, Multi/Split', 'Split Level',\n",
       "       '2 Level, Site Built, Townhouse', '22', '29.0', '31.0', 'Duplex',\n",
       "       '46.0', '17.0', '23.0', '34.0', 'Cape Cod', '40', '1.5 Stories',\n",
       "       '2 Stories, Townhouse', '13', '1, 1', 'Multi Level', '47.0',\n",
       "       '2 Or More Stories', '33.0', '4 Story', '1.5, 2', 'Modular Home',\n",
       "       '1 1/2 Levels', '49.0', '44', 'Triplex', '22.0', 'Cabin/Cottage',\n",
       "       'Fourplex', '42.0', '15.0', '36.0', '3.000', 'Patio', '66',\n",
       "       '2.000', '43.0', 'Three Or More Levels', 'Tri Level', '19.0', '30',\n",
       "       'Contemporary', '39.0', '1 Level, Non-Site Built', '49',\n",
       "       '1 Level, Condo', '60.0', '18', '32.0', 'Log', '4 Stories',\n",
       "       '1 Level, Split Foyer', '27', '1 Level, Condo, Site Built',\n",
       "       '1 Level, Site Built, Townhouse', '41.0', '1.5 Story/Basement',\n",
       "       'Live/Work', '23', 'Bungalow', 'Tri/Multi Level',\n",
       "       'Other Multi-unit', '52', '70.0', '48.0',\n",
       "       '1 Level, Site Built, Split Level', '48', '43', '26.0', '35',\n",
       "       '1.5 Level', 'Condo', '30.00', '78.0', '1.500', '29', '45.0', '21',\n",
       "       '6+ Stories', '33', '62.0', '4.0000', '39', '52.0', '2.5000',\n",
       "       '3 Level', '3-4 Stories', 'Raised Ranch', 'Colonial', '34',\n",
       "       '3 Level, Site Built, Townhouse', '3.5', 'Split Entry (Bi-Level)',\n",
       "       '6.00', 'Other, Two, Multi/Split', '1-2 Stories', 'Two Stories',\n",
       "       'Apartments', ', 1', '41', '90.0', 'Site Built, Tri-Level', '28',\n",
       "       '66.0', '1 Story/Basement/F.R.O.G.', 'Condo, Site Built', '91',\n",
       "       '96.0', '80.0', '24', '42', 'Split Level w/ Sub', '57.0', '50',\n",
       "       'One, Two', 'Loft', '3 Story/Basement', 'Manufactured Singlewide',\n",
       "       '47', '2 Story, Multi Level', '70', 'Site Built, Split Foyer',\n",
       "       'One and One Half, Two', 'Bedroom - Split Plan', '1.5-2 Stories',\n",
       "       '36', '2 Story, Tri Level', '1.25', '45', '3 Level, Townhouse',\n",
       "       'Ground Level', '77.0', '3 Level, Condo, Site Built', '51.0',\n",
       "       '3 Stories', 'Condo 1-4 Stories', '1.7', '37',\n",
       "       'One and One Half, Three Or More', ', 3', '38',\n",
       "       '2 Level, Condo, Site Built', '1 Story, Split Level',\n",
       "       'T3-Townhouse 3+ Stories', 'Log Home', '6 - 10 Stories, 1 Story',\n",
       "       'Double Wide', 'Multi-Story', 'Site Built, Townhouse',\n",
       "       'Townhouse-2 Story, T3-Townhouse 3+ Stories', 'Hillside', '1, 2',\n",
       "       '56', '3 Levels', '58', 'Multi Level, Three or More', '77',\n",
       "       '2 Level, Site Built, Split Foyer', '1.5 Level, Townhouse', '63.0',\n",
       "       'Two, Multi/Split', 'Co-op', '2.5 Story/Basement', '3.50', '65',\n",
       "       '75', '2 Level, Condo', '1.70', 'A Frame', '2 Story, Split Level',\n",
       "       '15.00', 'Condo 5+ Stories', '1-2 Stories, 3-4 Stories', '7.00',\n",
       "       '1.2', '1 Level, Tri-Level', 'Multi Level, Tri Level', '5.00',\n",
       "       '1 Story, Hillside', '57', 'Two, Three Or More',\n",
       "       'Ground Level, One', 'Craftsman', 'Patio Home',\n",
       "       '2 Stories, Tear Down', '1.3000', '55.0', '1 Leveland + Loft',\n",
       "       '11.00', '64', '58.0', 'Over 2 Stories', '1 Level, Townhouse',\n",
       "       'Detached, 2 Story', 'Site Built, Split Level', 'Sixplex',\n",
       "       '1 Level, 2 Level, Site Built', '2 Story or 2 Level', '16.00',\n",
       "       'Stories', '2 Level, 3 Level, Site Built', '2.20', '50.0',\n",
       "       '1 Story, Townhouse'], dtype=object)"
      ]
     },
     "execution_count": 83,
     "metadata": {},
     "output_type": "execute_result"
    }
   ],
   "source": [
    "data['stories'].unique()"
   ]
  },
  {
   "cell_type": "code",
   "execution_count": 84,
   "metadata": {},
   "outputs": [],
   "source": [
    "# заменяем нан на 1 этаж\n",
    "data['stories'].fillna(1, inplace=True)\n",
    "\n",
    "def make_stories(row):\n",
    "    regex_sq = re.compile('\\D+')\n",
    "    try:\n",
    "        row=float(row)\n",
    "    except:\n",
    "        row=regex_sq.sub('', str(row))\n",
    "        if row != '':\n",
    "            row = float(row)\n",
    "        else:\n",
    "            row = 1\n",
    "    return row\n",
    "\n",
    "#убираем все символы, кроме цифр. Приводим к формату int\n",
    "regex_sq = re.compile('\\D+')\n",
    "data['stories_count']=data['stories'].apply(lambda x: make_stories(x))"
   ]
  },
  {
   "cell_type": "code",
   "execution_count": 85,
   "metadata": {},
   "outputs": [
    {
     "data": {
      "image/png": "[encoded data removed]",
      "text/plain": [
       "<Figure size 432x288 with 1 Axes>"
      ]
     },
     "metadata": {
      "needs_background": "light"
     },
     "output_type": "display_data"
    }
   ],
   "source": [
    "#посмотрим на распределение количества домов по этажам\n",
    "stories = data.groupby('stories_count')['stories_count'].count().sort_values(ascending=False)\n",
    "\n",
    "fig_stories  = plt.figure()\n",
    "axes_stories  = fig_stories.add_axes([0,0,2,1])\n",
    "axes_stories.bar(x = stories.index[4:], height = stories.values[4:])\n",
    "axes_stories.set_xlabel('Количество этажей')\n",
    "axes_stories.set_ylabel('Количество домов')\n",
    "axes_stories.set_title('Количество продаваемых домов по этажам')\n",
    "\n",
    "axes_stories.set_xticklabels(stories.index[4:], rotation =0 )    #  Поворот текста\n",
    "plt.show()"
   ]
  },
  {
   "cell_type": "code",
   "execution_count": 86,
   "metadata": {},
   "outputs": [],
   "source": [
    "#удалим выбросы, когда этажей больше 1000\n",
    "data = data.loc[data['stories_count']<1000]"
   ]
  },
  {
   "cell_type": "code",
   "execution_count": 87,
   "metadata": {},
   "outputs": [],
   "source": [
    "data=data.drop(['stories'], axis = 'columns')"
   ]
  },
  {
   "cell_type": "markdown",
   "metadata": {},
   "source": [
    "## 13. поле state\n",
    "\n",
    "Поле содержит двухбуквенное обозначение штата, в котором находится дом. Кодируем его по порядку с помощью метода factorize. \n",
    "\n",
    "Сохраняем на будущее список категорий с порядковыми номерами. Это пригодится в дальнейшем, когда надо будет преобразовывать строку с входными данными."
   ]
  },
  {
   "cell_type": "code",
   "execution_count": 88,
   "metadata": {
    "scrolled": true
   },
   "outputs": [
    {
     "data": {
      "text/plain": [
       "array(['FL', 'CA', 'TX', 'TN', 'IA', 'IL', 'PA', 'AZ', 'NY', 'OH', 'IN',\n",
       "       'MI', 'NV', 'OR', 'NC', 'CO', 'GA', 'DC', 'WA', 'MA', 'VT', 'WI',\n",
       "       'MD', 'KY', 'MO', 'OK', 'UT', 'MT', 'VA', 'ME', 'NJ', 'SC', 'MS',\n",
       "       'DE', 'OS', 'Fl', 'SD', 'OT', 'AL', 'Co'], dtype=object)"
      ]
     },
     "execution_count": 88,
     "metadata": {},
     "output_type": "execute_result"
    }
   ],
   "source": [
    "data['state'].unique()"
   ]
  },
  {
   "cell_type": "code",
   "execution_count": 89,
   "metadata": {},
   "outputs": [
    {
     "data": {
      "image/png": "[encoded data removed]",
      "text/plain": [
       "<Figure size 432x288 with 1 Axes>"
      ]
     },
     "metadata": {
      "needs_background": "light"
     },
     "output_type": "display_data"
    }
   ],
   "source": [
    "#считаем распределение по штатам\n",
    "states = data.groupby('state')['state'].count().sort_values(ascending=False)\n",
    "\n",
    "fig_states = plt.figure()\n",
    "axes_states = fig_states.add_axes([0,0,2,1])\n",
    "axes_states.bar(x = states.index, height = states.values)\n",
    "axes_states.set_xlabel('Штат')\n",
    "axes_states.set_ylabel('Количество домов')\n",
    "axes_states.set_title('Количество продаваемых домов по штатам')\n",
    "\n",
    "axes_states.set_xticklabels(states.index, rotation =0 )    #  Поворот текста\n",
    "plt.show()"
   ]
  },
  {
   "cell_type": "code",
   "execution_count": 90,
   "metadata": {},
   "outputs": [],
   "source": [
    "#заменим на числа\n",
    "#в конце сохраним этот список, чтобы обрабатывать строку на входе\n",
    "data['state_encoding'], states_list = data['state'].factorize()"
   ]
  },
  {
   "cell_type": "code",
   "execution_count": 91,
   "metadata": {
    "scrolled": true
   },
   "outputs": [],
   "source": [
    "#убираем обработанный столбец\n",
    "data = data.drop(['state'], axis = 'columns')"
   ]
  },
  {
   "cell_type": "markdown",
   "metadata": {},
   "source": [
    "## 14. поле HomeFacts\n",
    "\n",
    "Поле содержит комплексную информацию по дому, разложенную в словарь со следующими метками: {'Cooling', 'Heating', 'Parking', 'Price/sqft', 'Remodeled year', 'Year built', 'lotsize'}\n",
    "\n",
    "Разбираем эту информацию по соответствующим полям. Затем 'Cooling', 'Heating', 'Parking' заменяем на 1, если там есть какая-то информация, на 0, если ее нет.\n",
    "\n",
    "'Price/sqft' – избавляемся от лишних символов, переводим в тип int\n",
    "\n",
    "'Remodeled year', 'Year built' – выделяем год. Удаляем выброс со странным очень большим годом в Годе постройки.\n",
    "\n",
    "'lotsize' – выделяем числа. Переводим все в единый формат (акры в квадратные футы)\n"
   ]
  },
  {
   "cell_type": "code",
   "execution_count": 92,
   "metadata": {},
   "outputs": [
    {
     "data": {
      "text/plain": [
       "\"{'atAGlanceFacts': [{'factValue': '2009', 'factLabel': 'Year built'}, {'factValue': '2010', 'factLabel': 'Remodeled year'}, {'factValue': 'Central Air', 'factLabel': 'Heating'}, {'factValue': 'Has Cooling', 'factLabel': 'Cooling'}, {'factValue': '', 'factLabel': 'Parking'}, {'factValue': '1,530 Sq. Ft.', 'factLabel': 'lotsize'}, {'factValue': '$200 / Sq. Ft.', 'factLabel': 'Price/sqft'}]}\""
      ]
     },
     "execution_count": 92,
     "metadata": {},
     "output_type": "execute_result"
    }
   ],
   "source": [
    "data['homeFacts'][0]"
   ]
  },
  {
   "cell_type": "code",
   "execution_count": 93,
   "metadata": {},
   "outputs": [
    {
     "data": {
      "text/plain": [
       "{'Cooling',\n",
       " 'Heating',\n",
       " 'Parking',\n",
       " 'Price/sqft',\n",
       " 'Remodeled year',\n",
       " 'Year built',\n",
       " 'lotsize'}"
      ]
     },
     "execution_count": 93,
     "metadata": {},
     "output_type": "execute_result"
    }
   ],
   "source": [
    "#смотрим, какие вообще факты могут быть. Если их небольшое количество, то разложим в разные столбцы\n",
    "for i in data['homeFacts']:\n",
    "    fact_list = []\n",
    "    hf = eval(i)['atAGlanceFacts']\n",
    "    for k in hf:\n",
    "        fact_list.append(k['factLabel'])\n",
    "set(fact_list)"
   ]
  },
  {
   "cell_type": "code",
   "execution_count": 94,
   "metadata": {},
   "outputs": [],
   "source": [
    "def make_facts(row, columns):\n",
    "    fact_dict = {}\n",
    "    for i in columns:\n",
    "        fact_dict[i]=float('nan')\n",
    "    row = eval(row)['atAGlanceFacts']\n",
    "    for i in row:\n",
    "        fact_dict[i['factLabel']]=i['factValue']\n",
    "    return pd.Series(fact_dict)\n",
    "    "
   ]
  },
  {
   "cell_type": "code",
   "execution_count": 95,
   "metadata": {},
   "outputs": [],
   "source": [
    "fact_columns = ['Cooling',  'Heating', 'Parking', 'Price/sqft', 'Remodeled year', 'Year built', 'lotsize']\n",
    "data[fact_columns]=data['homeFacts'].apply(lambda x: make_facts(x,fact_columns))"
   ]
  },
  {
   "cell_type": "code",
   "execution_count": 96,
   "metadata": {},
   "outputs": [
    {
     "data": {
      "text/html": [
       "<div>\n",
       "<style scoped>\n",
       "    .dataframe tbody tr th:only-of-type {\n",
       "        vertical-align: middle;\n",
       "    }\n",
       "\n",
       "    .dataframe tbody tr th {\n",
       "        vertical-align: top;\n",
       "    }\n",
       "\n",
       "    .dataframe thead th {\n",
       "        text-align: right;\n",
       "    }\n",
       "</style>\n",
       "<table border=\"1\" class=\"dataframe\">\n",
       "  <thead>\n",
       "    <tr style=\"text-align: right;\">\n",
       "      <th></th>\n",
       "      <th>Cooling</th>\n",
       "      <th>Heating</th>\n",
       "      <th>Parking</th>\n",
       "      <th>Price/sqft</th>\n",
       "      <th>Remodeled year</th>\n",
       "      <th>Year built</th>\n",
       "      <th>lotsize</th>\n",
       "    </tr>\n",
       "  </thead>\n",
       "  <tbody>\n",
       "    <tr>\n",
       "      <th>0</th>\n",
       "      <td>Has Cooling</td>\n",
       "      <td>Central Air</td>\n",
       "      <td></td>\n",
       "      <td>$200 / Sq. Ft.</td>\n",
       "      <td>2010</td>\n",
       "      <td>2009</td>\n",
       "      <td>1,530 Sq. Ft.</td>\n",
       "    </tr>\n",
       "    <tr>\n",
       "      <th>1</th>\n",
       "      <td>Central</td>\n",
       "      <td>Forced Air</td>\n",
       "      <td>Carport, Attached Garage</td>\n",
       "      <td>$187/sqft</td>\n",
       "      <td>1991</td>\n",
       "      <td>1991</td>\n",
       "      <td>0.46 acres</td>\n",
       "    </tr>\n",
       "    <tr>\n",
       "      <th>2</th>\n",
       "      <td></td>\n",
       "      <td></td>\n",
       "      <td></td>\n",
       "      <td>None</td>\n",
       "      <td></td>\n",
       "      <td></td>\n",
       "      <td>1.37 acres</td>\n",
       "    </tr>\n",
       "    <tr>\n",
       "      <th>3</th>\n",
       "      <td></td>\n",
       "      <td></td>\n",
       "      <td></td>\n",
       "      <td>None</td>\n",
       "      <td>2006</td>\n",
       "      <td>2006</td>\n",
       "      <td>8,245 Sq. Ft.</td>\n",
       "    </tr>\n",
       "    <tr>\n",
       "      <th>4</th>\n",
       "      <td>Central</td>\n",
       "      <td>Other</td>\n",
       "      <td>Attached Garage</td>\n",
       "      <td>$270/sqft</td>\n",
       "      <td>2003</td>\n",
       "      <td>2003</td>\n",
       "      <td>2,500 sqft</td>\n",
       "    </tr>\n",
       "    <tr>\n",
       "      <th>...</th>\n",
       "      <td>...</td>\n",
       "      <td>...</td>\n",
       "      <td>...</td>\n",
       "      <td>...</td>\n",
       "      <td>...</td>\n",
       "      <td>...</td>\n",
       "      <td>...</td>\n",
       "    </tr>\n",
       "    <tr>\n",
       "      <th>374682</th>\n",
       "      <td>Central</td>\n",
       "      <td>Forced air</td>\n",
       "      <td>No Data</td>\n",
       "      <td>$86</td>\n",
       "      <td>1993</td>\n",
       "      <td>1993</td>\n",
       "      <td>None</td>\n",
       "    </tr>\n",
       "    <tr>\n",
       "      <th>374683</th>\n",
       "      <td>None</td>\n",
       "      <td>Forced Air</td>\n",
       "      <td>Detached Garage</td>\n",
       "      <td>$306/sqft</td>\n",
       "      <td></td>\n",
       "      <td>1885</td>\n",
       "      <td>3,125 sqft</td>\n",
       "    </tr>\n",
       "    <tr>\n",
       "      <th>374684</th>\n",
       "      <td></td>\n",
       "      <td></td>\n",
       "      <td></td>\n",
       "      <td>None</td>\n",
       "      <td></td>\n",
       "      <td></td>\n",
       "      <td></td>\n",
       "    </tr>\n",
       "    <tr>\n",
       "      <th>374685</th>\n",
       "      <td>Central</td>\n",
       "      <td>Other</td>\n",
       "      <td>2 spaces</td>\n",
       "      <td>$198</td>\n",
       "      <td>2002</td>\n",
       "      <td>2002</td>\n",
       "      <td>1,071 sqft</td>\n",
       "    </tr>\n",
       "    <tr>\n",
       "      <th>374686</th>\n",
       "      <td>None</td>\n",
       "      <td>None</td>\n",
       "      <td>None</td>\n",
       "      <td>None</td>\n",
       "      <td>None</td>\n",
       "      <td>None</td>\n",
       "      <td>None</td>\n",
       "    </tr>\n",
       "  </tbody>\n",
       "</table>\n",
       "<p>374432 rows × 7 columns</p>\n",
       "</div>"
      ],
      "text/plain": [
       "            Cooling      Heating                   Parking      Price/sqft  \\\n",
       "0       Has Cooling  Central Air                            $200 / Sq. Ft.   \n",
       "1           Central   Forced Air  Carport, Attached Garage       $187/sqft   \n",
       "2                                                                     None   \n",
       "3                                                                     None   \n",
       "4           Central        Other           Attached Garage       $270/sqft   \n",
       "...             ...          ...                       ...             ...   \n",
       "374682      Central   Forced air                   No Data             $86   \n",
       "374683         None   Forced Air           Detached Garage       $306/sqft   \n",
       "374684                                                                None   \n",
       "374685      Central        Other                  2 spaces            $198   \n",
       "374686         None         None                      None            None   \n",
       "\n",
       "       Remodeled year Year built        lotsize  \n",
       "0                2010       2009  1,530 Sq. Ft.  \n",
       "1                1991       1991     0.46 acres  \n",
       "2                                    1.37 acres  \n",
       "3                2006       2006  8,245 Sq. Ft.  \n",
       "4                2003       2003     2,500 sqft  \n",
       "...               ...        ...            ...  \n",
       "374682           1993       1993           None  \n",
       "374683                      1885     3,125 sqft  \n",
       "374684                                           \n",
       "374685           2002       2002     1,071 sqft  \n",
       "374686           None       None           None  \n",
       "\n",
       "[374432 rows x 7 columns]"
      ]
     },
     "execution_count": 96,
     "metadata": {},
     "output_type": "execute_result"
    }
   ],
   "source": [
    "data[fact_columns]"
   ]
  },
  {
   "cell_type": "code",
   "execution_count": 97,
   "metadata": {},
   "outputs": [],
   "source": [
    "#Cooling, Heating, Parking меняем на 1 (есть), 0(нет)\n",
    "for i in ['Cooling', 'Heating', 'Parking']:\n",
    "    data[i].fillna(0, inplace = True)\n",
    "    data[i] = data[i].apply(lambda x: 0 if x == np.nan or x in ['', 'No','None', 'no', 0, 'No Data'] else 1)"
   ]
  },
  {
   "cell_type": "code",
   "execution_count": 98,
   "metadata": {},
   "outputs": [],
   "source": [
    "#в цене за кв. фут избавляемся от всяких лишних знаков, переводим в целое число\n",
    "def make_price(row):\n",
    "    row = str(row).replace('$','').replace('/sqft','').replace(' / Sq. Ft.', '').replace(',','')\n",
    "    try:\n",
    "        row = int(row)\n",
    "    except:\n",
    "        if row in ['None', 'No Info', 'No Data', '', 'Contact manager']:\n",
    "            row = 0\n",
    "        else:\n",
    "            row = 0\n",
    "    return row"
   ]
  },
  {
   "cell_type": "code",
   "execution_count": 99,
   "metadata": {},
   "outputs": [],
   "source": [
    "data['price']=data['Price/sqft'].apply(lambda x: make_price(x))"
   ]
  },
  {
   "cell_type": "code",
   "execution_count": 100,
   "metadata": {},
   "outputs": [],
   "source": [
    "#преобразуем год в число\n",
    "for i in ['Remodeled year', 'Year built']:\n",
    "    data[i.split()[0]] = data[i].apply(lambda x: int(x) if str(x) not in ['', 'None','No Data'] else 0)\n"
   ]
  },
  {
   "cell_type": "code",
   "execution_count": 101,
   "metadata": {},
   "outputs": [],
   "source": [
    "#удалим строки с выбросом по году постройки\n",
    "data = data.loc[data['Year']!=559990649990]"
   ]
  },
  {
   "cell_type": "code",
   "execution_count": 102,
   "metadata": {},
   "outputs": [],
   "source": [
    "#в размере лота убираем лишние знаки, переводим все в единые единицы измерения\n",
    "def make_lot(row):\n",
    "    row1 = row\n",
    "    row = str(row).replace('$','').replace(' sqft lot','').replace(' Sq. Ft.', '').replace(' sqft', '').replace(',','')\n",
    "    try:\n",
    "        row = float(row)\n",
    "    except:\n",
    "        if row.lower().find('acre') >-1:\n",
    "            row = row.lower().replace(' lot', '').replace(' acres', '').replace(' acre', '').replace(' acres', '')\n",
    "        try:\n",
    "            row = float(row) * 43560.04\n",
    "        except:\n",
    "            if row in ['None', 'No Info', 'No Data', '', 'Contact manager', '--', '—']:\n",
    "                row = 0\n",
    "            else:\n",
    "                print(row, '->', row1)\n",
    "    return row"
   ]
  },
  {
   "cell_type": "code",
   "execution_count": 103,
   "metadata": {},
   "outputs": [],
   "source": [
    "data['lot'] = data['lotsize'].apply(lambda x: make_lot(x))"
   ]
  },
  {
   "cell_type": "code",
   "execution_count": 104,
   "metadata": {},
   "outputs": [],
   "source": [
    "#удаляем обработанные столбцы\n",
    "data = data.drop(['lotsize', 'Remodeled year', 'Year built', 'Price/sqft', 'homeFacts'], axis = 'columns')"
   ]
  },
  {
   "cell_type": "markdown",
   "metadata": {},
   "source": [
    "## 15. mls-id\n",
    "\n",
    "Выявлено, что поля mls-id и MlsId идентичны, содержат некий идентификатор дома. Дома, имеющие один и тот же идентификатор, но в различных полях, имеют практически идентичное описание в других полях. Однако, стоимость иногда отличается.\n",
    "\n",
    "Объединяем оба идентификатора в один столбец.\n",
    "\n",
    "Удаляем все уже обработанные столбцы и удаляем дубликаты строк (их оказалось порядка 80). \n",
    "\n",
    "Кроме того, есть строки, в которых одинаковые значения в полях, но разные значения целевой переменной. Такие строки удаляем совсем, так как нам неизвестно, какие значения более правильные.\n"
   ]
  },
  {
   "cell_type": "code",
   "execution_count": 105,
   "metadata": {
    "scrolled": true
   },
   "outputs": [
    {
     "name": "stdout",
     "output_type": "stream",
     "text": [
      "Пересекаются 8908 значений\n",
      "mls-id = 25027 значений, MlsId = 233031 значений\n"
     ]
    }
   ],
   "source": [
    "#делаем списки идентификаторов и ищем пересечение\n",
    "s1 = set(data['mls-id'].unique())\n",
    "s2 = set(data['MlsId'].unique())\n",
    "s3 = s2.intersection(s1)\n",
    "print('Пересекаются {0} значений'.format(len(s3)))\n",
    "print('mls-id = {0} значений, MlsId = {1} значений'.format(len(s1), len(s2)))"
   ]
  },
  {
   "cell_type": "code",
   "execution_count": 106,
   "metadata": {},
   "outputs": [
    {
     "name": "stdout",
     "output_type": "stream",
     "text": [
      "В 39295 строках не проставлен идентификатор\n"
     ]
    }
   ],
   "source": [
    "#соединяем идентификаторы в одну колонку, так удобнее с ними работать\n",
    "data['mls-id'].fillna('', inplace=True)\n",
    "data['MlsId'].fillna('', inplace=True)\n",
    "data['new_id']=data['mls-id'].astype(str)+data['MlsId'].astype(str)\n",
    "\n",
    "#проверяем, может есть строки, в которых идентификатор совсем не проставлен. Эти строки не трогаем, оставляем как есть\n",
    "print('В {0} строках не проставлен идентификатор'.format(data[data['new_id']=='']['new_id'].count()))\n",
    "\n",
    "data=data.drop(['mls-id', 'MlsId'], axis = 'columns')"
   ]
  },
  {
   "cell_type": "code",
   "execution_count": 107,
   "metadata": {},
   "outputs": [],
   "source": [
    "#избавляемся от оставшихся лишних столбцов\n",
    "data=data.drop(['status', 'zipcode'], axis = 'columns')"
   ]
  },
  {
   "cell_type": "code",
   "execution_count": 108,
   "metadata": {},
   "outputs": [
    {
     "name": "stdout",
     "output_type": "stream",
     "text": [
      "374430 -> 374359\n"
     ]
    }
   ],
   "source": [
    "#остались только обработанные столбцы. Попробуем поискать полные дубликаты\n",
    "data1 = data.drop_duplicates()\n",
    "print(len(data), '->', len(data1))"
   ]
  },
  {
   "cell_type": "code",
   "execution_count": 109,
   "metadata": {},
   "outputs": [],
   "source": [
    "#полные дубликаты удалены. Посчитаем hash для идентификатора. Так как он содержит и буквы тоже\n",
    "data= data1\n",
    "hash_space = 500000\n",
    "data['new_id'] = data['new_id'].apply(lambda x: hash(''.join(x.lower().split())) % hash_space)"
   ]
  },
  {
   "cell_type": "markdown",
   "metadata": {},
   "source": [
    "# дополнительные признаки"
   ]
  },
  {
   "cell_type": "code",
   "execution_count": 116,
   "metadata": {},
   "outputs": [],
   "source": [
    "data['sqft_lot'] = data['sqft']+data['lot']\n",
    "data['CAPITAL'].fillna(0, inplace = True)\n",
    "data['POPULATION'].fillna(0, inplace = True)\n",
    "data['MALES'].fillna(0, inplace = True)\n",
    "data['FEMALES'].fillna(0, inplace = True)\n",
    "data['HSE_UNITS'].fillna(0, inplace = True)\n",
    "data['VACANT'].fillna(0, inplace = True)\n",
    "data['OWNER_OCC'].fillna(0, inplace = True)"
   ]
  },
  {
   "cell_type": "code",
   "execution_count": 117,
   "metadata": {},
   "outputs": [],
   "source": [
    "data['mal_femal'] = data['MALES']/data['FEMALES']\n",
    "data['vacant_units'] = data['VACANT']/data['HSE_UNITS']\n",
    "data['mal_vacant'] = data['MALES']/data['VACANT']\n",
    "data['mal_pop']=data['MALES']/data['POPULATION']"
   ]
  },
  {
   "cell_type": "markdown",
   "metadata": {},
   "source": [
    "## Удаляем все оставшиеся ненужные столбцы и сохраняем датасет для дальнейшей работы"
   ]
  },
  {
   "cell_type": "code",
   "execution_count": 110,
   "metadata": {},
   "outputs": [],
   "source": [
    "#удаляем дубликаты строк, которые имеют разную стоимость\n",
    "#удаляем все спорные строки, так как неизвестно, какая из них правильная\n",
    "columns = list(set(data.columns) - set(['target']))\n",
    "data.drop_duplicates(subset = columns, keep = False, inplace= True) "
   ]
  },
  {
   "cell_type": "code",
   "execution_count": 119,
   "metadata": {},
   "outputs": [
    {
     "name": "stdout",
     "output_type": "stream",
     "text": [
      "<class 'pandas.core.frame.DataFrame'>\n",
      "Int64Index: 374333 entries, 0 to 374686\n",
      "Data columns (total 57 columns):\n",
      " #   Column               Non-Null Count   Dtype  \n",
      "---  ------               --------------   -----  \n",
      " 0   sqft                 374333 non-null  int64  \n",
      " 1   target               374333 non-null  int64  \n",
      " 2   CAPITAL              374333 non-null  float64\n",
      " 3   POPULATION           374333 non-null  float64\n",
      " 4   MALES                374333 non-null  float64\n",
      " 5   FEMALES              374333 non-null  float64\n",
      " 6   HSE_UNITS            374333 non-null  float64\n",
      " 7   VACANT               374333 non-null  float64\n",
      " 8   OWNER_OCC            374333 non-null  float64\n",
      " 9   state_mean           374333 non-null  float64\n",
      " 10  rent_sale            374333 non-null  int64  \n",
      " 11  prop_type            374333 non-null  int64  \n",
      " 12  city_hash            374333 non-null  int64  \n",
      " 13  street_hash          374333 non-null  int64  \n",
      " 14  address_hash         374333 non-null  int64  \n",
      " 15  baths_count          374333 non-null  float64\n",
      " 16  beds_count           374333 non-null  int64  \n",
      " 17  beds_square          374333 non-null  float64\n",
      " 18  K                    374333 non-null  float64\n",
      " 19  1                    374333 non-null  float64\n",
      " 20  2                    374333 non-null  float64\n",
      " 21  3                    374333 non-null  float64\n",
      " 22  4                    374333 non-null  float64\n",
      " 23  5                    374333 non-null  float64\n",
      " 24  6                    374333 non-null  float64\n",
      " 25  7                    374333 non-null  float64\n",
      " 26  8                    374333 non-null  float64\n",
      " 27  9                    374333 non-null  float64\n",
      " 28  10                   374333 non-null  float64\n",
      " 29  11                   374333 non-null  float64\n",
      " 30  12                   374333 non-null  float64\n",
      " 31  PK                   374333 non-null  float64\n",
      " 32  schools_count        374333 non-null  float64\n",
      " 33  min_dist             374333 non-null  float64\n",
      " 34  max_dist             374333 non-null  float64\n",
      " 35  mean_dist            374333 non-null  float64\n",
      " 36  max_rate             374333 non-null  float64\n",
      " 37  average_rate_school  374333 non-null  float64\n",
      " 38  zipcode_int          374333 non-null  int64  \n",
      " 39  pool                 374333 non-null  int64  \n",
      " 40  fireplace_y_n        374333 non-null  int64  \n",
      " 41  fp_count             374333 non-null  int64  \n",
      " 42  stories_count        374333 non-null  float64\n",
      " 43  state_encoding       374333 non-null  int64  \n",
      " 44  Cooling              374333 non-null  int64  \n",
      " 45  Heating              374333 non-null  int64  \n",
      " 46  Parking              374333 non-null  int64  \n",
      " 47  price                374333 non-null  int64  \n",
      " 48  Remodeled            374333 non-null  int64  \n",
      " 49  Year                 374333 non-null  int64  \n",
      " 50  lot                  374333 non-null  float64\n",
      " 51  new_id               374333 non-null  int64  \n",
      " 52  sqft_lot             374333 non-null  float64\n",
      " 53  mal_femal            324802 non-null  float64\n",
      " 54  vacant_units         324802 non-null  float64\n",
      " 55  mal_vacant           324802 non-null  float64\n",
      " 56  mal_pop              324802 non-null  float64\n",
      "dtypes: float64(37), int64(20)\n",
      "memory usage: 165.6 MB\n"
     ]
    }
   ],
   "source": [
    "data1.info()"
   ]
  },
  {
   "cell_type": "code",
   "execution_count": 118,
   "metadata": {},
   "outputs": [],
   "source": [
    "data1 = data.drop(['NAME', 'ST'], axis = 'columns')"
   ]
  },
  {
   "cell_type": "code",
   "execution_count": null,
   "metadata": {},
   "outputs": [],
   "source": []
  },
  {
   "cell_type": "code",
   "execution_count": 120,
   "metadata": {},
   "outputs": [],
   "source": [
    "#сохраняем обработанный датасет\n",
    "data1.to_csv('data4ml_6_cities.csv', encoding='utf-8', index=False)\n"
   ]
  },
  {
   "cell_type": "code",
   "execution_count": 114,
   "metadata": {},
   "outputs": [],
   "source": [
    "#сохраняем список штатов, он нам потом понадобится\n",
    "with open('states_list.txt', 'wb') as f:\n",
    "    pickle.dump(states_list, f)"
   ]
  },
  {
   "cell_type": "code",
   "execution_count": 115,
   "metadata": {},
   "outputs": [],
   "source": [
    "#сохраняем среднюю стоимость по штатам, она нам потом понадобится\n",
    "with open('mean_target.txt', 'wb') as f:\n",
    "    pickle.dump(mean_target, f)"
   ]
  },
  {
   "cell_type": "markdown",
   "metadata": {},
   "source": [
    "## На этом первый этап закончен"
   ]
  },
  {
   "cell_type": "code",
   "execution_count": null,
   "metadata": {},
   "outputs": [],
   "source": []
  }
 ],
 "metadata": {
  "kernelspec": {
   "display_name": "Python 3",
   "language": "python",
   "name": "python3"
  },
  "language_info": {
   "codemirror_mode": {
    "name": "ipython",
    "version": 3
   },
   "file_extension": ".py",
   "mimetype": "text/x-python",
   "name": "python",
   "nbconvert_exporter": "python",
   "pygments_lexer": "ipython3",
   "version": "3.7.6"
  }
 },
 "nbformat": 4,
 "nbformat_minor": 2
}
