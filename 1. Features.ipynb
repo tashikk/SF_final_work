{
 "cells": [
  {
   "cell_type": "markdown",
   "metadata": {},
   "source": [
    "# ЗАДАЧА\n",
    "\n",
    "К вам обратился представитель крупного агентства недвижимости со следующей проблемой:\n",
    "\n",
    "Мои риелторы тратят катастрофически много времени на сортировку объявлений и поиск выгодных предложений. Поэтому их скорость реакции, да и, сказать по правде, качество анализа не дотягивает до уровня конкурентов. А это сказывается на наших финансовых показателях. Твоя задача — разработать модель, которая бы позволила обойти конкурентов по скорости и качеству совершения сделок. Датасет прикладываю.\n",
    "\n",
    "## НУЖНО\n",
    "разработать сервис, который будет предсказывать стоимость домов, основываясь на истории предложений.  "
   ]
  },
  {
   "cell_type": "code",
   "execution_count": 1,
   "metadata": {},
   "outputs": [],
   "source": [
    "#импорт всех необходимых библиотек\n",
    "import pandas as pd\n",
    "import numpy as np\n",
    "import matplotlib.pyplot as plt\n",
    "import re \n",
    "from statistics import mean\n",
    "import pickle"
   ]
  },
  {
   "cell_type": "code",
   "execution_count": 2,
   "metadata": {},
   "outputs": [],
   "source": [
    "#настройки\n",
    "%matplotlib inline\n",
    "pd.options.display.max_columns = 30"
   ]
  },
  {
   "cell_type": "code",
   "execution_count": 3,
   "metadata": {},
   "outputs": [],
   "source": [
    "#загружаем данные и делаем копию датасета, чтобы работать с копией\n",
    "data_source = pd.read_csv('data.csv')"
   ]
  },
  {
   "cell_type": "code",
   "execution_count": 4,
   "metadata": {},
   "outputs": [],
   "source": [
    "data = data_source.copy()"
   ]
  },
  {
   "cell_type": "code",
   "execution_count": 5,
   "metadata": {},
   "outputs": [
    {
     "name": "stdout",
     "output_type": "stream",
     "text": [
      "<class 'pandas.core.frame.DataFrame'>\n",
      "RangeIndex: 377185 entries, 0 to 377184\n",
      "Data columns (total 18 columns):\n",
      " #   Column        Non-Null Count   Dtype \n",
      "---  ------        --------------   ----- \n",
      " 0   status        337267 non-null  object\n",
      " 1   private pool  4181 non-null    object\n",
      " 2   propertyType  342452 non-null  object\n",
      " 3   street        377183 non-null  object\n",
      " 4   baths         270847 non-null  object\n",
      " 5   homeFacts     377185 non-null  object\n",
      " 6   fireplace     103115 non-null  object\n",
      " 7   city          377151 non-null  object\n",
      " 8   schools       377185 non-null  object\n",
      " 9   sqft          336608 non-null  object\n",
      " 10  zipcode       377185 non-null  object\n",
      " 11  beds          285903 non-null  object\n",
      " 12  state         377185 non-null  object\n",
      " 13  stories       226470 non-null  object\n",
      " 14  mls-id        24942 non-null   object\n",
      " 15  PrivatePool   40311 non-null   object\n",
      " 16  MlsId         310305 non-null  object\n",
      " 17  target        374704 non-null  object\n",
      "dtypes: object(18)\n",
      "memory usage: 51.8+ MB\n"
     ]
    }
   ],
   "source": [
    "data.info()"
   ]
  },
  {
   "cell_type": "code",
   "execution_count": 6,
   "metadata": {},
   "outputs": [
    {
     "data": {
      "text/html": [
       "<div>\n",
       "<style scoped>\n",
       "    .dataframe tbody tr th:only-of-type {\n",
       "        vertical-align: middle;\n",
       "    }\n",
       "\n",
       "    .dataframe tbody tr th {\n",
       "        vertical-align: top;\n",
       "    }\n",
       "\n",
       "    .dataframe thead th {\n",
       "        text-align: right;\n",
       "    }\n",
       "</style>\n",
       "<table border=\"1\" class=\"dataframe\">\n",
       "  <thead>\n",
       "    <tr style=\"text-align: right;\">\n",
       "      <th></th>\n",
       "      <th>status</th>\n",
       "      <th>private pool</th>\n",
       "      <th>propertyType</th>\n",
       "      <th>street</th>\n",
       "      <th>baths</th>\n",
       "      <th>homeFacts</th>\n",
       "      <th>fireplace</th>\n",
       "      <th>city</th>\n",
       "      <th>schools</th>\n",
       "      <th>sqft</th>\n",
       "      <th>zipcode</th>\n",
       "      <th>beds</th>\n",
       "      <th>state</th>\n",
       "      <th>stories</th>\n",
       "      <th>mls-id</th>\n",
       "      <th>PrivatePool</th>\n",
       "      <th>MlsId</th>\n",
       "      <th>target</th>\n",
       "    </tr>\n",
       "  </thead>\n",
       "  <tbody>\n",
       "    <tr>\n",
       "      <th>count</th>\n",
       "      <td>337267</td>\n",
       "      <td>4181</td>\n",
       "      <td>342452</td>\n",
       "      <td>377183</td>\n",
       "      <td>270847</td>\n",
       "      <td>377185</td>\n",
       "      <td>103115</td>\n",
       "      <td>377151</td>\n",
       "      <td>377185</td>\n",
       "      <td>336608</td>\n",
       "      <td>377185</td>\n",
       "      <td>285903</td>\n",
       "      <td>377185</td>\n",
       "      <td>226470</td>\n",
       "      <td>24942</td>\n",
       "      <td>40311</td>\n",
       "      <td>310305</td>\n",
       "      <td>374704</td>\n",
       "    </tr>\n",
       "    <tr>\n",
       "      <th>unique</th>\n",
       "      <td>159</td>\n",
       "      <td>1</td>\n",
       "      <td>1280</td>\n",
       "      <td>337076</td>\n",
       "      <td>229</td>\n",
       "      <td>321009</td>\n",
       "      <td>1653</td>\n",
       "      <td>2026</td>\n",
       "      <td>297365</td>\n",
       "      <td>25405</td>\n",
       "      <td>4549</td>\n",
       "      <td>1184</td>\n",
       "      <td>39</td>\n",
       "      <td>348</td>\n",
       "      <td>24907</td>\n",
       "      <td>2</td>\n",
       "      <td>232944</td>\n",
       "      <td>43939</td>\n",
       "    </tr>\n",
       "    <tr>\n",
       "      <th>top</th>\n",
       "      <td>for sale</td>\n",
       "      <td>Yes</td>\n",
       "      <td>single-family home</td>\n",
       "      <td>Address Not Disclosed</td>\n",
       "      <td>2 Baths</td>\n",
       "      <td>{'atAGlanceFacts': [{'factValue': '', 'factLab...</td>\n",
       "      <td>yes</td>\n",
       "      <td>Houston</td>\n",
       "      <td>[{'rating': [], 'data': {'Distance': [], 'Grad...</td>\n",
       "      <td>0</td>\n",
       "      <td>32137</td>\n",
       "      <td>3 Beds</td>\n",
       "      <td>FL</td>\n",
       "      <td>1.0</td>\n",
       "      <td>No MLS#</td>\n",
       "      <td>yes</td>\n",
       "      <td>NO MLS</td>\n",
       "      <td>$225,000</td>\n",
       "    </tr>\n",
       "    <tr>\n",
       "      <th>freq</th>\n",
       "      <td>156104</td>\n",
       "      <td>4181</td>\n",
       "      <td>92206</td>\n",
       "      <td>672</td>\n",
       "      <td>52466</td>\n",
       "      <td>7174</td>\n",
       "      <td>50356</td>\n",
       "      <td>24442</td>\n",
       "      <td>4204</td>\n",
       "      <td>11854</td>\n",
       "      <td>2141</td>\n",
       "      <td>53459</td>\n",
       "      <td>115449</td>\n",
       "      <td>67454</td>\n",
       "      <td>3</td>\n",
       "      <td>28793</td>\n",
       "      <td>24</td>\n",
       "      <td>1462</td>\n",
       "    </tr>\n",
       "  </tbody>\n",
       "</table>\n",
       "</div>"
      ],
      "text/plain": [
       "          status private pool        propertyType                 street  \\\n",
       "count     337267         4181              342452                 377183   \n",
       "unique       159            1                1280                 337076   \n",
       "top     for sale          Yes  single-family home  Address Not Disclosed   \n",
       "freq      156104         4181               92206                    672   \n",
       "\n",
       "          baths                                          homeFacts fireplace  \\\n",
       "count    270847                                             377185    103115   \n",
       "unique      229                                             321009      1653   \n",
       "top     2 Baths  {'atAGlanceFacts': [{'factValue': '', 'factLab...       yes   \n",
       "freq      52466                                               7174     50356   \n",
       "\n",
       "           city                                            schools    sqft  \\\n",
       "count    377151                                             377185  336608   \n",
       "unique     2026                                             297365   25405   \n",
       "top     Houston  [{'rating': [], 'data': {'Distance': [], 'Grad...       0   \n",
       "freq      24442                                               4204   11854   \n",
       "\n",
       "       zipcode    beds   state stories   mls-id PrivatePool   MlsId    target  \n",
       "count   377185  285903  377185  226470    24942       40311  310305    374704  \n",
       "unique    4549    1184      39     348    24907           2  232944     43939  \n",
       "top      32137  3 Beds      FL     1.0  No MLS#         yes  NO MLS  $225,000  \n",
       "freq      2141   53459  115449   67454        3       28793      24      1462  "
      ]
     },
     "execution_count": 6,
     "metadata": {},
     "output_type": "execute_result"
    }
   ],
   "source": [
    "data.describe()"
   ]
  },
  {
   "cell_type": "markdown",
   "metadata": {},
   "source": [
    "## 1. target"
   ]
  },
  {
   "cell_type": "code",
   "execution_count": 7,
   "metadata": {
    "scrolled": true
   },
   "outputs": [
    {
     "data": {
      "text/plain": [
       "2481"
      ]
     },
     "execution_count": 7,
     "metadata": {},
     "output_type": "execute_result"
    }
   ],
   "source": [
    "#количество строк, в которых не задана стоимость дома\n",
    "sum(data['target'].isnull())"
   ]
  },
  {
   "cell_type": "code",
   "execution_count": 8,
   "metadata": {
    "scrolled": true
   },
   "outputs": [
    {
     "data": {
      "text/plain": [
       "array([nan, 'Pre-foreclosure / auction', ' / auction', 'foreclosure',\n",
       "       'Pre-foreclosure', 'Foreclosed', 'for sale', 'recently sold',\n",
       "       'New construction', 'Pending', 'Auction', 'Closed', 'Active',\n",
       "       'Sold: $285,000', 'Sold: $15,000'], dtype=object)"
      ]
     },
     "execution_count": 8,
     "metadata": {},
     "output_type": "execute_result"
    }
   ],
   "source": [
    "#Посмотрим на статусы этих домов (foreclosure = потеря права выкупа, pending = незавершенное строительство)\n",
    "data['status'][data['target'].isnull()].unique()"
   ]
  },
  {
   "cell_type": "code",
   "execution_count": 9,
   "metadata": {},
   "outputs": [
    {
     "name": "stdout",
     "output_type": "stream",
     "text": [
      "Осталось 374704 записей из 377185\n"
     ]
    }
   ],
   "source": [
    "#отложим строки, в которых не задана целевая переменная, в сторону. \n",
    "#В дальнейшем эти данные можно будет использовать для примера работы прототипа\n",
    "data_for_example = data[data['target'].isnull()]\n",
    "data = data[data['target'].notnull()]\n",
    "\n",
    "print('Осталось {0} записей из {1}'.format(len(data), len(data_source)))"
   ]
  },
  {
   "cell_type": "code",
   "execution_count": 10,
   "metadata": {
    "scrolled": true
   },
   "outputs": [
    {
     "data": {
      "text/plain": [
       "array(['$418,000', '$310,000', '$2,895,000', ..., '$815,881', '342,969',\n",
       "       '$171,306'], dtype=object)"
      ]
     },
     "execution_count": 10,
     "metadata": {},
     "output_type": "execute_result"
    }
   ],
   "source": [
    "#Смотрим, какие значения есть в target. Нам нужно, чтобы они были все числовые\n",
    "data['target'].unique()"
   ]
  },
  {
   "cell_type": "code",
   "execution_count": 11,
   "metadata": {},
   "outputs": [],
   "source": [
    "#убираем все символы, кроме цифр. Приводим к формату int\n",
    "regex = re.compile('\\D+')\n",
    "data['target'] = data['target'].apply(lambda x: int(regex.sub('', str(x))))"
   ]
  },
  {
   "cell_type": "code",
   "execution_count": 12,
   "metadata": {},
   "outputs": [
    {
     "data": {
      "image/png": "[encoded data removed]",
      "text/plain": [
       "<Figure size 432x288 with 1 Axes>"
      ]
     },
     "metadata": {
      "needs_background": "light"
     },
     "output_type": "display_data"
    }
   ],
   "source": [
    "fig_target = plt.figure()\n",
    "axes_target = fig_target.add_axes([0, 0, 1, 1])\n",
    "axes_target.hist(data['target'], range = (data['target'].min(), 8000000), bins = 30)\n",
    "axes_target.set_xlabel('Стоимость дома')\n",
    "axes_target.set_ylabel('Количество домов')\n",
    "axes_target.set_title('Распределение количества домов по их стоимости')\n",
    "plt.show()\n",
    "#видим, что целевая переменная сосредоточена до 1 млн, и распределение мало напоминает нормальное \n",
    "# + есть выбросы значений больше 8 млн (поставлено такое ограничение, так как если брать во внимание все значения из датасета,\n",
    "# то получается малоинформативный график)"
   ]
  },
  {
   "cell_type": "code",
   "execution_count": 13,
   "metadata": {},
   "outputs": [
    {
     "data": {
      "image/png": "[encoded data removed]",
      "text/plain": [
       "<Figure size 432x288 with 1 Axes>"
      ]
     },
     "metadata": {
      "needs_background": "light"
     },
     "output_type": "display_data"
    }
   ],
   "source": [
    "X = data[['state', 'target']]\n",
    "\n",
    "fig_target_st = plt.figure()\n",
    "axes_target_st = fig_target_st.add_axes([0, 0, 2, 2])\n",
    "axes_target_st.set_xlabel('Штат')\n",
    "axes_target_st.set_ylabel('Стоимость дома')\n",
    "axes_target_st.set_title('Стоимость домов по штатам')\n",
    "plt.plot(X['state'], X['target'],'o')\n",
    "plt.show()"
   ]
  },
  {
   "cell_type": "code",
   "execution_count": 14,
   "metadata": {
    "scrolled": false
   },
   "outputs": [
    {
     "data": {
      "text/plain": [
       "count    3.747040e+05\n",
       "mean     6.447575e+05\n",
       "std      1.841431e+06\n",
       "min      1.000000e+00\n",
       "25%      1.869900e+05\n",
       "50%      3.200000e+05\n",
       "75%      5.821000e+05\n",
       "max      1.950000e+08\n",
       "Name: target, dtype: float64"
      ]
     },
     "execution_count": 14,
     "metadata": {},
     "output_type": "execute_result"
    }
   ],
   "source": [
    "data['target'].describe()"
   ]
  },
  {
   "cell_type": "markdown",
   "metadata": {},
   "source": [
    "Отметим, что стоимость домов сильно отличается по штатам. Добавим еще одну колонку со средней стоимостью дома по штату."
   ]
  },
  {
   "cell_type": "code",
   "execution_count": 15,
   "metadata": {},
   "outputs": [],
   "source": [
    "mean_target = data.groupby(by = ['state'])['target'].mean()"
   ]
  },
  {
   "cell_type": "code",
   "execution_count": 18,
   "metadata": {},
   "outputs": [],
   "source": [
    "data['state_mean'] = data['state'].apply(lambda x: mean_target[x])"
   ]
  },
  {
   "cell_type": "markdown",
   "metadata": {},
   "source": [
    "## 2. поле status"
   ]
  },
  {
   "cell_type": "code",
   "execution_count": 19,
   "metadata": {},
   "outputs": [
    {
     "data": {
      "text/plain": [
       "array(['Active', 'for sale', nan, 'New construction', 'New', 'For sale',\n",
       "       'Pending', 'P', 'Active/Contingent', ' / auction',\n",
       "       'Under Contract', 'Pre-foreclosure / auction',\n",
       "       'Under Contract   Showing', 'Pre-foreclosure',\n",
       "       'Under Contract Backups', 'Active Under Contract', 'foreclosure',\n",
       "       'Foreclosed', 'Option Pending', 'Under Contract Show', 'for rent',\n",
       "       'Auction', 'A Active', 'Contingent', 'Pending   Continue To Show',\n",
       "       'Price Change', 'Back on Market', 'Active Option', 'Foreclosure',\n",
       "       'Coming soon: Nov 21.', 'Contingent Finance And Inspection',\n",
       "       'Coming soon: Dec 4.', 'P Pending Sale', 'Coming soon: Nov 23.',\n",
       "       'Active With Contingencies', 'Pending Ab', 'Pf', 'Contingent Show',\n",
       "       'Contract P', 'Contingent Take Backup', 'Apartment for rent',\n",
       "       'Backup Contract', 'Option Contract', 'Pending Continue To Show',\n",
       "       'pending', 'Pending Inspection', 'Active Option Contract', 'C',\n",
       "       'Auction - Active', 'Contingent   Show', 'Pi',\n",
       "       'Due Diligence Period', 'Contract Contingent On Buyer Sale',\n",
       "       'U Under Contract', 'Coming soon: Nov 29.', 'Coming soon: Dec 2.',\n",
       "       'Active Contingency', 'Pending With Contingencies',\n",
       "       'Lease/Purchase Pending', 'Pending Bring Backup',\n",
       "       'C Continue Show', 'Pending Taking Backups',\n",
       "       'Offer Pending Signature', 'Under Contract - Show',\n",
       "       'Contingent Lien Holder Release', 'Active - Auction',\n",
       "       'Active With Offer', 'Coming soon: Nov 30.', 'Listing Extended',\n",
       "       'Pending, Continue to Show', 'For Sale', 'Contingency Contract',\n",
       "       'Coming soon: Dec 10.', 'Contingent Escape',\n",
       "       'Pending - Taking Backups', 'Coming soon: Dec 24.',\n",
       "       'Active Backup', 'Coming soon: Nov 14.', 'Coming soon: Nov 22.',\n",
       "       'Coming soon: Oct 21.', 'Under contract', 'Coming soon: Dec 14.',\n",
       "       'Coming soon: Oct 24.', 'Condo for rent', 'Active Contingent',\n",
       "       'Coming soon: Dec 18.', 'Pending Offer Approval', 'Pending In',\n",
       "       'Coming soon: Dec 16.', 'Ct', 'Pending W/Insp Finance',\n",
       "       'Coming soon: Dec 3.', 'Coming soon: Dec 25.',\n",
       "       'Coming soon: Nov 11.', 'Coming soon: Nov 28.',\n",
       "       'Contingent Finance and Inspection', 'Temporary Active',\n",
       "       'CT Insp - Inspection Contingency', 'Coming soon: Nov 17.',\n",
       "       'Pending (Do Not Show)', 'Contingency 48 Hr (+/ )',\n",
       "       'Pending   Continue To Show   Financing', 'Pending W/ Cont.',\n",
       "       'Coming soon: Dec 6.', 'Back On Market', 'Coming soon: Nov 27.',\n",
       "       'Pending W/Escape Clause', 'Coming soon: Nov 26.',\n",
       "       'Pending - Continue to Show', 'Closed', 'Under Contract - No Show',\n",
       "       'Contract', 'Coming soon: Dec 7.', 'Coming soon: Dec 27.',\n",
       "       'Coming soon: Dec 11.', 'Coming soon: Dec 5.',\n",
       "       'Coming soon: Nov 13.', 'Contingent   Release', 'Accepted Offer',\n",
       "       'Conditional Contract', 'Active - Contingent',\n",
       "       'Active with Contract', 'Coming soon: Nov 19.',\n",
       "       'Coming soon: Nov 8.', 'Coming soon: Oct 29.',\n",
       "       'Coming soon: Dec 15.', 'Pending W/Backup Wanted',\n",
       "       'Pending Backups Wanted', 'Pending Fe', 'Coming soon: Oct 30.',\n",
       "       'Contingent   No Show', 'Coming soon: Dec 9.', 'Pending Sale',\n",
       "       'Accepting backups', 'Coming soon: Dec 20.',\n",
       "       'Pending Take Backups', 'Contingent   Foreclosure',\n",
       "       'Conting Accpt Backups', 'Lease/Purchase', 'Coming soon: Dec 13.',\n",
       "       'Contingent - Sale of Home', 'Ps', 'Under Contract W/ Bckp',\n",
       "       'Re Activated', 'Pending - Backup Offer Requested',\n",
       "       'Coming soon: Dec 12.', 'Reactivated', 'Uc Continue To Show',\n",
       "       'Contingent - Financing', 'Coming soon: Nov 5.',\n",
       "       'Coming soon: Nov 12.', 'Coming soon: Dec 1.', 'Pending Sh',\n",
       "       'Coming soon: Nov 25.', 'Under Contract Taking Back Up Offers',\n",
       "       'Backup', 'Coming soon: Dec 23.'], dtype=object)"
      ]
     },
     "execution_count": 19,
     "metadata": {},
     "output_type": "execute_result"
    }
   ],
   "source": [
    "data['status'].unique()"
   ]
  },
  {
   "cell_type": "code",
   "execution_count": 20,
   "metadata": {},
   "outputs": [],
   "source": [
    "#разделяем данные на 2 категории. Для продажи и для аренды. Так как от этого фактора сильно зависит итоговая стоимость\n",
    "data['rent_sale']=data['status'].apply(lambda x: 1 if str(x).lower().find('rent') >-1 else 0)"
   ]
  },
  {
   "cell_type": "code",
   "execution_count": 21,
   "metadata": {},
   "outputs": [
    {
     "data": {
      "image/png": "[encoded data removed]",
      "text/plain": [
       "<Figure size 432x288 with 1 Axes>"
      ]
     },
     "metadata": {
      "needs_background": "light"
     },
     "output_type": "display_data"
    }
   ],
   "source": [
    "data['status'].fillna('', inplace = True)\n",
    "data['status'] = data['status'].apply(lambda x: 'coming soon' if str(x).lower().find('coming soon') >-1 else x.lower())\n",
    "X_status = data[['status', 'target']]\n",
    "\n",
    "fig_target_status = plt.figure()\n",
    "axes_target_status = fig_target_status.add_axes([0, 0, 3, 2])\n",
    "axes_target_status.set_xlabel('Статус')\n",
    "axes_target_status.set_ylabel('Стоимость дома')\n",
    "axes_target_status.set_title('Стоимость домов в зависимости от статуса')\n",
    "plt.xticks(rotation=90)\n",
    "#axes_target_status.set_xticklabels(X_status['status'], rotation =90 )\n",
    "plt.plot(X_status['status'], X_status['target'],'o')\n",
    "plt.show()"
   ]
  },
  {
   "cell_type": "code",
   "execution_count": 22,
   "metadata": {},
   "outputs": [
    {
     "data": {
      "image/png": "[encoded data removed]",
      "text/plain": [
       "<Figure size 432x288 with 1 Axes>"
      ]
     },
     "metadata": {
      "needs_background": "light"
     },
     "output_type": "display_data"
    }
   ],
   "source": [
    "#посмотрим после обработки\n",
    "rent_sale = data.groupby('rent_sale')['rent_sale'].count().sort_values(ascending=False)\n",
    "\n",
    "fig_rent = plt.figure()\n",
    "axes_rent = fig_rent.add_axes([0,0,1,1])\n",
    "axes_rent.bar(x = ['нет', 'да'], height = rent_sale.values)\n",
    "axes_rent.set_xticklabels(['продажа', 'аренда'], rotation = 0 )    #  Поворот текста\n",
    "plt.show()"
   ]
  },
  {
   "cell_type": "markdown",
   "metadata": {},
   "source": [
    "## 3. поле propertyType"
   ]
  },
  {
   "cell_type": "code",
   "execution_count": 23,
   "metadata": {},
   "outputs": [],
   "source": [
    "def replace_property(row):\n",
    "    \n",
    "    if row in ['single-family home','Single Family Home','Single Family']:\n",
    "        return 'single family home'\n",
    "    elif row == 'Condo':\n",
    "        return 'condo'\n",
    "    elif row in ['Townhouse', 'Townhome']:\n",
    "        return 'townhouse'\n",
    "    elif row in ['Multi-Family Home','multi-family','Multi Family','Multi-Family']:\n",
    "        return 'multi family home'\n",
    "    elif row in ['1 Story','One Story']:\n",
    "        return '1 story'\n",
    "    elif row in ['2 Stories', '2 Story', 'Two Story']:\n",
    "        return '2 stories'\n",
    "    elif row in ['mobile/manufactured', 'Mfd/Mobile Home', 'Mobile / Manufactured']:\n",
    "        return 'mobile/manufactured'\n",
    "    elif row in ['Cooperative', 'coop']:\n",
    "        return 'cooperative'\n",
    "    elif row in ['Apartment', 'apartment']:\n",
    "        return 'apartment'\n",
    "    elif row in ['lot/land', 'Land']:\n",
    "        return 'land'\n",
    "    elif row in ['Other Style', 'Other']:\n",
    "        return 'other style'\n",
    "    else:\n",
    "        return row"
   ]
  },
  {
   "cell_type": "code",
   "execution_count": 24,
   "metadata": {},
   "outputs": [],
   "source": [
    "#приводим к более-менее одинаковым названиям\n",
    "data['prop_type']=data['propertyType'].apply(lambda x: replace_property(x))"
   ]
  },
  {
   "cell_type": "code",
   "execution_count": 25,
   "metadata": {},
   "outputs": [
    {
     "data": {
      "image/png": "[encoded data removed]",
      "text/plain": [
       "<Figure size 432x288 with 1 Axes>"
      ]
     },
     "metadata": {
      "needs_background": "light"
     },
     "output_type": "display_data"
    }
   ],
   "source": [
    "#считаем распределение по типам собственности\n",
    "#prop_type = data.groupby('propertyType')['propertyType'].count().sort_values(ascending=False)\n",
    "prop_type = data.groupby('prop_type')['prop_type'].count().sort_values(ascending=False)\n",
    "\n",
    "NUM_PROP =50 #выводим первые 30 по численности\n",
    "fig_prop = plt.figure()\n",
    "axes_prop = fig_prop.add_axes([0,0,2,1])\n",
    "axes_prop.bar(x = prop_type.index[:NUM_PROP], height = prop_type.values[:NUM_PROP])\n",
    "axes_prop.set_ylabel('Количество домов')\n",
    "axes_prop.set_xlabel('Тип дома')\n",
    "axes_prop.set_title('Количество продаваемых домов по типам')\n",
    "\n",
    "axes_prop.set_xticklabels(prop_type.index, rotation =90 )    #  Поворот текста\n",
    "plt.show()"
   ]
  },
  {
   "cell_type": "code",
   "execution_count": 26,
   "metadata": {},
   "outputs": [],
   "source": [
    "#считаем hash\n",
    "hash_space=50\n",
    "data['prop_type']=data['prop_type'].apply(lambda x: hash(''.join(str(x).lower().split())) % hash_space)\n",
    "#удаляем исходное поле\n",
    "data = data.drop(['propertyType'], axis = 'columns')"
   ]
  },
  {
   "cell_type": "markdown",
   "metadata": {},
   "source": [
    "## 4. поля city, street\n",
    "объединяем и считаем hash"
   ]
  },
  {
   "cell_type": "code",
   "execution_count": 27,
   "metadata": {
    "scrolled": true
   },
   "outputs": [
    {
     "data": {
      "text/html": [
       "<div>\n",
       "<style scoped>\n",
       "    .dataframe tbody tr th:only-of-type {\n",
       "        vertical-align: middle;\n",
       "    }\n",
       "\n",
       "    .dataframe tbody tr th {\n",
       "        vertical-align: top;\n",
       "    }\n",
       "\n",
       "    .dataframe thead th {\n",
       "        text-align: right;\n",
       "    }\n",
       "</style>\n",
       "<table border=\"1\" class=\"dataframe\">\n",
       "  <thead>\n",
       "    <tr style=\"text-align: right;\">\n",
       "      <th></th>\n",
       "      <th>city</th>\n",
       "      <th>street</th>\n",
       "    </tr>\n",
       "  </thead>\n",
       "  <tbody>\n",
       "    <tr>\n",
       "      <th>0</th>\n",
       "      <td>Southern Pines</td>\n",
       "      <td>240 Heather Ln</td>\n",
       "    </tr>\n",
       "    <tr>\n",
       "      <th>1</th>\n",
       "      <td>Spokane Valley</td>\n",
       "      <td>12911 E Heroy Ave</td>\n",
       "    </tr>\n",
       "    <tr>\n",
       "      <th>2</th>\n",
       "      <td>Los Angeles</td>\n",
       "      <td>2005 Westridge Rd</td>\n",
       "    </tr>\n",
       "    <tr>\n",
       "      <th>3</th>\n",
       "      <td>Dallas</td>\n",
       "      <td>4311 Livingston Ave</td>\n",
       "    </tr>\n",
       "    <tr>\n",
       "      <th>4</th>\n",
       "      <td>Palm Bay</td>\n",
       "      <td>1524 Kiscoe St</td>\n",
       "    </tr>\n",
       "    <tr>\n",
       "      <th>...</th>\n",
       "      <td>...</td>\n",
       "      <td>...</td>\n",
       "    </tr>\n",
       "    <tr>\n",
       "      <th>377180</th>\n",
       "      <td>Miami</td>\n",
       "      <td>20800 NE 23rd Ave</td>\n",
       "    </tr>\n",
       "    <tr>\n",
       "      <th>377181</th>\n",
       "      <td>Chicago</td>\n",
       "      <td>3530 N Lake Shore Dr #4B</td>\n",
       "    </tr>\n",
       "    <tr>\n",
       "      <th>377182</th>\n",
       "      <td>Jamaica</td>\n",
       "      <td>15509 Linden Blvd</td>\n",
       "    </tr>\n",
       "    <tr>\n",
       "      <th>377183</th>\n",
       "      <td>Houston</td>\n",
       "      <td>7810 Pereida St</td>\n",
       "    </tr>\n",
       "    <tr>\n",
       "      <th>377184</th>\n",
       "      <td>San Antonio</td>\n",
       "      <td>5983 Midcrown Dr</td>\n",
       "    </tr>\n",
       "  </tbody>\n",
       "</table>\n",
       "<p>374704 rows × 2 columns</p>\n",
       "</div>"
      ],
      "text/plain": [
       "                  city                    street\n",
       "0       Southern Pines            240 Heather Ln\n",
       "1       Spokane Valley         12911 E Heroy Ave\n",
       "2          Los Angeles         2005 Westridge Rd\n",
       "3               Dallas       4311 Livingston Ave\n",
       "4             Palm Bay            1524 Kiscoe St\n",
       "...                ...                       ...\n",
       "377180           Miami         20800 NE 23rd Ave\n",
       "377181         Chicago  3530 N Lake Shore Dr #4B\n",
       "377182         Jamaica         15509 Linden Blvd\n",
       "377183         Houston           7810 Pereida St\n",
       "377184     San Antonio          5983 Midcrown Dr\n",
       "\n",
       "[374704 rows x 2 columns]"
      ]
     },
     "execution_count": 27,
     "metadata": {},
     "output_type": "execute_result"
    }
   ],
   "source": [
    "data[['city', 'street']]"
   ]
  },
  {
   "cell_type": "code",
   "execution_count": 28,
   "metadata": {},
   "outputs": [
    {
     "name": "stdout",
     "output_type": "stream",
     "text": [
      "2020 -> 1904\n"
     ]
    }
   ],
   "source": [
    "# заполняем пропущенные значения на \"no_city\"\n",
    "data['city'].fillna('no_city', inplace=True)\n",
    "\n",
    "# приводим все буквы к нижнему регистру, так как есть вероятность, что города могут быть написаны по-разному\n",
    "data['city_lower'] = data['city'].apply(lambda x: str(x).lower() if x != ' ' else 'no_city')\n",
    "print(data['city'].nunique(), '->', data['city_lower'].nunique())"
   ]
  },
  {
   "cell_type": "code",
   "execution_count": 29,
   "metadata": {},
   "outputs": [],
   "source": [
    "hash_space = 2020\n",
    "data['city_hash']=data['city'].apply(lambda x: hash(''.join(x.lower().split())) % hash_space)\n",
    "data['street_hash']=data['street'].apply(lambda x: hash(''.join(str(x).lower().split())) % hash_space)\n",
    "data['address_hash']=data[['city', 'street']].apply(lambda x: hash(''.join(str(x[0]).lower().split()) + \n",
    "                                                                  ''.join(str(x[1]).lower().split())) % hash_space, axis=1)"
   ]
  },
  {
   "cell_type": "code",
   "execution_count": 30,
   "metadata": {
    "scrolled": true
   },
   "outputs": [
    {
     "data": {
      "text/html": [
       "<div>\n",
       "<style scoped>\n",
       "    .dataframe tbody tr th:only-of-type {\n",
       "        vertical-align: middle;\n",
       "    }\n",
       "\n",
       "    .dataframe tbody tr th {\n",
       "        vertical-align: top;\n",
       "    }\n",
       "\n",
       "    .dataframe thead th {\n",
       "        text-align: right;\n",
       "    }\n",
       "</style>\n",
       "<table border=\"1\" class=\"dataframe\">\n",
       "  <thead>\n",
       "    <tr style=\"text-align: right;\">\n",
       "      <th></th>\n",
       "      <th>city_hash</th>\n",
       "      <th>city</th>\n",
       "      <th>street</th>\n",
       "      <th>street_hash</th>\n",
       "      <th>address_hash</th>\n",
       "    </tr>\n",
       "  </thead>\n",
       "  <tbody>\n",
       "    <tr>\n",
       "      <th>0</th>\n",
       "      <td>1210</td>\n",
       "      <td>Southern Pines</td>\n",
       "      <td>240 Heather Ln</td>\n",
       "      <td>1589</td>\n",
       "      <td>1599</td>\n",
       "    </tr>\n",
       "    <tr>\n",
       "      <th>1</th>\n",
       "      <td>1739</td>\n",
       "      <td>Spokane Valley</td>\n",
       "      <td>12911 E Heroy Ave</td>\n",
       "      <td>1990</td>\n",
       "      <td>531</td>\n",
       "    </tr>\n",
       "    <tr>\n",
       "      <th>2</th>\n",
       "      <td>1513</td>\n",
       "      <td>Los Angeles</td>\n",
       "      <td>2005 Westridge Rd</td>\n",
       "      <td>679</td>\n",
       "      <td>412</td>\n",
       "    </tr>\n",
       "    <tr>\n",
       "      <th>3</th>\n",
       "      <td>1693</td>\n",
       "      <td>Dallas</td>\n",
       "      <td>4311 Livingston Ave</td>\n",
       "      <td>1457</td>\n",
       "      <td>1764</td>\n",
       "    </tr>\n",
       "    <tr>\n",
       "      <th>4</th>\n",
       "      <td>1987</td>\n",
       "      <td>Palm Bay</td>\n",
       "      <td>1524 Kiscoe St</td>\n",
       "      <td>780</td>\n",
       "      <td>828</td>\n",
       "    </tr>\n",
       "    <tr>\n",
       "      <th>...</th>\n",
       "      <td>...</td>\n",
       "      <td>...</td>\n",
       "      <td>...</td>\n",
       "      <td>...</td>\n",
       "      <td>...</td>\n",
       "    </tr>\n",
       "    <tr>\n",
       "      <th>377180</th>\n",
       "      <td>505</td>\n",
       "      <td>Miami</td>\n",
       "      <td>20800 NE 23rd Ave</td>\n",
       "      <td>1878</td>\n",
       "      <td>615</td>\n",
       "    </tr>\n",
       "    <tr>\n",
       "      <th>377181</th>\n",
       "      <td>1885</td>\n",
       "      <td>Chicago</td>\n",
       "      <td>3530 N Lake Shore Dr #4B</td>\n",
       "      <td>813</td>\n",
       "      <td>637</td>\n",
       "    </tr>\n",
       "    <tr>\n",
       "      <th>377182</th>\n",
       "      <td>887</td>\n",
       "      <td>Jamaica</td>\n",
       "      <td>15509 Linden Blvd</td>\n",
       "      <td>564</td>\n",
       "      <td>651</td>\n",
       "    </tr>\n",
       "    <tr>\n",
       "      <th>377183</th>\n",
       "      <td>145</td>\n",
       "      <td>Houston</td>\n",
       "      <td>7810 Pereida St</td>\n",
       "      <td>570</td>\n",
       "      <td>15</td>\n",
       "    </tr>\n",
       "    <tr>\n",
       "      <th>377184</th>\n",
       "      <td>1774</td>\n",
       "      <td>San Antonio</td>\n",
       "      <td>5983 Midcrown Dr</td>\n",
       "      <td>876</td>\n",
       "      <td>335</td>\n",
       "    </tr>\n",
       "  </tbody>\n",
       "</table>\n",
       "<p>374704 rows × 5 columns</p>\n",
       "</div>"
      ],
      "text/plain": [
       "        city_hash            city                    street  street_hash  \\\n",
       "0            1210  Southern Pines            240 Heather Ln         1589   \n",
       "1            1739  Spokane Valley         12911 E Heroy Ave         1990   \n",
       "2            1513     Los Angeles         2005 Westridge Rd          679   \n",
       "3            1693          Dallas       4311 Livingston Ave         1457   \n",
       "4            1987        Palm Bay            1524 Kiscoe St          780   \n",
       "...           ...             ...                       ...          ...   \n",
       "377180        505           Miami         20800 NE 23rd Ave         1878   \n",
       "377181       1885         Chicago  3530 N Lake Shore Dr #4B          813   \n",
       "377182        887         Jamaica         15509 Linden Blvd          564   \n",
       "377183        145         Houston           7810 Pereida St          570   \n",
       "377184       1774     San Antonio          5983 Midcrown Dr          876   \n",
       "\n",
       "        address_hash  \n",
       "0               1599  \n",
       "1                531  \n",
       "2                412  \n",
       "3               1764  \n",
       "4                828  \n",
       "...              ...  \n",
       "377180           615  \n",
       "377181           637  \n",
       "377182           651  \n",
       "377183            15  \n",
       "377184           335  \n",
       "\n",
       "[374704 rows x 5 columns]"
      ]
     },
     "execution_count": 30,
     "metadata": {},
     "output_type": "execute_result"
    }
   ],
   "source": [
    "data[['city_hash', 'city', 'street', 'street_hash', 'address_hash']]"
   ]
  },
  {
   "cell_type": "markdown",
   "metadata": {},
   "source": [
    "### поле city отдельно"
   ]
  },
  {
   "cell_type": "code",
   "execution_count": 31,
   "metadata": {},
   "outputs": [
    {
     "data": {
      "text/plain": [
       "2026"
      ]
     },
     "execution_count": 31,
     "metadata": {},
     "output_type": "execute_result"
    }
   ],
   "source": [
    "data_source['city'].nunique()"
   ]
  },
  {
   "cell_type": "code",
   "execution_count": 32,
   "metadata": {},
   "outputs": [
    {
     "data": {
      "image/png": "[encoded data removed]",
      "text/plain": [
       "<Figure size 432x288 with 1 Axes>"
      ]
     },
     "metadata": {
      "needs_background": "light"
     },
     "output_type": "display_data"
    }
   ],
   "source": [
    "#считаем распределение по городам\n",
    "cities = data.groupby('city_lower')['city_lower'].count().sort_values(ascending=False)\n",
    "\n",
    "#групбай удаляет значения, где город не указан. Добавим это количество в \n",
    "NUM_SITIES = 40\n",
    "\n",
    "fig_cities = plt.figure()\n",
    "axes_cities = fig_cities.add_axes([0,0,2,1])\n",
    "axes_cities.bar(x = cities.head(NUM_SITIES).index, height = cities.head(NUM_SITIES).values)\n",
    "axes_cities.set_xlabel('Город')\n",
    "axes_cities.set_ylabel('Количество домов')\n",
    "axes_cities.set_title('Количество продаваемых домов по городам (выведены первые '+str(NUM_SITIES)+' городов)')\n",
    "\n",
    "axes_cities.set_xticklabels(cities.head(NUM_SITIES).index, rotation =90 )    #  Поворот текста\n",
    "plt.show()"
   ]
  },
  {
   "cell_type": "code",
   "execution_count": 33,
   "metadata": {},
   "outputs": [
    {
     "data": {
      "image/png": "[encoded data removed]",
      "text/plain": [
       "<Figure size 432x288 with 1 Axes>"
      ]
     },
     "metadata": {
      "needs_background": "light"
     },
     "output_type": "display_data"
    }
   ],
   "source": [
    "X_city = data[data['city_lower'].isin(cities.head(NUM_SITIES).index)][['city_lower', 'target']]\n",
    "\n",
    "fig_target_city = plt.figure()\n",
    "axes_target_city = fig_target_city.add_axes([0, 0, 2, 2])\n",
    "axes_target_city.set_xlabel('Город' )\n",
    "axes_target_city.set_ylabel('Стоимость дома')\n",
    "axes_target_city.set_title('Стоимость домов в зависимости от Города')\n",
    "axes_target_city.set_xticklabels(cities.head(NUM_SITIES).index, rotation =90 )\n",
    "plt.plot(X_city['city_lower'], X_city['target'],'o')\n",
    "plt.show()"
   ]
  },
  {
   "cell_type": "code",
   "execution_count": 34,
   "metadata": {},
   "outputs": [],
   "source": [
    "#удаляем исходные и ненужные столбцы\n",
    "data = data.drop(['city', 'street','city_lower'], axis = 'columns')"
   ]
  },
  {
   "cell_type": "markdown",
   "metadata": {},
   "source": [
    "## 5. поле baths"
   ]
  },
  {
   "cell_type": "code",
   "execution_count": 35,
   "metadata": {},
   "outputs": [
    {
     "data": {
      "text/plain": [
       "array(['Bathrooms: 2', '2 ba', 'Bathrooms: 5', 'Bathrooms: 1',\n",
       "       'Bathrooms: 3', '3 ba', 'Bathrooms: 4', '1 ba', 'Bathrooms: 6',\n",
       "       '6 ba', nan, 'Bathrooms: 19', '4 ba', '12 ba', 'Bathrooms: 10',\n",
       "       '5 ba', '-- baths', 'Bathrooms: 7', 'Bathrooms: 8', 'Bathrooms: 9',\n",
       "       'Bathrooms: 13', '7 ba', 'Bathrooms: 12', '2.5 ba', '8 ba',\n",
       "       '4.5 ba', '9 ba', 'Bathrooms: 11', 'Bathrooms: 27', '2 baths',\n",
       "       'Bathrooms: 18', 'Bathrooms: SemiMod', '2.25 ba', 'Bathrooms: 24',\n",
       "       'Bathrooms: 14', '10 ba', 'Bathrooms: 16', 'Bathrooms: 21',\n",
       "       '13 ba', '5.5 ba', '16 ba', '11 ba', '3.5 ba', '1.5 ba',\n",
       "       'Bathrooms: 15'], dtype=object)"
      ]
     },
     "execution_count": 35,
     "metadata": {},
     "output_type": "execute_result"
    }
   ],
   "source": [
    "#смотрим на значения, которые есть в поле beds в зависимости от типа идентификатора\n",
    "data[data['mls-id'].notnull()]['baths'].unique()[:50]"
   ]
  },
  {
   "cell_type": "code",
   "execution_count": 36,
   "metadata": {},
   "outputs": [
    {
     "data": {
      "text/plain": [
       "array(['3.5', '3 Baths', '2 Baths', '8 Baths', nan, '2', '3', '1,750',\n",
       "       '4 Baths', '1,000', '7 Baths', '2.0', '3.0', '4.0', '2.1 Baths',\n",
       "       '1', '4.5', '6 Baths', '5', '2,500', '1.0', '5 Baths', '1.5', '4',\n",
       "       '~', '2.5', '4,000', '2,000', '3,000', '8.0', '0', '5.0', '1,500',\n",
       "       '7.0', '1,250', '9 Baths', '2,250', '2.5 Baths', '6.0', '12 Baths',\n",
       "       '5.5', '3.5 Baths', '3,500', '2,750', '750', '5.5+', '6',\n",
       "       '10 Baths', '10.0', '2.5+'], dtype=object)"
      ]
     },
     "execution_count": 36,
     "metadata": {},
     "output_type": "execute_result"
    }
   ],
   "source": [
    "data[data['MlsId'].notnull()]['baths'].unique()[:50]"
   ]
  },
  {
   "cell_type": "code",
   "execution_count": 37,
   "metadata": {},
   "outputs": [],
   "source": [
    "def make_baths_count(row):\n",
    "    row = str(row)\n",
    "    row = row.replace('Bathrooms: ', '').replace(' Baths', '').replace(' ba', '').replace(',','.')\n",
    "    try:\n",
    "        if row != 'nan':\n",
    "            return float(row)\n",
    "        else:\n",
    "            return 0\n",
    "    except:\n",
    "        return 0"
   ]
  },
  {
   "cell_type": "code",
   "execution_count": 38,
   "metadata": {},
   "outputs": [],
   "source": [
    "data['baths_count']=data['baths'].apply(lambda x: make_baths_count(x))"
   ]
  },
  {
   "cell_type": "code",
   "execution_count": 39,
   "metadata": {},
   "outputs": [
    {
     "data": {
      "image/png": "[encoded data removed]",
      "text/plain": [
       "<Figure size 432x288 with 1 Axes>"
      ]
     },
     "metadata": {
      "needs_background": "light"
     },
     "output_type": "display_data"
    }
   ],
   "source": [
    "X_bath = data[['baths_count', 'target']]\n",
    "\n",
    "fig_target_bath = plt.figure()\n",
    "axes_target_bath = fig_target_bath.add_axes([0, 0, 2, 2])\n",
    "axes_target_bath.set_xlabel('Количество ванных комнат')\n",
    "axes_target_bath.set_ylabel('Стоимость дома')\n",
    "axes_target_bath.set_title('Стоимость домов в зависимости от количества ванных комнат')\n",
    "plt.plot(X_bath['baths_count'], X_bath['target'],'o')\n",
    "plt.show()"
   ]
  },
  {
   "cell_type": "code",
   "execution_count": 40,
   "metadata": {},
   "outputs": [],
   "source": [
    "# удаляем выбросы. Количество ванных комнат больше 200\n",
    "data = data.loc[data['baths_count']<200]"
   ]
  },
  {
   "cell_type": "code",
   "execution_count": 41,
   "metadata": {},
   "outputs": [],
   "source": [
    "data = data.drop(['baths'], axis = 'columns')"
   ]
  },
  {
   "cell_type": "markdown",
   "metadata": {},
   "source": [
    "## 6. поле beds"
   ]
  },
  {
   "cell_type": "code",
   "execution_count": 42,
   "metadata": {},
   "outputs": [
    {
     "data": {
      "text/plain": [
       "array(['3 bd', '4 bd', '5 bd', '2 bd', '1 bd', '6 bd', '16 bd', '13 bd',\n",
       "       '-- bd', '6,351 sqft', '7 bd', '9 bd', '5,662 sqft', '12 bd',\n",
       "       '8 bd', '24 bd', '0.71 acres', '10 bd', '0.3 acres', '1.8 acres',\n",
       "       '0.32 acres', '11 bd', '19 bd', '20 bd', '0.63 acres', '14 bd',\n",
       "       '27 bd', '15 bd', '1,960 sqft', '26 bd', '0.31 acres',\n",
       "       '3,920 sqft', '7,840 sqft', '2,250 sqft', '4,199 sqft', '23 bd',\n",
       "       '10 acres', '0.86 acres', '8,276 sqft', '0.29 acres', '2,178 sqft',\n",
       "       '2,000 sqft', '0.57 acres', '0.85 acres', '0.43 acres', '17 bd',\n",
       "       '0.41 acres', '1 acre', '4.64 acres', '5,227 sqft'], dtype=object)"
      ]
     },
     "execution_count": 42,
     "metadata": {},
     "output_type": "execute_result"
    }
   ],
   "source": [
    "#смотрим на значения, которые есть в поле beds в зависимости от типа идентификатора\n",
    "data[data['mls-id'].notnull()]['beds'].unique()[:50]"
   ]
  },
  {
   "cell_type": "code",
   "execution_count": 43,
   "metadata": {
    "scrolled": false
   },
   "outputs": [
    {
     "data": {
      "text/plain": [
       "array(['4', '3 Beds', '5 Beds', nan, '2 Beds', '3', '4 Beds', 'Baths',\n",
       "       '8 Beds', '2', '2.0', '5', '1', '3.0', '6 Beds', 'Bath', '12 Beds',\n",
       "       '6', '14', '0.25 acres', '7', '5.0', '4.0', ' ', '7 Beds',\n",
       "       '9 Beds', '0.44 acres', '0', '1.43 acres', '0.32 acres',\n",
       "       '8,637 sqft', '7.0', '16 Beds', '9.7 acres', '1.0', '8',\n",
       "       '10,310 sqft', '6,250 sqft', '2 acres', '5,000 sqft', '0.96 acres',\n",
       "       '6.0', '6.31 acres', '0.6 acres', '5,662 sqft', '2,200 sqft', '10',\n",
       "       '10 Beds', '0.46 acres', '0.59 acres'], dtype=object)"
      ]
     },
     "execution_count": 43,
     "metadata": {},
     "output_type": "execute_result"
    }
   ],
   "source": [
    "data[data['MlsId'].notnull()]['beds'].unique()[:50]"
   ]
  },
  {
   "cell_type": "code",
   "execution_count": 44,
   "metadata": {},
   "outputs": [],
   "source": [
    "def make_beds_count(row):\n",
    "    row = str(row)\n",
    "    if row.find(' Beds') > -1:\n",
    "        try:\n",
    "            return int(row.replace(' Beds', ''))\n",
    "        except: #если указано что-то другое #1-2\n",
    "            return 1\n",
    "    elif row.find(' bd') >-1:\n",
    "        try:\n",
    "            return int(row.replace(' bd', ''))\n",
    "        except: #если указано что-то другое #--\n",
    "            return 0\n",
    "    else: \n",
    "        try:\n",
    "            return int(row)\n",
    "        except:\n",
    "            return 0\n",
    "\n",
    "def make_beds_square(row): #переводим в квадратные метры\n",
    "    row = str(row)\n",
    "    if row.find(' sqft') > -1:\n",
    "        try:\n",
    "            return float(row.replace(' sqft', '').replace(',',''))*0.093\n",
    "        except: \n",
    "            return 0\n",
    "    elif row.find(' acres') > -1:\n",
    "        try:\n",
    "            return float(row.replace(' acres', '').replace(',',''))*4046.86\n",
    "        except: \n",
    "            return 0\n",
    "    else:\n",
    "        return 0\n",
    "        "
   ]
  },
  {
   "cell_type": "code",
   "execution_count": 45,
   "metadata": {},
   "outputs": [],
   "source": [
    "data['beds_count']=data['beds'].apply(lambda x: make_beds_count(x))\n",
    "data['beds_square']=data['beds'].apply(lambda x: make_beds_square(x))\n",
    "#удаляем лишний столбец\n",
    "data = data.drop(['beds'], axis = 'columns')"
   ]
  },
  {
   "cell_type": "code",
   "execution_count": 46,
   "metadata": {},
   "outputs": [
    {
     "data": {
      "image/png": "[encoded data removed]",
      "text/plain": [
       "<Figure size 432x288 with 1 Axes>"
      ]
     },
     "metadata": {
      "needs_background": "light"
     },
     "output_type": "display_data"
    }
   ],
   "source": [
    "fig_beds = plt.figure()\n",
    "axes_beds = fig_beds.add_axes([0, 0, 2, 1])\n",
    "axes_beds.hist(data['beds_count'], range = (0, 30), bins=30)\n",
    "plt.show()"
   ]
  },
  {
   "cell_type": "code",
   "execution_count": 47,
   "metadata": {},
   "outputs": [
    {
     "data": {
      "image/png": "[encoded data removed]",
      "text/plain": [
       "<Figure size 432x288 with 1 Axes>"
      ]
     },
     "metadata": {
      "needs_background": "light"
     },
     "output_type": "display_data"
    }
   ],
   "source": [
    "X1 = data[['beds_count', 'target']]\n",
    "\n",
    "fig_target_beds = plt.figure()\n",
    "axes_target_beds = fig_target_beds.add_axes([0, 0, 2, 2])\n",
    "axes_target_beds.set_xlabel('Количество спален')\n",
    "axes_target_beds.set_ylabel('Стоимость дома')\n",
    "axes_target_beds.set_title('Стоимость домов в зависимости от количества спален')\n",
    "plt.plot(X1['beds_count'], X1['target'],'o')\n",
    "plt.show()"
   ]
  },
  {
   "cell_type": "code",
   "execution_count": 48,
   "metadata": {},
   "outputs": [
    {
     "data": {
      "text/html": [
       "<div>\n",
       "<style scoped>\n",
       "    .dataframe tbody tr th:only-of-type {\n",
       "        vertical-align: middle;\n",
       "    }\n",
       "\n",
       "    .dataframe tbody tr th {\n",
       "        vertical-align: top;\n",
       "    }\n",
       "\n",
       "    .dataframe thead th {\n",
       "        text-align: right;\n",
       "    }\n",
       "</style>\n",
       "<table border=\"1\" class=\"dataframe\">\n",
       "  <thead>\n",
       "    <tr style=\"text-align: right;\">\n",
       "      <th></th>\n",
       "      <th>status</th>\n",
       "      <th>private pool</th>\n",
       "      <th>homeFacts</th>\n",
       "      <th>fireplace</th>\n",
       "      <th>schools</th>\n",
       "      <th>sqft</th>\n",
       "      <th>zipcode</th>\n",
       "      <th>state</th>\n",
       "      <th>stories</th>\n",
       "      <th>mls-id</th>\n",
       "      <th>PrivatePool</th>\n",
       "      <th>MlsId</th>\n",
       "      <th>target</th>\n",
       "      <th>state_mean</th>\n",
       "      <th>rent_sale</th>\n",
       "      <th>prop_type</th>\n",
       "      <th>city_hash</th>\n",
       "      <th>street_hash</th>\n",
       "      <th>address_hash</th>\n",
       "      <th>baths_count</th>\n",
       "      <th>beds_count</th>\n",
       "      <th>beds_square</th>\n",
       "    </tr>\n",
       "  </thead>\n",
       "  <tbody>\n",
       "    <tr>\n",
       "      <th>7324</th>\n",
       "      <td>active</td>\n",
       "      <td>NaN</td>\n",
       "      <td>{'atAGlanceFacts': [{'factValue': '', 'factLab...</td>\n",
       "      <td>NaN</td>\n",
       "      <td>[{'rating': ['7', '8', '4', '8', '9', '6', 'NR...</td>\n",
       "      <td>62376</td>\n",
       "      <td>78045</td>\n",
       "      <td>TX</td>\n",
       "      <td>NaN</td>\n",
       "      <td>NaN</td>\n",
       "      <td>NaN</td>\n",
       "      <td>20193851</td>\n",
       "      <td>1590000</td>\n",
       "      <td>4.617258e+05</td>\n",
       "      <td>0</td>\n",
       "      <td>33</td>\n",
       "      <td>399</td>\n",
       "      <td>493</td>\n",
       "      <td>706</td>\n",
       "      <td>2.0</td>\n",
       "      <td>144</td>\n",
       "      <td>0.0</td>\n",
       "    </tr>\n",
       "    <tr>\n",
       "      <th>110423</th>\n",
       "      <td>for sale</td>\n",
       "      <td>NaN</td>\n",
       "      <td>{'atAGlanceFacts': [{'factValue': '1910', 'fac...</td>\n",
       "      <td>NaN</td>\n",
       "      <td>[{'rating': ['2/10', '3/10'], 'data': {'Distan...</td>\n",
       "      <td>30,500</td>\n",
       "      <td>02215</td>\n",
       "      <td>MA</td>\n",
       "      <td>NaN</td>\n",
       "      <td>NaN</td>\n",
       "      <td>NaN</td>\n",
       "      <td>81, Boston, MA 02215</td>\n",
       "      <td>30000000</td>\n",
       "      <td>1.454522e+06</td>\n",
       "      <td>0</td>\n",
       "      <td>33</td>\n",
       "      <td>1534</td>\n",
       "      <td>1327</td>\n",
       "      <td>1947</td>\n",
       "      <td>55.0</td>\n",
       "      <td>99</td>\n",
       "      <td>0.0</td>\n",
       "    </tr>\n",
       "  </tbody>\n",
       "</table>\n",
       "</div>"
      ],
      "text/plain": [
       "          status private pool  \\\n",
       "7324      active          NaN   \n",
       "110423  for sale          NaN   \n",
       "\n",
       "                                                homeFacts fireplace  \\\n",
       "7324    {'atAGlanceFacts': [{'factValue': '', 'factLab...       NaN   \n",
       "110423  {'atAGlanceFacts': [{'factValue': '1910', 'fac...       NaN   \n",
       "\n",
       "                                                  schools    sqft zipcode  \\\n",
       "7324    [{'rating': ['7', '8', '4', '8', '9', '6', 'NR...   62376   78045   \n",
       "110423  [{'rating': ['2/10', '3/10'], 'data': {'Distan...  30,500   02215   \n",
       "\n",
       "       state stories mls-id PrivatePool                  MlsId    target  \\\n",
       "7324      TX     NaN    NaN         NaN               20193851   1590000   \n",
       "110423    MA     NaN    NaN         NaN   81, Boston, MA 02215  30000000   \n",
       "\n",
       "          state_mean  rent_sale  prop_type  city_hash  street_hash  \\\n",
       "7324    4.617258e+05          0         33        399          493   \n",
       "110423  1.454522e+06          0         33       1534         1327   \n",
       "\n",
       "        address_hash  baths_count  beds_count  beds_square  \n",
       "7324             706          2.0         144          0.0  \n",
       "110423          1947         55.0          99          0.0  "
      ]
     },
     "execution_count": 48,
     "metadata": {},
     "output_type": "execute_result"
    }
   ],
   "source": [
    "data[data['beds_count']>90]"
   ]
  },
  {
   "cell_type": "markdown",
   "metadata": {},
   "source": [
    "## 7. поле schools"
   ]
  },
  {
   "cell_type": "code",
   "execution_count": 49,
   "metadata": {
    "scrolled": true
   },
   "outputs": [
    {
     "data": {
      "text/plain": [
       "'[{\\'rating\\': [\\'4\\', \\'4\\', \\'7\\', \\'NR\\', \\'4\\', \\'7\\', \\'NR\\', \\'NR\\'], \\'data\\': {\\'Distance\\': [\\'2.7 mi\\', \\'3.6 mi\\', \\'5.1 mi\\', \\'4.0 mi\\', \\'10.5 mi\\', \\'12.6 mi\\', \\'2.7 mi\\', \\'3.1 mi\\'], \\'Grades\\': [\\'3–5\\', \\'6–8\\', \\'9–12\\', \\'PK–2\\', \\'6–8\\', \\'9–12\\', \\'PK–5\\', \\'K–12\\']}, \\'name\\': [\\'Southern Pines Elementary School\\', \\'Southern Middle School\\', \\'Pinecrest High School\\', \\'Southern Pines Primary School\\', \"Crain\\'s Creek Middle School\", \\'Union Pines High School\\', \\'Episcopal Day Private School\\', \\'Calvary Christian Private School\\']}]'"
      ]
     },
     "execution_count": 49,
     "metadata": {},
     "output_type": "execute_result"
    }
   ],
   "source": [
    "#пример данных\n",
    "data['schools'][0]"
   ]
  },
  {
   "cell_type": "code",
   "execution_count": 50,
   "metadata": {},
   "outputs": [],
   "source": [
    "def make_schools(row):\n",
    "\n",
    "    #разбираем, какие классы есть в близлежащих школах\n",
    "    grades = eval(row[1:-1])['data']['Grades']\n",
    "    \n",
    "    result={'K':0,'1':0,'2':0,'3':0,'4':0,'5':0,'6':0,'7':0,'8':0,'9':0,'10':0,'11':0,'12':0, 'PK':0}\n",
    "    for i in grades:\n",
    "        i = (str(i).replace(' to ', '-').replace('–', '-')).split(',')\n",
    "        for ii in i:\n",
    "            ii = ii.strip().upper().replace('PK','PRESCHOOL')\n",
    "            if 'PRESCHOOL' in ii:\n",
    "                result['PK']+=1\n",
    "                ii = ii.replace('PRESCHOOL','1')\n",
    "            if 'K' in ii:\n",
    "                result['K']+=1\n",
    "                ii = ii.replace('K','1')\n",
    "            if '-' in ii:\n",
    "                j = ii.split('-')\n",
    "                for k in range(int(j[0]), int(j[1])+1):\n",
    "                    result[str(k)]+=1\n",
    "    \n",
    "    #считаем количество школ \n",
    "    result['schools_count']=len(eval(row[1:-1])['rating'])\n",
    "    \n",
    "    #считаем дистанцию по школам\n",
    "    result['min_dist']=0\n",
    "    result['max_dist']=0\n",
    "    result['mean_dist']=0\n",
    "\n",
    "    data_list = eval(row[1:-1])['data']['Distance']\n",
    "    dist_list=[]\n",
    "    for i in data_list:\n",
    "        i = i.replace('mi', '').strip()\n",
    "        try:\n",
    "            i = float(i)\n",
    "            dist_list.append(i)\n",
    "        except:\n",
    "            print(i)\n",
    "            i = 0 \n",
    "    if len(dist_list)>0:\n",
    "        result['min_dist']=min(dist_list)\n",
    "        result['max_dist']=max(dist_list)\n",
    "        result['mean_dist']=mean(dist_list)\n",
    "    \n",
    "    #разбираем рейтинги школ\n",
    "    regex = re.compile('\\D+')\n",
    "    data2_list = eval(row[1:-1])['rating']\n",
    "    rate_list=[]\n",
    "    if len(data2_list)>0:\n",
    "        for i in data2_list:\n",
    "            i = i.replace('/10','')\n",
    "            i = regex.sub('', str(i))\n",
    "            if i != '':\n",
    "                rate_list.append(int(i))\n",
    "            else:\n",
    "                rate_list.append(0)\n",
    "    if len(rate_list)>0:\n",
    "        result['max_rate'] = max(rate_list) \n",
    "    else:\n",
    "        result['max_rate']=0\n",
    "        \n",
    "    if len(dist_list)==len(rate_list):\n",
    "        result['average_rate_school']=np.array(dist_list)@np.array(rate_list)\n",
    "    else:\n",
    "        result['average_rate_school']=0\n",
    "    \n",
    "    return pd.Series(result)"
   ]
  },
  {
   "cell_type": "code",
   "execution_count": 51,
   "metadata": {},
   "outputs": [],
   "source": [
    "#добавляем кучу новых столбцов с характеристиками по школам\n",
    "new_columns = ['K','1','2','3','4','5','6','7','8','9','10','11','12', 'PK', 'schools_count', \n",
    "              'min_dist', 'max_dist', 'mean_dist', 'max_rate', 'average_rate_school']\n",
    "data[new_columns] = pd.DataFrame(data['schools'].apply(lambda x: make_schools(x)), index=data.index)"
   ]
  },
  {
   "cell_type": "code",
   "execution_count": 52,
   "metadata": {},
   "outputs": [],
   "source": [
    "#удаляем исходный столбец про школы\n",
    "data = data.drop(['schools'], axis = 'columns')"
   ]
  },
  {
   "cell_type": "markdown",
   "metadata": {},
   "source": [
    "## 8. поле sqft"
   ]
  },
  {
   "cell_type": "code",
   "execution_count": 53,
   "metadata": {},
   "outputs": [],
   "source": [
    "data['sqft'].fillna(0, inplace=True)"
   ]
  },
  {
   "cell_type": "code",
   "execution_count": 54,
   "metadata": {},
   "outputs": [],
   "source": [
    "#убираем все символы, кроме цифр. Приводим к формату int\n",
    "regex_sq = re.compile('\\D+')\n",
    "data['sqft'] = data['sqft'].apply(lambda x: regex_sq.sub('', str(x)))\n",
    "data['sqft'] = data['sqft'].apply(lambda x: int(x) if x != '' else 0)"
   ]
  },
  {
   "cell_type": "code",
   "execution_count": 55,
   "metadata": {},
   "outputs": [
    {
     "name": "stdout",
     "output_type": "stream",
     "text": [
      "осталось 374464 значений\n"
     ]
    }
   ],
   "source": [
    "#удаляем выбросы. Площадь больше 4000000\n",
    "data = data.loc[data['sqft']<40000000]\n",
    "print('осталось {0} значений'.format(len(data)))"
   ]
  },
  {
   "cell_type": "code",
   "execution_count": 56,
   "metadata": {
    "scrolled": true
   },
   "outputs": [
    {
     "data": {
      "image/png": "[encoded data removed]",
      "text/plain": [
       "<Figure size 432x288 with 1 Axes>"
      ]
     },
     "metadata": {
      "needs_background": "light"
     },
     "output_type": "display_data"
    }
   ],
   "source": [
    "#стоимость домов в зависимости от площади\n",
    "X_sqft = data[['sqft', 'target']]\n",
    "\n",
    "fig_target_sqft = plt.figure()\n",
    "axes_target_sqft = fig_target_sqft.add_axes([0, 0, 2, 2])\n",
    "axes_target_sqft.set_xlabel('Площадь дома')\n",
    "axes_target_sqft.set_ylabel('Стоимость дома')\n",
    "axes_target_sqft.set_title('Стоимость домов в зависимости от площади дома')\n",
    "plt.plot(X_sqft['sqft'], X_sqft['target'],'o')\n",
    "plt.show()"
   ]
  },
  {
   "cell_type": "markdown",
   "metadata": {},
   "source": [
    "## 9. поле zipcode"
   ]
  },
  {
   "cell_type": "code",
   "execution_count": 57,
   "metadata": {},
   "outputs": [],
   "source": [
    "#убираем все символы, кроме цифр. Приводим к формату int\n",
    "regex = re.compile('\\D+')\n",
    "data['zipcode_int'] = data['zipcode'].apply(lambda x: int(regex.sub('', str(x))) if regex.sub('', str(x))!='' else 0)"
   ]
  },
  {
   "cell_type": "markdown",
   "metadata": {},
   "source": [
    "## 10. private pool  и PrivatePool"
   ]
  },
  {
   "cell_type": "code",
   "execution_count": 58,
   "metadata": {},
   "outputs": [],
   "source": [
    "data['private pool1'] = data['private pool'].apply(lambda x: 1 if str(x).lower()=='yes' else 0)\n",
    "data['PrivatePool1'] = data['PrivatePool'].apply(lambda x: 1 if str(x).lower()=='yes' else 0)\n",
    "data['pool'] = data[['PrivatePool1','private pool1']].values.max(1)"
   ]
  },
  {
   "cell_type": "code",
   "execution_count": 59,
   "metadata": {},
   "outputs": [
    {
     "data": {
      "text/plain": [
       "array([nan, 'Yes'], dtype=object)"
      ]
     },
     "execution_count": 59,
     "metadata": {},
     "output_type": "execute_result"
    }
   ],
   "source": [
    "data['private pool'].unique()"
   ]
  },
  {
   "cell_type": "code",
   "execution_count": 60,
   "metadata": {},
   "outputs": [
    {
     "data": {
      "text/plain": [
       "array([nan, 'yes', 'Yes'], dtype=object)"
      ]
     },
     "execution_count": 60,
     "metadata": {},
     "output_type": "execute_result"
    }
   ],
   "source": [
    "data['PrivatePool'].unique()"
   ]
  },
  {
   "cell_type": "code",
   "execution_count": 61,
   "metadata": {},
   "outputs": [
    {
     "data": {
      "text/html": [
       "<div>\n",
       "<style scoped>\n",
       "    .dataframe tbody tr th:only-of-type {\n",
       "        vertical-align: middle;\n",
       "    }\n",
       "\n",
       "    .dataframe tbody tr th {\n",
       "        vertical-align: top;\n",
       "    }\n",
       "\n",
       "    .dataframe thead th {\n",
       "        text-align: right;\n",
       "    }\n",
       "</style>\n",
       "<table border=\"1\" class=\"dataframe\">\n",
       "  <thead>\n",
       "    <tr style=\"text-align: right;\">\n",
       "      <th></th>\n",
       "      <th>PrivatePool</th>\n",
       "      <th>private pool</th>\n",
       "      <th>pool</th>\n",
       "    </tr>\n",
       "  </thead>\n",
       "  <tbody>\n",
       "    <tr>\n",
       "      <th>2</th>\n",
       "      <td>yes</td>\n",
       "      <td>NaN</td>\n",
       "      <td>1</td>\n",
       "    </tr>\n",
       "    <tr>\n",
       "      <th>12</th>\n",
       "      <td>yes</td>\n",
       "      <td>NaN</td>\n",
       "      <td>1</td>\n",
       "    </tr>\n",
       "    <tr>\n",
       "      <th>19</th>\n",
       "      <td>yes</td>\n",
       "      <td>NaN</td>\n",
       "      <td>1</td>\n",
       "    </tr>\n",
       "    <tr>\n",
       "      <th>43</th>\n",
       "      <td>yes</td>\n",
       "      <td>NaN</td>\n",
       "      <td>1</td>\n",
       "    </tr>\n",
       "    <tr>\n",
       "      <th>60</th>\n",
       "      <td>Yes</td>\n",
       "      <td>NaN</td>\n",
       "      <td>1</td>\n",
       "    </tr>\n",
       "    <tr>\n",
       "      <th>...</th>\n",
       "      <td>...</td>\n",
       "      <td>...</td>\n",
       "      <td>...</td>\n",
       "    </tr>\n",
       "    <tr>\n",
       "      <th>377168</th>\n",
       "      <td>yes</td>\n",
       "      <td>NaN</td>\n",
       "      <td>1</td>\n",
       "    </tr>\n",
       "    <tr>\n",
       "      <th>377170</th>\n",
       "      <td>Yes</td>\n",
       "      <td>NaN</td>\n",
       "      <td>1</td>\n",
       "    </tr>\n",
       "    <tr>\n",
       "      <th>377171</th>\n",
       "      <td>yes</td>\n",
       "      <td>NaN</td>\n",
       "      <td>1</td>\n",
       "    </tr>\n",
       "    <tr>\n",
       "      <th>377174</th>\n",
       "      <td>yes</td>\n",
       "      <td>NaN</td>\n",
       "      <td>1</td>\n",
       "    </tr>\n",
       "    <tr>\n",
       "      <th>377180</th>\n",
       "      <td>Yes</td>\n",
       "      <td>NaN</td>\n",
       "      <td>1</td>\n",
       "    </tr>\n",
       "  </tbody>\n",
       "</table>\n",
       "<p>44272 rows × 3 columns</p>\n",
       "</div>"
      ],
      "text/plain": [
       "       PrivatePool private pool  pool\n",
       "2              yes          NaN     1\n",
       "12             yes          NaN     1\n",
       "19             yes          NaN     1\n",
       "43             yes          NaN     1\n",
       "60             Yes          NaN     1\n",
       "...            ...          ...   ...\n",
       "377168         yes          NaN     1\n",
       "377170         Yes          NaN     1\n",
       "377171         yes          NaN     1\n",
       "377174         yes          NaN     1\n",
       "377180         Yes          NaN     1\n",
       "\n",
       "[44272 rows x 3 columns]"
      ]
     },
     "execution_count": 61,
     "metadata": {},
     "output_type": "execute_result"
    }
   ],
   "source": [
    "data[data['pool'] > 0][['PrivatePool','private pool', 'pool']]"
   ]
  },
  {
   "cell_type": "code",
   "execution_count": 62,
   "metadata": {},
   "outputs": [],
   "source": [
    "#удаляем ненужные столбцы\n",
    "data = data.drop(['PrivatePool','private pool','PrivatePool1','private pool1'], axis='columns')"
   ]
  },
  {
   "cell_type": "markdown",
   "metadata": {},
   "source": [
    "## 11. поле fireplace"
   ]
  },
  {
   "cell_type": "code",
   "execution_count": 63,
   "metadata": {},
   "outputs": [
    {
     "name": "stdout",
     "output_type": "stream",
     "text": [
      "1654\n"
     ]
    },
    {
     "data": {
      "text/plain": [
       "array(['Gas Logs', nan, 'yes', 'Yes', '2', '0', '1', 'Not Applicable',\n",
       "       'Fireplace YN', '5', 'Family Room, Master Bedroom', '1 Fireplace',\n",
       "       'Fireplace', 'Living Room, Wood Burning',\n",
       "       '1 Fireplace, Exterior Fireplace', '3', 'N/K',\n",
       "       'Firepit, Gas Fireplace', 'Gas Logs, In Den/Family Room',\n",
       "       'FAMILYRM', 'Wood', 'Direct Vent, Gas Log, 1 Fireplace',\n",
       "       'Family Room, Living Room, Wood Burning',\n",
       "       '1 Fireplace, Wood Burning', 'Extra Closets',\n",
       "       'Gas Logs, Great Room', 'Special Features', 'No', 'Gas, Propane',\n",
       "       'Great Room'], dtype=object)"
      ]
     },
     "execution_count": 63,
     "metadata": {},
     "output_type": "execute_result"
    }
   ],
   "source": [
    "print(len(data['fireplace'].unique()))\n",
    "data['fireplace'].unique()[:30]"
   ]
  },
  {
   "cell_type": "code",
   "execution_count": 64,
   "metadata": {},
   "outputs": [],
   "source": [
    "#пока простая обработка \"есть/нет\"\n",
    "data['fireplace_y_n'] = data['fireplace'].apply(lambda x: 0 if (str(x) == 'nan' \n",
    "                                                                or str(x).lower() == 'not applicable' \n",
    "                                                                or str(x).lower() == 'no') else 1)\n",
    "\n"
   ]
  },
  {
   "cell_type": "code",
   "execution_count": 65,
   "metadata": {},
   "outputs": [],
   "source": [
    "#Работа с обогревом. Смотрим частоту встречания разных вариантов\n",
    "fireplace_list = []\n",
    "for x in data['fireplace']:\n",
    "    if type(x) is str:\n",
    "        #print(ast.literal_eval(x))\n",
    "        li = x.split(',') #преобразуем строку \"со списком\" в настоящий список\n",
    "        #print(li)\n",
    "        for i in li:\n",
    "            fireplace_list.append(i.strip())\n",
    "\n",
    "#считаем сколько раз упоминается \n",
    "fireplace_dict = {} #делаем словарь с количеством упоминаний\n",
    "for i in fireplace_list:\n",
    "    if i not in fireplace_dict.keys():\n",
    "        fireplace_dict[i] = 0\n",
    "    fireplace_dict[i] += 1"
   ]
  },
  {
   "cell_type": "code",
   "execution_count": 66,
   "metadata": {},
   "outputs": [
    {
     "data": {
      "text/plain": [
       "{'Gas Logs': 1272,\n",
       " 'yes': 50017,\n",
       " 'Yes': 20619,\n",
       " '2': 2418,\n",
       " '0': 262,\n",
       " '1': 14479,\n",
       " 'Not Applicable': 1990,\n",
       " 'Fireplace YN': 287,\n",
       " '5': 65,\n",
       " 'Family Room': 539,\n",
       " 'Master Bedroom': 129,\n",
       " '1 Fireplace': 758,\n",
       " 'Fireplace': 910,\n",
       " 'Living Room': 1153,\n",
       " 'Wood Burning': 1108,\n",
       " 'Exterior Fireplace': 46,\n",
       " '3': 562,\n",
       " 'N/K': 47,\n",
       " 'Firepit': 75,\n",
       " 'Gas Fireplace': 228,\n",
       " 'In Den/Family Room': 213,\n",
       " 'FAMILYRM': 654,\n",
       " 'Wood': 235,\n",
       " 'Direct Vent': 35,\n",
       " 'Gas Log': 260,\n",
       " 'Extra Closets': 683,\n",
       " 'Great Room': 626,\n",
       " 'Special Features': 279,\n",
       " 'No': 289,\n",
       " 'Gas': 491,\n",
       " 'Propane': 26,\n",
       " 'Ceiling Fan': 1318,\n",
       " 'Storage': 650,\n",
       " 'Utility Connection': 672,\n",
       " 'Insert': 24,\n",
       " 'Fireplace Features': 239,\n",
       " 'In Great Room': 209,\n",
       " 'Central Vacuum': 82,\n",
       " 'Elevator': 70,\n",
       " 'Walk-In Closets': 1042,\n",
       " 'Natural Gas': 164,\n",
       " 'Baseboard': 3,\n",
       " 'Fireplace-Wood': 48,\n",
       " 'Hot Water/Steam': 12,\n",
       " 'Radiators': 9,\n",
       " 'Gas Log Starter': 79,\n",
       " 'Electric': 169,\n",
       " 'Wood Burning FP': 137,\n",
       " 'Fireplace Living Rm': 109,\n",
       " 'Wood Burning Frplc': 37,\n",
       " 'Other Room': 72,\n",
       " '4': 184,\n",
       " '2 Fireplaces': 30,\n",
       " 'Redecorated': 141,\n",
       " 'LOCATION': 518,\n",
       " 'One': 378,\n",
       " 'In Living Room': 283,\n",
       " 'Log Wood-Burning': 48,\n",
       " 'Wood-Burning Stove': 9,\n",
       " 'Forced Air': 107,\n",
       " 'Three': 9,\n",
       " 'Two Way': 8,\n",
       " 'Two': 75,\n",
       " 'Gas Fuel': 88,\n",
       " 'Gas Piped': 2,\n",
       " '# Fireplaces - Gas': 60,\n",
       " 'Decorative': 190,\n",
       " '2 Fireplace': 45,\n",
       " 'Fireplace Master Bdr': 28,\n",
       " 'Non Wood Burning': 45,\n",
       " 'In Bedroom': 45,\n",
       " 'Den': 173,\n",
       " 'Kitchen': 31,\n",
       " 'See Thru': 11,\n",
       " 'In-Law Quarters': 81,\n",
       " 'Two Way Fireplace': 23,\n",
       " 'Woodstove': 27,\n",
       " 'SMTHR': 111,\n",
       " '# Fireplaces - Woodburning': 68,\n",
       " 'Gas/Gas Logs': 319,\n",
       " 'Wet Bar': 159,\n",
       " '6': 34,\n",
       " 'Rec Room': 21,\n",
       " 'Gas Starter': 143,\n",
       " 'Woodburning Stove': 23,\n",
       " 'Electric Logs': 27,\n",
       " 'Air Filter': 158,\n",
       " 'Other (See Remarks)': 30,\n",
       " 'Gas Vented': 164,\n",
       " 'Gas Logs Included': 20,\n",
       " 'Living Room Fireplace': 33,\n",
       " 'Single Fireplace': 1,\n",
       " 'Fireplace Family Rm': 176,\n",
       " 'Frplc-Fam Rm/Den/Gr': 13,\n",
       " 'Mantle': 15,\n",
       " 'Bath Features': 2,\n",
       " 'Log Woodburning': 97,\n",
       " 'Fireplace in Family Room': 2,\n",
       " 'Gas Burning Fireplace': 2,\n",
       " 'Flooring - Carpet': 26,\n",
       " 'Fireplace - Gas': 55,\n",
       " 'Fireplace - Wood Burning': 66,\n",
       " 'See Through': 16,\n",
       " '3+ Fireplace': 11,\n",
       " 'Vented Gas': 2,\n",
       " 'In Rec Room': 21,\n",
       " '3+': 34,\n",
       " 'Brick': 45,\n",
       " 'Gas Burning': 33,\n",
       " 'Fireplace Insert': 35,\n",
       " 'Free Standing': 38,\n",
       " 'Freestnd Fireplace': 6,\n",
       " '7': 18,\n",
       " 'Fire Sprinkler System': 79,\n",
       " 'Humidifier': 3,\n",
       " 'Flue': 10,\n",
       " 'Ventless': 34,\n",
       " 'Basement - Finished': 7,\n",
       " 'Flooring - Tile': 8,\n",
       " 'Window Treatments': 5,\n",
       " 'Basement': 25,\n",
       " 'LP Gas': 1,\n",
       " 'Fireplaces': 31,\n",
       " 'Outdoor': 3,\n",
       " 'Family Room Fireplace': 20,\n",
       " 'Wood Burning Fireplace': 15,\n",
       " 'Fireplace-Gas': 68,\n",
       " 'Flooring - HardWood': 69,\n",
       " 'Crown Molding': 21,\n",
       " 'Fireplace-Other': 15,\n",
       " 'Gas Log Fireplace': 27,\n",
       " 'Wood burning w/Gas Starter': 12,\n",
       " 'Water Filter': 23,\n",
       " 'Fireplace-Living Rm': 22,\n",
       " 'Central Furnace': 11,\n",
       " '# Fireplaces - Woodstoves': 17,\n",
       " 'Number': 5,\n",
       " 'SMLT': 21,\n",
       " 'Wood Fuel': 18,\n",
       " 'Great Room Fireplace': 33,\n",
       " '# Fireplaces - Pellet': 10,\n",
       " 'Location (Living Room)': 1,\n",
       " '3 Fireplaces': 6,\n",
       " 'Stone Fireplace': 13,\n",
       " 'Formal': 3,\n",
       " 'Wood Stove': 24,\n",
       " 'Factory Built': 25,\n",
       " 'Metal': 3,\n",
       " 'Propane Logs Convey': 17,\n",
       " 'SMAPL': 26,\n",
       " 'Keeping Room': 1,\n",
       " 'Wall Mounted': 4,\n",
       " 'Masonry': 36,\n",
       " 'FP in Living Room': 10,\n",
       " 'Outside': 17,\n",
       " 'Floor Furnace': 2,\n",
       " 'Gas Starters': 14,\n",
       " 'Bed Room Fireplace': 4,\n",
       " 'Master': 4,\n",
       " 'Dining': 5,\n",
       " 'Two Sided': 1,\n",
       " 'Living': 3,\n",
       " 'Free-standing': 4,\n",
       " 'Extras': 14,\n",
       " 'Built-Ins': 21,\n",
       " 'Brick Fireplace': 16,\n",
       " 'Ceiling Fan(s)': 8,\n",
       " 'Tub Shower': 1,\n",
       " 'Attached Fireplace Doors/Screen': 39,\n",
       " 'Includes Accessories': 7,\n",
       " 'Unit Features': 1,\n",
       " 'Balcony': 2,\n",
       " 'Cable TV Available': 3,\n",
       " 'Storage Lockers': 1,\n",
       " 'Vaulted Ceiling': 3,\n",
       " 'Walk-in Closet(s)': 4,\n",
       " 'Pre-Fab': 3,\n",
       " 'Gas Unvented': 28,\n",
       " 'Fire Pit': 31,\n",
       " 'Dining Room': 16,\n",
       " 'Bonus Room': 15,\n",
       " 'In Kitchen/Dining Room': 27,\n",
       " 'Heat Pump': 13,\n",
       " 'Basement Fireplace': 8,\n",
       " 'Free Standing Wood Stove': 5,\n",
       " 'Hearth Room Fireplace': 1,\n",
       " 'Masonry Fireplace': 5,\n",
       " 'Marble': 2,\n",
       " 'Dehumidifier': 7,\n",
       " 'Hot Tub': 24,\n",
       " 'Recording Studio': 7,\n",
       " '# Fireplaces - Freestanding': 2,\n",
       " 'No Fireplace': 11,\n",
       " 'Screened Porch access': 1,\n",
       " 'Garages': 1,\n",
       " 'W/D Hookups': 1,\n",
       " 'Decorative Fireplace': 2,\n",
       " 'Raised Hearth': 6,\n",
       " 'FP in Family Room': 4,\n",
       " 'See Agent': 10,\n",
       " 'Radiant': 2,\n",
       " 'Decorative Only': 4,\n",
       " 'Bath': 6,\n",
       " 'Patio': 10,\n",
       " 'Fireplace(s)': 6,\n",
       " 'Tile Fireplace': 3,\n",
       " 'SMCAM': 15,\n",
       " 'Dry Bar': 1,\n",
       " 'Intercom': 11,\n",
       " '2+ Fireplaces': 10,\n",
       " 'Multi-sided Fireplace': 4,\n",
       " 'Family/Recreation Room Fireplace': 6,\n",
       " 'Master Bedroom Fireplace': 4,\n",
       " 'Guest House': 1,\n",
       " 'Stone': 12,\n",
       " 'Zoned': 4,\n",
       " 'Pellet': 4,\n",
       " 'Forced Warm Air': 6,\n",
       " 'Wall Furnace': 1,\n",
       " 'Wall': 1,\n",
       " '1000+ Sq. Ft.': 1,\n",
       " 'Deck/Porch/Patio': 1,\n",
       " 'Range/Oven': 1,\n",
       " 'Dishwasher': 1,\n",
       " '3/More Bedrooms': 1,\n",
       " '2/More Baths': 1,\n",
       " '2 Story': 1,\n",
       " 'HOA': 2,\n",
       " 'Attached Screens': 3,\n",
       " 'Outdoors': 2,\n",
       " 'Heatilator Type System': 8,\n",
       " '4+ Fireplaces': 3,\n",
       " 'Skylight(s)': 2,\n",
       " 'Misc #2': 3,\n",
       " 'Electric Baseboard': 2,\n",
       " 'See through/Multi Sided': 7,\n",
       " 'Recirculator': 3,\n",
       " 'Formal Dining Room': 2,\n",
       " 'In Family Room': 4,\n",
       " 'Gas-Burning': 1,\n",
       " 'Fireplace Type': 2,\n",
       " 'Patio/Outdoors': 1,\n",
       " 'FP in Master BR': 2,\n",
       " 'Walk-In Closet(s)': 6,\n",
       " 'Fireplace - Other': 3,\n",
       " '2 Sided Fire Place': 3,\n",
       " 'Bedroom Features': 11,\n",
       " 'Vented Gas Fireplace': 1,\n",
       " 'Electric Fireplace': 8,\n",
       " '2 or more Fireplaces': 7,\n",
       " 'Fireplace-Bedroom': 4,\n",
       " 'Gas Starter Fireplace': 3,\n",
       " '4+': 10,\n",
       " 'Attached Doors': 2,\n",
       " 'Heat-O-Later': 1,\n",
       " 'Three or More': 4,\n",
       " 'Central': 1,\n",
       " 'Location': 2,\n",
       " '2 Sided Fireplace': 3,\n",
       " 'Free Standing Frplc': 3,\n",
       " 'Multi-Zone': 4,\n",
       " 'Flooring - Laminate': 2,\n",
       " '# Fireplaces - Artificial': 7,\n",
       " 'Freestanding': 3,\n",
       " 'In Den': 3,\n",
       " 'Wood Burning Stove': 6,\n",
       " 'Stove': 3,\n",
       " 'Master Bedroom - Sitting Area': 6,\n",
       " 'Gas Ventless': 3,\n",
       " 'Balcony Access': 5,\n",
       " 'Countertop(s) - Solid Surface': 2,\n",
       " 'Dining Area': 5,\n",
       " 'Island': 1,\n",
       " 'Kitchen - Gas Cooking': 2,\n",
       " 'Pantry': 6,\n",
       " 'With Gas Logs': 2,\n",
       " 'Glass/Enclosed Screen': 1,\n",
       " 'Central Air': 4,\n",
       " 'Central Heat': 3,\n",
       " 'Whole House Fan': 3,\n",
       " 'Cathedral/Vaulted Ceiling': 5,\n",
       " '11': 2,\n",
       " 'Master Suite': 1,\n",
       " 'Insulated Windows': 2,\n",
       " 'Pool In-Ground': 2,\n",
       " 'Secure Community': 1,\n",
       " 'Presently Inoperative': 2,\n",
       " 'Wood Stove Insert': 2,\n",
       " 'Pellet Stove': 4,\n",
       " 'Heatilater': 1,\n",
       " 'Non-functional': 2,\n",
       " 'Four or More': 3,\n",
       " 'Auto Sprinkler': 1,\n",
       " 'Cathedral Ceiling': 4,\n",
       " 'Partial Fence': 2,\n",
       " 'Rec Room Fireplace': 2,\n",
       " 'Porch': 10,\n",
       " '8': 5,\n",
       " 'In Living Area': 3,\n",
       " 'Fireplace in Master Bedroom': 1,\n",
       " 'Circulator Hot Water': 1,\n",
       " 'Other-See Remarks': 3,\n",
       " 'Woodburning': 7,\n",
       " 'Cable TV': 4,\n",
       " 'Carpeted Floors': 3,\n",
       " 'Ceiling Fans': 6,\n",
       " 'Entry Porch': 4,\n",
       " 'Security System': 5,\n",
       " 'Shop': 4,\n",
       " 'Walk-in Closet': 4,\n",
       " '9': 3,\n",
       " 'Fireplace- Gas': 1,\n",
       " 'Blinds': 3,\n",
       " 'Circle Drive': 2,\n",
       " 'Rear Porch': 2,\n",
       " 'Underground Util': 1,\n",
       " 'Whirlpool Tub': 2,\n",
       " 'Window Treatment': 1,\n",
       " '12': 1,\n",
       " 'Fireplace Equipment': 1,\n",
       " 'Heatilator': 1,\n",
       " 'Portable/Ventless': 1,\n",
       " 'None': 1,\n",
       " '10': 3,\n",
       " 'Prefab': 1,\n",
       " 'Bedroom Downstairs': 1,\n",
       " 'Dining Room Fireplace': 1,\n",
       " 'Two+': 1,\n",
       " 'Gas Hot Air/Furnace': 1,\n",
       " 'g-Sealed Combustion Fireplace/Woodstove': 1,\n",
       " 'High Speed Internet Available': 3,\n",
       " 'In-Unit Laundry': 3,\n",
       " 'Patio/Porch': 2,\n",
       " 'Private Entry': 2,\n",
       " 'Heating system: yes(s)': 1,\n",
       " 'Non-Functional Fireplace': 1,\n",
       " 'Countertop(s) - Granite': 1,\n",
       " 'Remarks': 2,\n",
       " 'Two-Way': 2,\n",
       " 'Deck': 1,\n",
       " 'Paved Drive': 5,\n",
       " 'Flooring - Slate': 1,\n",
       " 'Living/Dining Room Combo': 3,\n",
       " '134': 1,\n",
       " 'Fenced Yard': 3,\n",
       " 'Fireplace - Electric': 2,\n",
       " 'In-Law Suite': 1,\n",
       " 'Pool Heated': 1,\n",
       " 'Den/Library Fireplace': 1,\n",
       " 'Coal': 1,\n",
       " 'Prefabricated': 1,\n",
       " 'In Den/Great Room': 2,\n",
       " 'Loft': 1,\n",
       " 'Wood or Sim. Wood Floors': 1,\n",
       " 'Recreation Room': 1,\n",
       " 'Gas Log(s)': 1,\n",
       " 'Double Sink': 1,\n",
       " 'Countertop(s) - Quartz': 1,\n",
       " 'Propane Stove': 1,\n",
       " 'Kitchen Fireplace': 1,\n",
       " '2+ Baths': 1,\n",
       " '3 Bedrooms': 1,\n",
       " 'Deck/Patio': 1,\n",
       " 'Oven/Range': 1,\n",
       " 'Refrigerator': 1,\n",
       " 'Separate Dining': 1,\n",
       " 'Playroom': 1,\n",
       " 'Fireplace- Wood': 1,\n",
       " 'Basement - Partially Finished': 1,\n",
       " 'Master Bedroom - Dressing Area': 1,\n",
       " 'Insert Unit': 1,\n",
       " 'Blower': 1,\n",
       " 'In Master Bedroom': 1,\n",
       " 'In Study': 1,\n",
       " 'Int Shutters': 1,\n",
       " 'Sprinkler Syst-Yrd': 2,\n",
       " 'Other - See Remarks': 1,\n",
       " 'Marble Fireplace': 1,\n",
       " 'Main': 1,\n",
       " 'Chair Rail': 1,\n",
       " 'Other': 1,\n",
       " 'Study': 1,\n",
       " 'In-law Apt': 1,\n",
       " 'Shed': 1}"
      ]
     },
     "execution_count": 66,
     "metadata": {},
     "output_type": "execute_result"
    }
   ],
   "source": [
    "fireplace_dict"
   ]
  },
  {
   "cell_type": "code",
   "execution_count": 67,
   "metadata": {},
   "outputs": [],
   "source": [
    "#посчитаем, сколько характеристик указано для дома\n",
    "data['fp_count']=data['fireplace'].apply(lambda x: len(str(x).split(',')))"
   ]
  },
  {
   "cell_type": "code",
   "execution_count": 68,
   "metadata": {},
   "outputs": [
    {
     "data": {
      "text/html": [
       "<div>\n",
       "<style scoped>\n",
       "    .dataframe tbody tr th:only-of-type {\n",
       "        vertical-align: middle;\n",
       "    }\n",
       "\n",
       "    .dataframe tbody tr th {\n",
       "        vertical-align: top;\n",
       "    }\n",
       "\n",
       "    .dataframe thead th {\n",
       "        text-align: right;\n",
       "    }\n",
       "</style>\n",
       "<table border=\"1\" class=\"dataframe\">\n",
       "  <thead>\n",
       "    <tr style=\"text-align: right;\">\n",
       "      <th></th>\n",
       "      <th>fireplace_y_n</th>\n",
       "      <th>fireplace</th>\n",
       "      <th>fp_count</th>\n",
       "    </tr>\n",
       "  </thead>\n",
       "  <tbody>\n",
       "    <tr>\n",
       "      <th>841</th>\n",
       "      <td>1</td>\n",
       "      <td>Ceiling Fan, Extra Closets, Storage, Utility C...</td>\n",
       "      <td>4</td>\n",
       "    </tr>\n",
       "    <tr>\n",
       "      <th>1116</th>\n",
       "      <td>1</td>\n",
       "      <td>Ceiling Fan, Central Vacuum, Elevator, Extra C...</td>\n",
       "      <td>6</td>\n",
       "    </tr>\n",
       "    <tr>\n",
       "      <th>1343</th>\n",
       "      <td>1</td>\n",
       "      <td>Baseboard, Fireplace-Wood, Hot Water/Steam, Ra...</td>\n",
       "      <td>4</td>\n",
       "    </tr>\n",
       "    <tr>\n",
       "      <th>1661</th>\n",
       "      <td>1</td>\n",
       "      <td>Ceiling Fan, Extra Closets, Storage, Utility C...</td>\n",
       "      <td>5</td>\n",
       "    </tr>\n",
       "    <tr>\n",
       "      <th>2124</th>\n",
       "      <td>1</td>\n",
       "      <td>Ceiling Fan, Redecorated, Storage, Utility Con...</td>\n",
       "      <td>5</td>\n",
       "    </tr>\n",
       "    <tr>\n",
       "      <th>...</th>\n",
       "      <td>...</td>\n",
       "      <td>...</td>\n",
       "      <td>...</td>\n",
       "    </tr>\n",
       "    <tr>\n",
       "      <th>375492</th>\n",
       "      <td>1</td>\n",
       "      <td>Ceiling Fan, Fire Sprinkler System, Storage, U...</td>\n",
       "      <td>4</td>\n",
       "    </tr>\n",
       "    <tr>\n",
       "      <th>375630</th>\n",
       "      <td>1</td>\n",
       "      <td>Fireplace-Gas, Fireplace-Wood, Patio, Walk-in ...</td>\n",
       "      <td>4</td>\n",
       "    </tr>\n",
       "    <tr>\n",
       "      <th>376034</th>\n",
       "      <td>1</td>\n",
       "      <td>Ceiling Fan, SMAPL, Utility Connection, Walk-I...</td>\n",
       "      <td>4</td>\n",
       "    </tr>\n",
       "    <tr>\n",
       "      <th>376122</th>\n",
       "      <td>1</td>\n",
       "      <td>Gas Logs, In Bedroom, In Den/Family Room, In L...</td>\n",
       "      <td>4</td>\n",
       "    </tr>\n",
       "    <tr>\n",
       "      <th>376365</th>\n",
       "      <td>1</td>\n",
       "      <td>Ceiling Fan, Redecorated, Utility Connection, ...</td>\n",
       "      <td>4</td>\n",
       "    </tr>\n",
       "  </tbody>\n",
       "</table>\n",
       "<p>1133 rows × 3 columns</p>\n",
       "</div>"
      ],
      "text/plain": [
       "        fireplace_y_n                                          fireplace  \\\n",
       "841                 1  Ceiling Fan, Extra Closets, Storage, Utility C...   \n",
       "1116                1  Ceiling Fan, Central Vacuum, Elevator, Extra C...   \n",
       "1343                1  Baseboard, Fireplace-Wood, Hot Water/Steam, Ra...   \n",
       "1661                1  Ceiling Fan, Extra Closets, Storage, Utility C...   \n",
       "2124                1  Ceiling Fan, Redecorated, Storage, Utility Con...   \n",
       "...               ...                                                ...   \n",
       "375492              1  Ceiling Fan, Fire Sprinkler System, Storage, U...   \n",
       "375630              1  Fireplace-Gas, Fireplace-Wood, Patio, Walk-in ...   \n",
       "376034              1  Ceiling Fan, SMAPL, Utility Connection, Walk-I...   \n",
       "376122              1  Gas Logs, In Bedroom, In Den/Family Room, In L...   \n",
       "376365              1  Ceiling Fan, Redecorated, Utility Connection, ...   \n",
       "\n",
       "        fp_count  \n",
       "841            4  \n",
       "1116           6  \n",
       "1343           4  \n",
       "1661           5  \n",
       "2124           5  \n",
       "...          ...  \n",
       "375492         4  \n",
       "375630         4  \n",
       "376034         4  \n",
       "376122         4  \n",
       "376365         4  \n",
       "\n",
       "[1133 rows x 3 columns]"
      ]
     },
     "execution_count": 68,
     "metadata": {},
     "output_type": "execute_result"
    }
   ],
   "source": [
    "data[data['fp_count']>3][['fireplace_y_n','fireplace', 'fp_count']]"
   ]
  },
  {
   "cell_type": "code",
   "execution_count": 69,
   "metadata": {},
   "outputs": [
    {
     "data": {
      "image/png": "[encoded data removed]",
      "text/plain": [
       "<Figure size 432x288 with 1 Axes>"
      ]
     },
     "metadata": {
      "needs_background": "light"
     },
     "output_type": "display_data"
    }
   ],
   "source": [
    "#считаем распределение \n",
    "fireplace = data.groupby('fireplace_y_n')['fireplace_y_n'].count().sort_values(ascending=False)\n",
    "\n",
    "fig_fireplace = plt.figure()\n",
    "axes_fireplace = fig_fireplace.add_axes([0,0,1,1])\n",
    "axes_fireplace.bar(x = ['нет', 'да'], height = fireplace.values)\n",
    "axes_fireplace.set_xticklabels(['нет', 'да'], rotation = 0 )    #  Поворот текста\n",
    "plt.show()"
   ]
  },
  {
   "cell_type": "code",
   "execution_count": 70,
   "metadata": {},
   "outputs": [],
   "source": [
    "data=data.drop(['fireplace'], axis = 'columns')"
   ]
  },
  {
   "cell_type": "markdown",
   "metadata": {},
   "source": [
    "## 12. поле stories"
   ]
  },
  {
   "cell_type": "code",
   "execution_count": 71,
   "metadata": {},
   "outputs": [
    {
     "data": {
      "text/plain": [
       "array([nan, '2.0', '1.0', '3.0', 'One', '2', 'Multi/Split', '4.0', '0.0',\n",
       "       '0', 'One Level', '1', '9.0', '3', '1 Level, Site Built',\n",
       "       'One Story', '3.00', '1.00', '14.0', 'Two', '3+', '1 Story', '5.0',\n",
       "       '2 Story', 'Ranch/1 Story', 'Condominium', 'Stories/Levels', '7.0',\n",
       "       '2 Level, Site Built', '2 Level', '15', '3 Level, Site Built', '4',\n",
       "       '22.0', '2.00', '6.0', '1.0000', 'Lot', '3 Story', 'Three Or More',\n",
       "       '1.5', '1 Level', 'Two Story or More', 'Site Built, Tri-Level',\n",
       "       '54.0', '23', 'Farm House', '8.0', '16.0', '1.50', '18', '9', '21',\n",
       "       '8', '12.0', 'Split Level w/ Sub', '11.0', '1.5 Stories', '7',\n",
       "       '11', 'Townhouse', '12', '21.0', '16', '1.5 Story/Basement',\n",
       "       '28.0', 'Traditional', '2.5 Story', '17', '2.0000', '63.0',\n",
       "       'Acreage', 'Ground Level, One', '6', 'Split Foyer', '2 Stories',\n",
       "       '27.0', '19.0', '2.50', '1.30', '2 Story/Basement', 'Split Level',\n",
       "       '1.5 Story', '1.5 Level', '2 Or More Stories',\n",
       "       '1 Level, Condo, Site Built', '15.0', '20', '1.5000', '4.00',\n",
       "       '1 Story Basement', '5', 'Multi-Level', '17.0', 'Other Multi-unit',\n",
       "       'Ranch', 'Tri-Level', '13.0', '1 Story/Ranch', '51.0', '18.0',\n",
       "       '31', '19', 'High-Rise', 'Mid-Rise', 'Detached', '3 Stories',\n",
       "       '4 Story', '22', '46.0', '2.5', 'One and One Half', ', 2',\n",
       "       '1 1/2 Levels', '1.5 Level, Site Built', '70', '1 Story/F.R.O.G.',\n",
       "       'Commercial', '25.0', '3 Level, Townhouse', '3+ Story', '1.000',\n",
       "       '33.0', '10', '3 Level, Site Built, Townhouse',\n",
       "       'Three Or More, Multi/Split', 'Fourplex', '95.0', '90.0',\n",
       "       'Manufactured Doublewide', '6+ Stories', '91', '35.0', '13',\n",
       "       '2 Levels', '31.0', 'Mobile', '33', 'Cabin/Cottage',\n",
       "       'Three Or More Levels', '24', 'Victorian', '1.75', '38',\n",
       "       'One, Two', '1-2 Stories, 3-4 Stories', 'Site Built',\n",
       "       'Contemporary', '20.0', 'Garden', 'Site Built, Townhouse',\n",
       "       'Cape Cod', '26.0', '30', 'Dwelling Stories',\n",
       "       '2 Level, Condo, Site Built', '36.0', 'Modular Home', 'Bi-Level',\n",
       "       '26', '42', '45', 'One, Two, Multi/Split', '14', 'None',\n",
       "       '3 - 5 Stories', 'Multi Level', ', 1', '29.0', '55.0', '3.0000',\n",
       "       '78.0', '25', '56', 'Split Entry (Bi-Level)', '3 Level', '27',\n",
       "       '36', '47.0', '3-4 Stories', '10.0', '47', '29',\n",
       "       '1 Level, Non-Site Built', '40.0', 'Site Built, Split Foyer',\n",
       "       '1 Story, Townhouse', '43.0', '80.0', '43', '23.0', '24.0',\n",
       "       'Total Floors in Bldg', '3 Story, Multi Level',\n",
       "       'Multi Level, Three or More', '34', 'Raised Ranch', '5.00', '1.7',\n",
       "       '32', 'Unimproved Commercial', '57', '41.0', 'Condo', '45.0', '39',\n",
       "       '64.0', '1.7000', 'Bungalow', '48', '1.5, 2', '2 Story, Tri Level',\n",
       "       'Two, Multi/Split', '3 Story, Tri Level', '57.0', '41',\n",
       "       '2 Level, Split Foyer', '40', '28', '3 Levels',\n",
       "       'Other, Two, Multi/Split', '2 Level, Site Built, Townhouse',\n",
       "       '32.0', '58.0', '58', '30.0', '52.0', 'Multi-Story', '42.0',\n",
       "       '37.0', '1 Story, Split Level', '50', '30.00', '38.0', '44',\n",
       "       '48.0', '16.00', 'Tri Level', 'Tri/Multi Level',\n",
       "       '2 Story, Split Level', 'Co-op', 'Manufactured Singlewide',\n",
       "       '2 Level, Condo', '3 Story/Basement',\n",
       "       '1 Level, Site Built, Townhouse', '68.0', '60.0',\n",
       "       'Site Built, Split Level', '46', 'T3-Townhouse 3+ Stories', '77.0',\n",
       "       'Farm', '1 1/2 Story', '1 Leveland + Loft', '1.70', '2.5000',\n",
       "       'Duplex', '2.5 Story/Basement', '64', '70.0', 'Ground Level', '37',\n",
       "       '78', '56.0', '1.500', '34.0', 'Two Stories',\n",
       "       'Bedroom - Split Plan', 'Manufactured Home, Non-Site Built',\n",
       "       '1-2 Stories', '1 Level, Condo', '1.2', 'Condo, Site Built',\n",
       "       'One, Three Or More', '4.0000', 'Multi-Level, New Englander',\n",
       "       '39.0', 'Townhouse-2 Story, T3-Townhouse 3+ Stories', '2.000',\n",
       "       'Sixplex', '75', '35', '2 Story or 2 Level', '66.0', '62.0',\n",
       "       '6.00', 'Quad Level', 'Triplex', 'A Frame', '15.00', 'Tudor',\n",
       "       '2 Story, Multi Level', 'Colonial', '82', ', 3', 'Hillside',\n",
       "       'Live/Work', 'Apartments', '3 Level, Site Built, Split Level',\n",
       "       '3 Level, Condo, Site Built', '77', '95', 'Log Home', '4 Stories',\n",
       "       '1.5 Level, Site Built, Tri-Level', '49.0', '1120.0', '1, 1',\n",
       "       '1 Story, 2 Story', 'Loft', '52', '3.000', '1 Level, Townhouse',\n",
       "       '66', 'Two, Three Or More', '2.20', 'Multi Level, Tri Level', '60',\n",
       "       'Cape, Other Style', '11.00', '1.3000', 'Craftsman',\n",
       "       'Split Foyer, Tri-Level', '2 Stories, Tear Down', 'Log', '3.5',\n",
       "       'Condo 5+ Stories', 'Federal', '1002.0', '7.00',\n",
       "       '1 Story, Hillside', '2 Stories, Townhouse',\n",
       "       '2 Level, Site Built, Split Foyer', '96.0', 'Multi/Split, Two',\n",
       "       'Ground Level, Two', 'Chalet', '80', '1 Level, 2 Level',\n",
       "       '1 Level, 1.5 Level', 'Ground Level, Split Level, Two',\n",
       "       '1 Level, Split Foyer', '1 Story, Multi Level',\n",
       "       'One and One Half, Three Or More',\n",
       "       '3 Level, Site Built, Tri-Level', 'Double Wide', 'Patio Home',\n",
       "       '50.0', '65.0'], dtype=object)"
      ]
     },
     "execution_count": 71,
     "metadata": {},
     "output_type": "execute_result"
    }
   ],
   "source": [
    "data['stories'].unique()"
   ]
  },
  {
   "cell_type": "code",
   "execution_count": 72,
   "metadata": {},
   "outputs": [],
   "source": [
    "# заменяем нан на 1 этаж\n",
    "data['stories'].fillna(1, inplace=True)\n",
    "\n",
    "def make_stories(row):\n",
    "    regex_sq = re.compile('\\D+')\n",
    "    try:\n",
    "        row=float(row)\n",
    "    except:\n",
    "        row=regex_sq.sub('', str(row))\n",
    "        if row != '':\n",
    "            row = float(row)\n",
    "        else:\n",
    "            row = 1\n",
    "    return row\n",
    "\n",
    "#убираем все символы, кроме цифр. Приводим к формату int\n",
    "regex_sq = re.compile('\\D+')\n",
    "data['stories_count']=data['stories'].apply(lambda x: make_stories(x))"
   ]
  },
  {
   "cell_type": "code",
   "execution_count": 73,
   "metadata": {},
   "outputs": [
    {
     "data": {
      "text/plain": [
       "1.0       254639\n",
       "2.0        78778\n",
       "3.0        17110\n",
       "0.0        11440\n",
       "9.0         3381\n",
       "           ...  \n",
       "82.0           1\n",
       "1234.0         1\n",
       "65.0           1\n",
       "1002.0         1\n",
       "1120.0         1\n",
       "Name: stories_count, Length: 90, dtype: int64"
      ]
     },
     "execution_count": 73,
     "metadata": {},
     "output_type": "execute_result"
    }
   ],
   "source": [
    "data['stories_count'].value_counts()"
   ]
  },
  {
   "cell_type": "code",
   "execution_count": 74,
   "metadata": {},
   "outputs": [],
   "source": [
    "data=data.drop(['stories'], axis = 'columns')"
   ]
  },
  {
   "cell_type": "markdown",
   "metadata": {},
   "source": [
    "## 13. поле state"
   ]
  },
  {
   "cell_type": "code",
   "execution_count": 75,
   "metadata": {
    "scrolled": true
   },
   "outputs": [
    {
     "data": {
      "text/plain": [
       "array(['NC', 'WA', 'CA', 'TX', 'FL', 'PA', 'TN', 'IA', 'NY', 'OR', 'DC',\n",
       "       'NV', 'AZ', 'GA', 'IL', 'NJ', 'MA', 'OH', 'IN', 'UT', 'MI', 'VT',\n",
       "       'MD', 'CO', 'VA', 'KY', 'MO', 'WI', 'ME', 'MS', 'OK', 'SC', 'MT',\n",
       "       'DE', 'Fl', 'BA', 'AL', 'OT', 'OS'], dtype=object)"
      ]
     },
     "execution_count": 75,
     "metadata": {},
     "output_type": "execute_result"
    }
   ],
   "source": [
    "data['state'].unique()"
   ]
  },
  {
   "cell_type": "code",
   "execution_count": 76,
   "metadata": {},
   "outputs": [
    {
     "data": {
      "image/png": "[encoded data removed]",
      "text/plain": [
       "<Figure size 432x288 with 1 Axes>"
      ]
     },
     "metadata": {
      "needs_background": "light"
     },
     "output_type": "display_data"
    }
   ],
   "source": [
    "#считаем распределение по штатам\n",
    "states = data.groupby('state')['state'].count().sort_values(ascending=False)\n",
    "\n",
    "fig_states = plt.figure()\n",
    "axes_states = fig_states.add_axes([0,0,2,1])\n",
    "axes_states.bar(x = states.index, height = states.values)\n",
    "axes_states.set_xlabel('Штат')\n",
    "axes_states.set_ylabel('Количество домов')\n",
    "axes_states.set_title('Количество продаваемых домов по штатам')\n",
    "\n",
    "axes_states.set_xticklabels(states.index, rotation =0 )    #  Поворот текста\n",
    "plt.show()"
   ]
  },
  {
   "cell_type": "code",
   "execution_count": 77,
   "metadata": {},
   "outputs": [],
   "source": [
    "#заменим на числа\n",
    "#в конце сохраним этот список, чтобы обрабатывать строку на входе\n",
    "data['state_encoding'], states_list = data['state'].factorize()"
   ]
  },
  {
   "cell_type": "code",
   "execution_count": 78,
   "metadata": {
    "scrolled": true
   },
   "outputs": [
    {
     "data": {
      "text/plain": [
       "Index(['NC', 'WA', 'CA', 'TX', 'FL', 'PA', 'TN', 'IA', 'NY', 'OR', 'DC', 'NV',\n",
       "       'AZ', 'GA', 'IL', 'NJ', 'MA', 'OH', 'IN', 'UT', 'MI', 'VT', 'MD', 'CO',\n",
       "       'VA', 'KY', 'MO', 'WI', 'ME', 'MS', 'OK', 'SC', 'MT', 'DE', 'Fl', 'BA',\n",
       "       'AL', 'OT', 'OS'],\n",
       "      dtype='object')"
      ]
     },
     "execution_count": 78,
     "metadata": {},
     "output_type": "execute_result"
    }
   ],
   "source": [
    "states_list"
   ]
  },
  {
   "cell_type": "code",
   "execution_count": 79,
   "metadata": {
    "scrolled": true
   },
   "outputs": [],
   "source": [
    "#убираем обработанный столбец\n",
    "data = data.drop(['state'], axis = 'columns')"
   ]
  },
  {
   "cell_type": "markdown",
   "metadata": {},
   "source": [
    "## 14. поле HomeFacts"
   ]
  },
  {
   "cell_type": "code",
   "execution_count": 80,
   "metadata": {},
   "outputs": [
    {
     "data": {
      "text/plain": [
       "\"{'atAGlanceFacts': [{'factValue': '2019', 'factLabel': 'Year built'}, {'factValue': '', 'factLabel': 'Remodeled year'}, {'factValue': 'Central A/C, Heat Pump', 'factLabel': 'Heating'}, {'factValue': '', 'factLabel': 'Cooling'}, {'factValue': '', 'factLabel': 'Parking'}, {'factValue': None, 'factLabel': 'lotsize'}, {'factValue': '$144', 'factLabel': 'Price/sqft'}]}\""
      ]
     },
     "execution_count": 80,
     "metadata": {},
     "output_type": "execute_result"
    }
   ],
   "source": [
    "data['homeFacts'][0]"
   ]
  },
  {
   "cell_type": "code",
   "execution_count": 81,
   "metadata": {},
   "outputs": [
    {
     "data": {
      "text/plain": [
       "{'Cooling',\n",
       " 'Heating',\n",
       " 'Parking',\n",
       " 'Price/sqft',\n",
       " 'Remodeled year',\n",
       " 'Year built',\n",
       " 'lotsize'}"
      ]
     },
     "execution_count": 81,
     "metadata": {},
     "output_type": "execute_result"
    }
   ],
   "source": [
    "#смотрим, какие вообще факты могут быть. Если их небольшое количество, то разложим в разные столбцы\n",
    "for i in data['homeFacts']:\n",
    "    fact_list = []\n",
    "    hf = eval(i)['atAGlanceFacts']\n",
    "    for k in hf:\n",
    "        fact_list.append(k['factLabel'])\n",
    "set(fact_list)"
   ]
  },
  {
   "cell_type": "code",
   "execution_count": 82,
   "metadata": {},
   "outputs": [],
   "source": [
    "def make_facts(row, columns):\n",
    "    fact_dict = {}\n",
    "    for i in columns:\n",
    "        fact_dict[i]=float('nan')\n",
    "    row = eval(row)['atAGlanceFacts']\n",
    "    for i in row:\n",
    "        fact_dict[i['factLabel']]=i['factValue']\n",
    "    return pd.Series(fact_dict)\n",
    "    "
   ]
  },
  {
   "cell_type": "code",
   "execution_count": 83,
   "metadata": {},
   "outputs": [],
   "source": [
    "fact_columns = ['Cooling',  'Heating', 'Parking', 'Price/sqft', 'Remodeled year', 'Year built', 'lotsize']\n",
    "data[fact_columns]=data['homeFacts'].apply(lambda x: make_facts(x,fact_columns))"
   ]
  },
  {
   "cell_type": "code",
   "execution_count": 84,
   "metadata": {},
   "outputs": [
    {
     "data": {
      "text/html": [
       "<div>\n",
       "<style scoped>\n",
       "    .dataframe tbody tr th:only-of-type {\n",
       "        vertical-align: middle;\n",
       "    }\n",
       "\n",
       "    .dataframe tbody tr th {\n",
       "        vertical-align: top;\n",
       "    }\n",
       "\n",
       "    .dataframe thead th {\n",
       "        text-align: right;\n",
       "    }\n",
       "</style>\n",
       "<table border=\"1\" class=\"dataframe\">\n",
       "  <thead>\n",
       "    <tr style=\"text-align: right;\">\n",
       "      <th></th>\n",
       "      <th>Cooling</th>\n",
       "      <th>Heating</th>\n",
       "      <th>Parking</th>\n",
       "      <th>Price/sqft</th>\n",
       "      <th>Remodeled year</th>\n",
       "      <th>Year built</th>\n",
       "      <th>lotsize</th>\n",
       "    </tr>\n",
       "  </thead>\n",
       "  <tbody>\n",
       "    <tr>\n",
       "      <th>0</th>\n",
       "      <td></td>\n",
       "      <td>Central A/C, Heat Pump</td>\n",
       "      <td></td>\n",
       "      <td>$144</td>\n",
       "      <td></td>\n",
       "      <td>2019</td>\n",
       "      <td>None</td>\n",
       "    </tr>\n",
       "    <tr>\n",
       "      <th>1</th>\n",
       "      <td></td>\n",
       "      <td></td>\n",
       "      <td></td>\n",
       "      <td>$159/sqft</td>\n",
       "      <td></td>\n",
       "      <td>2019</td>\n",
       "      <td>5828 sqft</td>\n",
       "    </tr>\n",
       "    <tr>\n",
       "      <th>2</th>\n",
       "      <td>Central</td>\n",
       "      <td>Forced Air</td>\n",
       "      <td>Attached Garage</td>\n",
       "      <td>$965/sqft</td>\n",
       "      <td>1967</td>\n",
       "      <td>1961</td>\n",
       "      <td>8,626 sqft</td>\n",
       "    </tr>\n",
       "    <tr>\n",
       "      <th>3</th>\n",
       "      <td>Central</td>\n",
       "      <td>Forced Air</td>\n",
       "      <td>Detached Garage</td>\n",
       "      <td>$371/sqft</td>\n",
       "      <td>2006</td>\n",
       "      <td>2006</td>\n",
       "      <td>8,220 sqft</td>\n",
       "    </tr>\n",
       "    <tr>\n",
       "      <th>4</th>\n",
       "      <td></td>\n",
       "      <td></td>\n",
       "      <td></td>\n",
       "      <td>None</td>\n",
       "      <td></td>\n",
       "      <td></td>\n",
       "      <td>10,019 sqft</td>\n",
       "    </tr>\n",
       "    <tr>\n",
       "      <th>...</th>\n",
       "      <td>...</td>\n",
       "      <td>...</td>\n",
       "      <td>...</td>\n",
       "      <td>...</td>\n",
       "      <td>...</td>\n",
       "      <td>...</td>\n",
       "      <td>...</td>\n",
       "    </tr>\n",
       "    <tr>\n",
       "      <th>377180</th>\n",
       "      <td>Central</td>\n",
       "      <td>Other</td>\n",
       "      <td>2 spaces</td>\n",
       "      <td>$311</td>\n",
       "      <td>1990</td>\n",
       "      <td>1990</td>\n",
       "      <td>8,500 sqft</td>\n",
       "    </tr>\n",
       "    <tr>\n",
       "      <th>377181</th>\n",
       "      <td></td>\n",
       "      <td>Radiant</td>\n",
       "      <td>None</td>\n",
       "      <td>$337/sqft</td>\n",
       "      <td></td>\n",
       "      <td>1924</td>\n",
       "      <td></td>\n",
       "    </tr>\n",
       "    <tr>\n",
       "      <th>377182</th>\n",
       "      <td></td>\n",
       "      <td>Other</td>\n",
       "      <td>2</td>\n",
       "      <td>$458/sqft</td>\n",
       "      <td>1950</td>\n",
       "      <td>1950</td>\n",
       "      <td>1,600 sqft</td>\n",
       "    </tr>\n",
       "    <tr>\n",
       "      <th>377183</th>\n",
       "      <td>None</td>\n",
       "      <td>None</td>\n",
       "      <td>None</td>\n",
       "      <td>None</td>\n",
       "      <td>None</td>\n",
       "      <td>None</td>\n",
       "      <td>None</td>\n",
       "    </tr>\n",
       "    <tr>\n",
       "      <th>377184</th>\n",
       "      <td>Central</td>\n",
       "      <td>Electric</td>\n",
       "      <td>No Data</td>\n",
       "      <td>$140</td>\n",
       "      <td>None</td>\n",
       "      <td>2019</td>\n",
       "      <td>6,969 sqft</td>\n",
       "    </tr>\n",
       "  </tbody>\n",
       "</table>\n",
       "<p>374464 rows × 7 columns</p>\n",
       "</div>"
      ],
      "text/plain": [
       "        Cooling                 Heating          Parking Price/sqft  \\\n",
       "0                Central A/C, Heat Pump                        $144   \n",
       "1                                                         $159/sqft   \n",
       "2       Central              Forced Air  Attached Garage  $965/sqft   \n",
       "3       Central              Forced Air  Detached Garage  $371/sqft   \n",
       "4                                                              None   \n",
       "...         ...                     ...              ...        ...   \n",
       "377180  Central                   Other         2 spaces       $311   \n",
       "377181                          Radiant             None  $337/sqft   \n",
       "377182                            Other                2  $458/sqft   \n",
       "377183     None                    None             None       None   \n",
       "377184  Central                Electric          No Data       $140   \n",
       "\n",
       "       Remodeled year Year built      lotsize  \n",
       "0                           2019         None  \n",
       "1                           2019    5828 sqft  \n",
       "2                1967       1961   8,626 sqft  \n",
       "3                2006       2006   8,220 sqft  \n",
       "4                                 10,019 sqft  \n",
       "...               ...        ...          ...  \n",
       "377180           1990       1990   8,500 sqft  \n",
       "377181                      1924               \n",
       "377182           1950       1950   1,600 sqft  \n",
       "377183           None       None         None  \n",
       "377184           None       2019   6,969 sqft  \n",
       "\n",
       "[374464 rows x 7 columns]"
      ]
     },
     "execution_count": 84,
     "metadata": {},
     "output_type": "execute_result"
    }
   ],
   "source": [
    "data[fact_columns]"
   ]
  },
  {
   "cell_type": "code",
   "execution_count": 85,
   "metadata": {},
   "outputs": [],
   "source": [
    "#Cooling, Heating, Parking меняем на 1 (есть), 0(нет)\n",
    "for i in ['Cooling', 'Heating', 'Parking']:\n",
    "    data[i].fillna(0, inplace = True)\n",
    "    data[i] = data[i].apply(lambda x: 0 if x == np.nan or x in ['', 'No','None', 'no', 0, 'No Data'] else 1)"
   ]
  },
  {
   "cell_type": "code",
   "execution_count": 86,
   "metadata": {},
   "outputs": [],
   "source": [
    "#в цене за кв. фут избавляемся от всяких лишних знаков, переводим в целое число\n",
    "def make_price(row):\n",
    "    row = str(row).replace('$','').replace('/sqft','').replace(' / Sq. Ft.', '').replace(',','')\n",
    "    try:\n",
    "        row = int(row)\n",
    "    except:\n",
    "        if row in ['None', 'No Info', 'No Data', '', 'Contact manager']:\n",
    "            row = 0\n",
    "        else:\n",
    "            row = 0\n",
    "    return row"
   ]
  },
  {
   "cell_type": "code",
   "execution_count": 87,
   "metadata": {},
   "outputs": [],
   "source": [
    "data['price']=data['Price/sqft'].apply(lambda x: make_price(x))"
   ]
  },
  {
   "cell_type": "code",
   "execution_count": 88,
   "metadata": {},
   "outputs": [],
   "source": [
    "#преобразуем год в число\n",
    "for i in ['Remodeled year', 'Year built']:\n",
    "    data[i.split()[0]] = data[i].apply(lambda x: int(x) if str(x) not in ['', 'None','No Data'] else 0)\n"
   ]
  },
  {
   "cell_type": "code",
   "execution_count": 89,
   "metadata": {},
   "outputs": [],
   "source": [
    "#удалим строки с выбросом по году постройки\n",
    "data = data.loc[data['Year']!=559990649990]"
   ]
  },
  {
   "cell_type": "code",
   "execution_count": 90,
   "metadata": {},
   "outputs": [],
   "source": [
    "#в размере лота убираем лишние знаки, переводим все в единые единицы измерения\n",
    "def make_lot(row):\n",
    "    row1 = row\n",
    "    row = str(row).replace('$','').replace(' sqft lot','').replace(' Sq. Ft.', '').replace(' sqft', '').replace(',','')\n",
    "    try:\n",
    "        row = float(row)\n",
    "    except:\n",
    "        if row.lower().find('acre') >-1:\n",
    "            row = row.lower().replace(' lot', '').replace(' acres', '').replace(' acre', '').replace(' acres', '')\n",
    "        try:\n",
    "            row = float(row) * 43560.04\n",
    "        except:\n",
    "            if row in ['None', 'No Info', 'No Data', '', 'Contact manager', '--', '—']:\n",
    "                row = 0\n",
    "            else:\n",
    "                print(row, '->', row1)\n",
    "    return row"
   ]
  },
  {
   "cell_type": "code",
   "execution_count": 91,
   "metadata": {},
   "outputs": [],
   "source": [
    "data['lot'] = data['lotsize'].apply(lambda x: make_lot(x))"
   ]
  },
  {
   "cell_type": "code",
   "execution_count": 92,
   "metadata": {},
   "outputs": [],
   "source": [
    "#удаляем обработанные столбцы\n",
    "data = data.drop(['lotsize', 'Remodeled year', 'Year built', 'Price/sqft', 'homeFacts'], axis = 'columns')"
   ]
  },
  {
   "cell_type": "markdown",
   "metadata": {},
   "source": [
    "## 15. mls-id"
   ]
  },
  {
   "cell_type": "code",
   "execution_count": 93,
   "metadata": {
    "scrolled": true
   },
   "outputs": [
    {
     "name": "stdout",
     "output_type": "stream",
     "text": [
      "Пересекаются 8832 значений\n",
      "mls-id = 24903 значений, MlsId = 232828 значений\n"
     ]
    }
   ],
   "source": [
    "#делаем списки идентификаторов и ищем пересечение\n",
    "s1 = set(data['mls-id'].unique())\n",
    "s2 = set(data['MlsId'].unique())\n",
    "s3 = s2.intersection(s1)\n",
    "print('Пересекаются {0} значений'.format(len(s3)))\n",
    "print('mls-id = {0} значений, MlsId = {1} значений'.format(len(s1), len(s2)))"
   ]
  },
  {
   "cell_type": "code",
   "execution_count": 94,
   "metadata": {},
   "outputs": [
    {
     "name": "stdout",
     "output_type": "stream",
     "text": [
      "В 39540 строках не проставлен идентификатор\n"
     ]
    }
   ],
   "source": [
    "#соединяем идентификаторы в одну колонку, так удобнее с ними работать\n",
    "data['mls-id'].fillna('', inplace=True)\n",
    "data['MlsId'].fillna('', inplace=True)\n",
    "data['new_id']=data['mls-id'].astype(str)+data['MlsId'].astype(str)\n",
    "\n",
    "#проверяем, может есть строки, в которых идентификатор совсем не проставлен. Эти строки не трогаем, оставляем как есть\n",
    "print('В {0} строках не проставлен идентификатор'.format(data[data['new_id']=='']['new_id'].count()))\n",
    "\n",
    "data=data.drop(['mls-id', 'MlsId'], axis = 'columns')"
   ]
  },
  {
   "cell_type": "code",
   "execution_count": 95,
   "metadata": {},
   "outputs": [],
   "source": [
    "#избавляемся от оставшихся лишних столбцов\n",
    "data=data.drop(['status', 'zipcode'], axis = 'columns')"
   ]
  },
  {
   "cell_type": "code",
   "execution_count": 96,
   "metadata": {},
   "outputs": [
    {
     "name": "stdout",
     "output_type": "stream",
     "text": [
      "374462 -> 374379\n"
     ]
    }
   ],
   "source": [
    "#остались только обработанные столбцы. Попробуем поискать полные дубликаты\n",
    "data1 = data.drop_duplicates()\n",
    "print(len(data), '->', len(data1))"
   ]
  },
  {
   "cell_type": "code",
   "execution_count": 97,
   "metadata": {},
   "outputs": [],
   "source": [
    "#полные дубликаты удалены. Посчитаем hash для идентификатора. Так как он содержит и буквы тоже\n",
    "data= data1\n",
    "hash_space = 500000\n",
    "data['new_id'] = data['new_id'].apply(lambda x: hash(''.join(x.lower().split())) % hash_space)"
   ]
  },
  {
   "cell_type": "markdown",
   "metadata": {},
   "source": [
    "## Как правило стоимость дома можно оценить исходя из стоимость квадратного фута. У нас есть price и sqft, и lotsize. Поэтому добавляем в датасет еще два поля"
   ]
  },
  {
   "cell_type": "code",
   "execution_count": 98,
   "metadata": {},
   "outputs": [],
   "source": [
    "data['price_sqft'] = data['price']*data['sqft']\n",
    "data['price_lot']=data['price']*data['lot']"
   ]
  },
  {
   "cell_type": "markdown",
   "metadata": {},
   "source": [
    "## Удаляем все оставшиеся ненужные столбцы и сохраняем датасет для дальнейшей работы"
   ]
  },
  {
   "cell_type": "code",
   "execution_count": 99,
   "metadata": {},
   "outputs": [],
   "source": [
    "#удаляем дубликаты строк, которые имеют разную стоимость\n",
    "#удаляем все спорные строки, так как неизвестно, какая из них правильная\n",
    "columns = list(set(data.columns) - set(['target']))\n",
    "data.drop_duplicates(subset = columns, keep = False, inplace= True) "
   ]
  },
  {
   "cell_type": "code",
   "execution_count": 100,
   "metadata": {},
   "outputs": [
    {
     "name": "stdout",
     "output_type": "stream",
     "text": [
      "<class 'pandas.core.frame.DataFrame'>\n",
      "Int64Index: 374365 entries, 0 to 377184\n",
      "Data columns (total 47 columns):\n",
      " #   Column               Non-Null Count   Dtype  \n",
      "---  ------               --------------   -----  \n",
      " 0   sqft                 374365 non-null  int64  \n",
      " 1   target               374365 non-null  int64  \n",
      " 2   state_mean           374365 non-null  float64\n",
      " 3   rent_sale            374365 non-null  int64  \n",
      " 4   prop_type            374365 non-null  int64  \n",
      " 5   city_hash            374365 non-null  int64  \n",
      " 6   street_hash          374365 non-null  int64  \n",
      " 7   address_hash         374365 non-null  int64  \n",
      " 8   baths_count          374365 non-null  float64\n",
      " 9   beds_count           374365 non-null  int64  \n",
      " 10  beds_square          374365 non-null  float64\n",
      " 11  K                    374365 non-null  float64\n",
      " 12  1                    374365 non-null  float64\n",
      " 13  2                    374365 non-null  float64\n",
      " 14  3                    374365 non-null  float64\n",
      " 15  4                    374365 non-null  float64\n",
      " 16  5                    374365 non-null  float64\n",
      " 17  6                    374365 non-null  float64\n",
      " 18  7                    374365 non-null  float64\n",
      " 19  8                    374365 non-null  float64\n",
      " 20  9                    374365 non-null  float64\n",
      " 21  10                   374365 non-null  float64\n",
      " 22  11                   374365 non-null  float64\n",
      " 23  12                   374365 non-null  float64\n",
      " 24  PK                   374365 non-null  float64\n",
      " 25  schools_count        374365 non-null  float64\n",
      " 26  min_dist             374365 non-null  float64\n",
      " 27  max_dist             374365 non-null  float64\n",
      " 28  mean_dist            374365 non-null  float64\n",
      " 29  max_rate             374365 non-null  float64\n",
      " 30  average_rate_school  374365 non-null  float64\n",
      " 31  zipcode_int          374365 non-null  int64  \n",
      " 32  pool                 374365 non-null  int64  \n",
      " 33  fireplace_y_n        374365 non-null  int64  \n",
      " 34  fp_count             374365 non-null  int64  \n",
      " 35  stories_count        374365 non-null  float64\n",
      " 36  state_encoding       374365 non-null  int64  \n",
      " 37  Cooling              374365 non-null  int64  \n",
      " 38  Heating              374365 non-null  int64  \n",
      " 39  Parking              374365 non-null  int64  \n",
      " 40  price                374365 non-null  int64  \n",
      " 41  Remodeled            374365 non-null  int64  \n",
      " 42  Year                 374365 non-null  int64  \n",
      " 43  lot                  374365 non-null  float64\n",
      " 44  new_id               374365 non-null  int64  \n",
      " 45  price_sqft           374365 non-null  int64  \n",
      " 46  price_lot            374365 non-null  float64\n",
      "dtypes: float64(26), int64(21)\n",
      "memory usage: 137.1 MB\n"
     ]
    }
   ],
   "source": [
    "data.info()"
   ]
  },
  {
   "cell_type": "code",
   "execution_count": 101,
   "metadata": {},
   "outputs": [],
   "source": [
    "#сохраняем обработанный датасет\n",
    "data.to_csv('data4ml.csv', encoding='utf-8', index=False)\n"
   ]
  },
  {
   "cell_type": "code",
   "execution_count": 102,
   "metadata": {},
   "outputs": [],
   "source": [
    "#сохраняем список штатов, он нам потом понадобится\n",
    "with open('states_list.txt', 'wb') as f:\n",
    "    pickle.dump(states_list, f)"
   ]
  },
  {
   "cell_type": "code",
   "execution_count": 103,
   "metadata": {},
   "outputs": [],
   "source": [
    "#сохраняем среднюю стоимость по штататм, она нам потом понадобится\n",
    "with open('mean_target.txt', 'wb') as f:\n",
    "    pickle.dump(mean_target, f)"
   ]
  },
  {
   "cell_type": "code",
   "execution_count": null,
   "metadata": {},
   "outputs": [],
   "source": []
  }
 ],
 "metadata": {
  "kernelspec": {
   "display_name": "Python 3",
   "language": "python",
   "name": "python3"
  },
  "language_info": {
   "codemirror_mode": {
    "name": "ipython",
    "version": 3
   },
   "file_extension": ".py",
   "mimetype": "text/x-python",
   "name": "python",
   "nbconvert_exporter": "python",
   "pygments_lexer": "ipython3",
   "version": "3.7.6"
  }
 },
 "nbformat": 4,
 "nbformat_minor": 2
}
