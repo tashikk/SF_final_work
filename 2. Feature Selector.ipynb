{
 "cells": [
  {
   "cell_type": "markdown",
   "metadata": {},
   "source": [
    "# Анализ полученных фич\n",
    "\n",
    "с использованием модуля feature_selector\n",
    "https://proglib.io/p/feature-selector/"
   ]
  },
  {
   "cell_type": "code",
   "execution_count": 11,
   "metadata": {},
   "outputs": [],
   "source": [
    "from feature_selector import FeatureSelector\n",
    "import pandas as pd"
   ]
  },
  {
   "cell_type": "code",
   "execution_count": 12,
   "metadata": {},
   "outputs": [],
   "source": [
    "#загружаем датасет\n",
    "data = pd.read_csv('data4ml_4.csv')\n",
    "data_source = pd.read_csv('data.csv')"
   ]
  },
  {
   "cell_type": "code",
   "execution_count": 13,
   "metadata": {},
   "outputs": [],
   "source": [
    "columns = list(set(data.columns) - set(['target']))\n",
    "X = data[columns]\n",
    "y = data['target']\n",
    "\n",
    "columns_source = list(set(data_source.columns) - set(['target']))\n",
    "X_source = data_source[columns_source]\n",
    "y_source = data_source['target']"
   ]
  },
  {
   "cell_type": "code",
   "execution_count": 14,
   "metadata": {},
   "outputs": [],
   "source": [
    "# Признаки - в train, метки - в train_labels\n",
    "fs = FeatureSelector(data = X, labels = y)\n",
    "fs_source = FeatureSelector(data = X_source, labels = y_source)"
   ]
  },
  {
   "cell_type": "markdown",
   "metadata": {},
   "source": [
    "## Пропущенные значения"
   ]
  },
  {
   "cell_type": "code",
   "execution_count": 15,
   "metadata": {},
   "outputs": [
    {
     "name": "stdout",
     "output_type": "stream",
     "text": [
      "Обработанный датасет\n",
      "0 features with greater than 0.60 missing values.\n",
      "\n",
      "Исходный датасет\n",
      "4 features with greater than 0.60 missing values.\n",
      "\n"
     ]
    }
   ],
   "source": [
    "print('Обработанный датасет')\n",
    "fs.identify_missing(missing_threshold = 0.6)\n",
    "print('Исходный датасет')\n",
    "fs_source.identify_missing(missing_threshold = 0.6)"
   ]
  },
  {
   "cell_type": "code",
   "execution_count": 16,
   "metadata": {},
   "outputs": [
    {
     "data": {
      "text/html": [
       "<div>\n",
       "<style scoped>\n",
       "    .dataframe tbody tr th:only-of-type {\n",
       "        vertical-align: middle;\n",
       "    }\n",
       "\n",
       "    .dataframe tbody tr th {\n",
       "        vertical-align: top;\n",
       "    }\n",
       "\n",
       "    .dataframe thead th {\n",
       "        text-align: right;\n",
       "    }\n",
       "</style>\n",
       "<table border=\"1\" class=\"dataframe\">\n",
       "  <thead>\n",
       "    <tr style=\"text-align: right;\">\n",
       "      <th></th>\n",
       "      <th>missing_fraction</th>\n",
       "    </tr>\n",
       "  </thead>\n",
       "  <tbody>\n",
       "    <tr>\n",
       "      <th>private pool</th>\n",
       "      <td>0.988915</td>\n",
       "    </tr>\n",
       "    <tr>\n",
       "      <th>mls-id</th>\n",
       "      <td>0.933873</td>\n",
       "    </tr>\n",
       "    <tr>\n",
       "      <th>PrivatePool</th>\n",
       "      <td>0.893127</td>\n",
       "    </tr>\n",
       "    <tr>\n",
       "      <th>fireplace</th>\n",
       "      <td>0.726620</td>\n",
       "    </tr>\n",
       "  </tbody>\n",
       "</table>\n",
       "</div>"
      ],
      "text/plain": [
       "              missing_fraction\n",
       "private pool          0.988915\n",
       "mls-id                0.933873\n",
       "PrivatePool           0.893127\n",
       "fireplace             0.726620"
      ]
     },
     "execution_count": 16,
     "metadata": {},
     "output_type": "execute_result"
    }
   ],
   "source": [
    "#посмотрим, в каких столбцах исходного датасета много пропущенных значений\n",
    "fs_source.missing_stats.head(4)"
   ]
  },
  {
   "cell_type": "markdown",
   "metadata": {},
   "source": [
    "### Вывод\n",
    "Удалять данные столбцы не нужно, так как в них пропущенные значения говорят о том, что эта характеристика отсутствует в доме.\n",
    "Все пропущенные значения обработаны"
   ]
  },
  {
   "cell_type": "markdown",
   "metadata": {},
   "source": [
    "## Коллинеарные признаки"
   ]
  },
  {
   "cell_type": "code",
   "execution_count": 17,
   "metadata": {},
   "outputs": [
    {
     "name": "stdout",
     "output_type": "stream",
     "text": [
      "Обработанный датасет\n",
      "8 features with a correlation magnitude greater than 0.98.\n",
      "\n",
      "Исходный датасет\n",
      "0 features with a correlation magnitude greater than 0.98.\n",
      "\n"
     ]
    }
   ],
   "source": [
    "print('Обработанный датасет')\n",
    "fs.identify_collinear(correlation_threshold = 0.98)\n",
    "print('Исходный датасет')\n",
    "fs_source.identify_collinear(correlation_threshold = 0.98)"
   ]
  },
  {
   "cell_type": "code",
   "execution_count": 18,
   "metadata": {},
   "outputs": [
    {
     "data": {
      "image/png": "[encoded data removed]",
      "text/plain": [
       "<Figure size 720x576 with 2 Axes>"
      ]
     },
     "metadata": {
      "needs_background": "light"
     },
     "output_type": "display_data"
    }
   ],
   "source": [
    "#Посмотрим на то, какие же признаки в обработанном датасете слишком взаимосвязаны\n",
    "fs.plot_collinear()"
   ]
  },
  {
   "cell_type": "markdown",
   "metadata": {},
   "source": [
    "### Вывод\n",
    "В исходном датасете определить взаимосвязь признаков нельзя, так как они представляют собой не числовые данные\n",
    "В обработанном датасете получились сильно взаимосвязаны данные по классам школ, что логично, так как школы все-таки содержат в себе несколько классов обучения.\n",
    "Удалять столбцы не будем."
   ]
  },
  {
   "cell_type": "markdown",
   "metadata": {},
   "source": [
    "## Признаки с нулевой важностью"
   ]
  },
  {
   "cell_type": "code",
   "execution_count": 19,
   "metadata": {},
   "outputs": [
    {
     "name": "stdout",
     "output_type": "stream",
     "text": [
      "Training Gradient Boosting Model\n",
      "\n",
      "\n",
      "0 features with zero importance after one-hot encoding.\n",
      "\n"
     ]
    }
   ],
   "source": [
    "fs.identify_zero_importance(task = 'regression', \n",
    "                            eval_metric = 'l2', \n",
    "                            n_iterations = 10, \n",
    "                            early_stopping = False)\n",
    "\n",
    "zero_importance_features = fs.ops['zero_importance']"
   ]
  },
  {
   "cell_type": "code",
   "execution_count": 20,
   "metadata": {},
   "outputs": [
    {
     "data": {
      "text/plain": [
       "[]"
      ]
     },
     "execution_count": 20,
     "metadata": {},
     "output_type": "execute_result"
    }
   ],
   "source": [
    "zero_importance_features"
   ]
  },
  {
   "cell_type": "markdown",
   "metadata": {},
   "source": [
    "## Признаки с низкой важностью"
   ]
  },
  {
   "cell_type": "code",
   "execution_count": 21,
   "metadata": {},
   "outputs": [
    {
     "name": "stdout",
     "output_type": "stream",
     "text": [
      "34 features required for cumulative importance of 0.99 after one hot encoding.\n",
      "10 features do not contribute to cumulative importance of 0.99.\n",
      "\n"
     ]
    }
   ],
   "source": [
    "fs.identify_low_importance(cumulative_importance = 0.99)"
   ]
  },
  {
   "cell_type": "code",
   "execution_count": 22,
   "metadata": {},
   "outputs": [
    {
     "data": {
      "text/html": [
       "<div>\n",
       "<style scoped>\n",
       "    .dataframe tbody tr th:only-of-type {\n",
       "        vertical-align: middle;\n",
       "    }\n",
       "\n",
       "    .dataframe tbody tr th {\n",
       "        vertical-align: top;\n",
       "    }\n",
       "\n",
       "    .dataframe thead th {\n",
       "        text-align: right;\n",
       "    }\n",
       "</style>\n",
       "<table border=\"1\" class=\"dataframe\">\n",
       "  <thead>\n",
       "    <tr style=\"text-align: right;\">\n",
       "      <th></th>\n",
       "      <th>feature</th>\n",
       "      <th>importance</th>\n",
       "      <th>normalized_importance</th>\n",
       "      <th>cumulative_importance</th>\n",
       "    </tr>\n",
       "  </thead>\n",
       "  <tbody>\n",
       "    <tr>\n",
       "      <th>34</th>\n",
       "      <td>Heating</td>\n",
       "      <td>56.0</td>\n",
       "      <td>0.001867</td>\n",
       "      <td>0.990600</td>\n",
       "    </tr>\n",
       "    <tr>\n",
       "      <th>35</th>\n",
       "      <td>5</td>\n",
       "      <td>51.0</td>\n",
       "      <td>0.001700</td>\n",
       "      <td>0.992300</td>\n",
       "    </tr>\n",
       "    <tr>\n",
       "      <th>36</th>\n",
       "      <td>rent_sale</td>\n",
       "      <td>47.0</td>\n",
       "      <td>0.001567</td>\n",
       "      <td>0.993867</td>\n",
       "    </tr>\n",
       "    <tr>\n",
       "      <th>37</th>\n",
       "      <td>7</td>\n",
       "      <td>42.0</td>\n",
       "      <td>0.001400</td>\n",
       "      <td>0.995267</td>\n",
       "    </tr>\n",
       "    <tr>\n",
       "      <th>38</th>\n",
       "      <td>9</td>\n",
       "      <td>35.0</td>\n",
       "      <td>0.001167</td>\n",
       "      <td>0.996433</td>\n",
       "    </tr>\n",
       "    <tr>\n",
       "      <th>39</th>\n",
       "      <td>fp_count</td>\n",
       "      <td>35.0</td>\n",
       "      <td>0.001167</td>\n",
       "      <td>0.997600</td>\n",
       "    </tr>\n",
       "    <tr>\n",
       "      <th>40</th>\n",
       "      <td>10</td>\n",
       "      <td>27.0</td>\n",
       "      <td>0.000900</td>\n",
       "      <td>0.998500</td>\n",
       "    </tr>\n",
       "    <tr>\n",
       "      <th>41</th>\n",
       "      <td>2</td>\n",
       "      <td>17.0</td>\n",
       "      <td>0.000567</td>\n",
       "      <td>0.999067</td>\n",
       "    </tr>\n",
       "    <tr>\n",
       "      <th>42</th>\n",
       "      <td>4</td>\n",
       "      <td>15.0</td>\n",
       "      <td>0.000500</td>\n",
       "      <td>0.999567</td>\n",
       "    </tr>\n",
       "    <tr>\n",
       "      <th>43</th>\n",
       "      <td>3</td>\n",
       "      <td>13.0</td>\n",
       "      <td>0.000433</td>\n",
       "      <td>1.000000</td>\n",
       "    </tr>\n",
       "  </tbody>\n",
       "</table>\n",
       "</div>"
      ],
      "text/plain": [
       "      feature  importance  normalized_importance  cumulative_importance\n",
       "34    Heating        56.0               0.001867               0.990600\n",
       "35          5        51.0               0.001700               0.992300\n",
       "36  rent_sale        47.0               0.001567               0.993867\n",
       "37          7        42.0               0.001400               0.995267\n",
       "38          9        35.0               0.001167               0.996433\n",
       "39   fp_count        35.0               0.001167               0.997600\n",
       "40         10        27.0               0.000900               0.998500\n",
       "41          2        17.0               0.000567               0.999067\n",
       "42          4        15.0               0.000500               0.999567\n",
       "43          3        13.0               0.000433               1.000000"
      ]
     },
     "execution_count": 22,
     "metadata": {},
     "output_type": "execute_result"
    }
   ],
   "source": [
    "#эти признаки предлагается удалить (10 штук)\n",
    "fs.feature_importances.tail(10)"
   ]
  },
  {
   "cell_type": "code",
   "execution_count": 23,
   "metadata": {},
   "outputs": [
    {
     "name": "stdout",
     "output_type": "stream",
     "text": [
      "Removed 10 features.\n"
     ]
    }
   ],
   "source": [
    "#удалим признаки и сохраним новый датасет в отдельный файл\n",
    "train_removed = fs.remove(methods = ['low_importance'])\n",
    "train_removed['target'] = y"
   ]
  },
  {
   "cell_type": "code",
   "execution_count": 24,
   "metadata": {},
   "outputs": [],
   "source": [
    "train_removed.to_csv('data4ml_5.csv', encoding='utf-8', index=False)"
   ]
  },
  {
   "cell_type": "code",
   "execution_count": 25,
   "metadata": {},
   "outputs": [
    {
     "name": "stdout",
     "output_type": "stream",
     "text": [
      "<class 'pandas.core.frame.DataFrame'>\n",
      "RangeIndex: 374347 entries, 0 to 374346\n",
      "Data columns (total 35 columns):\n",
      " #   Column               Non-Null Count   Dtype  \n",
      "---  ------               --------------   -----  \n",
      " 0   1                    374347 non-null  float64\n",
      " 1   K                    374347 non-null  float64\n",
      " 2   min_dist             374347 non-null  float64\n",
      " 3   Remodeled            374347 non-null  int64  \n",
      " 4   state_mean           374347 non-null  float64\n",
      " 5   street_hash          374347 non-null  int64  \n",
      " 6   new_id               374347 non-null  int64  \n",
      " 7   prop_type            374347 non-null  int64  \n",
      " 8   schools_count        374347 non-null  float64\n",
      " 9   max_dist             374347 non-null  float64\n",
      " 10  11                   374347 non-null  float64\n",
      " 11  zipcode_int          374347 non-null  int64  \n",
      " 12  mean_dist            374347 non-null  float64\n",
      " 13  address_hash         374347 non-null  int64  \n",
      " 14  sqft                 374347 non-null  int64  \n",
      " 15  8                    374347 non-null  float64\n",
      " 16  Parking              374347 non-null  int64  \n",
      " 17  12                   374347 non-null  float64\n",
      " 18  state_encoding       374347 non-null  int64  \n",
      " 19  lot                  374347 non-null  float64\n",
      " 20  stories_count        374347 non-null  float64\n",
      " 21  beds_square          374347 non-null  float64\n",
      " 22  Cooling              374347 non-null  int64  \n",
      " 23  city_hash            374347 non-null  int64  \n",
      " 24  max_rate             374347 non-null  float64\n",
      " 25  Year                 374347 non-null  int64  \n",
      " 26  fireplace_y_n        374347 non-null  int64  \n",
      " 27  PK                   374347 non-null  float64\n",
      " 28  pool                 374347 non-null  int64  \n",
      " 29  price                374347 non-null  int64  \n",
      " 30  beds_count           374347 non-null  int64  \n",
      " 31  6                    374347 non-null  float64\n",
      " 32  average_rate_school  374347 non-null  float64\n",
      " 33  baths_count          374347 non-null  float64\n",
      " 34  target               374347 non-null  int64  \n",
      "dtypes: float64(18), int64(17)\n",
      "memory usage: 100.0 MB\n"
     ]
    }
   ],
   "source": [
    "train_removed.info()"
   ]
  },
  {
   "cell_type": "code",
   "execution_count": null,
   "metadata": {},
   "outputs": [],
   "source": []
  }
 ],
 "metadata": {
  "kernelspec": {
   "display_name": "Python 3",
   "language": "python",
   "name": "python3"
  },
  "language_info": {
   "codemirror_mode": {
    "name": "ipython",
    "version": 3
   },
   "file_extension": ".py",
   "mimetype": "text/x-python",
   "name": "python",
   "nbconvert_exporter": "python",
   "pygments_lexer": "ipython3",
   "version": "3.7.6"
  }
 },
 "nbformat": 4,
 "nbformat_minor": 4
}
