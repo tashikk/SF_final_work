{
 "cells": [
  {
   "cell_type": "markdown",
   "metadata": {},
   "source": [
    "# Анализ полученных фич\n",
    "\n",
    "с использованием модуля feature_selector\n",
    "https://proglib.io/p/feature-selector/"
   ]
  },
  {
   "cell_type": "code",
   "execution_count": 1,
   "metadata": {},
   "outputs": [],
   "source": [
    "from feature_selector import FeatureSelector\n",
    "import pandas as pd"
   ]
  },
  {
   "cell_type": "code",
   "execution_count": 2,
   "metadata": {},
   "outputs": [],
   "source": [
    "#загружаем датасет\n",
    "data = pd.read_csv('data4ml.csv')\n",
    "data_source = pd.read_csv('data.csv')"
   ]
  },
  {
   "cell_type": "code",
   "execution_count": 3,
   "metadata": {},
   "outputs": [],
   "source": [
    "columns = list(set(data.columns) - set(['target']))\n",
    "X = data[columns]\n",
    "y = data['target']\n",
    "\n",
    "columns_source = list(set(data_source.columns) - set(['target']))\n",
    "X_source = data_source[columns_source]\n",
    "y_source = data_source['target']"
   ]
  },
  {
   "cell_type": "code",
   "execution_count": 4,
   "metadata": {},
   "outputs": [],
   "source": [
    "# Признаки - в train, метки - в train_labels\n",
    "fs = FeatureSelector(data = X, labels = y)\n",
    "fs_source = FeatureSelector(data = X_source, labels = y_source)"
   ]
  },
  {
   "cell_type": "markdown",
   "metadata": {},
   "source": [
    "## Пропущенные значения"
   ]
  },
  {
   "cell_type": "code",
   "execution_count": 5,
   "metadata": {},
   "outputs": [
    {
     "name": "stdout",
     "output_type": "stream",
     "text": [
      "Обработанный датасет\n",
      "0 features with greater than 0.60 missing values.\n",
      "\n",
      "Исходный датасет\n",
      "4 features with greater than 0.60 missing values.\n",
      "\n"
     ]
    }
   ],
   "source": [
    "print('Обработанный датасет')\n",
    "fs.identify_missing(missing_threshold = 0.6)\n",
    "print('Исходный датасет')\n",
    "fs_source.identify_missing(missing_threshold = 0.6)"
   ]
  },
  {
   "cell_type": "code",
   "execution_count": 6,
   "metadata": {},
   "outputs": [
    {
     "data": {
      "text/html": [
       "<div>\n",
       "<style scoped>\n",
       "    .dataframe tbody tr th:only-of-type {\n",
       "        vertical-align: middle;\n",
       "    }\n",
       "\n",
       "    .dataframe tbody tr th {\n",
       "        vertical-align: top;\n",
       "    }\n",
       "\n",
       "    .dataframe thead th {\n",
       "        text-align: right;\n",
       "    }\n",
       "</style>\n",
       "<table border=\"1\" class=\"dataframe\">\n",
       "  <thead>\n",
       "    <tr style=\"text-align: right;\">\n",
       "      <th></th>\n",
       "      <th>missing_fraction</th>\n",
       "    </tr>\n",
       "  </thead>\n",
       "  <tbody>\n",
       "    <tr>\n",
       "      <th>private pool</th>\n",
       "      <td>0.988915</td>\n",
       "    </tr>\n",
       "    <tr>\n",
       "      <th>mls-id</th>\n",
       "      <td>0.933873</td>\n",
       "    </tr>\n",
       "    <tr>\n",
       "      <th>PrivatePool</th>\n",
       "      <td>0.893127</td>\n",
       "    </tr>\n",
       "    <tr>\n",
       "      <th>fireplace</th>\n",
       "      <td>0.726620</td>\n",
       "    </tr>\n",
       "  </tbody>\n",
       "</table>\n",
       "</div>"
      ],
      "text/plain": [
       "              missing_fraction\n",
       "private pool          0.988915\n",
       "mls-id                0.933873\n",
       "PrivatePool           0.893127\n",
       "fireplace             0.726620"
      ]
     },
     "execution_count": 6,
     "metadata": {},
     "output_type": "execute_result"
    }
   ],
   "source": [
    "#посмотрим, в каких столбцах исходного датасета много пропущенных значений\n",
    "fs_source.missing_stats.head(4)"
   ]
  },
  {
   "cell_type": "markdown",
   "metadata": {},
   "source": [
    "### Вывод\n",
    "Удалять данные столбцы не нужно, так как в них пропущенные значения говорят о том, что эта характеристика отсутствует в доме.\n",
    "Все пропущенные значения обработаны"
   ]
  },
  {
   "cell_type": "markdown",
   "metadata": {},
   "source": [
    "## Коллинеарные признаки"
   ]
  },
  {
   "cell_type": "code",
   "execution_count": 7,
   "metadata": {},
   "outputs": [
    {
     "name": "stdout",
     "output_type": "stream",
     "text": [
      "Обработанный датасет\n",
      "8 features with a correlation magnitude greater than 0.98.\n",
      "\n",
      "Исходный датасет\n",
      "0 features with a correlation magnitude greater than 0.98.\n",
      "\n"
     ]
    }
   ],
   "source": [
    "print('Обработанный датасет')\n",
    "fs.identify_collinear(correlation_threshold = 0.98)\n",
    "print('Исходный датасет')\n",
    "fs_source.identify_collinear(correlation_threshold = 0.98)"
   ]
  },
  {
   "cell_type": "code",
   "execution_count": 8,
   "metadata": {},
   "outputs": [
    {
     "data": {
      "image/png": "[encoded data removed]",
      "text/plain": [
       "<Figure size 720x576 with 2 Axes>"
      ]
     },
     "metadata": {
      "needs_background": "light"
     },
     "output_type": "display_data"
    }
   ],
   "source": [
    "#Посмотрим на то, какие же признаки в обработанном датасете слишком взаимосвязаны\n",
    "fs.plot_collinear()"
   ]
  },
  {
   "cell_type": "markdown",
   "metadata": {},
   "source": [
    "### Вывод\n",
    "В исходном датасете определить взаимосвязь признаков нельзя, так как они представляют собой не числовые данные\n",
    "В обработанном датасете получились сильно взаимосвязаны данные по классам школ, что логично, так как школы все-таки содержат в себе несколько классов обучения.\n",
    "Удалять столбцы не будем."
   ]
  },
  {
   "cell_type": "markdown",
   "metadata": {},
   "source": [
    "## Признаки с нулевой важностью"
   ]
  },
  {
   "cell_type": "code",
   "execution_count": 9,
   "metadata": {},
   "outputs": [
    {
     "name": "stdout",
     "output_type": "stream",
     "text": [
      "Training Gradient Boosting Model\n",
      "\n",
      "\n",
      "0 features with zero importance after one-hot encoding.\n",
      "\n"
     ]
    }
   ],
   "source": [
    "fs.identify_zero_importance(task = 'regression', \n",
    "                            eval_metric = 'l2', \n",
    "                            n_iterations = 10, \n",
    "                            early_stopping = False)\n",
    "\n",
    "zero_importance_features = fs.ops['zero_importance']"
   ]
  },
  {
   "cell_type": "markdown",
   "metadata": {},
   "source": [
    "## Признаки с низкой важностью"
   ]
  },
  {
   "cell_type": "code",
   "execution_count": 10,
   "metadata": {},
   "outputs": [
    {
     "name": "stdout",
     "output_type": "stream",
     "text": [
      "36 features required for cumulative importance of 0.99 after one hot encoding.\n",
      "10 features do not contribute to cumulative importance of 0.99.\n",
      "\n"
     ]
    }
   ],
   "source": [
    "fs.identify_low_importance(cumulative_importance = 0.99)"
   ]
  },
  {
   "cell_type": "code",
   "execution_count": 11,
   "metadata": {},
   "outputs": [
    {
     "data": {
      "text/html": [
       "<div>\n",
       "<style scoped>\n",
       "    .dataframe tbody tr th:only-of-type {\n",
       "        vertical-align: middle;\n",
       "    }\n",
       "\n",
       "    .dataframe tbody tr th {\n",
       "        vertical-align: top;\n",
       "    }\n",
       "\n",
       "    .dataframe thead th {\n",
       "        text-align: right;\n",
       "    }\n",
       "</style>\n",
       "<table border=\"1\" class=\"dataframe\">\n",
       "  <thead>\n",
       "    <tr style=\"text-align: right;\">\n",
       "      <th></th>\n",
       "      <th>feature</th>\n",
       "      <th>importance</th>\n",
       "      <th>normalized_importance</th>\n",
       "      <th>cumulative_importance</th>\n",
       "    </tr>\n",
       "  </thead>\n",
       "  <tbody>\n",
       "    <tr>\n",
       "      <th>36</th>\n",
       "      <td>2</td>\n",
       "      <td>56.0</td>\n",
       "      <td>0.001867</td>\n",
       "      <td>0.990800</td>\n",
       "    </tr>\n",
       "    <tr>\n",
       "      <th>37</th>\n",
       "      <td>fireplace_y_n</td>\n",
       "      <td>53.0</td>\n",
       "      <td>0.001767</td>\n",
       "      <td>0.992567</td>\n",
       "    </tr>\n",
       "    <tr>\n",
       "      <th>38</th>\n",
       "      <td>Heating</td>\n",
       "      <td>50.0</td>\n",
       "      <td>0.001667</td>\n",
       "      <td>0.994233</td>\n",
       "    </tr>\n",
       "    <tr>\n",
       "      <th>39</th>\n",
       "      <td>rent_sale</td>\n",
       "      <td>48.0</td>\n",
       "      <td>0.001600</td>\n",
       "      <td>0.995833</td>\n",
       "    </tr>\n",
       "    <tr>\n",
       "      <th>40</th>\n",
       "      <td>1</td>\n",
       "      <td>34.0</td>\n",
       "      <td>0.001133</td>\n",
       "      <td>0.996967</td>\n",
       "    </tr>\n",
       "    <tr>\n",
       "      <th>41</th>\n",
       "      <td>fp_count</td>\n",
       "      <td>24.0</td>\n",
       "      <td>0.000800</td>\n",
       "      <td>0.997767</td>\n",
       "    </tr>\n",
       "    <tr>\n",
       "      <th>42</th>\n",
       "      <td>4</td>\n",
       "      <td>23.0</td>\n",
       "      <td>0.000767</td>\n",
       "      <td>0.998533</td>\n",
       "    </tr>\n",
       "    <tr>\n",
       "      <th>43</th>\n",
       "      <td>11</td>\n",
       "      <td>20.0</td>\n",
       "      <td>0.000667</td>\n",
       "      <td>0.999200</td>\n",
       "    </tr>\n",
       "    <tr>\n",
       "      <th>44</th>\n",
       "      <td>10</td>\n",
       "      <td>14.0</td>\n",
       "      <td>0.000467</td>\n",
       "      <td>0.999667</td>\n",
       "    </tr>\n",
       "    <tr>\n",
       "      <th>45</th>\n",
       "      <td>3</td>\n",
       "      <td>10.0</td>\n",
       "      <td>0.000333</td>\n",
       "      <td>1.000000</td>\n",
       "    </tr>\n",
       "  </tbody>\n",
       "</table>\n",
       "</div>"
      ],
      "text/plain": [
       "          feature  importance  normalized_importance  cumulative_importance\n",
       "36              2        56.0               0.001867               0.990800\n",
       "37  fireplace_y_n        53.0               0.001767               0.992567\n",
       "38        Heating        50.0               0.001667               0.994233\n",
       "39      rent_sale        48.0               0.001600               0.995833\n",
       "40              1        34.0               0.001133               0.996967\n",
       "41       fp_count        24.0               0.000800               0.997767\n",
       "42              4        23.0               0.000767               0.998533\n",
       "43             11        20.0               0.000667               0.999200\n",
       "44             10        14.0               0.000467               0.999667\n",
       "45              3        10.0               0.000333               1.000000"
      ]
     },
     "execution_count": 11,
     "metadata": {},
     "output_type": "execute_result"
    }
   ],
   "source": [
    "#эти признаки предлагается удалить (10 штук)\n",
    "fs.feature_importances.tail(10)"
   ]
  },
  {
   "cell_type": "code",
   "execution_count": 12,
   "metadata": {},
   "outputs": [
    {
     "name": "stdout",
     "output_type": "stream",
     "text": [
      "Removed 10 features.\n"
     ]
    }
   ],
   "source": [
    "#удалим признаки и сохраним новый датасет в отдельный файл\n",
    "train_removed = fs.remove(methods = ['low_importance'])\n",
    "train_removed['target'] = y"
   ]
  },
  {
   "cell_type": "code",
   "execution_count": 13,
   "metadata": {},
   "outputs": [],
   "source": [
    "train_removed.to_csv('data4ml_2.csv', encoding='utf-8', index=False)"
   ]
  },
  {
   "cell_type": "code",
   "execution_count": 14,
   "metadata": {},
   "outputs": [
    {
     "name": "stdout",
     "output_type": "stream",
     "text": [
      "<class 'pandas.core.frame.DataFrame'>\n",
      "RangeIndex: 374365 entries, 0 to 374364\n",
      "Data columns (total 37 columns):\n",
      " #   Column               Non-Null Count   Dtype  \n",
      "---  ------               --------------   -----  \n",
      " 0   5                    374365 non-null  float64\n",
      " 1   stories_count        374365 non-null  float64\n",
      " 2   9                    374365 non-null  float64\n",
      " 3   Remodeled            374365 non-null  int64  \n",
      " 4   beds_square          374365 non-null  float64\n",
      " 5   12                   374365 non-null  float64\n",
      " 6   7                    374365 non-null  float64\n",
      " 7   PK                   374365 non-null  float64\n",
      " 8   6                    374365 non-null  float64\n",
      " 9   Year                 374365 non-null  int64  \n",
      " 10  Cooling              374365 non-null  int64  \n",
      " 11  prop_type            374365 non-null  int64  \n",
      " 12  schools_count        374365 non-null  float64\n",
      " 13  state_encoding       374365 non-null  int64  \n",
      " 14  8                    374365 non-null  float64\n",
      " 15  price_sqft           374365 non-null  int64  \n",
      " 16  min_dist             374365 non-null  float64\n",
      " 17  address_hash         374365 non-null  int64  \n",
      " 18  pool                 374365 non-null  int64  \n",
      " 19  baths_count          374365 non-null  float64\n",
      " 20  max_rate             374365 non-null  float64\n",
      " 21  street_hash          374365 non-null  int64  \n",
      " 22  sqft                 374365 non-null  int64  \n",
      " 23  max_dist             374365 non-null  float64\n",
      " 24  beds_count           374365 non-null  int64  \n",
      " 25  K                    374365 non-null  float64\n",
      " 26  city_hash            374365 non-null  int64  \n",
      " 27  mean_dist            374365 non-null  float64\n",
      " 28  Parking              374365 non-null  int64  \n",
      " 29  new_id               374365 non-null  int64  \n",
      " 30  price                374365 non-null  int64  \n",
      " 31  average_rate_school  374365 non-null  float64\n",
      " 32  zipcode_int          374365 non-null  int64  \n",
      " 33  price_lot            374365 non-null  float64\n",
      " 34  lot                  374365 non-null  float64\n",
      " 35  state_mean           374365 non-null  float64\n",
      " 36  target               374365 non-null  int64  \n",
      "dtypes: float64(20), int64(17)\n",
      "memory usage: 105.7 MB\n"
     ]
    }
   ],
   "source": [
    "train_removed.info()"
   ]
  },
  {
   "cell_type": "code",
   "execution_count": null,
   "metadata": {},
   "outputs": [],
   "source": []
  }
 ],
 "metadata": {
  "kernelspec": {
   "display_name": "Python 3",
   "language": "python",
   "name": "python3"
  },
  "language_info": {
   "codemirror_mode": {
    "name": "ipython",
    "version": 3
   },
   "file_extension": ".py",
   "mimetype": "text/x-python",
   "name": "python",
   "nbconvert_exporter": "python",
   "pygments_lexer": "ipython3",
   "version": "3.7.6"
  }
 },
 "nbformat": 4,
 "nbformat_minor": 4
}
